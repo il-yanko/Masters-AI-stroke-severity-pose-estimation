{
  "nbformat": 4,
  "nbformat_minor": 0,
  "metadata": {
    "colab": {
      "provenance": [],
      "gpuType": "T4"
    },
    "kernelspec": {
      "name": "python3",
      "display_name": "Python 3"
    },
    "language_info": {
      "name": "python"
    },
    "accelerator": "GPU"
  },
  "cells": [
    {
      "cell_type": "code",
      "source": [
        "!pip show"
      ],
      "metadata": {
        "id": "aVz8acsyg-86",
        "outputId": "284698cb-f79a-4ec4-96c0-49750f36fe2b",
        "colab": {
          "base_uri": "https://localhost:8080/"
        }
      },
      "execution_count": null,
      "outputs": [
        {
          "output_type": "stream",
          "name": "stdout",
          "text": [
            "\u001b[33mWARNING: ERROR: Please provide a package name or names.\u001b[0m\u001b[33m\n",
            "\u001b[0m"
          ]
        }
      ]
    },
    {
      "cell_type": "code",
      "source": [
        "!pip install mlxtend\n",
        "!pip install keras-tcn"
      ],
      "metadata": {
        "colab": {
          "base_uri": "https://localhost:8080/"
        },
        "id": "t9GpEjXYytsZ",
        "outputId": "3f3db534-73b0-4597-b6f7-2c292ee8ae8f"
      },
      "execution_count": null,
      "outputs": [
        {
          "output_type": "stream",
          "name": "stdout",
          "text": [
            "Requirement already satisfied: mlxtend in /usr/local/lib/python3.10/dist-packages (0.22.0)\n",
            "Requirement already satisfied: scipy>=1.2.1 in /usr/local/lib/python3.10/dist-packages (from mlxtend) (1.10.1)\n",
            "Requirement already satisfied: numpy>=1.16.2 in /usr/local/lib/python3.10/dist-packages (from mlxtend) (1.23.5)\n",
            "Requirement already satisfied: pandas>=0.24.2 in /usr/local/lib/python3.10/dist-packages (from mlxtend) (1.5.3)\n",
            "Requirement already satisfied: scikit-learn>=1.0.2 in /usr/local/lib/python3.10/dist-packages (from mlxtend) (1.2.2)\n",
            "Requirement already satisfied: matplotlib>=3.0.0 in /usr/local/lib/python3.10/dist-packages (from mlxtend) (3.7.1)\n",
            "Requirement already satisfied: joblib>=0.13.2 in /usr/local/lib/python3.10/dist-packages (from mlxtend) (1.3.2)\n",
            "Requirement already satisfied: setuptools in /usr/local/lib/python3.10/dist-packages (from mlxtend) (67.7.2)\n",
            "Requirement already satisfied: contourpy>=1.0.1 in /usr/local/lib/python3.10/dist-packages (from matplotlib>=3.0.0->mlxtend) (1.1.0)\n",
            "Requirement already satisfied: cycler>=0.10 in /usr/local/lib/python3.10/dist-packages (from matplotlib>=3.0.0->mlxtend) (0.11.0)\n",
            "Requirement already satisfied: fonttools>=4.22.0 in /usr/local/lib/python3.10/dist-packages (from matplotlib>=3.0.0->mlxtend) (4.42.0)\n",
            "Requirement already satisfied: kiwisolver>=1.0.1 in /usr/local/lib/python3.10/dist-packages (from matplotlib>=3.0.0->mlxtend) (1.4.4)\n",
            "Requirement already satisfied: packaging>=20.0 in /usr/local/lib/python3.10/dist-packages (from matplotlib>=3.0.0->mlxtend) (23.1)\n",
            "Requirement already satisfied: pillow>=6.2.0 in /usr/local/lib/python3.10/dist-packages (from matplotlib>=3.0.0->mlxtend) (9.4.0)\n",
            "Requirement already satisfied: pyparsing>=2.3.1 in /usr/local/lib/python3.10/dist-packages (from matplotlib>=3.0.0->mlxtend) (3.1.1)\n",
            "Requirement already satisfied: python-dateutil>=2.7 in /usr/local/lib/python3.10/dist-packages (from matplotlib>=3.0.0->mlxtend) (2.8.2)\n",
            "Requirement already satisfied: pytz>=2020.1 in /usr/local/lib/python3.10/dist-packages (from pandas>=0.24.2->mlxtend) (2023.3)\n",
            "Requirement already satisfied: threadpoolctl>=2.0.0 in /usr/local/lib/python3.10/dist-packages (from scikit-learn>=1.0.2->mlxtend) (3.2.0)\n",
            "Requirement already satisfied: six>=1.5 in /usr/local/lib/python3.10/dist-packages (from python-dateutil>=2.7->matplotlib>=3.0.0->mlxtend) (1.16.0)\n",
            "Collecting keras-tcn\n",
            "  Downloading keras_tcn-3.5.0-py3-none-any.whl (13 kB)\n",
            "Requirement already satisfied: numpy in /usr/local/lib/python3.10/dist-packages (from keras-tcn) (1.23.5)\n",
            "Requirement already satisfied: tensorflow in /usr/local/lib/python3.10/dist-packages (from keras-tcn) (2.12.0)\n",
            "Collecting tensorflow-addons (from keras-tcn)\n",
            "  Downloading tensorflow_addons-0.21.0-cp310-cp310-manylinux_2_17_x86_64.manylinux2014_x86_64.whl (612 kB)\n",
            "\u001b[2K     \u001b[90m━━━━━━━━━━━━━━━━━━━━━━━━━━━━━━━━━━━━━━\u001b[0m \u001b[32m612.1/612.1 kB\u001b[0m \u001b[31m11.1 MB/s\u001b[0m eta \u001b[36m0:00:00\u001b[0m\n",
            "\u001b[?25hRequirement already satisfied: absl-py>=1.0.0 in /usr/local/lib/python3.10/dist-packages (from tensorflow->keras-tcn) (1.4.0)\n",
            "Requirement already satisfied: astunparse>=1.6.0 in /usr/local/lib/python3.10/dist-packages (from tensorflow->keras-tcn) (1.6.3)\n",
            "Requirement already satisfied: flatbuffers>=2.0 in /usr/local/lib/python3.10/dist-packages (from tensorflow->keras-tcn) (23.5.26)\n",
            "Requirement already satisfied: gast<=0.4.0,>=0.2.1 in /usr/local/lib/python3.10/dist-packages (from tensorflow->keras-tcn) (0.4.0)\n",
            "Requirement already satisfied: google-pasta>=0.1.1 in /usr/local/lib/python3.10/dist-packages (from tensorflow->keras-tcn) (0.2.0)\n",
            "Requirement already satisfied: grpcio<2.0,>=1.24.3 in /usr/local/lib/python3.10/dist-packages (from tensorflow->keras-tcn) (1.57.0)\n",
            "Requirement already satisfied: h5py>=2.9.0 in /usr/local/lib/python3.10/dist-packages (from tensorflow->keras-tcn) (3.9.0)\n",
            "Requirement already satisfied: jax>=0.3.15 in /usr/local/lib/python3.10/dist-packages (from tensorflow->keras-tcn) (0.4.14)\n",
            "Requirement already satisfied: keras<2.13,>=2.12.0 in /usr/local/lib/python3.10/dist-packages (from tensorflow->keras-tcn) (2.12.0)\n",
            "Requirement already satisfied: libclang>=13.0.0 in /usr/local/lib/python3.10/dist-packages (from tensorflow->keras-tcn) (16.0.6)\n",
            "Requirement already satisfied: opt-einsum>=2.3.2 in /usr/local/lib/python3.10/dist-packages (from tensorflow->keras-tcn) (3.3.0)\n",
            "Requirement already satisfied: packaging in /usr/local/lib/python3.10/dist-packages (from tensorflow->keras-tcn) (23.1)\n",
            "Requirement already satisfied: protobuf!=4.21.0,!=4.21.1,!=4.21.2,!=4.21.3,!=4.21.4,!=4.21.5,<5.0.0dev,>=3.20.3 in /usr/local/lib/python3.10/dist-packages (from tensorflow->keras-tcn) (3.20.3)\n",
            "Requirement already satisfied: setuptools in /usr/local/lib/python3.10/dist-packages (from tensorflow->keras-tcn) (67.7.2)\n",
            "Requirement already satisfied: six>=1.12.0 in /usr/local/lib/python3.10/dist-packages (from tensorflow->keras-tcn) (1.16.0)\n",
            "Requirement already satisfied: tensorboard<2.13,>=2.12 in /usr/local/lib/python3.10/dist-packages (from tensorflow->keras-tcn) (2.12.3)\n",
            "Requirement already satisfied: tensorflow-estimator<2.13,>=2.12.0 in /usr/local/lib/python3.10/dist-packages (from tensorflow->keras-tcn) (2.12.0)\n",
            "Requirement already satisfied: termcolor>=1.1.0 in /usr/local/lib/python3.10/dist-packages (from tensorflow->keras-tcn) (2.3.0)\n",
            "Requirement already satisfied: typing-extensions>=3.6.6 in /usr/local/lib/python3.10/dist-packages (from tensorflow->keras-tcn) (4.7.1)\n",
            "Requirement already satisfied: wrapt<1.15,>=1.11.0 in /usr/local/lib/python3.10/dist-packages (from tensorflow->keras-tcn) (1.14.1)\n",
            "Requirement already satisfied: tensorflow-io-gcs-filesystem>=0.23.1 in /usr/local/lib/python3.10/dist-packages (from tensorflow->keras-tcn) (0.33.0)\n",
            "Collecting typeguard<3.0.0,>=2.7 (from tensorflow-addons->keras-tcn)\n",
            "  Downloading typeguard-2.13.3-py3-none-any.whl (17 kB)\n",
            "Requirement already satisfied: wheel<1.0,>=0.23.0 in /usr/local/lib/python3.10/dist-packages (from astunparse>=1.6.0->tensorflow->keras-tcn) (0.41.1)\n",
            "Requirement already satisfied: ml-dtypes>=0.2.0 in /usr/local/lib/python3.10/dist-packages (from jax>=0.3.15->tensorflow->keras-tcn) (0.2.0)\n",
            "Requirement already satisfied: scipy>=1.7 in /usr/local/lib/python3.10/dist-packages (from jax>=0.3.15->tensorflow->keras-tcn) (1.10.1)\n",
            "Requirement already satisfied: google-auth<3,>=1.6.3 in /usr/local/lib/python3.10/dist-packages (from tensorboard<2.13,>=2.12->tensorflow->keras-tcn) (2.17.3)\n",
            "Requirement already satisfied: google-auth-oauthlib<1.1,>=0.5 in /usr/local/lib/python3.10/dist-packages (from tensorboard<2.13,>=2.12->tensorflow->keras-tcn) (1.0.0)\n",
            "Requirement already satisfied: markdown>=2.6.8 in /usr/local/lib/python3.10/dist-packages (from tensorboard<2.13,>=2.12->tensorflow->keras-tcn) (3.4.4)\n",
            "Requirement already satisfied: requests<3,>=2.21.0 in /usr/local/lib/python3.10/dist-packages (from tensorboard<2.13,>=2.12->tensorflow->keras-tcn) (2.31.0)\n",
            "Requirement already satisfied: tensorboard-data-server<0.8.0,>=0.7.0 in /usr/local/lib/python3.10/dist-packages (from tensorboard<2.13,>=2.12->tensorflow->keras-tcn) (0.7.1)\n",
            "Requirement already satisfied: werkzeug>=1.0.1 in /usr/local/lib/python3.10/dist-packages (from tensorboard<2.13,>=2.12->tensorflow->keras-tcn) (2.3.6)\n",
            "Requirement already satisfied: cachetools<6.0,>=2.0.0 in /usr/local/lib/python3.10/dist-packages (from google-auth<3,>=1.6.3->tensorboard<2.13,>=2.12->tensorflow->keras-tcn) (5.3.1)\n",
            "Requirement already satisfied: pyasn1-modules>=0.2.1 in /usr/local/lib/python3.10/dist-packages (from google-auth<3,>=1.6.3->tensorboard<2.13,>=2.12->tensorflow->keras-tcn) (0.3.0)\n",
            "Requirement already satisfied: rsa<5,>=3.1.4 in /usr/local/lib/python3.10/dist-packages (from google-auth<3,>=1.6.3->tensorboard<2.13,>=2.12->tensorflow->keras-tcn) (4.9)\n",
            "Requirement already satisfied: requests-oauthlib>=0.7.0 in /usr/local/lib/python3.10/dist-packages (from google-auth-oauthlib<1.1,>=0.5->tensorboard<2.13,>=2.12->tensorflow->keras-tcn) (1.3.1)\n",
            "Requirement already satisfied: charset-normalizer<4,>=2 in /usr/local/lib/python3.10/dist-packages (from requests<3,>=2.21.0->tensorboard<2.13,>=2.12->tensorflow->keras-tcn) (3.2.0)\n",
            "Requirement already satisfied: idna<4,>=2.5 in /usr/local/lib/python3.10/dist-packages (from requests<3,>=2.21.0->tensorboard<2.13,>=2.12->tensorflow->keras-tcn) (3.4)\n",
            "Requirement already satisfied: urllib3<3,>=1.21.1 in /usr/local/lib/python3.10/dist-packages (from requests<3,>=2.21.0->tensorboard<2.13,>=2.12->tensorflow->keras-tcn) (2.0.4)\n",
            "Requirement already satisfied: certifi>=2017.4.17 in /usr/local/lib/python3.10/dist-packages (from requests<3,>=2.21.0->tensorboard<2.13,>=2.12->tensorflow->keras-tcn) (2023.7.22)\n",
            "Requirement already satisfied: MarkupSafe>=2.1.1 in /usr/local/lib/python3.10/dist-packages (from werkzeug>=1.0.1->tensorboard<2.13,>=2.12->tensorflow->keras-tcn) (2.1.3)\n",
            "Requirement already satisfied: pyasn1<0.6.0,>=0.4.6 in /usr/local/lib/python3.10/dist-packages (from pyasn1-modules>=0.2.1->google-auth<3,>=1.6.3->tensorboard<2.13,>=2.12->tensorflow->keras-tcn) (0.5.0)\n",
            "Requirement already satisfied: oauthlib>=3.0.0 in /usr/local/lib/python3.10/dist-packages (from requests-oauthlib>=0.7.0->google-auth-oauthlib<1.1,>=0.5->tensorboard<2.13,>=2.12->tensorflow->keras-tcn) (3.2.2)\n",
            "Installing collected packages: typeguard, tensorflow-addons, keras-tcn\n",
            "Successfully installed keras-tcn-3.5.0 tensorflow-addons-0.21.0 typeguard-2.13.3\n"
          ]
        }
      ]
    },
    {
      "cell_type": "code",
      "execution_count": null,
      "metadata": {
        "colab": {
          "base_uri": "https://localhost:8080/"
        },
        "id": "G6ah_MftQly2",
        "outputId": "28d16d9c-195f-481c-94e8-eb547bba8245"
      },
      "outputs": [
        {
          "output_type": "stream",
          "name": "stdout",
          "text": [
            "Mounted at /content/drive\n",
            "Num GPUs Available:  1\n"
          ]
        }
      ],
      "source": [
        "from google.colab import drive\n",
        "drive.mount('/content/drive', force_remount=False)\n",
        "\n",
        "# the directory where your data is\n",
        "#PATH_to_data = '/content/drive/My Drive/STROKE_code/MMPOSE/data/patient_output/processed/NIHSS/'\n",
        "PATH_to_data = '/content/drive/My Drive/'\n",
        "import os\n",
        "os.chdir(PATH_to_data)\n",
        "import sys\n",
        "sys.path.append(PATH_to_data)\n",
        "\n",
        "import tensorflow as tf\n",
        "print(\"Num GPUs Available: \", len(tf.config.list_physical_devices('GPU')))\n",
        "\n",
        "config = tf.compat.v1.ConfigProto()\n",
        "config.gpu_options.allow_growth = True\n",
        "sess = tf.compat.v1.Session(config=config)\n",
        "tf.compat.v1.keras.backend.set_session(sess)\n",
        "\n",
        "import numpy as np\n",
        "import pandas as pd\n",
        "# Set the display option to show all columns\n",
        "pd.set_option('display.max_columns', None)\n",
        "\n",
        "#import tensorflow.keras as keras\n",
        "from tensorflow.keras import layers\n",
        "from tensorflow.keras import models\n",
        "from tensorflow.keras.optimizers import Adam\n",
        "from sklearn.model_selection import train_test_split\n",
        "from os import listdir\n",
        "from os.path import isfile, join, dirname, abspath\n",
        "\n",
        "# the length of records (if shorter, we need to add some zero rows)\n",
        "NUMBER_TIMESTEPS = 500\n",
        "# the number of features (from the data)\n",
        "NUMBER_FEATURES = 24 # 22 or 24 if you add shoulders"
      ]
    },
    {
      "cell_type": "code",
      "source": [
        "#import tensorflow.keras as keras\n",
        "from tensorflow.keras import layers\n",
        "from tensorflow.keras import models\n",
        "from tensorflow.keras.optimizers import Adam\n",
        "from sklearn.model_selection import train_test_split\n",
        "from os import listdir\n",
        "from os.path import isfile, join, dirname, abspath\n",
        "\n",
        "# the length of records (if shorter, we need to add some zero rows)\n",
        "NUMBER_TIMESTEPS = 500\n",
        "# the number of features (from the data)\n",
        "NUMBER_FEATURES = 24 # 22 or 24 if you add shoulders"
      ],
      "metadata": {
        "id": "GZyAgmWp1Pme"
      },
      "execution_count": null,
      "outputs": []
    },
    {
      "cell_type": "code",
      "source": [
        "# SPECIAL CLEANED DATASET\n",
        "#clean = pd.read_csv('cleaned_merged_stroke2.csv') #short\n",
        "clean = pd.read_csv('cleaned_slided_stroke2.csv') #long slided\n",
        "clean.head()"
      ],
      "metadata": {
        "colab": {
          "base_uri": "https://localhost:8080/",
          "height": 409
        },
        "id": "EY1n4O4AQzPK",
        "outputId": "7a4bec90-2bee-4765-fe1a-dce9c9adc6ba"
      },
      "execution_count": null,
      "outputs": [
        {
          "output_type": "execute_result",
          "data": {
            "text/plain": [
              "   Unnamed: 0                 date         X1          Y1         X2  \\\n",
              "0           0  2021-02-25 08:03:00  721.64610  187.571300  661.50610   \n",
              "1           1  2021-02-25 08:03:00  554.56260   96.056640  509.94162   \n",
              "2           2  2021-02-25 08:03:00  550.64575   93.133820  507.48508   \n",
              "3           3  2021-02-25 08:03:00  760.14530  167.648560  699.49820   \n",
              "4           4  2021-02-25 08:03:00  554.59580   94.403564  515.08960   \n",
              "\n",
              "          Y2         X3         Y3         X4         Y4          X5  \\\n",
              "0  180.48535  770.18270  115.90236  610.07263  184.08115  764.926157   \n",
              "1  115.88818  584.30994   86.14087  480.19430  140.67761  752.148884   \n",
              "2  114.71414  583.01636   87.73871  480.50960  136.29453  738.550565   \n",
              "3  170.96321  748.58630  204.45068  677.13904  212.35374  726.508893   \n",
              "4  114.15665  584.22546   89.46530  485.46000  138.84805  722.878121   \n",
              "\n",
              "           Y5          X6          Y6          X7          Y7          X8  \\\n",
              "0  151.742643  604.526414  223.929339  856.758329  180.821920  618.875212   \n",
              "1  155.759889  601.858466  226.622002  844.162889  188.988036  616.003451   \n",
              "2  162.262048  595.535127  233.227808  830.029887  204.804058  609.543101   \n",
              "3  164.685014  591.701948  234.889503  819.358572  209.783454  604.199422   \n",
              "4  159.803916  585.487526  231.860448  816.644089  208.374901  594.898580   \n",
              "\n",
              "           Y8          X9          Y9         X10         Y10     l_degr  \\\n",
              "0  365.228554  881.531196  218.900107  678.567997  386.479011  127.34059   \n",
              "1  367.843641  872.367358  224.993303  676.468194  377.727612  141.34018   \n",
              "2  374.601431  862.355175  243.420316  669.931443  377.372595  142.98010   \n",
              "3  375.832088  853.826304  246.299315  665.522481  370.489994  106.19508   \n",
              "4  372.783771  854.216839  249.863460  656.507793  367.448240  145.67882   \n",
              "\n",
              "       r_degr       day  hour  minute  if_nobody  if_multiple_people  \\\n",
              "0  115.394035  20210225     8       3      False                True   \n",
              "1  105.003600  20210225     8       3      False               False   \n",
              "2   98.286075  20210225     8       3      False               False   \n",
              "3   90.088510  20210225     8       3      False                True   \n",
              "4   88.870993  20210225     8       3      False               False   \n",
              "\n",
              "  patient_ID Date of visit  NIHSS  L Motor Arm Score  R Motor Arm Score  \\\n",
              "0      BC_09    2021-02-25      3                  3                  0   \n",
              "1      BC_09    2021-02-25      3                  3                  0   \n",
              "2      BC_09    2021-02-25      3                  3                  0   \n",
              "3      BC_09    2021-02-25      3                  3                  0   \n",
              "4      BC_09    2021-02-25      3                  3                  0   \n",
              "\n",
              "   L Motor Leg Score  R Motor Leg Score  left-opposite-2  right-opposite-2  \\\n",
              "0                  0                  0                2                 0   \n",
              "1                  0                  0                2                 0   \n",
              "2                  0                  0                2                 0   \n",
              "3                  0                  0                2                 0   \n",
              "4                  0                  0                2                 0   \n",
              "\n",
              "   left-2  right-2  fragment  l_shoulder  r_shoulder  new_fragment  \n",
              "0       1        0         5  159.322756  111.197974             0  \n",
              "1       1        0         5  122.757627   99.516033             0  \n",
              "2       1        0         5  122.347439  100.392060             0  \n",
              "3       1        0         5  128.200295   88.757398             0  \n",
              "4       1        0         5  122.869366  102.298238             0  "
            ],
            "text/html": [
              "\n",
              "\n",
              "  <div id=\"df-e8109d33-06ab-4c3f-928d-7561f51756d0\">\n",
              "    <div class=\"colab-df-container\">\n",
              "      <div>\n",
              "<style scoped>\n",
              "    .dataframe tbody tr th:only-of-type {\n",
              "        vertical-align: middle;\n",
              "    }\n",
              "\n",
              "    .dataframe tbody tr th {\n",
              "        vertical-align: top;\n",
              "    }\n",
              "\n",
              "    .dataframe thead th {\n",
              "        text-align: right;\n",
              "    }\n",
              "</style>\n",
              "<table border=\"1\" class=\"dataframe\">\n",
              "  <thead>\n",
              "    <tr style=\"text-align: right;\">\n",
              "      <th></th>\n",
              "      <th>Unnamed: 0</th>\n",
              "      <th>date</th>\n",
              "      <th>X1</th>\n",
              "      <th>Y1</th>\n",
              "      <th>X2</th>\n",
              "      <th>Y2</th>\n",
              "      <th>X3</th>\n",
              "      <th>Y3</th>\n",
              "      <th>X4</th>\n",
              "      <th>Y4</th>\n",
              "      <th>X5</th>\n",
              "      <th>Y5</th>\n",
              "      <th>X6</th>\n",
              "      <th>Y6</th>\n",
              "      <th>X7</th>\n",
              "      <th>Y7</th>\n",
              "      <th>X8</th>\n",
              "      <th>Y8</th>\n",
              "      <th>X9</th>\n",
              "      <th>Y9</th>\n",
              "      <th>X10</th>\n",
              "      <th>Y10</th>\n",
              "      <th>l_degr</th>\n",
              "      <th>r_degr</th>\n",
              "      <th>day</th>\n",
              "      <th>hour</th>\n",
              "      <th>minute</th>\n",
              "      <th>if_nobody</th>\n",
              "      <th>if_multiple_people</th>\n",
              "      <th>patient_ID</th>\n",
              "      <th>Date of visit</th>\n",
              "      <th>NIHSS</th>\n",
              "      <th>L Motor Arm Score</th>\n",
              "      <th>R Motor Arm Score</th>\n",
              "      <th>L Motor Leg Score</th>\n",
              "      <th>R Motor Leg Score</th>\n",
              "      <th>left-opposite-2</th>\n",
              "      <th>right-opposite-2</th>\n",
              "      <th>left-2</th>\n",
              "      <th>right-2</th>\n",
              "      <th>fragment</th>\n",
              "      <th>l_shoulder</th>\n",
              "      <th>r_shoulder</th>\n",
              "      <th>new_fragment</th>\n",
              "    </tr>\n",
              "  </thead>\n",
              "  <tbody>\n",
              "    <tr>\n",
              "      <th>0</th>\n",
              "      <td>0</td>\n",
              "      <td>2021-02-25 08:03:00</td>\n",
              "      <td>721.64610</td>\n",
              "      <td>187.571300</td>\n",
              "      <td>661.50610</td>\n",
              "      <td>180.48535</td>\n",
              "      <td>770.18270</td>\n",
              "      <td>115.90236</td>\n",
              "      <td>610.07263</td>\n",
              "      <td>184.08115</td>\n",
              "      <td>764.926157</td>\n",
              "      <td>151.742643</td>\n",
              "      <td>604.526414</td>\n",
              "      <td>223.929339</td>\n",
              "      <td>856.758329</td>\n",
              "      <td>180.821920</td>\n",
              "      <td>618.875212</td>\n",
              "      <td>365.228554</td>\n",
              "      <td>881.531196</td>\n",
              "      <td>218.900107</td>\n",
              "      <td>678.567997</td>\n",
              "      <td>386.479011</td>\n",
              "      <td>127.34059</td>\n",
              "      <td>115.394035</td>\n",
              "      <td>20210225</td>\n",
              "      <td>8</td>\n",
              "      <td>3</td>\n",
              "      <td>False</td>\n",
              "      <td>True</td>\n",
              "      <td>BC_09</td>\n",
              "      <td>2021-02-25</td>\n",
              "      <td>3</td>\n",
              "      <td>3</td>\n",
              "      <td>0</td>\n",
              "      <td>0</td>\n",
              "      <td>0</td>\n",
              "      <td>2</td>\n",
              "      <td>0</td>\n",
              "      <td>1</td>\n",
              "      <td>0</td>\n",
              "      <td>5</td>\n",
              "      <td>159.322756</td>\n",
              "      <td>111.197974</td>\n",
              "      <td>0</td>\n",
              "    </tr>\n",
              "    <tr>\n",
              "      <th>1</th>\n",
              "      <td>1</td>\n",
              "      <td>2021-02-25 08:03:00</td>\n",
              "      <td>554.56260</td>\n",
              "      <td>96.056640</td>\n",
              "      <td>509.94162</td>\n",
              "      <td>115.88818</td>\n",
              "      <td>584.30994</td>\n",
              "      <td>86.14087</td>\n",
              "      <td>480.19430</td>\n",
              "      <td>140.67761</td>\n",
              "      <td>752.148884</td>\n",
              "      <td>155.759889</td>\n",
              "      <td>601.858466</td>\n",
              "      <td>226.622002</td>\n",
              "      <td>844.162889</td>\n",
              "      <td>188.988036</td>\n",
              "      <td>616.003451</td>\n",
              "      <td>367.843641</td>\n",
              "      <td>872.367358</td>\n",
              "      <td>224.993303</td>\n",
              "      <td>676.468194</td>\n",
              "      <td>377.727612</td>\n",
              "      <td>141.34018</td>\n",
              "      <td>105.003600</td>\n",
              "      <td>20210225</td>\n",
              "      <td>8</td>\n",
              "      <td>3</td>\n",
              "      <td>False</td>\n",
              "      <td>False</td>\n",
              "      <td>BC_09</td>\n",
              "      <td>2021-02-25</td>\n",
              "      <td>3</td>\n",
              "      <td>3</td>\n",
              "      <td>0</td>\n",
              "      <td>0</td>\n",
              "      <td>0</td>\n",
              "      <td>2</td>\n",
              "      <td>0</td>\n",
              "      <td>1</td>\n",
              "      <td>0</td>\n",
              "      <td>5</td>\n",
              "      <td>122.757627</td>\n",
              "      <td>99.516033</td>\n",
              "      <td>0</td>\n",
              "    </tr>\n",
              "    <tr>\n",
              "      <th>2</th>\n",
              "      <td>2</td>\n",
              "      <td>2021-02-25 08:03:00</td>\n",
              "      <td>550.64575</td>\n",
              "      <td>93.133820</td>\n",
              "      <td>507.48508</td>\n",
              "      <td>114.71414</td>\n",
              "      <td>583.01636</td>\n",
              "      <td>87.73871</td>\n",
              "      <td>480.50960</td>\n",
              "      <td>136.29453</td>\n",
              "      <td>738.550565</td>\n",
              "      <td>162.262048</td>\n",
              "      <td>595.535127</td>\n",
              "      <td>233.227808</td>\n",
              "      <td>830.029887</td>\n",
              "      <td>204.804058</td>\n",
              "      <td>609.543101</td>\n",
              "      <td>374.601431</td>\n",
              "      <td>862.355175</td>\n",
              "      <td>243.420316</td>\n",
              "      <td>669.931443</td>\n",
              "      <td>377.372595</td>\n",
              "      <td>142.98010</td>\n",
              "      <td>98.286075</td>\n",
              "      <td>20210225</td>\n",
              "      <td>8</td>\n",
              "      <td>3</td>\n",
              "      <td>False</td>\n",
              "      <td>False</td>\n",
              "      <td>BC_09</td>\n",
              "      <td>2021-02-25</td>\n",
              "      <td>3</td>\n",
              "      <td>3</td>\n",
              "      <td>0</td>\n",
              "      <td>0</td>\n",
              "      <td>0</td>\n",
              "      <td>2</td>\n",
              "      <td>0</td>\n",
              "      <td>1</td>\n",
              "      <td>0</td>\n",
              "      <td>5</td>\n",
              "      <td>122.347439</td>\n",
              "      <td>100.392060</td>\n",
              "      <td>0</td>\n",
              "    </tr>\n",
              "    <tr>\n",
              "      <th>3</th>\n",
              "      <td>3</td>\n",
              "      <td>2021-02-25 08:03:00</td>\n",
              "      <td>760.14530</td>\n",
              "      <td>167.648560</td>\n",
              "      <td>699.49820</td>\n",
              "      <td>170.96321</td>\n",
              "      <td>748.58630</td>\n",
              "      <td>204.45068</td>\n",
              "      <td>677.13904</td>\n",
              "      <td>212.35374</td>\n",
              "      <td>726.508893</td>\n",
              "      <td>164.685014</td>\n",
              "      <td>591.701948</td>\n",
              "      <td>234.889503</td>\n",
              "      <td>819.358572</td>\n",
              "      <td>209.783454</td>\n",
              "      <td>604.199422</td>\n",
              "      <td>375.832088</td>\n",
              "      <td>853.826304</td>\n",
              "      <td>246.299315</td>\n",
              "      <td>665.522481</td>\n",
              "      <td>370.489994</td>\n",
              "      <td>106.19508</td>\n",
              "      <td>90.088510</td>\n",
              "      <td>20210225</td>\n",
              "      <td>8</td>\n",
              "      <td>3</td>\n",
              "      <td>False</td>\n",
              "      <td>True</td>\n",
              "      <td>BC_09</td>\n",
              "      <td>2021-02-25</td>\n",
              "      <td>3</td>\n",
              "      <td>3</td>\n",
              "      <td>0</td>\n",
              "      <td>0</td>\n",
              "      <td>0</td>\n",
              "      <td>2</td>\n",
              "      <td>0</td>\n",
              "      <td>1</td>\n",
              "      <td>0</td>\n",
              "      <td>5</td>\n",
              "      <td>128.200295</td>\n",
              "      <td>88.757398</td>\n",
              "      <td>0</td>\n",
              "    </tr>\n",
              "    <tr>\n",
              "      <th>4</th>\n",
              "      <td>4</td>\n",
              "      <td>2021-02-25 08:03:00</td>\n",
              "      <td>554.59580</td>\n",
              "      <td>94.403564</td>\n",
              "      <td>515.08960</td>\n",
              "      <td>114.15665</td>\n",
              "      <td>584.22546</td>\n",
              "      <td>89.46530</td>\n",
              "      <td>485.46000</td>\n",
              "      <td>138.84805</td>\n",
              "      <td>722.878121</td>\n",
              "      <td>159.803916</td>\n",
              "      <td>585.487526</td>\n",
              "      <td>231.860448</td>\n",
              "      <td>816.644089</td>\n",
              "      <td>208.374901</td>\n",
              "      <td>594.898580</td>\n",
              "      <td>372.783771</td>\n",
              "      <td>854.216839</td>\n",
              "      <td>249.863460</td>\n",
              "      <td>656.507793</td>\n",
              "      <td>367.448240</td>\n",
              "      <td>145.67882</td>\n",
              "      <td>88.870993</td>\n",
              "      <td>20210225</td>\n",
              "      <td>8</td>\n",
              "      <td>3</td>\n",
              "      <td>False</td>\n",
              "      <td>False</td>\n",
              "      <td>BC_09</td>\n",
              "      <td>2021-02-25</td>\n",
              "      <td>3</td>\n",
              "      <td>3</td>\n",
              "      <td>0</td>\n",
              "      <td>0</td>\n",
              "      <td>0</td>\n",
              "      <td>2</td>\n",
              "      <td>0</td>\n",
              "      <td>1</td>\n",
              "      <td>0</td>\n",
              "      <td>5</td>\n",
              "      <td>122.869366</td>\n",
              "      <td>102.298238</td>\n",
              "      <td>0</td>\n",
              "    </tr>\n",
              "  </tbody>\n",
              "</table>\n",
              "</div>\n",
              "      <button class=\"colab-df-convert\" onclick=\"convertToInteractive('df-e8109d33-06ab-4c3f-928d-7561f51756d0')\"\n",
              "              title=\"Convert this dataframe to an interactive table.\"\n",
              "              style=\"display:none;\">\n",
              "\n",
              "  <svg xmlns=\"http://www.w3.org/2000/svg\" height=\"24px\"viewBox=\"0 0 24 24\"\n",
              "       width=\"24px\">\n",
              "    <path d=\"M0 0h24v24H0V0z\" fill=\"none\"/>\n",
              "    <path d=\"M18.56 5.44l.94 2.06.94-2.06 2.06-.94-2.06-.94-.94-2.06-.94 2.06-2.06.94zm-11 1L8.5 8.5l.94-2.06 2.06-.94-2.06-.94L8.5 2.5l-.94 2.06-2.06.94zm10 10l.94 2.06.94-2.06 2.06-.94-2.06-.94-.94-2.06-.94 2.06-2.06.94z\"/><path d=\"M17.41 7.96l-1.37-1.37c-.4-.4-.92-.59-1.43-.59-.52 0-1.04.2-1.43.59L10.3 9.45l-7.72 7.72c-.78.78-.78 2.05 0 2.83L4 21.41c.39.39.9.59 1.41.59.51 0 1.02-.2 1.41-.59l7.78-7.78 2.81-2.81c.8-.78.8-2.07 0-2.86zM5.41 20L4 18.59l7.72-7.72 1.47 1.35L5.41 20z\"/>\n",
              "  </svg>\n",
              "      </button>\n",
              "\n",
              "\n",
              "\n",
              "    <div id=\"df-7f7e5572-b536-488a-ab1a-45c4691bbf6a\">\n",
              "      <button class=\"colab-df-quickchart\" onclick=\"quickchart('df-7f7e5572-b536-488a-ab1a-45c4691bbf6a')\"\n",
              "              title=\"Suggest charts.\"\n",
              "              style=\"display:none;\">\n",
              "\n",
              "<svg xmlns=\"http://www.w3.org/2000/svg\" height=\"24px\"viewBox=\"0 0 24 24\"\n",
              "     width=\"24px\">\n",
              "    <g>\n",
              "        <path d=\"M19 3H5c-1.1 0-2 .9-2 2v14c0 1.1.9 2 2 2h14c1.1 0 2-.9 2-2V5c0-1.1-.9-2-2-2zM9 17H7v-7h2v7zm4 0h-2V7h2v10zm4 0h-2v-4h2v4z\"/>\n",
              "    </g>\n",
              "</svg>\n",
              "      </button>\n",
              "    </div>\n",
              "\n",
              "<style>\n",
              "  .colab-df-quickchart {\n",
              "    background-color: #E8F0FE;\n",
              "    border: none;\n",
              "    border-radius: 50%;\n",
              "    cursor: pointer;\n",
              "    display: none;\n",
              "    fill: #1967D2;\n",
              "    height: 32px;\n",
              "    padding: 0 0 0 0;\n",
              "    width: 32px;\n",
              "  }\n",
              "\n",
              "  .colab-df-quickchart:hover {\n",
              "    background-color: #E2EBFA;\n",
              "    box-shadow: 0px 1px 2px rgba(60, 64, 67, 0.3), 0px 1px 3px 1px rgba(60, 64, 67, 0.15);\n",
              "    fill: #174EA6;\n",
              "  }\n",
              "\n",
              "  [theme=dark] .colab-df-quickchart {\n",
              "    background-color: #3B4455;\n",
              "    fill: #D2E3FC;\n",
              "  }\n",
              "\n",
              "  [theme=dark] .colab-df-quickchart:hover {\n",
              "    background-color: #434B5C;\n",
              "    box-shadow: 0px 1px 3px 1px rgba(0, 0, 0, 0.15);\n",
              "    filter: drop-shadow(0px 1px 2px rgba(0, 0, 0, 0.3));\n",
              "    fill: #FFFFFF;\n",
              "  }\n",
              "</style>\n",
              "\n",
              "    <script>\n",
              "      async function quickchart(key) {\n",
              "        const containerElement = document.querySelector('#' + key);\n",
              "        const charts = await google.colab.kernel.invokeFunction(\n",
              "            'suggestCharts', [key], {});\n",
              "      }\n",
              "    </script>\n",
              "\n",
              "      <script>\n",
              "\n",
              "function displayQuickchartButton(domScope) {\n",
              "  let quickchartButtonEl =\n",
              "    domScope.querySelector('#df-7f7e5572-b536-488a-ab1a-45c4691bbf6a button.colab-df-quickchart');\n",
              "  quickchartButtonEl.style.display =\n",
              "    google.colab.kernel.accessAllowed ? 'block' : 'none';\n",
              "}\n",
              "\n",
              "        displayQuickchartButton(document);\n",
              "      </script>\n",
              "      <style>\n",
              "    .colab-df-container {\n",
              "      display:flex;\n",
              "      flex-wrap:wrap;\n",
              "      gap: 12px;\n",
              "    }\n",
              "\n",
              "    .colab-df-convert {\n",
              "      background-color: #E8F0FE;\n",
              "      border: none;\n",
              "      border-radius: 50%;\n",
              "      cursor: pointer;\n",
              "      display: none;\n",
              "      fill: #1967D2;\n",
              "      height: 32px;\n",
              "      padding: 0 0 0 0;\n",
              "      width: 32px;\n",
              "    }\n",
              "\n",
              "    .colab-df-convert:hover {\n",
              "      background-color: #E2EBFA;\n",
              "      box-shadow: 0px 1px 2px rgba(60, 64, 67, 0.3), 0px 1px 3px 1px rgba(60, 64, 67, 0.15);\n",
              "      fill: #174EA6;\n",
              "    }\n",
              "\n",
              "    [theme=dark] .colab-df-convert {\n",
              "      background-color: #3B4455;\n",
              "      fill: #D2E3FC;\n",
              "    }\n",
              "\n",
              "    [theme=dark] .colab-df-convert:hover {\n",
              "      background-color: #434B5C;\n",
              "      box-shadow: 0px 1px 3px 1px rgba(0, 0, 0, 0.15);\n",
              "      filter: drop-shadow(0px 1px 2px rgba(0, 0, 0, 0.3));\n",
              "      fill: #FFFFFF;\n",
              "    }\n",
              "  </style>\n",
              "\n",
              "      <script>\n",
              "        const buttonEl =\n",
              "          document.querySelector('#df-e8109d33-06ab-4c3f-928d-7561f51756d0 button.colab-df-convert');\n",
              "        buttonEl.style.display =\n",
              "          google.colab.kernel.accessAllowed ? 'block' : 'none';\n",
              "\n",
              "        async function convertToInteractive(key) {\n",
              "          const element = document.querySelector('#df-e8109d33-06ab-4c3f-928d-7561f51756d0');\n",
              "          const dataTable =\n",
              "            await google.colab.kernel.invokeFunction('convertToInteractive',\n",
              "                                                     [key], {});\n",
              "          if (!dataTable) return;\n",
              "\n",
              "          const docLinkHtml = 'Like what you see? Visit the ' +\n",
              "            '<a target=\"_blank\" href=https://colab.research.google.com/notebooks/data_table.ipynb>data table notebook</a>'\n",
              "            + ' to learn more about interactive tables.';\n",
              "          element.innerHTML = '';\n",
              "          dataTable['output_type'] = 'display_data';\n",
              "          await google.colab.output.renderOutput(dataTable, element);\n",
              "          const docLink = document.createElement('div');\n",
              "          docLink.innerHTML = docLinkHtml;\n",
              "          element.appendChild(docLink);\n",
              "        }\n",
              "      </script>\n",
              "    </div>\n",
              "  </div>\n"
            ]
          },
          "metadata": {},
          "execution_count": 4
        }
      ]
    },
    {
      "cell_type": "code",
      "source": [
        "# recalculate new fragments\n",
        "'''\n",
        "def highlight_fragments(dataframe, allowed_missing_seconds, if_message):\n",
        "    # allowed_missing_seconds: if a difference between timedate in \"time_diff\" column for consequent frames is bigger, we consider the next frame to be the new fragment\n",
        "\n",
        "    dataframe['time_diff'] = abs(dataframe['date'].diff() )\n",
        "    dataframe['new_fragment']  = (dataframe['time_diff'] >= pd.Timedelta(seconds = allowed_missing_seconds) ).cumsum()\n",
        "    dataframe = dataframe.drop( columns=['time_diff'] )\n",
        "\n",
        "    if(if_message):\n",
        "        print('The number of separated fragments: ', len(dataframe['new_fragment'].unique()))\n",
        "\n",
        "    return dataframe\n",
        "\n",
        "# Convert 'date' with data type 'object' to 'datetime' format\n",
        "clean['date'] = pd.to_datetime(clean['date'])\n",
        "print(\"Data type of column 'date':\", clean['date'].dtype)\n",
        "#clean = clean.reset_index(drop=False)\n",
        "clean = highlight_fragments( clean, 500, if_message=True)\n",
        "\n",
        "clean[ ['patient_ID','new_fragment'] ].value_counts(normalize=True)\n",
        "'''"
      ],
      "metadata": {
        "colab": {
          "base_uri": "https://localhost:8080/",
          "height": 106
        },
        "id": "u-ODNdCIs-R1",
        "outputId": "3dda5cad-5c48-48ec-da54-090bf32711f5"
      },
      "execution_count": null,
      "outputs": [
        {
          "output_type": "execute_result",
          "data": {
            "text/plain": [
              "'\\ndef highlight_fragments(dataframe, allowed_missing_seconds, if_message):\\n    # allowed_missing_seconds: if a difference between timedate in \"time_diff\" column for consequent frames is bigger, we consider the next frame to be the new fragment\\n\\n    dataframe[\\'time_diff\\'] = abs(dataframe[\\'date\\'].diff() )\\n    dataframe[\\'new_fragment\\']  = (dataframe[\\'time_diff\\'] >= pd.Timedelta(seconds = allowed_missing_seconds) ).cumsum()\\n    dataframe = dataframe.drop( columns=[\\'time_diff\\'] )\\n\\n    if(if_message):\\n        print(\\'The number of separated fragments: \\', len(dataframe[\\'new_fragment\\'].unique()))\\n\\n    return dataframe\\n\\n# Convert \\'date\\' with data type \\'object\\' to \\'datetime\\' format\\nclean[\\'date\\'] = pd.to_datetime(clean[\\'date\\'])\\nprint(\"Data type of column \\'date\\':\", clean[\\'date\\'].dtype)\\n#clean = clean.reset_index(drop=False)\\nclean = highlight_fragments( clean, 500, if_message=True)\\n\\nclean[ [\\'patient_ID\\',\\'new_fragment\\'] ].value_counts(normalize=True)\\n'"
            ],
            "application/vnd.google.colaboratory.intrinsic+json": {
              "type": "string"
            }
          },
          "metadata": {},
          "execution_count": 5
        }
      ]
    },
    {
      "cell_type": "code",
      "source": [
        "# Apply sliding window with a step to your data and save it\n",
        "'''\n",
        "# Define sliding window size\n",
        "window_size = NUMBER_TIMESTEPS # =500  # Adjust this as needed\n",
        "step_size = 100  # Adjust this to the desired step size\n",
        "\n",
        "# Function to create sliding window indices within a fragment with a step\n",
        "def sliding_window_indices(df_length):\n",
        "    return [(i, i + window_size) for i in range(0, df_length - window_size + 1, step_size)]\n",
        "\n",
        "# Apply sliding window within each fragment\n",
        "result_indices = []\n",
        "for _, fragment_df in clean.groupby('new_fragment'):\n",
        "    indices = sliding_window_indices(len(fragment_df))\n",
        "    result_indices.extend([(fragment_df.index[start:end]) for start, end in indices])\n",
        "\n",
        "# Combine the results into a new dataframe\n",
        "result = clean.loc[pd.Index(np.concatenate(result_indices))]\n",
        "len(result)\n",
        "\n",
        "# Save the result as a CSV file\n",
        "result.to_csv('cleaned_slided_stroke2.csv', index=True)\n",
        "\n",
        "# Save the result as a .npy file\n",
        "#np.save('cleaned_slided_stroke.npy', result.to_records(index=True))\n",
        "'''\n",
        "\n",
        "# Visualize the sliding window\n",
        "'''\n",
        "import matplotlib.pyplot as plt\n",
        "# Plot the data\n",
        "for fragment, fragment_df in result.groupby('new_fragment'):\n",
        "    plt.figure()\n",
        "    plt.plot(fragment_df['date'], fragment_df['l_degr'], marker='o')\n",
        "    plt.title(f'Fragment {fragment} Sliding Windows')\n",
        "    plt.xlabel('date')\n",
        "    plt.ylabel('l_degr')\n",
        "    plt.xticks(rotation=45)\n",
        "    plt.grid(True)\n",
        "    plt.tight_layout()\n",
        "plt.show()\n",
        "'''"
      ],
      "metadata": {
        "colab": {
          "base_uri": "https://localhost:8080/",
          "height": 53
        },
        "id": "roZCAdEemrzJ",
        "outputId": "aa94fbfe-e509-4fc5-d2b9-ef85c3230d4c"
      },
      "execution_count": null,
      "outputs": [
        {
          "output_type": "execute_result",
          "data": {
            "text/plain": [
              "\"\\nimport matplotlib.pyplot as plt\\n# Plot the data\\nfor fragment, fragment_df in result.groupby('new_fragment'):\\n    plt.figure()\\n    plt.plot(fragment_df['date'], fragment_df['l_degr'], marker='o')\\n    plt.title(f'Fragment {fragment} Sliding Windows')\\n    plt.xlabel('date')\\n    plt.ylabel('l_degr')\\n    plt.xticks(rotation=45)\\n    plt.grid(True)\\n    plt.tight_layout()\\nplt.show()\\n\""
            ],
            "application/vnd.google.colaboratory.intrinsic+json": {
              "type": "string"
            }
          },
          "metadata": {},
          "execution_count": 6
        }
      ]
    },
    {
      "cell_type": "code",
      "source": [
        "len(clean)"
      ],
      "metadata": {
        "colab": {
          "base_uri": "https://localhost:8080/"
        },
        "id": "2nNnnJcdTrj0",
        "outputId": "472a6717-af35-465d-a09a-6ec00b59adcd"
      },
      "execution_count": null,
      "outputs": [
        {
          "output_type": "execute_result",
          "data": {
            "text/plain": [
              "348000"
            ]
          },
          "metadata": {},
          "execution_count": 7
        }
      ]
    },
    {
      "cell_type": "code",
      "source": [
        "clean['L Motor Arm Score'].value_counts(normalize=True)"
      ],
      "metadata": {
        "colab": {
          "base_uri": "https://localhost:8080/"
        },
        "id": "ZNXBHHfUSPNH",
        "outputId": "776c581d-2991-4c31-8e0e-246ea6861ad1"
      },
      "execution_count": null,
      "outputs": [
        {
          "output_type": "execute_result",
          "data": {
            "text/plain": [
              "4    0.451149\n",
              "3    0.215517\n",
              "0    0.193966\n",
              "2    0.127874\n",
              "1    0.011494\n",
              "Name: L Motor Arm Score, dtype: float64"
            ]
          },
          "metadata": {},
          "execution_count": 8
        }
      ]
    },
    {
      "cell_type": "code",
      "source": [
        "clean['L Motor Arm Score'].value_counts(normalize=False)"
      ],
      "metadata": {
        "colab": {
          "base_uri": "https://localhost:8080/"
        },
        "id": "0T_ULoxuiWrp",
        "outputId": "bf1f328f-6a24-4dc3-ca47-35d58f6dc6e2"
      },
      "execution_count": null,
      "outputs": [
        {
          "output_type": "execute_result",
          "data": {
            "text/plain": [
              "4    157000\n",
              "3     75000\n",
              "0     67500\n",
              "2     44500\n",
              "1      4000\n",
              "Name: L Motor Arm Score, dtype: int64"
            ]
          },
          "metadata": {},
          "execution_count": 9
        }
      ]
    },
    {
      "cell_type": "code",
      "source": [
        "clean = clean.drop(columns=['left-2'], axis=1)\n",
        "\n",
        "# Define a custom function to map 'nihss' values to 'left-3'\n",
        "def map_class_2(nihss_value):\n",
        "    if 0 <= nihss_value <= 2:\n",
        "        return 0\n",
        "    elif 3 <= nihss_value <= 4:\n",
        "        return 1\n",
        "    else:\n",
        "        return None  # You can handle other cases as needed\n",
        "\n",
        "# Create the 'left-2' column based on the 'nihss' values\n",
        "clean['left-2'] =  clean['L Motor Arm Score'].apply(map_class_2)"
      ],
      "metadata": {
        "id": "-aXdGCvv_g26"
      },
      "execution_count": null,
      "outputs": []
    },
    {
      "cell_type": "code",
      "source": [
        "# Define a custom function to map 'nihss' values to 'left-3'\n",
        "def map_class_3(nihss_value):\n",
        "    if 0 <= nihss_value <= 1:\n",
        "        return 0\n",
        "    elif 2 <= nihss_value <= 3:\n",
        "        return 1\n",
        "    elif nihss_value == 4:\n",
        "        return 2\n",
        "    else:\n",
        "        return None  # You can handle other cases as needed\n",
        "\n",
        "# Create the 'left-3' column based on the 'nihss' values\n",
        "clean['left-3'] =  clean['L Motor Arm Score'].apply(map_class_3)"
      ],
      "metadata": {
        "id": "bRPB9U7KryMp"
      },
      "execution_count": null,
      "outputs": []
    },
    {
      "cell_type": "code",
      "source": [
        "clean['left-3'].value_counts(normalize=True)"
      ],
      "metadata": {
        "colab": {
          "base_uri": "https://localhost:8080/"
        },
        "id": "5j8qD21uSpjG",
        "outputId": "7ca392a1-05b2-4a5d-d85b-6667cdd88cd9"
      },
      "execution_count": null,
      "outputs": [
        {
          "output_type": "execute_result",
          "data": {
            "text/plain": [
              "2    0.451149\n",
              "1    0.343391\n",
              "0    0.205460\n",
              "Name: left-3, dtype: float64"
            ]
          },
          "metadata": {},
          "execution_count": 12
        }
      ]
    },
    {
      "cell_type": "code",
      "source": [
        "clean['left-2'].value_counts(normalize=True)"
      ],
      "metadata": {
        "colab": {
          "base_uri": "https://localhost:8080/"
        },
        "id": "-2p4epse_pfi",
        "outputId": "e7f80a83-bfb1-4277-e367-25d9bece0e11"
      },
      "execution_count": null,
      "outputs": [
        {
          "output_type": "execute_result",
          "data": {
            "text/plain": [
              "1    0.666667\n",
              "0    0.333333\n",
              "Name: left-2, dtype: float64"
            ]
          },
          "metadata": {},
          "execution_count": 13
        }
      ]
    },
    {
      "cell_type": "code",
      "source": [
        "clean[['left-2','L Motor Arm Score']].value_counts(normalize=True)"
      ],
      "metadata": {
        "colab": {
          "base_uri": "https://localhost:8080/"
        },
        "id": "twGIg67Vcd5N",
        "outputId": "687b47c5-1ebc-4e44-8185-975c4994a656"
      },
      "execution_count": null,
      "outputs": [
        {
          "output_type": "execute_result",
          "data": {
            "text/plain": [
              "left-2  L Motor Arm Score\n",
              "1       4                    0.451149\n",
              "        3                    0.215517\n",
              "0       0                    0.193966\n",
              "        2                    0.127874\n",
              "        1                    0.011494\n",
              "dtype: float64"
            ]
          },
          "metadata": {},
          "execution_count": 14
        }
      ]
    },
    {
      "cell_type": "code",
      "source": [
        "'''\n",
        "# Calculate the number of occurrences of each class in the \"new_fragment\" column and print them out\n",
        "fragment_counts = clean['new_fragment'].value_counts()\n",
        "print( fragment_counts.sort_values() )\n",
        "'''\n",
        "\n",
        "print ('number of fragments = {}'.format(len(clean['new_fragment'].unique())) )"
      ],
      "metadata": {
        "colab": {
          "base_uri": "https://localhost:8080/"
        },
        "id": "sFylvBkLx04N",
        "outputId": "3859335b-0f25-4e06-9418-5ae274293ae9"
      },
      "execution_count": null,
      "outputs": [
        {
          "output_type": "stream",
          "name": "stdout",
          "text": [
            "number of fragments = 58\n"
          ]
        }
      ]
    },
    {
      "cell_type": "code",
      "source": [
        "# Define a custom function to cut each class to be a multiple of 500\n",
        "def cut_to_multiple(df, length=500):\n",
        "    return df.iloc[:len(df) // length * length]\n",
        "\n",
        "# Group the dataframe by \"class\" and apply the custom function to each group\n",
        "clean = clean.groupby('new_fragment').apply(cut_to_multiple).reset_index(drop=True)"
      ],
      "metadata": {
        "id": "r2iIiiCmTFpm",
        "colab": {
          "base_uri": "https://localhost:8080/"
        },
        "outputId": "185b6647-b1b7-4f4c-aa9d-908895c5a564"
      },
      "execution_count": null,
      "outputs": [
        {
          "output_type": "stream",
          "name": "stderr",
          "text": [
            "<ipython-input-16-822562995597>:6: FutureWarning: Not prepending group keys to the result index of transform-like apply. In the future, the group keys will be included in the index, regardless of whether the applied function returns a like-indexed object.\n",
            "To preserve the previous behavior, use\n",
            "\n",
            "\t>>> .groupby(..., group_keys=False)\n",
            "\n",
            "To adopt the future behavior and silence this warning, use \n",
            "\n",
            "\t>>> .groupby(..., group_keys=True)\n",
            "  clean = clean.groupby('new_fragment').apply(cut_to_multiple).reset_index(drop=True)\n"
          ]
        }
      ]
    },
    {
      "cell_type": "code",
      "source": [
        "print('The new number of separated fragments: ', len(clean['new_fragment'].unique()))\n",
        "\n",
        "print('The new number of patients: ', len(clean['patient_ID'].unique()))"
      ],
      "metadata": {
        "colab": {
          "base_uri": "https://localhost:8080/"
        },
        "id": "aJNx9P4JsIci",
        "outputId": "e4e2138a-d8b8-4a82-850f-141dc0a7bbec"
      },
      "execution_count": null,
      "outputs": [
        {
          "output_type": "stream",
          "name": "stdout",
          "text": [
            "The new number of separated fragments:  58\n",
            "The new number of patients:  14\n"
          ]
        }
      ]
    },
    {
      "cell_type": "code",
      "source": [
        "# Print all unique values in column 'patient_ID'\n",
        "print(clean['patient_ID'].unique())"
      ],
      "metadata": {
        "colab": {
          "base_uri": "https://localhost:8080/"
        },
        "id": "7hdcAZMF0ayR",
        "outputId": "157b7ae9-fcc6-47de-cb92-ac688ecc0a2e"
      },
      "execution_count": null,
      "outputs": [
        {
          "output_type": "stream",
          "name": "stdout",
          "text": [
            "['BC_09' 'MS_05' 'MC_22' 'BD_07' 'AC_20' 'DD_18' 'OM_17' 'LC_19' 'PC_06'\n",
            " 'LH_24' 'IM_38' 'VK_16' 'ND_11' 'RO_26']\n"
          ]
        }
      ]
    },
    {
      "cell_type": "code",
      "source": [
        "# SPECIAL CLEANED DATASET\n",
        "X = clean[ ['new_fragment', 'date', 'X1', 'Y1', 'X2', 'Y2', 'X3', 'Y3', 'X4', 'Y4', 'X5', 'Y5', 'X6', 'Y6', 'X7', 'Y7', 'X8', 'Y8', 'X9', 'Y9', 'X10', 'Y10', 'l_degr', 'r_degr', 'l_shoulder', 'r_shoulder'] ]\n",
        "Y = clean[ ['new_fragment', 'date', 'NIHSS', 'L Motor Arm Score', 'R Motor Arm Score', 'L Motor Leg Score', 'R Motor Leg Score', 'left-3', 'left-2', 'right-2', 'left-opposite-2', 'right-opposite-2'] ] # - date\n",
        "\n",
        "print('X=',X.columns.to_list())\n",
        "print('Y=',Y.columns.to_list())"
      ],
      "metadata": {
        "colab": {
          "base_uri": "https://localhost:8080/"
        },
        "id": "iO8nqP6uQ0Cx",
        "outputId": "bad0d812-0868-44da-a3be-8e6e600f009b"
      },
      "execution_count": null,
      "outputs": [
        {
          "output_type": "stream",
          "name": "stdout",
          "text": [
            "X= ['new_fragment', 'date', 'X1', 'Y1', 'X2', 'Y2', 'X3', 'Y3', 'X4', 'Y4', 'X5', 'Y5', 'X6', 'Y6', 'X7', 'Y7', 'X8', 'Y8', 'X9', 'Y9', 'X10', 'Y10', 'l_degr', 'r_degr', 'l_shoulder', 'r_shoulder']\n",
            "Y= ['new_fragment', 'date', 'NIHSS', 'L Motor Arm Score', 'R Motor Arm Score', 'L Motor Leg Score', 'R Motor Leg Score', 'left-3', 'left-2', 'right-2', 'left-opposite-2', 'right-opposite-2']\n"
          ]
        }
      ]
    },
    {
      "cell_type": "code",
      "source": [
        "# First, we need to create a new column to identify the chunks of 500 rows\n",
        "X['chunk'] = X.index // 500\n",
        "Y['chunk'] = Y.index // 500\n",
        "\n",
        "X['chunk'].unique()"
      ],
      "metadata": {
        "colab": {
          "base_uri": "https://localhost:8080/"
        },
        "id": "0n45YhJdtLlI",
        "outputId": "ceb87483-e9ae-47ec-9771-f8cc74dd2381"
      },
      "execution_count": null,
      "outputs": [
        {
          "output_type": "stream",
          "name": "stderr",
          "text": [
            "<ipython-input-20-341d0e818f8f>:2: SettingWithCopyWarning: \n",
            "A value is trying to be set on a copy of a slice from a DataFrame.\n",
            "Try using .loc[row_indexer,col_indexer] = value instead\n",
            "\n",
            "See the caveats in the documentation: https://pandas.pydata.org/pandas-docs/stable/user_guide/indexing.html#returning-a-view-versus-a-copy\n",
            "  X['chunk'] = X.index // 500\n",
            "<ipython-input-20-341d0e818f8f>:3: SettingWithCopyWarning: \n",
            "A value is trying to be set on a copy of a slice from a DataFrame.\n",
            "Try using .loc[row_indexer,col_indexer] = value instead\n",
            "\n",
            "See the caveats in the documentation: https://pandas.pydata.org/pandas-docs/stable/user_guide/indexing.html#returning-a-view-versus-a-copy\n",
            "  Y['chunk'] = Y.index // 500\n"
          ]
        },
        {
          "output_type": "execute_result",
          "data": {
            "text/plain": [
              "array([  0,   1,   2,   3,   4,   5,   6,   7,   8,   9,  10,  11,  12,\n",
              "        13,  14,  15,  16,  17,  18,  19,  20,  21,  22,  23,  24,  25,\n",
              "        26,  27,  28,  29,  30,  31,  32,  33,  34,  35,  36,  37,  38,\n",
              "        39,  40,  41,  42,  43,  44,  45,  46,  47,  48,  49,  50,  51,\n",
              "        52,  53,  54,  55,  56,  57,  58,  59,  60,  61,  62,  63,  64,\n",
              "        65,  66,  67,  68,  69,  70,  71,  72,  73,  74,  75,  76,  77,\n",
              "        78,  79,  80,  81,  82,  83,  84,  85,  86,  87,  88,  89,  90,\n",
              "        91,  92,  93,  94,  95,  96,  97,  98,  99, 100, 101, 102, 103,\n",
              "       104, 105, 106, 107, 108, 109, 110, 111, 112, 113, 114, 115, 116,\n",
              "       117, 118, 119, 120, 121, 122, 123, 124, 125, 126, 127, 128, 129,\n",
              "       130, 131, 132, 133, 134, 135, 136, 137, 138, 139, 140, 141, 142,\n",
              "       143, 144, 145, 146, 147, 148, 149, 150, 151, 152, 153, 154, 155,\n",
              "       156, 157, 158, 159, 160, 161, 162, 163, 164, 165, 166, 167, 168,\n",
              "       169, 170, 171, 172, 173, 174, 175, 176, 177, 178, 179, 180, 181,\n",
              "       182, 183, 184, 185, 186, 187, 188, 189, 190, 191, 192, 193, 194,\n",
              "       195, 196, 197, 198, 199, 200, 201, 202, 203, 204, 205, 206, 207,\n",
              "       208, 209, 210, 211, 212, 213, 214, 215, 216, 217, 218, 219, 220,\n",
              "       221, 222, 223, 224, 225, 226, 227, 228, 229, 230, 231, 232, 233,\n",
              "       234, 235, 236, 237, 238, 239, 240, 241, 242, 243, 244, 245, 246,\n",
              "       247, 248, 249, 250, 251, 252, 253, 254, 255, 256, 257, 258, 259,\n",
              "       260, 261, 262, 263, 264, 265, 266, 267, 268, 269, 270, 271, 272,\n",
              "       273, 274, 275, 276, 277, 278, 279, 280, 281, 282, 283, 284, 285,\n",
              "       286, 287, 288, 289, 290, 291, 292, 293, 294, 295, 296, 297, 298,\n",
              "       299, 300, 301, 302, 303, 304, 305, 306, 307, 308, 309, 310, 311,\n",
              "       312, 313, 314, 315, 316, 317, 318, 319, 320, 321, 322, 323, 324,\n",
              "       325, 326, 327, 328, 329, 330, 331, 332, 333, 334, 335, 336, 337,\n",
              "       338, 339, 340, 341, 342, 343, 344, 345, 346, 347, 348, 349, 350,\n",
              "       351, 352, 353, 354, 355, 356, 357, 358, 359, 360, 361, 362, 363,\n",
              "       364, 365, 366, 367, 368, 369, 370, 371, 372, 373, 374, 375, 376,\n",
              "       377, 378, 379, 380, 381, 382, 383, 384, 385, 386, 387, 388, 389,\n",
              "       390, 391, 392, 393, 394, 395, 396, 397, 398, 399, 400, 401, 402,\n",
              "       403, 404, 405, 406, 407, 408, 409, 410, 411, 412, 413, 414, 415,\n",
              "       416, 417, 418, 419, 420, 421, 422, 423, 424, 425, 426, 427, 428,\n",
              "       429, 430, 431, 432, 433, 434, 435, 436, 437, 438, 439, 440, 441,\n",
              "       442, 443, 444, 445, 446, 447, 448, 449, 450, 451, 452, 453, 454,\n",
              "       455, 456, 457, 458, 459, 460, 461, 462, 463, 464, 465, 466, 467,\n",
              "       468, 469, 470, 471, 472, 473, 474, 475, 476, 477, 478, 479, 480,\n",
              "       481, 482, 483, 484, 485, 486, 487, 488, 489, 490, 491, 492, 493,\n",
              "       494, 495, 496, 497, 498, 499, 500, 501, 502, 503, 504, 505, 506,\n",
              "       507, 508, 509, 510, 511, 512, 513, 514, 515, 516, 517, 518, 519,\n",
              "       520, 521, 522, 523, 524, 525, 526, 527, 528, 529, 530, 531, 532,\n",
              "       533, 534, 535, 536, 537, 538, 539, 540, 541, 542, 543, 544, 545,\n",
              "       546, 547, 548, 549, 550, 551, 552, 553, 554, 555, 556, 557, 558,\n",
              "       559, 560, 561, 562, 563, 564, 565, 566, 567, 568, 569, 570, 571,\n",
              "       572, 573, 574, 575, 576, 577, 578, 579, 580, 581, 582, 583, 584,\n",
              "       585, 586, 587, 588, 589, 590, 591, 592, 593, 594, 595, 596, 597,\n",
              "       598, 599, 600, 601, 602, 603, 604, 605, 606, 607, 608, 609, 610,\n",
              "       611, 612, 613, 614, 615, 616, 617, 618, 619, 620, 621, 622, 623,\n",
              "       624, 625, 626, 627, 628, 629, 630, 631, 632, 633, 634, 635, 636,\n",
              "       637, 638, 639, 640, 641, 642, 643, 644, 645, 646, 647, 648, 649,\n",
              "       650, 651, 652, 653, 654, 655, 656, 657, 658, 659, 660, 661, 662,\n",
              "       663, 664, 665, 666, 667, 668, 669, 670, 671, 672, 673, 674, 675,\n",
              "       676, 677, 678, 679, 680, 681, 682, 683, 684, 685, 686, 687, 688,\n",
              "       689, 690, 691, 692, 693, 694, 695])"
            ]
          },
          "metadata": {},
          "execution_count": 20
        }
      ]
    },
    {
      "cell_type": "code",
      "source": [
        "from tcn import TCN\n",
        "from keras.regularizers import l1,l2\n",
        "from tensorflow import keras\n",
        "from tensorflow.keras.optimizers.schedules import ExponentialDecay\n",
        "\n",
        "epochs = 10\n",
        "\n",
        "lr=0.002 #initial\n",
        "final_lr = 0.000001\n",
        "decay_rate = 0.00000000005\n",
        "\n",
        "def build_model(NUMBER_OUTPUTS, NUMBER_FEATURES, LEARNING_RATE):\n",
        "    model = models.Sequential()\n",
        "    # an input layer that expects:\n",
        "    # 1 or more samples, NUMBER_TIMESTEPS time steps and NUMBER_FEATURES features.\n",
        "\n",
        "    # 1st LSTM layer\n",
        "    model.add(layers.LSTM(256, return_sequences=True, input_shape=(NUMBER_TIMESTEPS, NUMBER_FEATURES)) )\n",
        "    model.add(layers.Dropout(0.2))\n",
        "\n",
        "    # 2nd LSTM layer\n",
        "    model.add(layers.LSTM(512, input_shape=(NUMBER_TIMESTEPS, NUMBER_FEATURES)) )\n",
        "    model.add(layers.Dropout(0.2))\n",
        "\n",
        "    #model.add(TCN(512, input_shape=(NUMBER_TIMESTEPS, NUMBER_FEATURES), kernel_size=3, nb_stacks=1, dilations=[1, 2, 4, 8, 16, 32, 64, 128]  ) )\n",
        "\n",
        "    # Hidden fully connected layers of the neural network\n",
        "    # l1 or l2\n",
        "    #'''\n",
        "    model.add(layers.Dense(256,activation='relu', kernel_regularizer=l2(0.001)))\n",
        "    model.add(layers.Dropout(0.3))\n",
        "    model.add(layers.Dense(512,activation='relu', kernel_regularizer=l2(0.001)) )\n",
        "    model.add(layers.Dropout(0.3)) #0.2 or 0.5\n",
        "    #'''\n",
        "    model.add(layers.Dense(256,activation='relu', kernel_regularizer=l1(0.01)) )\n",
        "    model.add(layers.Dropout(0.3)) #0.2 or 0.5\n",
        "\n",
        "    # Classification layer of the neural network\n",
        "    model.add(layers.Dense(NUMBER_OUTPUTS, activation='sigmoid')) #softmax=multiple sigmoid=2\n",
        "\n",
        "    opt = Adam(amsgrad=True, learning_rate=LEARNING_RATE) #learning_rate=learn_rate)#, beta_1=0.9, beta_2=0.999)\n",
        "    model.compile(loss='binary_crossentropy', optimizer=opt, metrics=['accuracy','Precision','Recall' ]) #,'accuracy', 'Precision','Recall'\n",
        "    #categorical_crossentropy binary_crossentropy\n",
        "\n",
        "    # this shows the network structure\n",
        "    #model.summary()\n",
        "\n",
        "    return model\n"
      ],
      "metadata": {
        "id": "-7-ryRSlzhzf"
      },
      "execution_count": null,
      "outputs": []
    },
    {
      "cell_type": "code",
      "source": [
        "from sklearn.model_selection import train_test_split\n",
        "from sklearn.model_selection import GroupKFold #StratifiedKFold\n",
        "from sklearn.metrics import accuracy_score, precision_score, recall_score, confusion_matrix, classification_report\n",
        "\n",
        "# Number of folds for cross-validation\n",
        "num_folds = 3\n",
        "\n",
        "# Initialize lists to store the metrics for each fold\n",
        "accuracies = []\n",
        "precisions_macro = []\n",
        "precisions_micro = []\n",
        "recalls_micro = []\n",
        "recalls_macro = []\n",
        "cur_fold = 0\n",
        "cms = []\n",
        "all_history = []\n",
        "all_models = []\n",
        "\n",
        "# === Create a GroupKFold object to split the data into 3 folds\n",
        "gkf = GroupKFold(n_splits=3)\n",
        "groups = X['new_fragment']\n",
        "\n",
        "# === Iterate over the folds\n",
        "for train_index, test_index in gkf.split(X, y=Y['left-2'], groups=groups):\n",
        "    cur_fold += 1\n",
        "    print ('============================================\\nHere goes FOLD №{}\\n============================================'.format(cur_fold))\n",
        "\n",
        "    # === Split the data into train and test sets\n",
        "    X_train, X_test = X.iloc[train_index], X.iloc[test_index]\n",
        "    Y_train, Y_test = Y.iloc[train_index], Y.iloc[test_index]\n",
        "    print (len(X_train),len(X_test))\n",
        "\n",
        "    unique_fr_tr = X_train['new_fragment'].unique()\n",
        "    unique_fr_te = X_test['new_fragment'].unique()\n",
        "    print ('fold №{}\\n TRAIN: \\n{} fragments\\n {}\\nTEST:\\n{} fragments\\n {}'.format(cur_fold, len(unique_fr_tr),unique_fr_tr, len(unique_fr_te),unique_fr_te) )\n",
        "\n",
        "    print(\"TEST:\\n{}\".format(Y_test['left-2'].value_counts(normalize=True)))\n",
        "    print(\"TRAIN:\\n{}\".format(Y_train['left-2'].value_counts(normalize=True)))\n",
        "    #print(X_test.groupby(['new_fragment']).size())\n",
        "\n",
        "    # Sort the DataFrame by index\n",
        "    X_test.sort_index(ascending=True, inplace=True)\n",
        "\n",
        "    X_train = X_train.drop(columns=['date','chunk','new_fragment'], axis=1)\n",
        "    X_test  = X_test.drop(columns=['date','chunk','new_fragment'], axis=1)\n",
        "\n",
        "    # === (3-CLASS SOFTMAX) one-hot encoding the target label of Y\n",
        "    '''\n",
        "    Y_train_encoded = pd.get_dummies(Y_train['left-2'])\n",
        "    Y_test_encoded  = pd.get_dummies(Y_test ['left-2'])\n",
        "    Y_train = np.array(Y_train_encoded)\n",
        "    Y_test  = np.array(Y_test_encoded)\n",
        "    #print ('Y bunches (train, test): \\n{}\\n{}'.format(Y_train_short.shape, Y_test_short.shape))\n",
        "    '''\n",
        "\n",
        "    # === (2-CLASS) (IF NO ONE-HOT ENCODING)\n",
        "    #'''\n",
        "    Y_train = Y_train.drop(columns=['date'], axis=1)\n",
        "    Y_test  = Y_test.drop(columns=['date'], axis=1)\n",
        "    Y_train = Y_train['left-2'] #2\n",
        "    Y_test  = Y_test['left-2']\n",
        "    print ('Select every {}th row'.format(NUMBER_TIMESTEPS))\n",
        "    #'''\n",
        "    Y_train_short = Y_train[::NUMBER_TIMESTEPS]\n",
        "    Y_test_short  = Y_test[::NUMBER_TIMESTEPS]\n",
        "\n",
        "\n",
        "\n",
        "    # === Fill NA with 90 for angles\n",
        "    # TRAIN\n",
        "    X_train['l_degr'].fillna(90, inplace=True)\n",
        "    X_train['r_degr'].fillna(90, inplace=True)\n",
        "    X_train['l_shoulder'].fillna(90, inplace=True)\n",
        "    X_train['r_shoulder'].fillna(90, inplace=True)\n",
        "    X_train = X_train.replace(0, 0.001)\n",
        "    # TEST\n",
        "    X_test['l_degr'].fillna(90, inplace=True)\n",
        "    X_test['r_degr'].fillna(90, inplace=True)\n",
        "    X_test['l_shoulder'].fillna(90, inplace=True)\n",
        "    X_test['r_shoulder'].fillna(90, inplace=True)\n",
        "    X_test = X_test.replace(0, 0.001)\n",
        "\n",
        "    # === Applying Min-Max Scaling to scale the features to the range [0, 1]\n",
        "    from sklearn.preprocessing import MinMaxScaler\n",
        "    scaler = MinMaxScaler()\n",
        "    # TRAIN\n",
        "    X_train = pd.DataFrame(scaler.fit_transform(X_train), columns=X_train.columns)\n",
        "    X_train = np.array(X_train)\n",
        "    # TEST\n",
        "    X_test  = pd.DataFrame(scaler.fit_transform(X_test ), columns=X_test.columns )\n",
        "    X_test = np.array(X_test)\n",
        "    #print ('X (train, test): {},{}'.format(X_train.shape,X_test.shape)\n",
        "\n",
        "    # TRAIN\n",
        "    NUMBER_BATCH_TRAIN = X_train.shape[0] // NUMBER_TIMESTEPS\n",
        "    #print('X_train = ', X_train.shape)\n",
        "    #print('NUMBER_BATCH_TRAIN = ',NUMBER_BATCH_TRAIN)\n",
        "    X_train = np.reshape(X_train, (NUMBER_BATCH_TRAIN, NUMBER_TIMESTEPS, NUMBER_FEATURES))\n",
        "    #print('X_train = ', X_train.shape)\n",
        "    # TEST\n",
        "    NUMBER_BATCH_TEST = X_test.shape[0] // NUMBER_TIMESTEPS\n",
        "    #print('X_test = ', X_test.shape)\n",
        "    #print('NUMBER_BATCH_TEST = ',NUMBER_BATCH_TEST)\n",
        "    X_test = np.reshape(X_test, (NUMBER_BATCH_TEST, NUMBER_TIMESTEPS, NUMBER_FEATURES))\n",
        "    #print('X_test = ', X_test.shape)\n",
        "\n",
        "    # Cacluclate STEPS for learning rate schedulaer (decay factor)\n",
        "    steps_per_epoch = NUMBER_BATCH_TRAIN #int(X_train.shape[0] // NUMBER_TIMESTEPS)\n",
        "    learn_rate_decay_factor = (final_lr / lr)**(1/epochs)\n",
        "    lr_schedule = ExponentialDecay(\n",
        "        initial_learning_rate = lr,\n",
        "        decay_steps           = steps_per_epoch, #100000\n",
        "        decay_rate            = learn_rate_decay_factor, #0.96\n",
        "        staircase=True)\n",
        "    #print ('Steps per epoch = {}'.format(steps_per_epoch) )\n",
        "    #print ('Learning rate decay factor = {}'.format(learn_rate_decay_factor) )\n",
        "\n",
        "    # Build and train the model\n",
        "    model = build_model(NUMBER_OUTPUTS=1, NUMBER_FEATURES=NUMBER_FEATURES, LEARNING_RATE=lr_schedule)\n",
        "    history = model.fit( X_train, Y_train_short, validation_data=(X_test, Y_test_short), epochs=epochs, batch_size = 64, verbose=2) #, callbacks=[lr_scheduler])\n",
        "    all_models.append(model)\n",
        "\n",
        "    # Make predictions on the test fold\n",
        "    y_pred_prob = model.predict(X_test)\n",
        "    Y_test_model = (y_pred_prob > 0.5).astype(int)\n",
        "    '''\n",
        "    y_pred_prob_train = model.predict(X_train)\n",
        "    Y_train_model = (y_pred_prob_train > 0.5).astype(int)\n",
        "    '''\n",
        "    # Calculate metrics for the fold\n",
        "    accuracy = accuracy_score(Y_test_short, Y_test_model)\n",
        "    precision_macro = precision_score(Y_test_short, Y_test_model, average='macro')\n",
        "    precision_micro = precision_score(Y_test_short, Y_test_model, average='micro')\n",
        "    recall_macro = recall_score(Y_test_short, Y_test_model, average='macro')\n",
        "    recall_micro = recall_score(Y_test_short, Y_test_model, average='micro')\n",
        "\n",
        "    # Store metrics for the fold\n",
        "    accuracies.append(accuracy)\n",
        "    precisions_macro.append(precision_macro)\n",
        "    precisions_micro.append(precision_micro)\n",
        "    recalls_macro.append(recall_macro)\n",
        "    recalls_micro.append(recall_micro)\n",
        "    all_history.append(history)\n",
        "\n",
        "    # Convert one-hot encoded to a single column with values 1, 2, 3\n",
        "    '''\n",
        "    Y_test_model = np.argmax(Y_test_model, axis=1)\n",
        "    Y_test_short  = np.argmax(Y_test_short, axis=1)\n",
        "    '''\n",
        "    print(classification_report(Y_test_short, Y_test_model))\n",
        "    conf_matrix = confusion_matrix(Y_test_short, Y_test_model)\n",
        "    cms.append(conf_matrix)\n",
        "\n",
        "\n"
      ],
      "metadata": {
        "id": "Ki8U86y21537",
        "colab": {
          "base_uri": "https://localhost:8080/"
        },
        "outputId": "81085771-aad6-4fcd-9235-6d16e436761f"
      },
      "execution_count": null,
      "outputs": [
        {
          "output_type": "stream",
          "name": "stdout",
          "text": [
            "============================================\n",
            "Here goes FOLD №1\n",
            "============================================\n",
            "232000 116000\n",
            "fold №1\n",
            " TRAIN: \n",
            "39 fragments\n",
            " [ 0  2  3  4  5  6  7  8  9 10 12 14 16 22 23 24 25 26 27 29 33 34 35 36\n",
            " 37 40 41 43 44 45 46 47 48 49 52 53 54 56 57]\n",
            "TEST:\n",
            "19 fragments\n",
            " [ 1 11 13 15 17 18 19 20 21 28 30 31 32 38 39 42 50 51 55]\n",
            "TEST:\n",
            "1    0.840517\n",
            "0    0.159483\n",
            "Name: left-2, dtype: float64\n",
            "TRAIN:\n",
            "1    0.579741\n",
            "0    0.420259\n",
            "Name: left-2, dtype: float64\n",
            "Select every 500th row\n",
            "Epoch 1/10\n",
            "8/8 - 9s - loss: 51.6076 - accuracy: 0.5625 - precision: 0.6260 - recall: 0.6097 - val_loss: 40.5414 - val_accuracy: 0.8664 - val_precision: 0.8661 - val_recall: 0.9949 - 9s/epoch - 1s/step\n",
            "Epoch 2/10\n",
            "8/8 - 1s - loss: 34.3664 - accuracy: 0.7866 - precision: 0.7388 - recall: 0.9777 - val_loss: 25.8327 - val_accuracy: 0.8362 - val_precision: 0.8720 - val_recall: 0.9436 - 1s/epoch - 174ms/step\n",
            "Epoch 3/10\n",
            "8/8 - 1s - loss: 21.1879 - accuracy: 0.7737 - precision: 0.7265 - recall: 0.9777 - val_loss: 15.1542 - val_accuracy: 0.7500 - val_precision: 0.9053 - val_recall: 0.7846 - 1s/epoch - 164ms/step\n",
            "Epoch 4/10\n",
            "8/8 - 1s - loss: 12.1387 - accuracy: 0.6185 - precision: 0.6411 - recall: 0.7770 - val_loss: 7.9857 - val_accuracy: 0.8405 - val_precision: 0.8405 - val_recall: 1.0000 - 1s/epoch - 175ms/step\n",
            "Epoch 5/10\n",
            "8/8 - 1s - loss: 6.3888 - accuracy: 0.5625 - precision: 0.5733 - recall: 0.9591 - val_loss: 4.3271 - val_accuracy: 0.8405 - val_precision: 0.8405 - val_recall: 1.0000 - 1s/epoch - 168ms/step\n",
            "Epoch 6/10\n",
            "8/8 - 1s - loss: 3.8521 - accuracy: 0.5797 - precision: 0.5797 - recall: 1.0000 - val_loss: 3.2397 - val_accuracy: 0.8405 - val_precision: 0.8405 - val_recall: 1.0000 - 1s/epoch - 166ms/step\n",
            "Epoch 7/10\n",
            "8/8 - 1s - loss: 2.8514 - accuracy: 0.5797 - precision: 0.5797 - recall: 1.0000 - val_loss: 2.1350 - val_accuracy: 0.8405 - val_precision: 0.8405 - val_recall: 1.0000 - 1s/epoch - 177ms/step\n",
            "Epoch 8/10\n",
            "8/8 - 1s - loss: 1.9947 - accuracy: 0.5797 - precision: 0.5797 - recall: 1.0000 - val_loss: 1.7113 - val_accuracy: 0.8405 - val_precision: 0.8405 - val_recall: 1.0000 - 1s/epoch - 169ms/step\n",
            "Epoch 9/10\n",
            "8/8 - 1s - loss: 1.6163 - accuracy: 0.5797 - precision: 0.5797 - recall: 1.0000 - val_loss: 1.4095 - val_accuracy: 0.8405 - val_precision: 0.8405 - val_recall: 1.0000 - 1s/epoch - 178ms/step\n",
            "Epoch 10/10\n",
            "8/8 - 1s - loss: 1.3847 - accuracy: 0.5797 - precision: 0.5797 - recall: 1.0000 - val_loss: 1.2063 - val_accuracy: 0.8405 - val_precision: 0.8405 - val_recall: 1.0000 - 1s/epoch - 165ms/step\n",
            "8/8 [==============================] - 1s 47ms/step\n",
            "              precision    recall  f1-score   support\n",
            "\n",
            "           0       0.00      0.00      0.00        37\n",
            "           1       0.84      1.00      0.91       195\n",
            "\n",
            "    accuracy                           0.84       232\n",
            "   macro avg       0.42      0.50      0.46       232\n",
            "weighted avg       0.71      0.84      0.77       232\n",
            "\n",
            "============================================\n",
            "Here goes FOLD №2\n",
            "============================================\n",
            "232000 116000\n",
            "fold №2\n",
            " TRAIN: \n",
            "39 fragments\n",
            " [ 1  2  3  4  5  9 11 13 14 15 17 18 19 20 21 25 26 27 28 30 31 32 35 37\n",
            " 38 39 41 42 44 45 47 48 49 50 51 52 55 56 57]\n",
            "TEST:\n",
            "19 fragments\n",
            " [ 0  6  7  8 10 12 16 22 23 24 29 33 34 36 40 43 46 53 54]\n",
            "TEST:\n",
            "1    0.676724\n",
            "0    0.323276\n",
            "Name: left-2, dtype: float64\n",
            "TRAIN:\n",
            "1    0.661638\n",
            "0    0.338362\n",
            "Name: left-2, dtype: float64\n",
            "Select every 500th row\n"
          ]
        },
        {
          "output_type": "stream",
          "name": "stderr",
          "text": [
            "/usr/local/lib/python3.10/dist-packages/sklearn/metrics/_classification.py:1344: UndefinedMetricWarning: Precision is ill-defined and being set to 0.0 in labels with no predicted samples. Use `zero_division` parameter to control this behavior.\n",
            "  _warn_prf(average, modifier, msg_start, len(result))\n",
            "/usr/local/lib/python3.10/dist-packages/sklearn/metrics/_classification.py:1344: UndefinedMetricWarning: Precision and F-score are ill-defined and being set to 0.0 in labels with no predicted samples. Use `zero_division` parameter to control this behavior.\n",
            "  _warn_prf(average, modifier, msg_start, len(result))\n",
            "/usr/local/lib/python3.10/dist-packages/sklearn/metrics/_classification.py:1344: UndefinedMetricWarning: Precision and F-score are ill-defined and being set to 0.0 in labels with no predicted samples. Use `zero_division` parameter to control this behavior.\n",
            "  _warn_prf(average, modifier, msg_start, len(result))\n",
            "/usr/local/lib/python3.10/dist-packages/sklearn/metrics/_classification.py:1344: UndefinedMetricWarning: Precision and F-score are ill-defined and being set to 0.0 in labels with no predicted samples. Use `zero_division` parameter to control this behavior.\n",
            "  _warn_prf(average, modifier, msg_start, len(result))\n"
          ]
        },
        {
          "output_type": "stream",
          "name": "stdout",
          "text": [
            "Epoch 1/10\n",
            "8/8 - 9s - loss: 51.4280 - accuracy: 0.6810 - precision: 0.7166 - recall: 0.8567 - val_loss: 40.7554 - val_accuracy: 0.7543 - val_precision: 0.7381 - val_recall: 0.9873 - 9s/epoch - 1s/step\n",
            "Epoch 2/10\n",
            "8/8 - 1s - loss: 34.3087 - accuracy: 0.8254 - precision: 0.7912 - recall: 1.0000 - val_loss: 25.8944 - val_accuracy: 0.7328 - val_precision: 0.7189 - val_recall: 0.9936 - 1s/epoch - 168ms/step\n",
            "Epoch 3/10\n",
            "8/8 - 1s - loss: 21.2430 - accuracy: 0.7780 - precision: 0.7488 - recall: 1.0000 - val_loss: 15.0734 - val_accuracy: 0.7026 - val_precision: 0.6947 - val_recall: 1.0000 - 1s/epoch - 178ms/step\n",
            "Epoch 4/10\n",
            "8/8 - 1s - loss: 11.8246 - accuracy: 0.7716 - precision: 0.7457 - recall: 0.9935 - val_loss: 7.7120 - val_accuracy: 0.7069 - val_precision: 0.6978 - val_recall: 1.0000 - 1s/epoch - 179ms/step\n",
            "Epoch 5/10\n",
            "8/8 - 1s - loss: 5.8355 - accuracy: 0.7780 - precision: 0.7488 - recall: 1.0000 - val_loss: 3.9120 - val_accuracy: 0.7155 - val_precision: 0.7059 - val_recall: 0.9936 - 1s/epoch - 180ms/step\n",
            "Epoch 6/10\n",
            "8/8 - 1s - loss: 3.3681 - accuracy: 0.7996 - precision: 0.7675 - recall: 1.0000 - val_loss: 3.0275 - val_accuracy: 0.7500 - val_precision: 0.7324 - val_recall: 0.9936 - 1s/epoch - 168ms/step\n",
            "Epoch 7/10\n",
            "8/8 - 1s - loss: 2.5088 - accuracy: 0.8147 - precision: 0.7812 - recall: 1.0000 - val_loss: 2.0382 - val_accuracy: 0.7414 - val_precision: 0.7343 - val_recall: 0.9682 - 1s/epoch - 170ms/step\n",
            "Epoch 8/10\n",
            "8/8 - 2s - loss: 1.6859 - accuracy: 0.8341 - precision: 0.7995 - recall: 1.0000 - val_loss: 1.7405 - val_accuracy: 0.7414 - val_precision: 0.7343 - val_recall: 0.9682 - 2s/epoch - 194ms/step\n",
            "Epoch 9/10\n",
            "8/8 - 2s - loss: 1.3564 - accuracy: 0.8319 - precision: 0.7974 - recall: 1.0000 - val_loss: 1.4083 - val_accuracy: 0.7500 - val_precision: 0.7368 - val_recall: 0.9809 - 2s/epoch - 188ms/step\n",
            "Epoch 10/10\n",
            "8/8 - 1s - loss: 1.1649 - accuracy: 0.8319 - precision: 0.7974 - recall: 1.0000 - val_loss: 1.2417 - val_accuracy: 0.7500 - val_precision: 0.7368 - val_recall: 0.9809 - 1s/epoch - 186ms/step\n",
            "8/8 [==============================] - 1s 35ms/step\n",
            "              precision    recall  f1-score   support\n",
            "\n",
            "           0       0.87      0.27      0.41        75\n",
            "           1       0.74      0.98      0.84       157\n",
            "\n",
            "    accuracy                           0.75       232\n",
            "   macro avg       0.80      0.62      0.62       232\n",
            "weighted avg       0.78      0.75      0.70       232\n",
            "\n",
            "============================================\n",
            "Here goes FOLD №3\n",
            "============================================\n",
            "232000 116000\n",
            "fold №3\n",
            " TRAIN: \n",
            "38 fragments\n",
            " [ 0  1  6  7  8 10 11 12 13 15 16 17 18 19 20 21 22 23 24 28 29 30 31 32\n",
            " 33 34 36 38 39 40 42 43 46 50 51 53 54 55]\n",
            "TEST:\n",
            "20 fragments\n",
            " [ 2  3  4  5  9 14 25 26 27 35 37 41 44 45 47 48 49 52 56 57]\n",
            "TEST:\n",
            "0    0.517241\n",
            "1    0.482759\n",
            "Name: left-2, dtype: float64\n",
            "TRAIN:\n",
            "1    0.758621\n",
            "0    0.241379\n",
            "Name: left-2, dtype: float64\n",
            "Select every 500th row\n",
            "Epoch 1/10\n",
            "8/8 - 8s - loss: 51.6649 - accuracy: 0.7349 - precision: 0.7585 - recall: 0.9545 - val_loss: 40.8448 - val_accuracy: 0.4828 - val_precision: 0.4828 - val_recall: 1.0000 - 8s/epoch - 944ms/step\n",
            "Epoch 2/10\n",
            "8/8 - 1s - loss: 34.8383 - accuracy: 0.7543 - precision: 0.7576 - recall: 0.9943 - val_loss: 26.4746 - val_accuracy: 0.4828 - val_precision: 0.4828 - val_recall: 1.0000 - 1s/epoch - 183ms/step\n",
            "Epoch 3/10\n",
            "8/8 - 1s - loss: 21.7549 - accuracy: 0.7586 - precision: 0.7586 - recall: 1.0000 - val_loss: 15.6745 - val_accuracy: 0.4828 - val_precision: 0.4828 - val_recall: 1.0000 - 1s/epoch - 185ms/step\n",
            "Epoch 4/10\n",
            "8/8 - 1s - loss: 12.1794 - accuracy: 0.7586 - precision: 0.7586 - recall: 1.0000 - val_loss: 8.1301 - val_accuracy: 0.4828 - val_precision: 0.4828 - val_recall: 1.0000 - 1s/epoch - 186ms/step\n",
            "Epoch 5/10\n",
            "8/8 - 1s - loss: 6.1936 - accuracy: 0.7586 - precision: 0.7586 - recall: 1.0000 - val_loss: 4.4679 - val_accuracy: 0.4828 - val_precision: 0.4828 - val_recall: 1.0000 - 1s/epoch - 174ms/step\n",
            "Epoch 6/10\n",
            "8/8 - 1s - loss: 3.6193 - accuracy: 0.7586 - precision: 0.7586 - recall: 1.0000 - val_loss: 3.3783 - val_accuracy: 0.4828 - val_precision: 0.4828 - val_recall: 1.0000 - 1s/epoch - 173ms/step\n",
            "Epoch 7/10\n",
            "8/8 - 1s - loss: 2.7101 - accuracy: 0.7586 - precision: 0.7586 - recall: 1.0000 - val_loss: 2.2731 - val_accuracy: 0.4828 - val_precision: 0.4828 - val_recall: 1.0000 - 1s/epoch - 184ms/step\n",
            "Epoch 8/10\n",
            "8/8 - 1s - loss: 1.8906 - accuracy: 0.7586 - precision: 0.7586 - recall: 1.0000 - val_loss: 2.0235 - val_accuracy: 0.4828 - val_precision: 0.4828 - val_recall: 1.0000 - 1s/epoch - 184ms/step\n",
            "Epoch 9/10\n",
            "8/8 - 1s - loss: 1.5283 - accuracy: 0.7586 - precision: 0.7586 - recall: 1.0000 - val_loss: 1.6371 - val_accuracy: 0.4828 - val_precision: 0.4828 - val_recall: 1.0000 - 1s/epoch - 176ms/step\n",
            "Epoch 10/10\n",
            "8/8 - 1s - loss: 1.3203 - accuracy: 0.7586 - precision: 0.7586 - recall: 1.0000 - val_loss: 1.5336 - val_accuracy: 0.4828 - val_precision: 0.4828 - val_recall: 1.0000 - 1s/epoch - 176ms/step\n",
            "8/8 [==============================] - 1s 36ms/step\n",
            "              precision    recall  f1-score   support\n",
            "\n",
            "           0       0.00      0.00      0.00       120\n",
            "           1       0.48      1.00      0.65       112\n",
            "\n",
            "    accuracy                           0.48       232\n",
            "   macro avg       0.24      0.50      0.33       232\n",
            "weighted avg       0.23      0.48      0.31       232\n",
            "\n"
          ]
        },
        {
          "output_type": "stream",
          "name": "stderr",
          "text": [
            "/usr/local/lib/python3.10/dist-packages/sklearn/metrics/_classification.py:1344: UndefinedMetricWarning: Precision is ill-defined and being set to 0.0 in labels with no predicted samples. Use `zero_division` parameter to control this behavior.\n",
            "  _warn_prf(average, modifier, msg_start, len(result))\n",
            "/usr/local/lib/python3.10/dist-packages/sklearn/metrics/_classification.py:1344: UndefinedMetricWarning: Precision and F-score are ill-defined and being set to 0.0 in labels with no predicted samples. Use `zero_division` parameter to control this behavior.\n",
            "  _warn_prf(average, modifier, msg_start, len(result))\n",
            "/usr/local/lib/python3.10/dist-packages/sklearn/metrics/_classification.py:1344: UndefinedMetricWarning: Precision and F-score are ill-defined and being set to 0.0 in labels with no predicted samples. Use `zero_division` parameter to control this behavior.\n",
            "  _warn_prf(average, modifier, msg_start, len(result))\n",
            "/usr/local/lib/python3.10/dist-packages/sklearn/metrics/_classification.py:1344: UndefinedMetricWarning: Precision and F-score are ill-defined and being set to 0.0 in labels with no predicted samples. Use `zero_division` parameter to control this behavior.\n",
            "  _warn_prf(average, modifier, msg_start, len(result))\n"
          ]
        }
      ]
    },
    {
      "cell_type": "code",
      "source": [
        "\n",
        "# Calculate average metrics across folds\n",
        "average_accuracy = sum(accuracies) / num_folds\n",
        "average_precision_macro = sum(precisions_macro) / num_folds\n",
        "average_precision_micro = sum(precisions_micro) / num_folds\n",
        "average_recall_macro = sum(recalls_macro) / num_folds\n",
        "average_recall_micro = sum(recalls_micro) / num_folds\n",
        "\n",
        "print(f\"Average accuracy over {num_folds} folds of {epochs} epochs each: {average_accuracy:.4f}\")\n",
        "print(f\"Average MICRO precision over {num_folds} folds of {epochs} epochs each: {average_precision_micro:.4f}\")\n",
        "print(f\"Average MACRO  precision over {num_folds} folds of {epochs} epochs each: {average_precision_macro:.4f}\")\n",
        "print(f\"Average MICRO recall over {num_folds} folds of {epochs} epochs each: {average_recall_micro:.4f}\")\n",
        "print(f\"Average MACRO recall over {num_folds} folds of {epochs} epochs each: {average_recall_macro:.4f}\")"
      ],
      "metadata": {
        "id": "FaxqAXpdXkMH",
        "colab": {
          "base_uri": "https://localhost:8080/"
        },
        "outputId": "0171bb7d-8370-49f6-dc5f-4e7dee902281"
      },
      "execution_count": null,
      "outputs": [
        {
          "output_type": "stream",
          "name": "stdout",
          "text": [
            "Average accuracy over 3 folds of 10 epochs each: 0.6911\n",
            "Average MICRO precision over 3 folds of 10 epochs each: 0.6911\n",
            "Average MACRO  precision over 3 folds of 10 epochs each: 0.4883\n",
            "Average MICRO recall over 3 folds of 10 epochs each: 0.6911\n",
            "Average MACRO recall over 3 folds of 10 epochs each: 0.5413\n"
          ]
        }
      ]
    },
    {
      "cell_type": "code",
      "source": [
        "# Calculate the standard deviation\n",
        "std_a = np.std(accuracies)\n",
        "std_p_macro = np.std(precisions_macro)\n",
        "std_p_micro = np.std(precisions_micro)\n",
        "std_r_macro = np.std(recalls_macro)\n",
        "std_r_micro = np.std(recalls_micro)\n",
        "\n",
        "print ('METRICS:\\naccuracy={} \\nprecision micro={} \\nprecision macro={}\\n recall micro={} \\n recall macro={}'.format(accuracies, precisions_micro, precisions_macro, recalls_micro, recalls_macro))\n",
        "print ('STD FOR:\\naccuracy={} \\nprecision micro={} \\nprecision macro={}\\n recall micro={} \\n recall macro={}'.format(std_a, std_p_micro, std_p_macro, std_r_micro, std_r_macro))"
      ],
      "metadata": {
        "id": "7TX_o2tFPLiM",
        "colab": {
          "base_uri": "https://localhost:8080/"
        },
        "outputId": "b71f0f2e-c512-4eda-fa11-632b1fec1a1a"
      },
      "execution_count": null,
      "outputs": [
        {
          "output_type": "stream",
          "name": "stdout",
          "text": [
            "METRICS:\n",
            "accuracy=[0.8405172413793104, 0.75, 0.4827586206896552] \n",
            "precision micro=[0.8405172413793104, 0.75, 0.4827586206896552] \n",
            "precision macro=[0.4202586206896552, 0.8032036613272311, 0.2413793103448276]\n",
            " recall micro=[0.8405172413793104, 0.75, 0.4827586206896552] \n",
            " recall macro=[0.5, 0.6237791932059448, 0.5]\n",
            "STD FOR:\n",
            "accuracy=0.15187807847099685 \n",
            "precision micro=0.15187807847099685 \n",
            "precision macro=0.23435284726126462\n",
            " recall micro=0.15187807847099685 \n",
            " recall macro=0.058350071257148924\n"
          ]
        }
      ]
    },
    {
      "cell_type": "code",
      "source": [
        "'''\n",
        "# Calculate the standard deviation\n",
        "std_a = np.std(accuracies)\n",
        "std_p = np.std(precisions)\n",
        "std_r = np.std(recalls)\n",
        "\n",
        "print ('METRICS:\\naccuracy={}\\nprecision={}\\nrecall={}'.format(accuracies,precisions,recalls))\n",
        "print ('STD FOR:\\naccuracy={}\\nprecision={}\\nrecall={}'.format(std_a,std_p,std_r))\n",
        "'''"
      ],
      "metadata": {
        "colab": {
          "base_uri": "https://localhost:8080/",
          "height": 53
        },
        "id": "oRUVKCISMEdx",
        "outputId": "0f1bd144-f203-4072-9d11-f33f97a40000"
      },
      "execution_count": null,
      "outputs": [
        {
          "output_type": "execute_result",
          "data": {
            "text/plain": [
              "\"\\n# Calculate the standard deviation\\nstd_a = np.std(accuracies)\\nstd_p = np.std(precisions)\\nstd_r = np.std(recalls)\\n\\nprint ('METRICS:\\naccuracy={}\\nprecision={}\\nrecall={}'.format(accuracies,precisions,recalls))\\nprint ('STD FOR:\\naccuracy={}\\nprecision={}\\nrecall={}'.format(std_a,std_p,std_r))\\n\""
            ],
            "application/vnd.google.colaboratory.intrinsic+json": {
              "type": "string"
            }
          },
          "metadata": {},
          "execution_count": 121
        }
      ]
    },
    {
      "cell_type": "code",
      "source": [
        "import seaborn as sns\n",
        "plt.figure(figsize=(8, 6))\n",
        "sns.heatmap(cms[1], annot=True, fmt='d', cmap='Blues', xticklabels=True, yticklabels=True)\n",
        "plt.xlabel('Predicted Labels')\n",
        "plt.ylabel('True Labels')\n",
        "plt.title('Confusion Matrix')\n",
        "plt.show()"
      ],
      "metadata": {
        "id": "9ynqag_rF62S",
        "colab": {
          "base_uri": "https://localhost:8080/",
          "height": 614
        },
        "outputId": "fdc421bc-7aa0-4b9b-c379-ce6247e50f39"
      },
      "execution_count": null,
      "outputs": [
        {
          "output_type": "display_data",
          "data": {
            "text/plain": [
              "<Figure size 800x600 with 2 Axes>"
            ],
            "image/png": "[encoded data removed]"
          },
          "metadata": {}
        }
      ]
    },
    {
      "cell_type": "code",
      "source": [
        "'''\n",
        "# Save the entire model (architecture, optimizer state, and weights)\n",
        "model.save('trained_model.h5')\n",
        "\n",
        "# Alternatively, you can save just the weights\n",
        "model.save_weights('model_weights.h5')\n",
        "\n",
        "from tensorflow.keras.saving import load_model\n",
        "# Load the entire model from the .h5 file\n",
        "loaded_model = load_model('trained_model.h5')\n",
        "'''\n",
        "\n",
        "\n",
        "'''\n",
        "# Calling `save('my_model.keras')` creates a zip archive `my_model.keras`.\n",
        "model.save(\"stroke_nihss_1.keras\")\n",
        "\n",
        "# It can be used to reconstruct the model identically.\n",
        "loaded_model = keras.models.load_model(\"stroke_nihss_1.keras\")\n",
        "\n",
        "# Summary of the loaded model\n",
        "loaded_model.summary()\n",
        "'''"
      ],
      "metadata": {
        "id": "oiQzLg2rhk9D",
        "colab": {
          "base_uri": "https://localhost:8080/",
          "height": 53
        },
        "outputId": "593f2965-3341-421d-8c66-b1ad8952079b"
      },
      "execution_count": null,
      "outputs": [
        {
          "output_type": "execute_result",
          "data": {
            "text/plain": [
              "'\\n# Calling `save(\\'my_model.keras\\')` creates a zip archive `my_model.keras`.\\nmodel.save(\"stroke_nihss_1.keras\")\\n\\n# It can be used to reconstruct the model identically.\\nloaded_model = keras.models.load_model(\"stroke_nihss_1.keras\")\\n\\n# Summary of the loaded model\\nloaded_model.summary()\\n'"
            ],
            "application/vnd.google.colaboratory.intrinsic+json": {
              "type": "string"
            }
          },
          "metadata": {},
          "execution_count": 123
        }
      ]
    },
    {
      "cell_type": "code",
      "source": [
        "from matplotlib import pyplot as plt\n",
        "\n",
        "history = all_history[1]\n",
        "\n",
        "# Create a larger figure\n",
        "plt.figure(figsize=(10, 8))\n",
        "\n",
        "# plot loss during training\n",
        "plt.subplot(211)\n",
        "plt.title('Loss')\n",
        "plt.plot(history.history['loss'][2:], label='train')\n",
        "plt.plot(history.history['val_loss'][2:], label='test')\n",
        "plt.legend()\n",
        "#plt.xticks(range(len(history.history['loss'][2:])))\n",
        "plt.xticks(range(0, len(history.history['loss'][2:]), 5))  # Show every 5th\n",
        "plt.xlabel('Epoch')\n",
        "plt.ylabel('Loss')\n",
        "\n",
        "# plot accuracy during training\n",
        "plt.subplot(212)\n",
        "plt.title('accuracy')\n",
        "#plt.plot(history.history['accuracy'], label='train')\n",
        "#plt.plot(history.history['val_accuracy'], label='test')\n",
        "plt.plot([acc * 100 for acc in history.history['accuracy']], label='train')\n",
        "plt.plot([acc * 100 for acc in history.history['val_accuracy']], label='test')\n",
        "#plt.xticks(range(len(history.history['accuracy'])))\n",
        "plt.xticks(range(0, len(history.history['accuracy']), 5))  # Show every 5th label\n",
        "plt.xlabel('Epoch')\n",
        "plt.ylabel('Accuracy, %')\n",
        "\n",
        "# Adjust spacing between subplots\n",
        "plt.tight_layout()\n",
        "plt.legend()\n",
        "\n",
        "# Save the figure as an image file\n",
        "plt.savefig('training_results.png')\n",
        "\n",
        "plt.show()"
      ],
      "metadata": {
        "id": "ws3y9O5rRl-i",
        "colab": {
          "base_uri": "https://localhost:8080/",
          "height": 807
        },
        "outputId": "cf51a69a-422e-488f-8025-98bd2b15d416"
      },
      "execution_count": null,
      "outputs": [
        {
          "output_type": "display_data",
          "data": {
            "text/plain": [
              "<Figure size 1000x800 with 2 Axes>"
            ],
            "image/png": "[encoded data removed]"
          },
          "metadata": {}
        }
      ]
    },
    {
      "cell_type": "code",
      "source": [
        "from matplotlib import pyplot as plt\n",
        "# Create a larger figure\n",
        "plt.figure(figsize=(10, 8))\n",
        "\n",
        "# plot loss during training\n",
        "plt.subplot(211)\n",
        "plt.title('Precision')\n",
        "plt.plot([acc * 100 for acc in history.history['precision']], label='train')\n",
        "plt.plot([acc * 100 for acc in history.history['val_precision']], label='test')\n",
        "plt.legend()\n",
        "plt.xticks(range(0, len(history.history['precision']), 5))  # Show every 5th label\n",
        "plt.xlabel('Epoch')\n",
        "plt.ylabel('Precision, %')\n",
        "\n",
        "# plot accuracy during training\n",
        "plt.subplot(212)\n",
        "plt.title('recall')\n",
        "#plt.plot(history.history['accuracy'], label='train')\n",
        "#plt.plot(history.history['val_accuracy'], label='test')\n",
        "plt.plot([acc * 100 for acc in history.history['recall']], label='train')\n",
        "plt.plot([acc * 100 for acc in history.history['val_recall']], label='test')\n",
        "plt.xticks(range(0, len(history.history['recall']), 5))  # Show every 5th label\n",
        "plt.xlabel('Epoch')\n",
        "plt.ylabel('Recall, %')\n",
        "\n",
        "# Adjust spacing between subplots\n",
        "plt.tight_layout()\n",
        "plt.legend()\n",
        "\n",
        "# Save the figure as an image file\n",
        "#plt.savefig('training_results.png')\n",
        "\n",
        "plt.show()"
      ],
      "metadata": {
        "colab": {
          "base_uri": "https://localhost:8080/",
          "height": 765
        },
        "id": "cpqVHk0L9vk7",
        "outputId": "4605f491-9ede-46f9-d844-25f78effc8a2"
      },
      "execution_count": null,
      "outputs": [
        {
          "output_type": "display_data",
          "data": {
            "text/plain": [
              "<Figure size 1000x800 with 2 Axes>"
            ],
            "image/png": "[encoded data removed]"
          },
          "metadata": {}
        }
      ]
    },
    {
      "cell_type": "code",
      "source": [
        "#NEW CODE# Step 1: Make Predictions# Step 2: Convert Probabilities to Classes using a threshold (e.g., 0.5)\n",
        "import numpy as np\n",
        "import seaborn as sns\n",
        "import matplotlib.pyplot as plt\n",
        "from sklearn.metrics import confusion_matrix\n",
        "\n",
        "\n",
        "model = all_models[1]\n",
        "y_pred_prob_test = model.predict(X_test)\n",
        "threshold = 0.5\n",
        "Y_test_model = (y_pred_prob_test > threshold).astype(int)\n",
        "\n",
        "y_pred_prob_train = model.predict(X_train)\n",
        "threshold = 0.5\n",
        "Y_train_model = (y_pred_prob_train > threshold).astype(int)\n",
        "\n",
        "# Convert one-hot encoded to a single column with values 1, 2, 3\n",
        "'''\n",
        "Y_train_model = np.argmax(Y_train_model, axis=1)\n",
        "Y_test_model = np.argmax(Y_test_model, axis=1)\n",
        "'''"
      ],
      "metadata": {
        "id": "zItvAxuzaIL7",
        "colab": {
          "base_uri": "https://localhost:8080/",
          "height": 71
        },
        "outputId": "0b750d00-82a5-47da-8d0a-c92d77352b60"
      },
      "execution_count": null,
      "outputs": [
        {
          "output_type": "stream",
          "name": "stdout",
          "text": [
            "8/8 [==============================] - 0s 58ms/step\n",
            "15/15 [==============================] - 1s 35ms/step\n"
          ]
        },
        {
          "output_type": "execute_result",
          "data": {
            "text/plain": [
              "'\\nY_train_model = np.argmax(Y_train_model, axis=1)\\nY_test_model = np.argmax(Y_test_model, axis=1)\\n'"
            ],
            "application/vnd.google.colaboratory.intrinsic+json": {
              "type": "string"
            }
          },
          "metadata": {},
          "execution_count": 29
        }
      ]
    },
    {
      "cell_type": "code",
      "source": [
        "from sklearn.metrics import classification_report\n",
        "print(classification_report(Y_test_short, Y_test_model))"
      ],
      "metadata": {
        "colab": {
          "base_uri": "https://localhost:8080/"
        },
        "id": "vJ7fklJl_n2g",
        "outputId": "0a2e5fb8-2447-4e66-a710-9726683651dd"
      },
      "execution_count": null,
      "outputs": [
        {
          "output_type": "stream",
          "name": "stdout",
          "text": [
            "              precision    recall  f1-score   support\n",
            "\n",
            "           0       1.00      0.41      0.58       120\n",
            "           1       0.61      1.00      0.76       112\n",
            "\n",
            "    accuracy                           0.69       232\n",
            "   macro avg       0.81      0.70      0.67       232\n",
            "weighted avg       0.81      0.69      0.67       232\n",
            "\n"
          ]
        }
      ]
    },
    {
      "cell_type": "code",
      "source": [
        "# Step 3: Calculate Confusion Matrix\n",
        "conf_matrix = confusion_matrix(Y_test_short, Y_test_model)\n",
        "\n",
        "# Step 4: Visualize Confusion Matrix (Optional)\n",
        "plt.figure(figsize=(8, 6))\n",
        "sns.heatmap(conf_matrix, annot=True, fmt='d', cmap='Blues', xticklabels=True, yticklabels=True)\n",
        "plt.xlabel('Predicted Labels')\n",
        "plt.ylabel('True Labels')\n",
        "plt.title('Confusion Matrix')\n",
        "\n",
        "plt.show()"
      ],
      "metadata": {
        "colab": {
          "base_uri": "https://localhost:8080/",
          "height": 564
        },
        "id": "--kFa1E3-6ap",
        "outputId": "669d2473-17b0-47aa-a7cf-892a0a71c11d"
      },
      "execution_count": null,
      "outputs": [
        {
          "output_type": "display_data",
          "data": {
            "text/plain": [
              "<Figure size 800x600 with 2 Axes>"
            ],
            "image/png": "[encoded data removed]"
          },
          "metadata": {}
        }
      ]
    },
    {
      "cell_type": "code",
      "source": [
        "# Predict outputs and save them in a variable\n",
        "'''Y_train_model = model.predict(X_train)\n",
        "Y_test_model = model.predict(X_test)'''\n"
      ],
      "metadata": {
        "id": "z4BhvIdWw34I",
        "colab": {
          "base_uri": "https://localhost:8080/",
          "height": 35
        },
        "outputId": "fc224c3f-901d-42b6-eef3-20bc8329171e"
      },
      "execution_count": null,
      "outputs": [
        {
          "output_type": "execute_result",
          "data": {
            "text/plain": [
              "'Y_train_model = model.predict(X_train)\\nY_test_model = model.predict(X_test)'"
            ],
            "application/vnd.google.colaboratory.intrinsic+json": {
              "type": "string"
            }
          },
          "metadata": {},
          "execution_count": 129
        }
      ]
    },
    {
      "cell_type": "code",
      "source": [
        "#Y_train_model"
      ],
      "metadata": {
        "id": "9TIniaw7bRoU"
      },
      "execution_count": null,
      "outputs": []
    },
    {
      "cell_type": "code",
      "source": [
        "\n",
        "# Cast the float array to an integer array\n",
        "# Create a pandas Series from the array\n",
        "'''y_pred = (Y_train_model > threshold).astype(int)\n",
        "y_pred = (Y_test_model > threshold).astype(int)\n",
        "Y_train_model = pd.Series(Y_train_model.astype(int).flatten())\n",
        "Y_test_model  = pd.Series(Y_test_model.astype(int).flatten())'''"
      ],
      "metadata": {
        "id": "OpJIzvK3bRLN",
        "colab": {
          "base_uri": "https://localhost:8080/",
          "height": 35
        },
        "outputId": "5ac9f5bc-a8c0-4fd4-db44-6bd56a60231b"
      },
      "execution_count": null,
      "outputs": [
        {
          "output_type": "execute_result",
          "data": {
            "text/plain": [
              "'y_pred = (Y_train_model > threshold).astype(int)\\ny_pred = (Y_test_model > threshold).astype(int)\\nY_train_model = pd.Series(Y_train_model.astype(int).flatten())\\nY_test_model  = pd.Series(Y_test_model.astype(int).flatten())'"
            ],
            "application/vnd.google.colaboratory.intrinsic+json": {
              "type": "string"
            }
          },
          "metadata": {},
          "execution_count": 131
        }
      ]
    },
    {
      "cell_type": "code",
      "source": [
        "import numpy as np\n",
        "import seaborn as sns\n",
        "import matplotlib.pyplot as plt\n",
        "from sklearn.metrics import confusion_matrix\n",
        "\n",
        "# Sample predicted and true values\n",
        "#predicted = np.array([1, 0, 1, 1, 0, 1, 0, 1, 0, 1])\n",
        "#true = np.array([1, 0, 0, 1, 0, 1, 0, 0, 0, 1])\n",
        "\n",
        "predicted = Y_test_model\n",
        "true      = Y_test_short\n",
        "\n",
        "# Calculate confusion matrix\n",
        "cm = confusion_matrix(true, predicted)\n",
        "#cm = [[453629,246371],[165458,284674]]\n",
        "\n",
        "# Create a heatmap of the confusion matrix\n",
        "plt.figure(figsize=(6, 5))\n",
        "#sns.heatmap(cm, annot=True,  cmap=\"Blues\", xticklabels=[\"minor\", \"moderate\"], yticklabels=[\"minor\", \"moderate\"]) #fmt=\"d\",\n",
        "\n",
        "sns.set(font_scale = 2)\n",
        "sns.heatmap(cm, annot=True, cmap=\"Blues\", fmt='d', xticklabels=[\"minor 0-1\",\"moderate 2-3\",\"severe 4\"], yticklabels=[\"minor 0-1\",\"moderate 2-3\",\"severe 4\"], cbar=False, annot_kws={\"size\": 18}) #fmt=\"d\",\n",
        "plt.xlabel('Predicted', fontsize=20)\n",
        "plt.ylabel('True', fontsize=20)\n",
        "plt.title('Confusion Matrix', fontsize=20)\n",
        "\n",
        "\n",
        "# Save the figure as an image file\n",
        "plt.savefig('confusion_matrix.png')\n",
        "\n",
        "plt.show()"
      ],
      "metadata": {
        "id": "cn3HsH9kfmtd",
        "colab": {
          "base_uri": "https://localhost:8080/",
          "height": 528
        },
        "outputId": "0df21bb1-7fa7-41bb-f3cb-08075c44aa1b"
      },
      "execution_count": null,
      "outputs": [
        {
          "output_type": "display_data",
          "data": {
            "text/plain": [
              "<Figure size 600x500 with 1 Axes>"
            ],
            "image/png": "[encoded data removed]"
          },
          "metadata": {}
        }
      ]
    },
    {
      "cell_type": "code",
      "source": [
        "Y_train_model = pd.Series(Y_train_model.astype(int).flatten())\n",
        "Y_test_model  = pd.Series(Y_test_model.astype(int).flatten())"
      ],
      "metadata": {
        "id": "T27cEijag421"
      },
      "execution_count": null,
      "outputs": []
    },
    {
      "cell_type": "code",
      "source": [
        "Y_train_model.value_counts(normalize=False)"
      ],
      "metadata": {
        "colab": {
          "base_uri": "https://localhost:8080/"
        },
        "id": "3nNBA5PdxW_1",
        "outputId": "9211c15f-debf-49db-9f4d-97d0b19b9b71"
      },
      "execution_count": null,
      "outputs": [
        {
          "output_type": "execute_result",
          "data": {
            "text/plain": [
              "0    464\n",
              "dtype: int64"
            ]
          },
          "metadata": {},
          "execution_count": 134
        }
      ]
    },
    {
      "cell_type": "code",
      "source": [
        "Y_test_model.value_counts(normalize=False)"
      ],
      "metadata": {
        "colab": {
          "base_uri": "https://localhost:8080/"
        },
        "id": "1lIzH1sazEo5",
        "outputId": "cf5647a3-1305-477e-c9c3-b5ea897e0694"
      },
      "execution_count": null,
      "outputs": [
        {
          "output_type": "execute_result",
          "data": {
            "text/plain": [
              "0    232\n",
              "dtype: int64"
            ]
          },
          "metadata": {},
          "execution_count": 135
        }
      ]
    },
    {
      "cell_type": "code",
      "source": [
        "#Y_train_short.value_counts(normalize=False)"
      ],
      "metadata": {
        "id": "KkA-FczpxBnX"
      },
      "execution_count": null,
      "outputs": []
    },
    {
      "cell_type": "code",
      "source": [
        "#Y_test_short.value_counts(normalize=False)"
      ],
      "metadata": {
        "id": "F_RPLdqczSiS"
      },
      "execution_count": null,
      "outputs": []
    },
    {
      "cell_type": "code",
      "source": [
        "import numpy as np\n",
        "from sklearn.metrics import roc_curve, auc\n",
        "import matplotlib.pyplot as plt\n",
        "\n",
        "\n",
        "model = all_models[2]\n",
        "# Step 1: Make Predictions\n",
        "y_pred_prob = model.predict(X_test)\n",
        "\n",
        "# Calculate ROC curve\n",
        "fpr, tpr, thresholds = roc_curve(Y_test_short, y_pred_prob)\n",
        "\n",
        "# Calculate Area Under the Curve (AUC)\n",
        "roc_auc = auc(fpr, tpr)\n",
        "\n",
        "# Plot ROC curve\n",
        "plt.figure(figsize=(8, 6))\n",
        "plt.plot(fpr, tpr, color='darkorange', lw=2, label='ROC curve (AUC = %0.2f)' % roc_auc)\n",
        "plt.plot([0, 1], [0, 1], color='navy', lw=2, linestyle='--')\n",
        "plt.xlim([0.0, 1.0])\n",
        "plt.ylim([0.0, 1.05])\n",
        "plt.xlabel('False Positive Rate')\n",
        "plt.ylabel('True Positive Rate')\n",
        "plt.title('Receiver Operating Characteristic')\n",
        "plt.legend(loc='lower right')\n",
        "plt.show()"
      ],
      "metadata": {
        "id": "Oc4viU2dlpHL",
        "colab": {
          "base_uri": "https://localhost:8080/",
          "height": 632
        },
        "outputId": "09c34ad4-2681-4b99-f5a2-8e611d156b2a"
      },
      "execution_count": null,
      "outputs": [
        {
          "output_type": "stream",
          "name": "stdout",
          "text": [
            "8/8 [==============================] - 0s 53ms/step\n"
          ]
        },
        {
          "output_type": "display_data",
          "data": {
            "text/plain": [
              "<Figure size 800x600 with 1 Axes>"
            ],
            "image/png": "[encoded data removed]"
          },
          "metadata": {}
        }
      ]
    },
    {
      "cell_type": "code",
      "source": [
        "'''\n",
        "import numpy as np\n",
        "from sklearn.metrics import roc_curve, auc\n",
        "import matplotlib.pyplot as plt\n",
        "\n",
        "# Step 1: Make Predictions\n",
        "y_pred_prob = model.predict(X_test)\n",
        "\n",
        "# Calculate ROC curve and AUC for each class\n",
        "fpr = dict()\n",
        "tpr = dict()\n",
        "roc_auc = dict()\n",
        "NUM_CLASSES = 3\n",
        "\n",
        "for i in range(NUM_CLASSES):  # Replace NUM_CLASSES with the actual number of classes\n",
        "    fpr[i], tpr[i], _ = roc_curve(Y_test_short[:, i], y_pred_prob[:, i])\n",
        "    roc_auc[i] = auc(fpr[i], tpr[i])\n",
        "\n",
        "# Plot ROC curves\n",
        "plt.figure(figsize=(8, 6))\n",
        "colors = ['darkorange', 'green', 'blue']  # Customize colors for each class\n",
        "for i, color in zip(range(NUM_CLASSES), colors):\n",
        "    plt.plot(fpr[i], tpr[i], color=color, lw=2, label='ROC curve of class %d (AUC = %0.2f)' % (i, roc_auc[i]))\n",
        "\n",
        "plt.plot([0, 1], [0, 1], color='navy', lw=2, linestyle='--')\n",
        "plt.xlim([0.0, 1.0])\n",
        "plt.ylim([0.0, 1.05])\n",
        "plt.xlabel('False Positive Rate')\n",
        "plt.ylabel('True Positive Rate')\n",
        "plt.title('Receiver Operating Characteristic')\n",
        "plt.legend(loc='lower right')\n",
        "plt.show()\n",
        "'''"
      ],
      "metadata": {
        "colab": {
          "base_uri": "https://localhost:8080/",
          "height": 106
        },
        "id": "DkGUazJCShT9",
        "outputId": "cf02e8c6-1a5d-4836-869a-f4db55dc2686"
      },
      "execution_count": null,
      "outputs": [
        {
          "output_type": "execute_result",
          "data": {
            "text/plain": [
              "\"\\nimport numpy as np\\nfrom sklearn.metrics import roc_curve, auc\\nimport matplotlib.pyplot as plt\\n\\n# Step 1: Make Predictions\\ny_pred_prob = model.predict(X_test)\\n\\n# Calculate ROC curve and AUC for each class\\nfpr = dict()\\ntpr = dict()\\nroc_auc = dict()\\nNUM_CLASSES = 3\\n\\nfor i in range(NUM_CLASSES):  # Replace NUM_CLASSES with the actual number of classes\\n    fpr[i], tpr[i], _ = roc_curve(Y_test_short[:, i], y_pred_prob[:, i])\\n    roc_auc[i] = auc(fpr[i], tpr[i])\\n\\n# Plot ROC curves\\nplt.figure(figsize=(8, 6))\\ncolors = ['darkorange', 'green', 'blue']  # Customize colors for each class\\nfor i, color in zip(range(NUM_CLASSES), colors):\\n    plt.plot(fpr[i], tpr[i], color=color, lw=2, label='ROC curve of class %d (AUC = %0.2f)' % (i, roc_auc[i]))\\n\\nplt.plot([0, 1], [0, 1], color='navy', lw=2, linestyle='--')\\nplt.xlim([0.0, 1.0])\\nplt.ylim([0.0, 1.05])\\nplt.xlabel('False Positive Rate')\\nplt.ylabel('True Positive Rate')\\nplt.title('Receiver Operating Characteristic')\\nplt.legend(loc='lower right')\\nplt.show()\\n\""
            ],
            "application/vnd.google.colaboratory.intrinsic+json": {
              "type": "string"
            }
          },
          "metadata": {},
          "execution_count": 139
        }
      ]
    },
    {
      "cell_type": "code",
      "source": [],
      "metadata": {
        "id": "YLDXo9FdlzgL"
      },
      "execution_count": null,
      "outputs": []
    }
  ]
}