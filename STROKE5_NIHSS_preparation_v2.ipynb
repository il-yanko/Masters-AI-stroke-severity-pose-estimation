{
  "cells": [
    {
      "cell_type": "code",
      "source": [
        "from google.colab import drive\n",
        "drive.mount('/content/drive', force_remount=False)\n",
        "\n",
        "# the directory where your data is\n",
        "PATH_to_data = '/content/drive/My Drive/STROKE_code/MMPOSE/data/patient_output/v3/' # version of skeleton extraction files\n",
        "\n",
        "'''\n",
        "versions of target table:\n",
        "2_1 = original\n",
        "3 = each row as day for algorithm in csv\n",
        "4 = each row as day\n",
        "'''\n",
        "PATH_to_target = '/content/drive/My Drive/STROKE_code/MMPOSE/data/patient_output/target/STROKE_NIHSS_3.csv'\n",
        "\n",
        "PATH_to_process = '/content/drive/My Drive/STROKE_code/MMPOSE/data/patient_output/processed/NIHSS/'\n",
        "import os\n",
        "os.chdir(PATH_to_data)\n",
        "import sys\n",
        "sys.path.append(PATH_to_data)"
      ],
      "metadata": {
        "colab": {
          "base_uri": "https://localhost:8080/"
        },
        "id": "80bMB0YxcF3t",
        "outputId": "bc1d1105-c4c3-4d3f-a11c-b9d05c2f031c"
      },
      "execution_count": null,
      "outputs": [
        {
          "output_type": "stream",
          "name": "stdout",
          "text": [
            "Drive already mounted at /content/drive; to attempt to forcibly remount, call drive.mount(\"/content/drive\", force_remount=True).\n"
          ]
        }
      ]
    },
    {
      "cell_type": "code",
      "source": [
        "data_files = []\n",
        "for cur_path in os.listdir(PATH_to_data):\n",
        "    # check if current path is a file\n",
        "    if os.path.isfile(os.path.join(PATH_to_data, cur_path)):\n",
        "        data_files.append(cur_path) #name[0]\n",
        "print(data_files)"
      ],
      "metadata": {
        "colab": {
          "base_uri": "https://localhost:8080/"
        },
        "id": "2df295ny1ipB",
        "outputId": "42b361aa-9c75-41f6-b5fc-fcb90b6cfead"
      },
      "execution_count": null,
      "outputs": [
        {
          "output_type": "stream",
          "name": "stdout",
          "text": [
            "['DD_18_2_v3.csv', 'DD_18_v3.csv', 'BC_09_v3.csv', 'OM_17_v3.csv', 'PC_06_v3.csv', 'LH_24_v3.csv', 'ND_11_v3.csv', 'LC_19_v3.csv', 'GK_25_v3.csv', 'AF_10_2_v3.csv', 'RD_37_v3.csv', 'MS_05_2_v3.csv', 'AF_10_v3.csv', 'CA_21_v3.csv', 'GD_23_v3.csv', 'MS_05_v3.csv', 'MC_22_v3.csv', 'RO_26_v3.csv', 'VK_16_v3.csv', 'BD_7_v3.csv', 'IM_38_v3.csv', 'AT_08_v3.csv', 'AC_20_v3.csv', 'KE_35_v3.csv', 'AK_34_v3.csv']\n"
          ]
        }
      ]
    },
    {
      "cell_type": "code",
      "source": [
        "patients_ID = []\n",
        "for patient_data in data_files:\n",
        "    cur_ID = patient_data.split(\".csv\")[0]\n",
        "    #remove version\n",
        "    cur_ID = cur_ID.split(\"_\")\n",
        "    cur_ID = cur_ID[0] + '_' + cur_ID[1]\n",
        "    patients_ID.append(cur_ID)\n",
        "print(patients_ID)"
      ],
      "metadata": {
        "id": "WKtL69BA50L5",
        "colab": {
          "base_uri": "https://localhost:8080/"
        },
        "outputId": "01d563c8-93fd-4617-8800-3969ba87821d"
      },
      "execution_count": null,
      "outputs": [
        {
          "output_type": "stream",
          "name": "stdout",
          "text": [
            "['DD_18', 'DD_18', 'BC_09', 'OM_17', 'PC_06', 'LH_24', 'ND_11', 'LC_19', 'GK_25', 'AF_10', 'RD_37', 'MS_05', 'AF_10', 'CA_21', 'GD_23', 'MS_05', 'MC_22', 'RO_26', 'VK_16', 'BD_7', 'IM_38', 'AT_08', 'AC_20', 'KE_35', 'AK_34']\n"
          ]
        }
      ]
    },
    {
      "cell_type": "code",
      "source": [
        "import pandas as pd\n",
        "import numpy as np\n",
        "\n",
        "# file_name = 'AK_34_v3.csv'\n",
        "# FORMAT = '.csv'\n",
        "# file_path = file_name #+ FORMAT\n",
        "\n",
        "# create a dictionary with patient data, each key is a separate patient, but some patients have there recordings divided in 2 sections (different pose)\n",
        "patients = {}\n",
        "for file_name in data_files:\n",
        "    patients [file_name] = pd.read_csv(file_name, index_col=0)"
      ],
      "metadata": {
        "id": "HAcOIKwQe7b0"
      },
      "execution_count": null,
      "outputs": []
    },
    {
      "cell_type": "code",
      "source": [
        "patients.keys()"
      ],
      "metadata": {
        "colab": {
          "base_uri": "https://localhost:8080/"
        },
        "id": "yqrbt70DIYVY",
        "outputId": "0cd7956d-5329-47d1-b419-ba0acbf93b02"
      },
      "execution_count": null,
      "outputs": [
        {
          "output_type": "execute_result",
          "data": {
            "text/plain": [
              "dict_keys(['DD_18_2_v3.csv', 'DD_18_v3.csv', 'BC_09_v3.csv', 'OM_17_v3.csv', 'PC_06_v3.csv', 'LH_24_v3.csv', 'ND_11_v3.csv', 'LC_19_v3.csv', 'GK_25_v3.csv', 'AF_10_2_v3.csv', 'RD_37_v3.csv', 'MS_05_2_v3.csv', 'AF_10_v3.csv', 'CA_21_v3.csv', 'GD_23_v3.csv', 'MS_05_v3.csv', 'MC_22_v3.csv', 'RO_26_v3.csv', 'VK_16_v3.csv', 'BD_7_v3.csv', 'IM_38_v3.csv', 'AT_08_v3.csv', 'AC_20_v3.csv', 'KE_35_v3.csv', 'AK_34_v3.csv'])"
            ]
          },
          "metadata": {},
          "execution_count": 5
        }
      ]
    },
    {
      "cell_type": "code",
      "source": [
        "target = pd.read_csv(PATH_to_target) #read_excel\n",
        "\n",
        "target['patient_number'] = target['patient_number'].astype(int).astype(str)\n",
        "# generate sting with patient number with 2 digits\n",
        "target['patient_number'] = target['patient_number'].apply(lambda x: x.zfill(2) if len(x) == 1 else x)\n",
        "target.head()"
      ],
      "metadata": {
        "id": "3QgdqvGcG92i"
      },
      "execution_count": null,
      "outputs": []
    },
    {
      "cell_type": "code",
      "source": [
        "target['Date of visit']"
      ],
      "metadata": {
        "id": "UvhwfHC35PsH"
      },
      "execution_count": null,
      "outputs": []
    },
    {
      "cell_type": "code",
      "source": [
        "target['patient_ID'] = target['patient_code'] + '_' + target['patient_number']\n",
        "target['patient_ID'].unique()"
      ],
      "metadata": {
        "colab": {
          "base_uri": "https://localhost:8080/"
        },
        "id": "FAIsE8cKtBTC",
        "outputId": "39fa63a8-e958-427a-c39d-847d2001b6c4"
      },
      "execution_count": null,
      "outputs": [
        {
          "output_type": "execute_result",
          "data": {
            "text/plain": [
              "array(['MS_05', 'PC_06', 'BD_07', 'AT_08', 'BC_09', 'AF_10', 'ND_11',\n",
              "       'MR_14', 'VK_16', 'OM_17', 'DD_18', 'LC_19', 'AC_20', 'CA_21',\n",
              "       'MC_22', 'GD_23', 'LH_24', 'GK_25', 'RO_26', 'AK_34', 'KE_35',\n",
              "       'RD_37', 'IM_38'], dtype=object)"
            ]
          },
          "metadata": {},
          "execution_count": 8
        }
      ]
    },
    {
      "cell_type": "code",
      "source": [
        "df_patients = pd.concat(patients, sort=False)\n",
        "\n",
        "df_patients[['patient_code', 'patient_initials', 'extra']] = df_patients['patient'].str.split('_', expand=True)\n",
        "df_patients['patient_ID'] = df_patients['patient_code'] + '_' + df_patients['patient_initials']\n",
        "df_patients = df_patients.drop(columns=['extra','patient_code', 'patient_initials'])\n",
        "\n",
        "df_patients['patient_ID'] = df_patients['patient_ID'].str.replace('BD_7', 'BD_07')\n",
        "df_patients['patient_ID'].unique()"
      ],
      "metadata": {
        "colab": {
          "base_uri": "https://localhost:8080/"
        },
        "id": "tTyvyaJqH-p2",
        "outputId": "4c511802-ab1c-4337-9d2b-28279d7247bb"
      },
      "execution_count": null,
      "outputs": [
        {
          "output_type": "execute_result",
          "data": {
            "text/plain": [
              "array(['DD_18', 'BC_09', 'OM_17', 'PC_06', 'LH_24', 'ND_11', 'LC_19',\n",
              "       'GK_25', 'AF_10', 'RD_37', 'MS_05', 'CA_21', 'GD_23', 'MC_22',\n",
              "       'RO_26', 'VK_16', 'BD_07', 'IM_38', 'AT_08', 'AC_20', 'KE_35',\n",
              "       'AK_34'], dtype=object)"
            ]
          },
          "metadata": {},
          "execution_count": 9
        }
      ]
    },
    {
      "cell_type": "code",
      "source": [
        "# select all rows related to specific patient using the 'patient_ID' index-column\n",
        "df_select = df_patients.loc[  df_patients['patient_ID'] == 'AT_08'].copy()\n",
        "df_select.head()"
      ],
      "metadata": {
        "id": "tBRC5tfJhgCh"
      },
      "execution_count": null,
      "outputs": []
    },
    {
      "cell_type": "code",
      "source": [
        "df_select['day'].unique()"
      ],
      "metadata": {
        "colab": {
          "base_uri": "https://localhost:8080/"
        },
        "id": "R0sBW2Z1h7hu",
        "outputId": "d82945f9-1fbf-4383-e0ca-d680c4b16fdf"
      },
      "execution_count": null,
      "outputs": [
        {
          "output_type": "execute_result",
          "data": {
            "text/plain": [
              "array([20210218, 20210219])"
            ]
          },
          "metadata": {},
          "execution_count": 11
        }
      ]
    },
    {
      "cell_type": "code",
      "source": [
        "'''\n",
        "#important\n",
        "df_select['patient_day_ID'] = df_select['patient_ID'].astype(str) + '_' + df_select['day'].astype(str)\n",
        "\n",
        "# Set the maximum number of columns to be displayed\n",
        "df_select['patient_day_ID'].unique()\n",
        "'''"
      ],
      "metadata": {
        "id": "CoIXJI33yahV",
        "colab": {
          "base_uri": "https://localhost:8080/",
          "height": 35
        },
        "outputId": "6fa67958-d827-4223-aca7-29bbbcd0b1e5"
      },
      "execution_count": null,
      "outputs": [
        {
          "output_type": "execute_result",
          "data": {
            "text/plain": [
              "\"\\n#important\\ndf_select['patient_day_ID'] = df_select['patient_ID'].astype(str) + '_' + df_select['day'].astype(str)\\n\\n# Set the maximum number of columns to be displayed\\ndf_select['patient_day_ID'].unique()\\n\""
            ],
            "application/vnd.google.colaboratory.intrinsic+json": {
              "type": "string"
            }
          },
          "metadata": {},
          "execution_count": 12
        }
      ]
    },
    {
      "cell_type": "code",
      "source": [
        "#important\n",
        "df_patients['patient_day_ID'] = df_patients['patient_ID'].astype(str) + '_' + df_patients['day'].astype(str)\n",
        "\n",
        "# Set the maximum number of columns to be displayed\n",
        "pd.set_option('display.max_columns', None)\n",
        "df_patients['patient_day_ID'].unique()"
      ],
      "metadata": {
        "colab": {
          "base_uri": "https://localhost:8080/"
        },
        "id": "iTiTi51pzo8k",
        "outputId": "c7f21f78-f071-4e42-f415-a12a81524a50"
      },
      "execution_count": null,
      "outputs": [
        {
          "output_type": "execute_result",
          "data": {
            "text/plain": [
              "array(['DD_18_20210321', 'DD_18_20210322', 'DD_18_20210320',\n",
              "       'BC_09_20210224', 'BC_09_20210225', 'OM_17_20210319',\n",
              "       'OM_17_20210320', 'OM_17_20210321', 'PC_06_20210208',\n",
              "       'PC_06_20210209', 'PC_06_20210210', 'LH_24_20210409',\n",
              "       'LH_24_20210410', 'LH_24_20210411', 'ND_11_20210301',\n",
              "       'ND_11_20210302', 'LC_19_20210324', 'LC_19_20210325',\n",
              "       'GK_25_20210416', 'GK_25_20210417', 'GK_25_20210418',\n",
              "       'AF_10_20210301', 'AF_10_20210302', 'RD_37_20210721',\n",
              "       'RD_37_20210722', 'RD_37_20210723', 'MS_05_20210209',\n",
              "       'AF_10_20210228', 'CA_21_20210406', 'CA_21_20210407',\n",
              "       'CA_21_20210408', 'GD_23_20210409', 'GD_23_20210410',\n",
              "       'GD_23_20210411', 'MS_05_20210208', 'MC_22_20210406',\n",
              "       'MC_22_20210407', 'MC_22_20210408', 'RO_26_20210424',\n",
              "       'RO_26_20210425', 'RO_26_20210426', 'VK_16_20210319',\n",
              "       'VK_16_20210320', 'BD_07_20210214', 'BD_07_20210215',\n",
              "       'IM_38_20210723', 'IM_38_20210724', 'IM_38_20210725',\n",
              "       'AT_08_20210218', 'AT_08_20210219', 'AC_20_20210401',\n",
              "       'AC_20_20210402', 'AC_20_20210403', 'KE_35_20210629',\n",
              "       'KE_35_20210630', 'AK_34_20210626', 'AK_34_20210627',\n",
              "       'AK_34_20210628'], dtype=object)"
            ]
          },
          "metadata": {},
          "execution_count": 13
        }
      ]
    },
    {
      "cell_type": "code",
      "source": [
        "print('we have {} days-NIHSS overall'.format(len(df_patients['patient_day_ID'].unique())) )"
      ],
      "metadata": {
        "colab": {
          "base_uri": "https://localhost:8080/"
        },
        "id": "LnxJajVdz0ly",
        "outputId": "2dd73b6b-b9df-4eb7-fe5f-243bdfd730d8"
      },
      "execution_count": null,
      "outputs": [
        {
          "output_type": "stream",
          "name": "stdout",
          "text": [
            "we have 58 days-NIHSS overall\n"
          ]
        }
      ]
    },
    {
      "cell_type": "code",
      "source": [
        "target.head(10)"
      ],
      "metadata": {
        "id": "OcCuVb47ROcV"
      },
      "execution_count": null,
      "outputs": []
    },
    {
      "cell_type": "code",
      "source": [
        "target['Date of visit']"
      ],
      "metadata": {
        "id": "_bQL8X-ERt98"
      },
      "execution_count": null,
      "outputs": []
    },
    {
      "cell_type": "code",
      "source": [
        "#important\n",
        "target['patient_day_ID'] = target['patient_ID'].astype(str) + '_' + target['Date of visit'].str.replace(\"-\", \"\").astype(str)\n",
        "target.head(10)"
      ],
      "metadata": {
        "id": "WloMIY-j4aPR"
      },
      "execution_count": null,
      "outputs": []
    },
    {
      "cell_type": "code",
      "source": [
        "df_patients.set_index('patient_day_ID')"
      ],
      "metadata": {
        "id": "G69kSQLuXiIj"
      },
      "execution_count": null,
      "outputs": []
    },
    {
      "cell_type": "code",
      "source": [
        "np.sort(df_patients['patient_day_ID'].unique())"
      ],
      "metadata": {
        "id": "OCD2WiY1VGMH"
      },
      "execution_count": null,
      "outputs": []
    },
    {
      "cell_type": "code",
      "source": [
        "target.set_index('patient_day_ID')"
      ],
      "metadata": {
        "id": "anbyWjXnXm2r"
      },
      "execution_count": null,
      "outputs": []
    },
    {
      "cell_type": "code",
      "source": [
        "np.sort(target['patient_day_ID'].unique())"
      ],
      "metadata": {
        "id": "72axKnjJ4wFg"
      },
      "execution_count": null,
      "outputs": []
    },
    {
      "cell_type": "code",
      "source": [
        "df_patients.head()"
      ],
      "metadata": {
        "id": "MBee5DRBKwl7"
      },
      "execution_count": null,
      "outputs": []
    },
    {
      "cell_type": "code",
      "source": [
        "print( 'We have {} patients, {} days-patients and {} rows in videos'.format(len(df_patients['patient_ID'].unique()),len(df_patients['patient_day_ID'].unique()), len(df_patients)) )"
      ],
      "metadata": {
        "colab": {
          "base_uri": "https://localhost:8080/"
        },
        "id": "UPx-JfBPRwj4",
        "outputId": "6a8d0d58-b232-41e8-d7f8-2760baf16dda"
      },
      "execution_count": null,
      "outputs": [
        {
          "output_type": "stream",
          "name": "stdout",
          "text": [
            "We have 22 patients, 58 days-patients and 1616238 rows in videos\n"
          ]
        }
      ]
    },
    {
      "cell_type": "code",
      "source": [
        "list_dp = df_patients['patient_day_ID'].unique()"
      ],
      "metadata": {
        "id": "SsQi-RfpTBLn"
      },
      "execution_count": null,
      "outputs": []
    },
    {
      "cell_type": "code",
      "source": [
        "print( 'We have {} patients, {} days-patients in target table'.format(len(target['patient_ID'].unique()),len(target['patient_day_ID'].unique()) ) )"
      ],
      "metadata": {
        "colab": {
          "base_uri": "https://localhost:8080/"
        },
        "id": "reAizcxAR8Mh",
        "outputId": "a5389f72-44b6-43dc-fd0d-bc9aa226b081"
      },
      "execution_count": null,
      "outputs": [
        {
          "output_type": "stream",
          "name": "stdout",
          "text": [
            "We have 23 patients, 69 days-patients in target table\n"
          ]
        }
      ]
    },
    {
      "cell_type": "code",
      "source": [
        "list_dp_target = target['patient_day_ID'].unique()"
      ],
      "metadata": {
        "id": "qWdJ27CXY_fd"
      },
      "execution_count": null,
      "outputs": []
    },
    {
      "cell_type": "code",
      "source": [
        "print(list_dp)"
      ],
      "metadata": {
        "id": "fFhqIR0rf6cy"
      },
      "execution_count": null,
      "outputs": []
    },
    {
      "cell_type": "code",
      "source": [
        "# Convert lists to sets\n",
        "set1 = set(list_dp)\n",
        "set2 = set(list_dp_target)\n",
        "\n",
        "# Find values in list1 but not in list2\n",
        "lost_values = set1 - set2\n",
        "\n",
        "# Convert the result back to a list if needed\n",
        "result_list = list(lost_values)\n",
        "\n",
        "# Printing the values not in list1\n",
        "print(result_list)"
      ],
      "metadata": {
        "colab": {
          "base_uri": "https://localhost:8080/"
        },
        "id": "hUmZNbYCY9U1",
        "outputId": "2107bd67-6c9f-4334-be76-6c4667539b38"
      },
      "execution_count": null,
      "outputs": [
        {
          "output_type": "stream",
          "name": "stdout",
          "text": [
            "[]\n"
          ]
        }
      ]
    },
    {
      "cell_type": "code",
      "source": [
        "# JOIN JOIN JOIN\n",
        "\n",
        "df_patients = df_patients.merge(target, how='inner') #on='patient_day_ID',\n",
        "\n",
        "#df_patients = df_patients.set_index('patient_day_ID').join(target.set_index('patient_day_ID'))\n",
        "# unset the 'date' column as the index\n",
        "#df_patients = df_patients.reset_index(drop=False)\n",
        "\n",
        "\n",
        "\n",
        "\n",
        "#df_patients = df_patients.drop(['patient_ID_y'], axis=1)\n",
        "#df_patients = df_patients.rename(columns={'patient_ID_x': 'patient_ID'})\n",
        "\n",
        "print( 'We got {} patients, {} days-patients and {} rows in NEW data'.format(len(df_patients['patient_ID'].unique()),len(df_patients['patient_day_ID'].unique()), len(df_patients)) )\n",
        "\n",
        "list_dp_new = df_patients['patient_day_ID'].unique()\n",
        "# IT SHOULD BE NOT 20, BUT 22 !!!!!!!!!!!!!!!!!!!!!!!!!!!!!!!!!!!!!!!!!!!!!!!!!!!!!!!!!!!!!!!!!!!!!!!!!!!!!!!!!!!!!!!!!!!!!!!!!!!!!!!!!!!!!!!!!!!!!!!!!!!!!!!!!!!!!!!!!!!!!!!!!!!!!!!!"
      ],
      "metadata": {
        "id": "FlISG6xMiwp2",
        "colab": {
          "base_uri": "https://localhost:8080/"
        },
        "outputId": "9e5dc67a-035a-4406-aec9-d545b4fcb135"
      },
      "execution_count": null,
      "outputs": [
        {
          "output_type": "stream",
          "name": "stdout",
          "text": [
            "We got 22 patients, 58 days-patients and 1616238 rows in NEW data\n"
          ]
        }
      ]
    },
    {
      "cell_type": "code",
      "source": [
        "# Convert lists to sets\n",
        "set1 = set(list_dp)\n",
        "set2 = set(list_dp_new)\n",
        "\n",
        "# Find values in list1 but not in list2\n",
        "lost_values = set1 - set2\n",
        "\n",
        "# Convert the result back to a list if needed\n",
        "result_list = list(lost_values)\n",
        "\n",
        "# Printing the values not in list1\n",
        "print(result_list)"
      ],
      "metadata": {
        "colab": {
          "base_uri": "https://localhost:8080/"
        },
        "id": "hg4rPdE3X-lX",
        "outputId": "e3b87f10-7243-4b6b-8020-63249c5712ab"
      },
      "execution_count": null,
      "outputs": [
        {
          "output_type": "stream",
          "name": "stdout",
          "text": [
            "[]\n"
          ]
        }
      ]
    },
    {
      "cell_type": "code",
      "source": [
        "df_patients['patient_ID'].unique()"
      ],
      "metadata": {
        "id": "-X9ev7JbkoRe"
      },
      "execution_count": null,
      "outputs": []
    },
    {
      "cell_type": "code",
      "source": [
        "df_patients['seconds'] = df_patients['frame'] % 60\n",
        "df_patients = df_patients.drop(columns=['frame'])\n",
        "\n",
        "# #check if you do not have any extras (60s, 61sts)\n",
        "#df_patients['seconds'].value_counts()\n",
        "\n",
        "# #drop all rows where the value of the 'seconds' column is equal to 61 and 60\n",
        "#df_patients = df_patients.drop(df_patients [df_patients['seconds'] == 61].index)\n",
        "#df_patients = df_patients.drop(df_patients [df_patients['seconds'] == 60].index)\n",
        "df_patients.head()"
      ],
      "metadata": {
        "id": "eG-FegVVCrxw"
      },
      "execution_count": null,
      "outputs": []
    },
    {
      "cell_type": "code",
      "source": [
        "len(df_patients)"
      ],
      "metadata": {
        "colab": {
          "base_uri": "https://localhost:8080/"
        },
        "id": "dCpyGkFf-Dsy",
        "outputId": "c3f4f3d7-bc7e-4510-dafb-9065448a7332"
      },
      "execution_count": null,
      "outputs": [
        {
          "output_type": "execute_result",
          "data": {
            "text/plain": [
              "1616238"
            ]
          },
          "metadata": {},
          "execution_count": 33
        }
      ]
    },
    {
      "cell_type": "code",
      "source": [
        "df_patients['patient_day_ID'].unique()"
      ],
      "metadata": {
        "id": "IfxNDuvCbmeu"
      },
      "execution_count": null,
      "outputs": []
    },
    {
      "cell_type": "code",
      "source": [
        "len(df_patients['patient_day_ID'].unique())"
      ],
      "metadata": {
        "colab": {
          "base_uri": "https://localhost:8080/"
        },
        "id": "0SdaNzobbw-3",
        "outputId": "8e40cd96-ba02-4d84-f52b-93d1e624a84f"
      },
      "execution_count": null,
      "outputs": [
        {
          "output_type": "execute_result",
          "data": {
            "text/plain": [
              "58"
            ]
          },
          "metadata": {},
          "execution_count": 35
        }
      ]
    },
    {
      "cell_type": "code",
      "source": [
        "df_patients.dropna(subset=['day'], inplace=True)\n",
        "\n",
        "unique_values = df_patients['day'].isna().sum()\n",
        "print(unique_values)\n",
        "\n",
        "nan_rows = df_patients[df_patients['day'].isna()]\n",
        "print(nan_rows)"
      ],
      "metadata": {
        "id": "-kjuOorb4ZAV"
      },
      "execution_count": null,
      "outputs": []
    },
    {
      "cell_type": "code",
      "source": [
        "len(df_patients)"
      ],
      "metadata": {
        "colab": {
          "base_uri": "https://localhost:8080/"
        },
        "id": "e5R0zAaF-iI9",
        "outputId": "b5db0df3-9bb2-4cdb-add7-8cbe49488246"
      },
      "execution_count": null,
      "outputs": [
        {
          "output_type": "execute_result",
          "data": {
            "text/plain": [
              "1616238"
            ]
          },
          "metadata": {},
          "execution_count": 37
        }
      ]
    },
    {
      "cell_type": "code",
      "source": [
        "df_patients['date'] = df_patients['day'].astype(int).astype(str) + ' ' + df_patients['hour'].astype(int).astype(str) + ':' + df_patients['minute'].astype(int).astype(str) + ':' + df_patients['seconds'].astype(int).astype(str)\n",
        "df_patients.head(5)"
      ],
      "metadata": {
        "id": "Wu89DdgIAXmU"
      },
      "execution_count": null,
      "outputs": []
    },
    {
      "cell_type": "code",
      "source": [
        "# convert the string date column to datetime format\n",
        "df_patients['date'] = pd.to_datetime(df_patients['date'], format='%Y%m%d %H:%M:%S')\n",
        "\n",
        "# display the modified dataframe\n",
        "df_patients.head()\n",
        "#print(df_patients.dtypes)"
      ],
      "metadata": {
        "id": "KP-YjyniARSM"
      },
      "execution_count": null,
      "outputs": []
    },
    {
      "cell_type": "code",
      "source": [
        "# release the 'patient_ID' column as the index of the dataframe\n",
        "df_patients = df_patients.reset_index(drop=False)\n",
        "\n",
        "# set the 'date' column as the index of the dataframe\n",
        "df_patients.set_index('date', inplace=True)\n",
        "\n",
        "df_patients.head(5)"
      ],
      "metadata": {
        "id": "kc0aIZvCxcKI"
      },
      "execution_count": null,
      "outputs": []
    },
    {
      "cell_type": "code",
      "source": [
        "len(df_patients)"
      ],
      "metadata": {
        "colab": {
          "base_uri": "https://localhost:8080/"
        },
        "id": "Da81qtvEfisP",
        "outputId": "f16102e1-41e2-44ca-e136-d1666ff82f29"
      },
      "execution_count": null,
      "outputs": [
        {
          "output_type": "execute_result",
          "data": {
            "text/plain": [
              "1616238"
            ]
          },
          "metadata": {},
          "execution_count": 41
        }
      ]
    },
    {
      "cell_type": "code",
      "source": [
        "df_patients['L Motor Arm Score'].unique()"
      ],
      "metadata": {
        "colab": {
          "base_uri": "https://localhost:8080/"
        },
        "id": "sJcohuy9fiCI",
        "outputId": "761e3052-647e-4036-de8a-d7d9550c61a9"
      },
      "execution_count": null,
      "outputs": [
        {
          "output_type": "execute_result",
          "data": {
            "text/plain": [
              "array([ 4., nan,  3.,  0.,  2.,  1.])"
            ]
          },
          "metadata": {},
          "execution_count": 42
        }
      ]
    },
    {
      "cell_type": "code",
      "source": [
        "# Removing rows where 'L Motor Arm Score' is NaN\n",
        "df_patients = df_patients.dropna(subset=['L Motor Arm Score'])\n",
        "\n",
        "# Printing the DataFrame after removing rows with NaN values in 'L Motor Arm Score'\n",
        "len(df_patients)"
      ],
      "metadata": {
        "colab": {
          "base_uri": "https://localhost:8080/"
        },
        "id": "olPuj9S7fh2u",
        "outputId": "ed00157b-7a89-4be7-b409-2b648498af70"
      },
      "execution_count": null,
      "outputs": [
        {
          "output_type": "execute_result",
          "data": {
            "text/plain": [
              "1287670"
            ]
          },
          "metadata": {},
          "execution_count": 43
        }
      ]
    },
    {
      "cell_type": "code",
      "source": [
        "n_patients = len(df_patients['patient_ID'].unique())\n",
        "print( 'We have {} patients'.format(n_patients) )"
      ],
      "metadata": {
        "colab": {
          "base_uri": "https://localhost:8080/"
        },
        "id": "4zWsQYssfhRX",
        "outputId": "1f8b9ba9-65eb-4912-ee2b-6e622a2f556e"
      },
      "execution_count": null,
      "outputs": [
        {
          "output_type": "stream",
          "name": "stdout",
          "text": [
            "We have 22 patients\n"
          ]
        }
      ]
    },
    {
      "cell_type": "code",
      "source": [
        "# Define a custom function to map 'nihss' values to 'opposite-2'\n",
        "def map_class(nihss_value):\n",
        "    if nihss_value == 0:\n",
        "        return 0\n",
        "    elif 1 <= nihss_value <= 2:\n",
        "        return 1\n",
        "    elif 3 <= nihss_value <= 4:\n",
        "        return 2\n",
        "    else:\n",
        "        return None  # You can handle other cases as needed\n",
        "\n",
        "# Create the 'class-2' column based on the 'nihss' values\n",
        "df_patients['left-opposite-2'] =  df_patients['L Motor Arm Score'].apply(map_class)\n",
        "df_patients['right-opposite-2'] = df_patients['R Motor Arm Score'].apply(map_class)"
      ],
      "metadata": {
        "id": "0JShvchzuQow"
      },
      "execution_count": null,
      "outputs": []
    },
    {
      "cell_type": "code",
      "source": [
        "df_patients['right-opposite-2'].value_counts(normalize=False)"
      ],
      "metadata": {
        "colab": {
          "base_uri": "https://localhost:8080/"
        },
        "id": "DNpqaKGEvzMe",
        "outputId": "86a69d31-a3a8-40b1-8896-aad67d164dc7"
      },
      "execution_count": null,
      "outputs": [
        {
          "output_type": "execute_result",
          "data": {
            "text/plain": [
              "0    1038458\n",
              "1     198121\n",
              "2      51091\n",
              "Name: right-opposite-2, dtype: int64"
            ]
          },
          "metadata": {},
          "execution_count": 46
        }
      ]
    },
    {
      "cell_type": "code",
      "source": [
        "df_patients['right-opposite-2'].value_counts(normalize=True)"
      ],
      "metadata": {
        "colab": {
          "base_uri": "https://localhost:8080/"
        },
        "id": "eAvX5KEswA92",
        "outputId": "f1db9f7c-a9e5-4661-c0b4-b92c6a213157"
      },
      "execution_count": null,
      "outputs": [
        {
          "output_type": "execute_result",
          "data": {
            "text/plain": [
              "0    0.806463\n",
              "1    0.153860\n",
              "2    0.039677\n",
              "Name: right-opposite-2, dtype: float64"
            ]
          },
          "metadata": {},
          "execution_count": 47
        }
      ]
    },
    {
      "cell_type": "code",
      "source": [
        "# Create the 'class-2' column based on the 'nihss' values\n",
        "df_patients['left-2'] = df_patients['L Motor Arm Score'].apply(lambda x: '0' if x < 2 else '1')"
      ],
      "metadata": {
        "id": "UXarISyKtvCJ"
      },
      "execution_count": null,
      "outputs": []
    },
    {
      "cell_type": "code",
      "source": [
        "# Create the 'class-2' column based on the 'nihss' values\n",
        "df_patients['right-2'] = df_patients['R Motor Arm Score'].apply(lambda x: '0' if x < 2 else '1')\n",
        "\n",
        "#df_patients = df_patients.drop(['left-2', 'right-2'], axis=1)"
      ],
      "metadata": {
        "id": "W6o4rLB5vLPW"
      },
      "execution_count": null,
      "outputs": []
    },
    {
      "cell_type": "code",
      "source": [
        "# replace NaN/NA values in 'Weakness side' column with 'none'\n",
        "'''\n",
        "df_patients['Weakness side'].fillna('none', inplace=True)\n",
        "\n",
        "df_patients['Weakness side'].unique()\n",
        "'''"
      ],
      "metadata": {
        "colab": {
          "base_uri": "https://localhost:8080/",
          "height": 35
        },
        "id": "vy_tMPvVdAIv",
        "outputId": "7950afd6-e284-47fb-bbbe-1a11362d27c5"
      },
      "execution_count": null,
      "outputs": [
        {
          "output_type": "execute_result",
          "data": {
            "text/plain": [
              "\"\\ndf_patients['Weakness side'].fillna('none', inplace=True)\\n\\ndf_patients['Weakness side'].unique()\\n\""
            ],
            "application/vnd.google.colaboratory.intrinsic+json": {
              "type": "string"
            }
          },
          "metadata": {},
          "execution_count": 50
        }
      ]
    },
    {
      "cell_type": "code",
      "source": [
        "df_patients['left-2'].value_counts(normalize=True)"
      ],
      "metadata": {
        "colab": {
          "base_uri": "https://localhost:8080/"
        },
        "id": "Fb9mOtHzdCN4",
        "outputId": "46b40d03-2a6f-40e1-fd62-0e38d595841a"
      },
      "execution_count": null,
      "outputs": [
        {
          "output_type": "execute_result",
          "data": {
            "text/plain": [
              "0    0.534014\n",
              "1    0.465986\n",
              "Name: left-2, dtype: float64"
            ]
          },
          "metadata": {},
          "execution_count": 51
        }
      ]
    },
    {
      "cell_type": "code",
      "source": [
        "df_patients['left-2'].value_counts(normalize=False)"
      ],
      "metadata": {
        "colab": {
          "base_uri": "https://localhost:8080/"
        },
        "id": "butJxAlJhcA3",
        "outputId": "c49cfc95-6976-4e10-f241-11bc93a2b158"
      },
      "execution_count": null,
      "outputs": [
        {
          "output_type": "execute_result",
          "data": {
            "text/plain": [
              "0    687634\n",
              "1    600036\n",
              "Name: left-2, dtype: int64"
            ]
          },
          "metadata": {},
          "execution_count": 52
        }
      ]
    },
    {
      "cell_type": "code",
      "source": [
        "df_patients['right-2'].value_counts(normalize=True)"
      ],
      "metadata": {
        "id": "-t3s5nI3bfLz",
        "colab": {
          "base_uri": "https://localhost:8080/"
        },
        "outputId": "3d82a7bc-de66-4995-ad46-c1e3d981d0c2"
      },
      "execution_count": null,
      "outputs": [
        {
          "output_type": "execute_result",
          "data": {
            "text/plain": [
              "0    0.878914\n",
              "1    0.121086\n",
              "Name: right-2, dtype: float64"
            ]
          },
          "metadata": {},
          "execution_count": 53
        }
      ]
    },
    {
      "cell_type": "code",
      "source": [
        "df_patients['right-2'].value_counts(normalize=False)"
      ],
      "metadata": {
        "id": "E872fNG4bfeZ",
        "colab": {
          "base_uri": "https://localhost:8080/"
        },
        "outputId": "c8548668-e097-424e-f5c3-3c86a42fd5a2"
      },
      "execution_count": null,
      "outputs": [
        {
          "output_type": "execute_result",
          "data": {
            "text/plain": [
              "0    1131751\n",
              "1     155919\n",
              "Name: right-2, dtype: int64"
            ]
          },
          "metadata": {},
          "execution_count": 54
        }
      ]
    },
    {
      "cell_type": "code",
      "source": [
        "# remove rows where 'Weakness side' equals 'none'\n",
        "'''\n",
        "df_patients = df_patients[df_patients['Weakness side'] != 'none']\n",
        "'''"
      ],
      "metadata": {
        "id": "7RFPjmvS9r_5",
        "colab": {
          "base_uri": "https://localhost:8080/",
          "height": 35
        },
        "outputId": "daab7795-0fde-406c-ad62-a91f4e8afa82"
      },
      "execution_count": null,
      "outputs": [
        {
          "output_type": "execute_result",
          "data": {
            "text/plain": [
              "\"\\ndf_patients = df_patients[df_patients['Weakness side'] != 'none']\\n\""
            ],
            "application/vnd.google.colaboratory.intrinsic+json": {
              "type": "string"
            }
          },
          "metadata": {},
          "execution_count": 55
        }
      ]
    },
    {
      "cell_type": "code",
      "source": [
        "# select all rows related to specific patient using the 'patient_ID' index-column\n",
        "'''\n",
        "df_select = df_patients.loc[  df_patients['patient_ID'] == 'DD_18'].copy()\n",
        "\n",
        "test = df_select.copy(deep=True)\n",
        "test = test.reset_index(drop=False)\n",
        "test.plot(x = 'date', y='r_degr', figsize=(10, 6), title='Signal vs. Time')\n",
        "#test.set_index('date', inplace=True)\n",
        "\n",
        "# pandas.Series.between() function Using two dates\n",
        "A = '2021-03-20 00:00'\n",
        "B = '2021-03-23 23:00'\n",
        "test2 = test.loc[ test[ \"date\" ].between(A, B) ]\n",
        "len(test2)\n",
        "\n",
        "test2.plot(x = 'date', y='r_degr', figsize=(10, 6), title='Signal vs. Time')\n",
        "\n",
        "\n",
        "\n",
        "test2.set_index('date', inplace=True)\n",
        "test2.loc[ '2021-03-21 10:57:50' : '2021-03-21 10:58:20'].head()\n",
        "#test2 = test2.reset_index(drop=False)\n",
        "'''\n",
        "\n",
        "#del test\n",
        "#del test2\n",
        "#del df_select"
      ],
      "metadata": {
        "id": "RPnkaQNKFc49"
      },
      "execution_count": null,
      "outputs": []
    },
    {
      "cell_type": "code",
      "source": [
        "df_patients[['r_degr','l_degr']].head()"
      ],
      "metadata": {
        "colab": {
          "base_uri": "https://localhost:8080/",
          "height": 237
        },
        "id": "YJ9b7rfu4X_A",
        "outputId": "5ac35d9b-1cda-46a6-e1d5-405c5a099187"
      },
      "execution_count": null,
      "outputs": [
        {
          "output_type": "execute_result",
          "data": {
            "text/plain": [
              "                         r_degr      l_degr\n",
              "date                                       \n",
              "2021-03-21 10:58:00   42.648365   16.162420\n",
              "2021-03-21 10:58:01  106.354965   24.933796\n",
              "2021-03-21 10:58:02   35.893456   76.392070\n",
              "2021-03-21 10:58:03   77.275696  122.574170\n",
              "2021-03-21 10:58:04   32.604126   24.079634"
            ],
            "text/html": [
              "\n",
              "\n",
              "  <div id=\"df-8c2d1d86-0543-49ea-9c27-339cfd36cd0f\">\n",
              "    <div class=\"colab-df-container\">\n",
              "      <div>\n",
              "<style scoped>\n",
              "    .dataframe tbody tr th:only-of-type {\n",
              "        vertical-align: middle;\n",
              "    }\n",
              "\n",
              "    .dataframe tbody tr th {\n",
              "        vertical-align: top;\n",
              "    }\n",
              "\n",
              "    .dataframe thead th {\n",
              "        text-align: right;\n",
              "    }\n",
              "</style>\n",
              "<table border=\"1\" class=\"dataframe\">\n",
              "  <thead>\n",
              "    <tr style=\"text-align: right;\">\n",
              "      <th></th>\n",
              "      <th>r_degr</th>\n",
              "      <th>l_degr</th>\n",
              "    </tr>\n",
              "    <tr>\n",
              "      <th>date</th>\n",
              "      <th></th>\n",
              "      <th></th>\n",
              "    </tr>\n",
              "  </thead>\n",
              "  <tbody>\n",
              "    <tr>\n",
              "      <th>2021-03-21 10:58:00</th>\n",
              "      <td>42.648365</td>\n",
              "      <td>16.162420</td>\n",
              "    </tr>\n",
              "    <tr>\n",
              "      <th>2021-03-21 10:58:01</th>\n",
              "      <td>106.354965</td>\n",
              "      <td>24.933796</td>\n",
              "    </tr>\n",
              "    <tr>\n",
              "      <th>2021-03-21 10:58:02</th>\n",
              "      <td>35.893456</td>\n",
              "      <td>76.392070</td>\n",
              "    </tr>\n",
              "    <tr>\n",
              "      <th>2021-03-21 10:58:03</th>\n",
              "      <td>77.275696</td>\n",
              "      <td>122.574170</td>\n",
              "    </tr>\n",
              "    <tr>\n",
              "      <th>2021-03-21 10:58:04</th>\n",
              "      <td>32.604126</td>\n",
              "      <td>24.079634</td>\n",
              "    </tr>\n",
              "  </tbody>\n",
              "</table>\n",
              "</div>\n",
              "      <button class=\"colab-df-convert\" onclick=\"convertToInteractive('df-8c2d1d86-0543-49ea-9c27-339cfd36cd0f')\"\n",
              "              title=\"Convert this dataframe to an interactive table.\"\n",
              "              style=\"display:none;\">\n",
              "\n",
              "  <svg xmlns=\"http://www.w3.org/2000/svg\" height=\"24px\"viewBox=\"0 0 24 24\"\n",
              "       width=\"24px\">\n",
              "    <path d=\"M0 0h24v24H0V0z\" fill=\"none\"/>\n",
              "    <path d=\"M18.56 5.44l.94 2.06.94-2.06 2.06-.94-2.06-.94-.94-2.06-.94 2.06-2.06.94zm-11 1L8.5 8.5l.94-2.06 2.06-.94-2.06-.94L8.5 2.5l-.94 2.06-2.06.94zm10 10l.94 2.06.94-2.06 2.06-.94-2.06-.94-.94-2.06-.94 2.06-2.06.94z\"/><path d=\"M17.41 7.96l-1.37-1.37c-.4-.4-.92-.59-1.43-.59-.52 0-1.04.2-1.43.59L10.3 9.45l-7.72 7.72c-.78.78-.78 2.05 0 2.83L4 21.41c.39.39.9.59 1.41.59.51 0 1.02-.2 1.41-.59l7.78-7.78 2.81-2.81c.8-.78.8-2.07 0-2.86zM5.41 20L4 18.59l7.72-7.72 1.47 1.35L5.41 20z\"/>\n",
              "  </svg>\n",
              "      </button>\n",
              "\n",
              "\n",
              "\n",
              "    <div id=\"df-d60f7047-7888-4b33-b610-896ca1b13579\">\n",
              "      <button class=\"colab-df-quickchart\" onclick=\"quickchart('df-d60f7047-7888-4b33-b610-896ca1b13579')\"\n",
              "              title=\"Suggest charts.\"\n",
              "              style=\"display:none;\">\n",
              "\n",
              "<svg xmlns=\"http://www.w3.org/2000/svg\" height=\"24px\"viewBox=\"0 0 24 24\"\n",
              "     width=\"24px\">\n",
              "    <g>\n",
              "        <path d=\"M19 3H5c-1.1 0-2 .9-2 2v14c0 1.1.9 2 2 2h14c1.1 0 2-.9 2-2V5c0-1.1-.9-2-2-2zM9 17H7v-7h2v7zm4 0h-2V7h2v10zm4 0h-2v-4h2v4z\"/>\n",
              "    </g>\n",
              "</svg>\n",
              "      </button>\n",
              "    </div>\n",
              "\n",
              "<style>\n",
              "  .colab-df-quickchart {\n",
              "    background-color: #E8F0FE;\n",
              "    border: none;\n",
              "    border-radius: 50%;\n",
              "    cursor: pointer;\n",
              "    display: none;\n",
              "    fill: #1967D2;\n",
              "    height: 32px;\n",
              "    padding: 0 0 0 0;\n",
              "    width: 32px;\n",
              "  }\n",
              "\n",
              "  .colab-df-quickchart:hover {\n",
              "    background-color: #E2EBFA;\n",
              "    box-shadow: 0px 1px 2px rgba(60, 64, 67, 0.3), 0px 1px 3px 1px rgba(60, 64, 67, 0.15);\n",
              "    fill: #174EA6;\n",
              "  }\n",
              "\n",
              "  [theme=dark] .colab-df-quickchart {\n",
              "    background-color: #3B4455;\n",
              "    fill: #D2E3FC;\n",
              "  }\n",
              "\n",
              "  [theme=dark] .colab-df-quickchart:hover {\n",
              "    background-color: #434B5C;\n",
              "    box-shadow: 0px 1px 3px 1px rgba(0, 0, 0, 0.15);\n",
              "    filter: drop-shadow(0px 1px 2px rgba(0, 0, 0, 0.3));\n",
              "    fill: #FFFFFF;\n",
              "  }\n",
              "</style>\n",
              "\n",
              "    <script>\n",
              "      async function quickchart(key) {\n",
              "        const containerElement = document.querySelector('#' + key);\n",
              "        const charts = await google.colab.kernel.invokeFunction(\n",
              "            'suggestCharts', [key], {});\n",
              "      }\n",
              "    </script>\n",
              "\n",
              "      <script>\n",
              "\n",
              "function displayQuickchartButton(domScope) {\n",
              "  let quickchartButtonEl =\n",
              "    domScope.querySelector('#df-d60f7047-7888-4b33-b610-896ca1b13579 button.colab-df-quickchart');\n",
              "  quickchartButtonEl.style.display =\n",
              "    google.colab.kernel.accessAllowed ? 'block' : 'none';\n",
              "}\n",
              "\n",
              "        displayQuickchartButton(document);\n",
              "      </script>\n",
              "      <style>\n",
              "    .colab-df-container {\n",
              "      display:flex;\n",
              "      flex-wrap:wrap;\n",
              "      gap: 12px;\n",
              "    }\n",
              "\n",
              "    .colab-df-convert {\n",
              "      background-color: #E8F0FE;\n",
              "      border: none;\n",
              "      border-radius: 50%;\n",
              "      cursor: pointer;\n",
              "      display: none;\n",
              "      fill: #1967D2;\n",
              "      height: 32px;\n",
              "      padding: 0 0 0 0;\n",
              "      width: 32px;\n",
              "    }\n",
              "\n",
              "    .colab-df-convert:hover {\n",
              "      background-color: #E2EBFA;\n",
              "      box-shadow: 0px 1px 2px rgba(60, 64, 67, 0.3), 0px 1px 3px 1px rgba(60, 64, 67, 0.15);\n",
              "      fill: #174EA6;\n",
              "    }\n",
              "\n",
              "    [theme=dark] .colab-df-convert {\n",
              "      background-color: #3B4455;\n",
              "      fill: #D2E3FC;\n",
              "    }\n",
              "\n",
              "    [theme=dark] .colab-df-convert:hover {\n",
              "      background-color: #434B5C;\n",
              "      box-shadow: 0px 1px 3px 1px rgba(0, 0, 0, 0.15);\n",
              "      filter: drop-shadow(0px 1px 2px rgba(0, 0, 0, 0.3));\n",
              "      fill: #FFFFFF;\n",
              "    }\n",
              "  </style>\n",
              "\n",
              "      <script>\n",
              "        const buttonEl =\n",
              "          document.querySelector('#df-8c2d1d86-0543-49ea-9c27-339cfd36cd0f button.colab-df-convert');\n",
              "        buttonEl.style.display =\n",
              "          google.colab.kernel.accessAllowed ? 'block' : 'none';\n",
              "\n",
              "        async function convertToInteractive(key) {\n",
              "          const element = document.querySelector('#df-8c2d1d86-0543-49ea-9c27-339cfd36cd0f');\n",
              "          const dataTable =\n",
              "            await google.colab.kernel.invokeFunction('convertToInteractive',\n",
              "                                                     [key], {});\n",
              "          if (!dataTable) return;\n",
              "\n",
              "          const docLinkHtml = 'Like what you see? Visit the ' +\n",
              "            '<a target=\"_blank\" href=https://colab.research.google.com/notebooks/data_table.ipynb>data table notebook</a>'\n",
              "            + ' to learn more about interactive tables.';\n",
              "          element.innerHTML = '';\n",
              "          dataTable['output_type'] = 'display_data';\n",
              "          await google.colab.output.renderOutput(dataTable, element);\n",
              "          const docLink = document.createElement('div');\n",
              "          docLink.innerHTML = docLinkHtml;\n",
              "          element.appendChild(docLink);\n",
              "        }\n",
              "      </script>\n",
              "    </div>\n",
              "  </div>\n"
            ]
          },
          "metadata": {},
          "execution_count": 57
        }
      ]
    },
    {
      "cell_type": "code",
      "source": [
        "# this block should work ONLY if you work with old data\n",
        "# do NOT run this block if you have recorded newly aquired (after May 2023) data\n",
        "# we had a mistake: we confused left and right angle at the preprocessing phase (it was adjusted in the last version)\n",
        "df_patients = df_patients.rename(columns={'r_degr': 'l_degr', 'l_degr': 'r_degr'})\n",
        "df_patients[['r_degr','l_degr']].head()"
      ],
      "metadata": {
        "colab": {
          "base_uri": "https://localhost:8080/",
          "height": 237
        },
        "id": "WG-DM5I2XhlF",
        "outputId": "9cb4b049-8f68-40e6-907d-019a61a91bc1"
      },
      "execution_count": null,
      "outputs": [
        {
          "output_type": "execute_result",
          "data": {
            "text/plain": [
              "                         r_degr      l_degr\n",
              "date                                       \n",
              "2021-03-21 10:58:00   16.162420   42.648365\n",
              "2021-03-21 10:58:01   24.933796  106.354965\n",
              "2021-03-21 10:58:02   76.392070   35.893456\n",
              "2021-03-21 10:58:03  122.574170   77.275696\n",
              "2021-03-21 10:58:04   24.079634   32.604126"
            ],
            "text/html": [
              "\n",
              "\n",
              "  <div id=\"df-cef2bbcb-b61d-41ed-828f-ce8b23b68867\">\n",
              "    <div class=\"colab-df-container\">\n",
              "      <div>\n",
              "<style scoped>\n",
              "    .dataframe tbody tr th:only-of-type {\n",
              "        vertical-align: middle;\n",
              "    }\n",
              "\n",
              "    .dataframe tbody tr th {\n",
              "        vertical-align: top;\n",
              "    }\n",
              "\n",
              "    .dataframe thead th {\n",
              "        text-align: right;\n",
              "    }\n",
              "</style>\n",
              "<table border=\"1\" class=\"dataframe\">\n",
              "  <thead>\n",
              "    <tr style=\"text-align: right;\">\n",
              "      <th></th>\n",
              "      <th>r_degr</th>\n",
              "      <th>l_degr</th>\n",
              "    </tr>\n",
              "    <tr>\n",
              "      <th>date</th>\n",
              "      <th></th>\n",
              "      <th></th>\n",
              "    </tr>\n",
              "  </thead>\n",
              "  <tbody>\n",
              "    <tr>\n",
              "      <th>2021-03-21 10:58:00</th>\n",
              "      <td>16.162420</td>\n",
              "      <td>42.648365</td>\n",
              "    </tr>\n",
              "    <tr>\n",
              "      <th>2021-03-21 10:58:01</th>\n",
              "      <td>24.933796</td>\n",
              "      <td>106.354965</td>\n",
              "    </tr>\n",
              "    <tr>\n",
              "      <th>2021-03-21 10:58:02</th>\n",
              "      <td>76.392070</td>\n",
              "      <td>35.893456</td>\n",
              "    </tr>\n",
              "    <tr>\n",
              "      <th>2021-03-21 10:58:03</th>\n",
              "      <td>122.574170</td>\n",
              "      <td>77.275696</td>\n",
              "    </tr>\n",
              "    <tr>\n",
              "      <th>2021-03-21 10:58:04</th>\n",
              "      <td>24.079634</td>\n",
              "      <td>32.604126</td>\n",
              "    </tr>\n",
              "  </tbody>\n",
              "</table>\n",
              "</div>\n",
              "      <button class=\"colab-df-convert\" onclick=\"convertToInteractive('df-cef2bbcb-b61d-41ed-828f-ce8b23b68867')\"\n",
              "              title=\"Convert this dataframe to an interactive table.\"\n",
              "              style=\"display:none;\">\n",
              "\n",
              "  <svg xmlns=\"http://www.w3.org/2000/svg\" height=\"24px\"viewBox=\"0 0 24 24\"\n",
              "       width=\"24px\">\n",
              "    <path d=\"M0 0h24v24H0V0z\" fill=\"none\"/>\n",
              "    <path d=\"M18.56 5.44l.94 2.06.94-2.06 2.06-.94-2.06-.94-.94-2.06-.94 2.06-2.06.94zm-11 1L8.5 8.5l.94-2.06 2.06-.94-2.06-.94L8.5 2.5l-.94 2.06-2.06.94zm10 10l.94 2.06.94-2.06 2.06-.94-2.06-.94-.94-2.06-.94 2.06-2.06.94z\"/><path d=\"M17.41 7.96l-1.37-1.37c-.4-.4-.92-.59-1.43-.59-.52 0-1.04.2-1.43.59L10.3 9.45l-7.72 7.72c-.78.78-.78 2.05 0 2.83L4 21.41c.39.39.9.59 1.41.59.51 0 1.02-.2 1.41-.59l7.78-7.78 2.81-2.81c.8-.78.8-2.07 0-2.86zM5.41 20L4 18.59l7.72-7.72 1.47 1.35L5.41 20z\"/>\n",
              "  </svg>\n",
              "      </button>\n",
              "\n",
              "\n",
              "\n",
              "    <div id=\"df-3acef700-c747-4ff9-84e6-6843c37b2881\">\n",
              "      <button class=\"colab-df-quickchart\" onclick=\"quickchart('df-3acef700-c747-4ff9-84e6-6843c37b2881')\"\n",
              "              title=\"Suggest charts.\"\n",
              "              style=\"display:none;\">\n",
              "\n",
              "<svg xmlns=\"http://www.w3.org/2000/svg\" height=\"24px\"viewBox=\"0 0 24 24\"\n",
              "     width=\"24px\">\n",
              "    <g>\n",
              "        <path d=\"M19 3H5c-1.1 0-2 .9-2 2v14c0 1.1.9 2 2 2h14c1.1 0 2-.9 2-2V5c0-1.1-.9-2-2-2zM9 17H7v-7h2v7zm4 0h-2V7h2v10zm4 0h-2v-4h2v4z\"/>\n",
              "    </g>\n",
              "</svg>\n",
              "      </button>\n",
              "    </div>\n",
              "\n",
              "<style>\n",
              "  .colab-df-quickchart {\n",
              "    background-color: #E8F0FE;\n",
              "    border: none;\n",
              "    border-radius: 50%;\n",
              "    cursor: pointer;\n",
              "    display: none;\n",
              "    fill: #1967D2;\n",
              "    height: 32px;\n",
              "    padding: 0 0 0 0;\n",
              "    width: 32px;\n",
              "  }\n",
              "\n",
              "  .colab-df-quickchart:hover {\n",
              "    background-color: #E2EBFA;\n",
              "    box-shadow: 0px 1px 2px rgba(60, 64, 67, 0.3), 0px 1px 3px 1px rgba(60, 64, 67, 0.15);\n",
              "    fill: #174EA6;\n",
              "  }\n",
              "\n",
              "  [theme=dark] .colab-df-quickchart {\n",
              "    background-color: #3B4455;\n",
              "    fill: #D2E3FC;\n",
              "  }\n",
              "\n",
              "  [theme=dark] .colab-df-quickchart:hover {\n",
              "    background-color: #434B5C;\n",
              "    box-shadow: 0px 1px 3px 1px rgba(0, 0, 0, 0.15);\n",
              "    filter: drop-shadow(0px 1px 2px rgba(0, 0, 0, 0.3));\n",
              "    fill: #FFFFFF;\n",
              "  }\n",
              "</style>\n",
              "\n",
              "    <script>\n",
              "      async function quickchart(key) {\n",
              "        const containerElement = document.querySelector('#' + key);\n",
              "        const charts = await google.colab.kernel.invokeFunction(\n",
              "            'suggestCharts', [key], {});\n",
              "      }\n",
              "    </script>\n",
              "\n",
              "      <script>\n",
              "\n",
              "function displayQuickchartButton(domScope) {\n",
              "  let quickchartButtonEl =\n",
              "    domScope.querySelector('#df-3acef700-c747-4ff9-84e6-6843c37b2881 button.colab-df-quickchart');\n",
              "  quickchartButtonEl.style.display =\n",
              "    google.colab.kernel.accessAllowed ? 'block' : 'none';\n",
              "}\n",
              "\n",
              "        displayQuickchartButton(document);\n",
              "      </script>\n",
              "      <style>\n",
              "    .colab-df-container {\n",
              "      display:flex;\n",
              "      flex-wrap:wrap;\n",
              "      gap: 12px;\n",
              "    }\n",
              "\n",
              "    .colab-df-convert {\n",
              "      background-color: #E8F0FE;\n",
              "      border: none;\n",
              "      border-radius: 50%;\n",
              "      cursor: pointer;\n",
              "      display: none;\n",
              "      fill: #1967D2;\n",
              "      height: 32px;\n",
              "      padding: 0 0 0 0;\n",
              "      width: 32px;\n",
              "    }\n",
              "\n",
              "    .colab-df-convert:hover {\n",
              "      background-color: #E2EBFA;\n",
              "      box-shadow: 0px 1px 2px rgba(60, 64, 67, 0.3), 0px 1px 3px 1px rgba(60, 64, 67, 0.15);\n",
              "      fill: #174EA6;\n",
              "    }\n",
              "\n",
              "    [theme=dark] .colab-df-convert {\n",
              "      background-color: #3B4455;\n",
              "      fill: #D2E3FC;\n",
              "    }\n",
              "\n",
              "    [theme=dark] .colab-df-convert:hover {\n",
              "      background-color: #434B5C;\n",
              "      box-shadow: 0px 1px 3px 1px rgba(0, 0, 0, 0.15);\n",
              "      filter: drop-shadow(0px 1px 2px rgba(0, 0, 0, 0.3));\n",
              "      fill: #FFFFFF;\n",
              "    }\n",
              "  </style>\n",
              "\n",
              "      <script>\n",
              "        const buttonEl =\n",
              "          document.querySelector('#df-cef2bbcb-b61d-41ed-828f-ce8b23b68867 button.colab-df-convert');\n",
              "        buttonEl.style.display =\n",
              "          google.colab.kernel.accessAllowed ? 'block' : 'none';\n",
              "\n",
              "        async function convertToInteractive(key) {\n",
              "          const element = document.querySelector('#df-cef2bbcb-b61d-41ed-828f-ce8b23b68867');\n",
              "          const dataTable =\n",
              "            await google.colab.kernel.invokeFunction('convertToInteractive',\n",
              "                                                     [key], {});\n",
              "          if (!dataTable) return;\n",
              "\n",
              "          const docLinkHtml = 'Like what you see? Visit the ' +\n",
              "            '<a target=\"_blank\" href=https://colab.research.google.com/notebooks/data_table.ipynb>data table notebook</a>'\n",
              "            + ' to learn more about interactive tables.';\n",
              "          element.innerHTML = '';\n",
              "          dataTable['output_type'] = 'display_data';\n",
              "          await google.colab.output.renderOutput(dataTable, element);\n",
              "          const docLink = document.createElement('div');\n",
              "          docLink.innerHTML = docLinkHtml;\n",
              "          element.appendChild(docLink);\n",
              "        }\n",
              "      </script>\n",
              "    </div>\n",
              "  </div>\n"
            ]
          },
          "metadata": {},
          "execution_count": 58
        }
      ]
    },
    {
      "cell_type": "code",
      "source": [
        "def highlight_fragments(dataframe, allowed_missing_seconds, if_message):\n",
        "    # allowed_missing_seconds: if a difference between timedate in \"time_diff\" column for consequent frames is bigger, we consider the next frame to be the new fragment\n",
        "\n",
        "    dataframe['time_diff'] = abs(dataframe['date'].diff() )\n",
        "    dataframe['fragment']  = (dataframe['time_diff'] >= pd.Timedelta(seconds = allowed_missing_seconds) ).cumsum()\n",
        "    dataframe = dataframe.drop( columns=['time_diff'] )\n",
        "\n",
        "    if(if_message):\n",
        "        print('The number of separated fragments: ', len(dataframe['fragment'].unique()))\n",
        "\n",
        "    return dataframe"
      ],
      "metadata": {
        "id": "HyC8O4vdBatH"
      },
      "execution_count": null,
      "outputs": []
    },
    {
      "cell_type": "code",
      "source": [
        "df_patients = df_patients.reset_index(drop=False)\n",
        "df_patients = highlight_fragments( df_patients, 300, if_message=True)\n",
        "#df_patients.head()"
      ],
      "metadata": {
        "id": "HRg3GO4DeVuN",
        "colab": {
          "base_uri": "https://localhost:8080/"
        },
        "outputId": "7517fbe8-2acd-4c26-905a-86f114d66a09"
      },
      "execution_count": null,
      "outputs": [
        {
          "output_type": "stream",
          "name": "stdout",
          "text": [
            "The number of separated fragments:  85\n"
          ]
        }
      ]
    },
    {
      "cell_type": "code",
      "source": [
        "len(df_patients)"
      ],
      "metadata": {
        "colab": {
          "base_uri": "https://localhost:8080/"
        },
        "id": "hMPxdfhe9HYF",
        "outputId": "65899505-694a-4933-fffb-c384e6037d09"
      },
      "execution_count": null,
      "outputs": [
        {
          "output_type": "execute_result",
          "data": {
            "text/plain": [
              "1287670"
            ]
          },
          "metadata": {},
          "execution_count": 61
        }
      ]
    },
    {
      "cell_type": "code",
      "source": [
        "# Calculate the number of occurrences of each class in the \"fragment\" column and print them out\n",
        "fragment_counts = df_patients['fragment'].value_counts()\n",
        "print( fragment_counts.sort_values() )"
      ],
      "metadata": {
        "colab": {
          "base_uri": "https://localhost:8080/"
        },
        "id": "b1RDUvmUdTpt",
        "outputId": "4f468ccd-bf87-4aae-ddf7-f930921a210f"
      },
      "execution_count": null,
      "outputs": [
        {
          "output_type": "stream",
          "name": "stdout",
          "text": [
            "42       61\n",
            "36      400\n",
            "40      671\n",
            "32      840\n",
            "17      960\n",
            "      ...  \n",
            "77    47566\n",
            "63    50506\n",
            "53    50924\n",
            "61    56998\n",
            "82    60541\n",
            "Name: fragment, Length: 85, dtype: int64\n"
          ]
        }
      ]
    },
    {
      "cell_type": "code",
      "source": [
        "fragments_to_remove = fragment_counts[fragment_counts < 1000].index.tolist()"
      ],
      "metadata": {
        "id": "I8lw9VjjF7Lp"
      },
      "execution_count": null,
      "outputs": []
    },
    {
      "cell_type": "code",
      "source": [
        "df_patients = df_patients.loc[~df_patients['fragment'].isin(fragments_to_remove)]\n",
        "len(df_patients)"
      ],
      "metadata": {
        "colab": {
          "base_uri": "https://localhost:8080/"
        },
        "id": "Ta9xdcSQDxe_",
        "outputId": "50a08651-2a2d-4e30-d8a8-3e2337d19e0c"
      },
      "execution_count": null,
      "outputs": [
        {
          "output_type": "execute_result",
          "data": {
            "text/plain": [
              "1284738"
            ]
          },
          "metadata": {},
          "execution_count": 64
        }
      ]
    },
    {
      "cell_type": "code",
      "source": [
        "print('The new number of separated fragments: ', len(df_patients['fragment'].unique()))"
      ],
      "metadata": {
        "colab": {
          "base_uri": "https://localhost:8080/"
        },
        "id": "yNIKJWxB58Hl",
        "outputId": "411a4d94-8280-4c56-922a-8f8fdcf12978"
      },
      "execution_count": null,
      "outputs": [
        {
          "output_type": "stream",
          "name": "stdout",
          "text": [
            "The new number of separated fragments:  80\n"
          ]
        }
      ]
    },
    {
      "cell_type": "code",
      "source": [
        "#fragment_counts = fragment_counts[fragment_counts > 1000]\n",
        "fragment_counts = df_patients['fragment'].value_counts()\n",
        "print( fragment_counts.sort_values() )"
      ],
      "metadata": {
        "colab": {
          "base_uri": "https://localhost:8080/"
        },
        "id": "9XtkPKG7dk18",
        "outputId": "971e6339-f037-4e31-faa2-29c978646a38"
      },
      "execution_count": null,
      "outputs": [
        {
          "output_type": "stream",
          "name": "stdout",
          "text": [
            "41     1098\n",
            "70     1220\n",
            "39     1281\n",
            "84     1641\n",
            "10     1668\n",
            "      ...  \n",
            "77    47566\n",
            "63    50506\n",
            "53    50924\n",
            "61    56998\n",
            "82    60541\n",
            "Name: fragment, Length: 80, dtype: int64\n"
          ]
        }
      ]
    },
    {
      "cell_type": "code",
      "source": [
        "# group the dataframe by \"fragment\" and count the number of unique values in \"weakness\"\n",
        "# filter the dataframe to include only fragments with more than 1 unique value of weakness\n",
        "\n",
        "'''\n",
        "fragment_weakness_counts = df_patients.groupby('fragment')['Weakness side'].nunique()\n",
        "##fragment_weakness_counts.to_csv('fragments.txt', sep='\\t', header=True, index=True)\n",
        "\n",
        "fragments_with_multiple_weakness = fragment_weakness_counts[fragment_weakness_counts > 1].index.tolist()\n",
        "\n",
        "print(fragments_with_multiple_weakness)\n",
        "'''"
      ],
      "metadata": {
        "colab": {
          "base_uri": "https://localhost:8080/",
          "height": 53
        },
        "id": "VTE0b-n5AxGz",
        "outputId": "aa48a1a7-7711-4995-9692-a4cdc72631fe"
      },
      "execution_count": null,
      "outputs": [
        {
          "output_type": "execute_result",
          "data": {
            "text/plain": [
              "\"\\nfragment_weakness_counts = df_patients.groupby('fragment')['Weakness side'].nunique()\\n##fragment_weakness_counts.to_csv('fragments.txt', sep='\\t', header=True, index=True)\\n\\nfragments_with_multiple_weakness = fragment_weakness_counts[fragment_weakness_counts > 1].index.tolist()\\n\\nprint(fragments_with_multiple_weakness)\\n\""
            ],
            "application/vnd.google.colaboratory.intrinsic+json": {
              "type": "string"
            }
          },
          "metadata": {},
          "execution_count": 67
        }
      ]
    },
    {
      "cell_type": "code",
      "source": [
        "# Define a custom function to cut each class to be a multiple of 1000\n",
        "def cut_to_multiple_of_1000(df):\n",
        "    return df.iloc[:len(df) // 1000 * 1000]\n",
        "\n",
        "# Group the dataframe by \"class\" and apply the custom function to each group\n",
        "df_cut = df_patients.groupby('fragment').apply(cut_to_multiple_of_1000).reset_index(drop=True)"
      ],
      "metadata": {
        "id": "GgztRePEQ1aG"
      },
      "execution_count": null,
      "outputs": []
    },
    {
      "cell_type": "code",
      "source": [
        "# Calculate the number of occurrences of each class in the \"fragment\" column and print them out\n",
        "fragment_counts = df_cut['fragment'].value_counts()\n",
        "print( fragment_counts.sort_values() )"
      ],
      "metadata": {
        "colab": {
          "base_uri": "https://localhost:8080/"
        },
        "id": "KvAv5i9CQ09S",
        "outputId": "ba788290-b82e-40c1-cd90-1928e70852e0"
      },
      "execution_count": null,
      "outputs": [
        {
          "output_type": "stream",
          "name": "stdout",
          "text": [
            "84     1000\n",
            "70     1000\n",
            "68     1000\n",
            "10     1000\n",
            "41     1000\n",
            "      ...  \n",
            "77    47000\n",
            "53    50000\n",
            "63    50000\n",
            "61    56000\n",
            "82    60000\n",
            "Name: fragment, Length: 80, dtype: int64\n"
          ]
        }
      ]
    },
    {
      "cell_type": "code",
      "source": [
        "  fragment_counts[76]"
      ],
      "metadata": {
        "colab": {
          "base_uri": "https://localhost:8080/"
        },
        "id": "zJOPF9AQYYdd",
        "outputId": "2202e4cb-407d-4d89-89cf-f87a42704cc4"
      },
      "execution_count": null,
      "outputs": [
        {
          "output_type": "execute_result",
          "data": {
            "text/plain": [
              "27000"
            ]
          },
          "metadata": {},
          "execution_count": 70
        }
      ]
    },
    {
      "cell_type": "code",
      "source": [
        "num_columns = df_cut.shape[1]\n",
        "\n",
        "print(f\"The DataFrame has {num_columns} columns.\")"
      ],
      "metadata": {
        "colab": {
          "base_uri": "https://localhost:8080/"
        },
        "id": "X96I7AcdRt06",
        "outputId": "9af70a70-8cdb-45c9-812e-752000f3f40a"
      },
      "execution_count": null,
      "outputs": [
        {
          "output_type": "stream",
          "name": "stdout",
          "text": [
            "The DataFrame has 57 columns.\n"
          ]
        }
      ]
    },
    {
      "cell_type": "code",
      "source": [
        "len(df_cut)"
      ],
      "metadata": {
        "colab": {
          "base_uri": "https://localhost:8080/"
        },
        "id": "WMIuT69cSK4f",
        "outputId": "84a42d7c-25d4-4e44-ed23-529182ce007d"
      },
      "execution_count": null,
      "outputs": [
        {
          "output_type": "execute_result",
          "data": {
            "text/plain": [
              "1242000"
            ]
          },
          "metadata": {},
          "execution_count": 72
        }
      ]
    },
    {
      "cell_type": "code",
      "source": [
        "df_cut.head(3)"
      ],
      "metadata": {
        "id": "dM398TVERRtA",
        "colab": {
          "base_uri": "https://localhost:8080/",
          "height": 311
        },
        "outputId": "66433e98-c33e-4cc0-de3a-ef745ed316af"
      },
      "execution_count": null,
      "outputs": [
        {
          "output_type": "execute_result",
          "data": {
            "text/plain": [
              "                 date  index          X1          Y1        Z1         X2  \\\n",
              "0 2021-03-21 10:58:00      0  1227.23900    5.934891  0.998995  1198.6493   \n",
              "1 2021-03-21 10:58:01      1  1070.72410  261.227260  1.134227  1039.1288   \n",
              "2 2021-03-21 10:58:02      2   930.54803  140.096680  0.569893   950.2950   \n",
              "\n",
              "           Y2        Z2          X3         Y3        Z3          X4  \\\n",
              "0   -3.587006  0.812831  1309.93950   9.096905  0.901282  1335.40580   \n",
              "1  244.924090  1.061694  1010.34863  83.122490  1.055472  1162.03050   \n",
              "2  240.782440  0.590917   743.66580  22.463081  0.379725   885.64417   \n",
              "\n",
              "           Y4        Z4          X5         Y5        Z5         X6  \\\n",
              "0  -24.164661  0.978361  1357.72460  158.10956  0.798247  1314.9734   \n",
              "1  377.867340  1.119551  1181.51200  143.80563  0.921482  1190.3545   \n",
              "2  -14.069326  0.598711   937.74054   98.92554  0.607823   926.3235   \n",
              "\n",
              "           Y6        Z6         X7         Y7        Z7         X8         Y8  \\\n",
              "0   42.891020  0.932359  1558.1648  193.66930  0.699538  1287.2316  -52.85788   \n",
              "1  545.892300  0.736048  1237.3389  286.29672  0.452835  1433.4109  659.95560   \n",
              "2   27.643848  0.483337  1274.9252  210.92265  0.571004  1191.6064  229.28270   \n",
              "\n",
              "         Z8         X9         Y9        Z9        X10        Y10       Z10  \\\n",
              "0  0.441741  1455.9727  258.99448  0.371435  1287.2163  151.57051  0.275343   \n",
              "1  0.580081  1162.9690  343.87967  0.559599  1175.9910  352.37000  0.309240   \n",
              "2  0.614511  1263.1649  194.57608  0.697306  1236.3464  127.02370  0.516726   \n",
              "\n",
              "       l_degr     r_degr  patient       day  hour  minute  if_nobody  \\\n",
              "0   42.648365  16.162420  DD_18_2  20210321    10      58      False   \n",
              "1  106.354965  24.933796  DD_18_2  20210321    10      58      False   \n",
              "2   35.893456  76.392070  DD_18_2  20210321    10      58      False   \n",
              "\n",
              "   if_multiple_people patient_ID  patient_day_ID patient_number patient_code  \\\n",
              "0                True      DD_18  DD_18_20210321             18           DD   \n",
              "1                True      DD_18  DD_18_20210321             18           DD   \n",
              "2                True      DD_18  DD_18_20210321             18           DD   \n",
              "\n",
              "   day_order Date of visit  NIHSS  L Motor Arm Score  R Motor Arm Score  \\\n",
              "0          2    2021-03-21    6.0                4.0                0.0   \n",
              "1          2    2021-03-21    6.0                4.0                0.0   \n",
              "2          2    2021-03-21    6.0                4.0                0.0   \n",
              "\n",
              "   L Motor Leg Score  R Motor Leg Score  seconds  left-opposite-2  \\\n",
              "0                2.0                0.0        0                2   \n",
              "1                2.0                0.0        1                2   \n",
              "2                2.0                0.0        2                2   \n",
              "\n",
              "   right-opposite-2 left-2 right-2  fragment  \n",
              "0                 0      1       0         0  \n",
              "1                 0      1       0         0  \n",
              "2                 0      1       0         0  "
            ],
            "text/html": [
              "\n",
              "\n",
              "  <div id=\"df-604ec7cd-b633-4ff3-b2fd-1c7a8093f64c\">\n",
              "    <div class=\"colab-df-container\">\n",
              "      <div>\n",
              "<style scoped>\n",
              "    .dataframe tbody tr th:only-of-type {\n",
              "        vertical-align: middle;\n",
              "    }\n",
              "\n",
              "    .dataframe tbody tr th {\n",
              "        vertical-align: top;\n",
              "    }\n",
              "\n",
              "    .dataframe thead th {\n",
              "        text-align: right;\n",
              "    }\n",
              "</style>\n",
              "<table border=\"1\" class=\"dataframe\">\n",
              "  <thead>\n",
              "    <tr style=\"text-align: right;\">\n",
              "      <th></th>\n",
              "      <th>date</th>\n",
              "      <th>index</th>\n",
              "      <th>X1</th>\n",
              "      <th>Y1</th>\n",
              "      <th>Z1</th>\n",
              "      <th>X2</th>\n",
              "      <th>Y2</th>\n",
              "      <th>Z2</th>\n",
              "      <th>X3</th>\n",
              "      <th>Y3</th>\n",
              "      <th>Z3</th>\n",
              "      <th>X4</th>\n",
              "      <th>Y4</th>\n",
              "      <th>Z4</th>\n",
              "      <th>X5</th>\n",
              "      <th>Y5</th>\n",
              "      <th>Z5</th>\n",
              "      <th>X6</th>\n",
              "      <th>Y6</th>\n",
              "      <th>Z6</th>\n",
              "      <th>X7</th>\n",
              "      <th>Y7</th>\n",
              "      <th>Z7</th>\n",
              "      <th>X8</th>\n",
              "      <th>Y8</th>\n",
              "      <th>Z8</th>\n",
              "      <th>X9</th>\n",
              "      <th>Y9</th>\n",
              "      <th>Z9</th>\n",
              "      <th>X10</th>\n",
              "      <th>Y10</th>\n",
              "      <th>Z10</th>\n",
              "      <th>l_degr</th>\n",
              "      <th>r_degr</th>\n",
              "      <th>patient</th>\n",
              "      <th>day</th>\n",
              "      <th>hour</th>\n",
              "      <th>minute</th>\n",
              "      <th>if_nobody</th>\n",
              "      <th>if_multiple_people</th>\n",
              "      <th>patient_ID</th>\n",
              "      <th>patient_day_ID</th>\n",
              "      <th>patient_number</th>\n",
              "      <th>patient_code</th>\n",
              "      <th>day_order</th>\n",
              "      <th>Date of visit</th>\n",
              "      <th>NIHSS</th>\n",
              "      <th>L Motor Arm Score</th>\n",
              "      <th>R Motor Arm Score</th>\n",
              "      <th>L Motor Leg Score</th>\n",
              "      <th>R Motor Leg Score</th>\n",
              "      <th>seconds</th>\n",
              "      <th>left-opposite-2</th>\n",
              "      <th>right-opposite-2</th>\n",
              "      <th>left-2</th>\n",
              "      <th>right-2</th>\n",
              "      <th>fragment</th>\n",
              "    </tr>\n",
              "  </thead>\n",
              "  <tbody>\n",
              "    <tr>\n",
              "      <th>0</th>\n",
              "      <td>2021-03-21 10:58:00</td>\n",
              "      <td>0</td>\n",
              "      <td>1227.23900</td>\n",
              "      <td>5.934891</td>\n",
              "      <td>0.998995</td>\n",
              "      <td>1198.6493</td>\n",
              "      <td>-3.587006</td>\n",
              "      <td>0.812831</td>\n",
              "      <td>1309.93950</td>\n",
              "      <td>9.096905</td>\n",
              "      <td>0.901282</td>\n",
              "      <td>1335.40580</td>\n",
              "      <td>-24.164661</td>\n",
              "      <td>0.978361</td>\n",
              "      <td>1357.72460</td>\n",
              "      <td>158.10956</td>\n",
              "      <td>0.798247</td>\n",
              "      <td>1314.9734</td>\n",
              "      <td>42.891020</td>\n",
              "      <td>0.932359</td>\n",
              "      <td>1558.1648</td>\n",
              "      <td>193.66930</td>\n",
              "      <td>0.699538</td>\n",
              "      <td>1287.2316</td>\n",
              "      <td>-52.85788</td>\n",
              "      <td>0.441741</td>\n",
              "      <td>1455.9727</td>\n",
              "      <td>258.99448</td>\n",
              "      <td>0.371435</td>\n",
              "      <td>1287.2163</td>\n",
              "      <td>151.57051</td>\n",
              "      <td>0.275343</td>\n",
              "      <td>42.648365</td>\n",
              "      <td>16.162420</td>\n",
              "      <td>DD_18_2</td>\n",
              "      <td>20210321</td>\n",
              "      <td>10</td>\n",
              "      <td>58</td>\n",
              "      <td>False</td>\n",
              "      <td>True</td>\n",
              "      <td>DD_18</td>\n",
              "      <td>DD_18_20210321</td>\n",
              "      <td>18</td>\n",
              "      <td>DD</td>\n",
              "      <td>2</td>\n",
              "      <td>2021-03-21</td>\n",
              "      <td>6.0</td>\n",
              "      <td>4.0</td>\n",
              "      <td>0.0</td>\n",
              "      <td>2.0</td>\n",
              "      <td>0.0</td>\n",
              "      <td>0</td>\n",
              "      <td>2</td>\n",
              "      <td>0</td>\n",
              "      <td>1</td>\n",
              "      <td>0</td>\n",
              "      <td>0</td>\n",
              "    </tr>\n",
              "    <tr>\n",
              "      <th>1</th>\n",
              "      <td>2021-03-21 10:58:01</td>\n",
              "      <td>1</td>\n",
              "      <td>1070.72410</td>\n",
              "      <td>261.227260</td>\n",
              "      <td>1.134227</td>\n",
              "      <td>1039.1288</td>\n",
              "      <td>244.924090</td>\n",
              "      <td>1.061694</td>\n",
              "      <td>1010.34863</td>\n",
              "      <td>83.122490</td>\n",
              "      <td>1.055472</td>\n",
              "      <td>1162.03050</td>\n",
              "      <td>377.867340</td>\n",
              "      <td>1.119551</td>\n",
              "      <td>1181.51200</td>\n",
              "      <td>143.80563</td>\n",
              "      <td>0.921482</td>\n",
              "      <td>1190.3545</td>\n",
              "      <td>545.892300</td>\n",
              "      <td>0.736048</td>\n",
              "      <td>1237.3389</td>\n",
              "      <td>286.29672</td>\n",
              "      <td>0.452835</td>\n",
              "      <td>1433.4109</td>\n",
              "      <td>659.95560</td>\n",
              "      <td>0.580081</td>\n",
              "      <td>1162.9690</td>\n",
              "      <td>343.87967</td>\n",
              "      <td>0.559599</td>\n",
              "      <td>1175.9910</td>\n",
              "      <td>352.37000</td>\n",
              "      <td>0.309240</td>\n",
              "      <td>106.354965</td>\n",
              "      <td>24.933796</td>\n",
              "      <td>DD_18_2</td>\n",
              "      <td>20210321</td>\n",
              "      <td>10</td>\n",
              "      <td>58</td>\n",
              "      <td>False</td>\n",
              "      <td>True</td>\n",
              "      <td>DD_18</td>\n",
              "      <td>DD_18_20210321</td>\n",
              "      <td>18</td>\n",
              "      <td>DD</td>\n",
              "      <td>2</td>\n",
              "      <td>2021-03-21</td>\n",
              "      <td>6.0</td>\n",
              "      <td>4.0</td>\n",
              "      <td>0.0</td>\n",
              "      <td>2.0</td>\n",
              "      <td>0.0</td>\n",
              "      <td>1</td>\n",
              "      <td>2</td>\n",
              "      <td>0</td>\n",
              "      <td>1</td>\n",
              "      <td>0</td>\n",
              "      <td>0</td>\n",
              "    </tr>\n",
              "    <tr>\n",
              "      <th>2</th>\n",
              "      <td>2021-03-21 10:58:02</td>\n",
              "      <td>2</td>\n",
              "      <td>930.54803</td>\n",
              "      <td>140.096680</td>\n",
              "      <td>0.569893</td>\n",
              "      <td>950.2950</td>\n",
              "      <td>240.782440</td>\n",
              "      <td>0.590917</td>\n",
              "      <td>743.66580</td>\n",
              "      <td>22.463081</td>\n",
              "      <td>0.379725</td>\n",
              "      <td>885.64417</td>\n",
              "      <td>-14.069326</td>\n",
              "      <td>0.598711</td>\n",
              "      <td>937.74054</td>\n",
              "      <td>98.92554</td>\n",
              "      <td>0.607823</td>\n",
              "      <td>926.3235</td>\n",
              "      <td>27.643848</td>\n",
              "      <td>0.483337</td>\n",
              "      <td>1274.9252</td>\n",
              "      <td>210.92265</td>\n",
              "      <td>0.571004</td>\n",
              "      <td>1191.6064</td>\n",
              "      <td>229.28270</td>\n",
              "      <td>0.614511</td>\n",
              "      <td>1263.1649</td>\n",
              "      <td>194.57608</td>\n",
              "      <td>0.697306</td>\n",
              "      <td>1236.3464</td>\n",
              "      <td>127.02370</td>\n",
              "      <td>0.516726</td>\n",
              "      <td>35.893456</td>\n",
              "      <td>76.392070</td>\n",
              "      <td>DD_18_2</td>\n",
              "      <td>20210321</td>\n",
              "      <td>10</td>\n",
              "      <td>58</td>\n",
              "      <td>False</td>\n",
              "      <td>True</td>\n",
              "      <td>DD_18</td>\n",
              "      <td>DD_18_20210321</td>\n",
              "      <td>18</td>\n",
              "      <td>DD</td>\n",
              "      <td>2</td>\n",
              "      <td>2021-03-21</td>\n",
              "      <td>6.0</td>\n",
              "      <td>4.0</td>\n",
              "      <td>0.0</td>\n",
              "      <td>2.0</td>\n",
              "      <td>0.0</td>\n",
              "      <td>2</td>\n",
              "      <td>2</td>\n",
              "      <td>0</td>\n",
              "      <td>1</td>\n",
              "      <td>0</td>\n",
              "      <td>0</td>\n",
              "    </tr>\n",
              "  </tbody>\n",
              "</table>\n",
              "</div>\n",
              "      <button class=\"colab-df-convert\" onclick=\"convertToInteractive('df-604ec7cd-b633-4ff3-b2fd-1c7a8093f64c')\"\n",
              "              title=\"Convert this dataframe to an interactive table.\"\n",
              "              style=\"display:none;\">\n",
              "\n",
              "  <svg xmlns=\"http://www.w3.org/2000/svg\" height=\"24px\"viewBox=\"0 0 24 24\"\n",
              "       width=\"24px\">\n",
              "    <path d=\"M0 0h24v24H0V0z\" fill=\"none\"/>\n",
              "    <path d=\"M18.56 5.44l.94 2.06.94-2.06 2.06-.94-2.06-.94-.94-2.06-.94 2.06-2.06.94zm-11 1L8.5 8.5l.94-2.06 2.06-.94-2.06-.94L8.5 2.5l-.94 2.06-2.06.94zm10 10l.94 2.06.94-2.06 2.06-.94-2.06-.94-.94-2.06-.94 2.06-2.06.94z\"/><path d=\"M17.41 7.96l-1.37-1.37c-.4-.4-.92-.59-1.43-.59-.52 0-1.04.2-1.43.59L10.3 9.45l-7.72 7.72c-.78.78-.78 2.05 0 2.83L4 21.41c.39.39.9.59 1.41.59.51 0 1.02-.2 1.41-.59l7.78-7.78 2.81-2.81c.8-.78.8-2.07 0-2.86zM5.41 20L4 18.59l7.72-7.72 1.47 1.35L5.41 20z\"/>\n",
              "  </svg>\n",
              "      </button>\n",
              "\n",
              "\n",
              "\n",
              "    <div id=\"df-a5257fa3-f6f0-4a38-b190-ea64ea46dc64\">\n",
              "      <button class=\"colab-df-quickchart\" onclick=\"quickchart('df-a5257fa3-f6f0-4a38-b190-ea64ea46dc64')\"\n",
              "              title=\"Suggest charts.\"\n",
              "              style=\"display:none;\">\n",
              "\n",
              "<svg xmlns=\"http://www.w3.org/2000/svg\" height=\"24px\"viewBox=\"0 0 24 24\"\n",
              "     width=\"24px\">\n",
              "    <g>\n",
              "        <path d=\"M19 3H5c-1.1 0-2 .9-2 2v14c0 1.1.9 2 2 2h14c1.1 0 2-.9 2-2V5c0-1.1-.9-2-2-2zM9 17H7v-7h2v7zm4 0h-2V7h2v10zm4 0h-2v-4h2v4z\"/>\n",
              "    </g>\n",
              "</svg>\n",
              "      </button>\n",
              "    </div>\n",
              "\n",
              "<style>\n",
              "  .colab-df-quickchart {\n",
              "    background-color: #E8F0FE;\n",
              "    border: none;\n",
              "    border-radius: 50%;\n",
              "    cursor: pointer;\n",
              "    display: none;\n",
              "    fill: #1967D2;\n",
              "    height: 32px;\n",
              "    padding: 0 0 0 0;\n",
              "    width: 32px;\n",
              "  }\n",
              "\n",
              "  .colab-df-quickchart:hover {\n",
              "    background-color: #E2EBFA;\n",
              "    box-shadow: 0px 1px 2px rgba(60, 64, 67, 0.3), 0px 1px 3px 1px rgba(60, 64, 67, 0.15);\n",
              "    fill: #174EA6;\n",
              "  }\n",
              "\n",
              "  [theme=dark] .colab-df-quickchart {\n",
              "    background-color: #3B4455;\n",
              "    fill: #D2E3FC;\n",
              "  }\n",
              "\n",
              "  [theme=dark] .colab-df-quickchart:hover {\n",
              "    background-color: #434B5C;\n",
              "    box-shadow: 0px 1px 3px 1px rgba(0, 0, 0, 0.15);\n",
              "    filter: drop-shadow(0px 1px 2px rgba(0, 0, 0, 0.3));\n",
              "    fill: #FFFFFF;\n",
              "  }\n",
              "</style>\n",
              "\n",
              "    <script>\n",
              "      async function quickchart(key) {\n",
              "        const containerElement = document.querySelector('#' + key);\n",
              "        const charts = await google.colab.kernel.invokeFunction(\n",
              "            'suggestCharts', [key], {});\n",
              "      }\n",
              "    </script>\n",
              "\n",
              "      <script>\n",
              "\n",
              "function displayQuickchartButton(domScope) {\n",
              "  let quickchartButtonEl =\n",
              "    domScope.querySelector('#df-a5257fa3-f6f0-4a38-b190-ea64ea46dc64 button.colab-df-quickchart');\n",
              "  quickchartButtonEl.style.display =\n",
              "    google.colab.kernel.accessAllowed ? 'block' : 'none';\n",
              "}\n",
              "\n",
              "        displayQuickchartButton(document);\n",
              "      </script>\n",
              "      <style>\n",
              "    .colab-df-container {\n",
              "      display:flex;\n",
              "      flex-wrap:wrap;\n",
              "      gap: 12px;\n",
              "    }\n",
              "\n",
              "    .colab-df-convert {\n",
              "      background-color: #E8F0FE;\n",
              "      border: none;\n",
              "      border-radius: 50%;\n",
              "      cursor: pointer;\n",
              "      display: none;\n",
              "      fill: #1967D2;\n",
              "      height: 32px;\n",
              "      padding: 0 0 0 0;\n",
              "      width: 32px;\n",
              "    }\n",
              "\n",
              "    .colab-df-convert:hover {\n",
              "      background-color: #E2EBFA;\n",
              "      box-shadow: 0px 1px 2px rgba(60, 64, 67, 0.3), 0px 1px 3px 1px rgba(60, 64, 67, 0.15);\n",
              "      fill: #174EA6;\n",
              "    }\n",
              "\n",
              "    [theme=dark] .colab-df-convert {\n",
              "      background-color: #3B4455;\n",
              "      fill: #D2E3FC;\n",
              "    }\n",
              "\n",
              "    [theme=dark] .colab-df-convert:hover {\n",
              "      background-color: #434B5C;\n",
              "      box-shadow: 0px 1px 3px 1px rgba(0, 0, 0, 0.15);\n",
              "      filter: drop-shadow(0px 1px 2px rgba(0, 0, 0, 0.3));\n",
              "      fill: #FFFFFF;\n",
              "    }\n",
              "  </style>\n",
              "\n",
              "      <script>\n",
              "        const buttonEl =\n",
              "          document.querySelector('#df-604ec7cd-b633-4ff3-b2fd-1c7a8093f64c button.colab-df-convert');\n",
              "        buttonEl.style.display =\n",
              "          google.colab.kernel.accessAllowed ? 'block' : 'none';\n",
              "\n",
              "        async function convertToInteractive(key) {\n",
              "          const element = document.querySelector('#df-604ec7cd-b633-4ff3-b2fd-1c7a8093f64c');\n",
              "          const dataTable =\n",
              "            await google.colab.kernel.invokeFunction('convertToInteractive',\n",
              "                                                     [key], {});\n",
              "          if (!dataTable) return;\n",
              "\n",
              "          const docLinkHtml = 'Like what you see? Visit the ' +\n",
              "            '<a target=\"_blank\" href=https://colab.research.google.com/notebooks/data_table.ipynb>data table notebook</a>'\n",
              "            + ' to learn more about interactive tables.';\n",
              "          element.innerHTML = '';\n",
              "          dataTable['output_type'] = 'display_data';\n",
              "          await google.colab.output.renderOutput(dataTable, element);\n",
              "          const docLink = document.createElement('div');\n",
              "          docLink.innerHTML = docLinkHtml;\n",
              "          element.appendChild(docLink);\n",
              "        }\n",
              "      </script>\n",
              "    </div>\n",
              "  </div>\n"
            ]
          },
          "metadata": {},
          "execution_count": 73
        }
      ]
    },
    {
      "cell_type": "code",
      "source": [
        "df_select = df_cut.loc[:, ~df_cut.columns.isin(['Date of visit','patient_ID','if_nobody', 'if_multiple_people', 'day', 'hour', 'minute', 'day_order','index','patient_day_ID', 'patient', 'patient_number', 'patient_code', 'Weakness on presentation',  'seconds', 'time_diff','Z1','Z2','Z3','Z4','Z5','Z6','Z7','Z8','Z9','Z10'])]\n",
        "print(df_select.columns.to_list()) #- date   #'Date of visit','patient_ID','if_nobody', 'if_multiple_people', 'day', 'hour', 'minute',\n",
        "del df_cut\n",
        "del df_patients"
      ],
      "metadata": {
        "colab": {
          "base_uri": "https://localhost:8080/"
        },
        "id": "FYGNeL-EQ0xG",
        "outputId": "80ca5a52-40fd-4baa-ce3e-cf5c96f24c89"
      },
      "execution_count": null,
      "outputs": [
        {
          "output_type": "stream",
          "name": "stdout",
          "text": [
            "['date', 'X1', 'Y1', 'X2', 'Y2', 'X3', 'Y3', 'X4', 'Y4', 'X5', 'Y5', 'X6', 'Y6', 'X7', 'Y7', 'X8', 'Y8', 'X9', 'Y9', 'X10', 'Y10', 'l_degr', 'r_degr', 'NIHSS', 'L Motor Arm Score', 'R Motor Arm Score', 'L Motor Leg Score', 'R Motor Leg Score', 'left-opposite-2', 'right-opposite-2', 'left-2', 'right-2', 'fragment']\n"
          ]
        }
      ]
    },
    {
      "cell_type": "code",
      "source": [
        "X = df_select.loc[:, ~df_select.columns.isin([ 'NIHSS', 'L Motor Arm Score', 'R Motor Arm Score', 'L Motor Leg Score', 'R Motor Leg Score', 'left-2', 'right-2', 'left-opposite-2', 'right-opposite-2', 'fragment', ])]\n",
        "print(X.columns.to_list())"
      ],
      "metadata": {
        "colab": {
          "base_uri": "https://localhost:8080/"
        },
        "id": "hM6xglekTJ4R",
        "outputId": "f8400526-630d-4cf4-a64a-f3fae8f41b0a"
      },
      "execution_count": null,
      "outputs": [
        {
          "output_type": "stream",
          "name": "stdout",
          "text": [
            "['date', 'X1', 'Y1', 'X2', 'Y2', 'X3', 'Y3', 'X4', 'Y4', 'X5', 'Y5', 'X6', 'Y6', 'X7', 'Y7', 'X8', 'Y8', 'X9', 'Y9', 'X10', 'Y10', 'l_degr', 'r_degr']\n"
          ]
        }
      ]
    },
    {
      "cell_type": "code",
      "source": [
        "X.head()"
      ],
      "metadata": {
        "colab": {
          "base_uri": "https://localhost:8080/",
          "height": 357
        },
        "id": "5a9RVrKhY8lo",
        "outputId": "e36f26c8-9ede-4de4-b8f5-911a640f834e"
      },
      "execution_count": null,
      "outputs": [
        {
          "output_type": "execute_result",
          "data": {
            "text/plain": [
              "                 date          X1          Y1          X2          Y2  \\\n",
              "0 2021-03-21 10:58:00  1227.23900    5.934891  1198.64930   -3.587006   \n",
              "1 2021-03-21 10:58:01  1070.72410  261.227260  1039.12880  244.924090   \n",
              "2 2021-03-21 10:58:02   930.54803  140.096680   950.29500  240.782440   \n",
              "3 2021-03-21 10:58:03   885.55945  398.559570   865.87780  428.081900   \n",
              "4 2021-03-21 10:58:04   844.16120  427.588620   780.08215  461.412500   \n",
              "\n",
              "           X3          Y3          X4          Y4          X5         Y5  \\\n",
              "0  1309.93950    9.096905  1335.40580  -24.164661  1357.72460  158.10956   \n",
              "1  1010.34863   83.122490  1162.03050  377.867340  1181.51200  143.80563   \n",
              "2   743.66580   22.463081   885.64417  -14.069326   937.74054   98.92554   \n",
              "3   915.08190  388.718750   856.03700  447.763550   983.96740  388.71875   \n",
              "4   850.63960  341.680240   857.03687  519.706200  1066.60170  334.06348   \n",
              "\n",
              "          X6          Y6         X7         Y7          X8         Y8  \\\n",
              "0  1314.9734   42.891020  1558.1648  193.66930  1287.23160  -52.85788   \n",
              "1  1190.3545  545.892300  1237.3389  286.29672  1433.41090  659.95560   \n",
              "2   926.3235   27.643848  1274.9252  210.92265  1191.60640  229.28270   \n",
              "3   875.7186  526.490000  1082.3755  398.55957   796.99220  556.01230   \n",
              "4   937.2544  622.039730  1290.7678  406.68680   936.93036  840.82965   \n",
              "\n",
              "          X9         Y9         X10        Y10      l_degr      r_degr  \n",
              "0  1455.9727  258.99448  1287.21630  151.57051   42.648365   16.162420  \n",
              "1  1162.9690  343.87967  1175.99100  352.37000  106.354965   24.933796  \n",
              "2  1263.1649  194.57608  1236.34640  127.02370   35.893456   76.392070  \n",
              "3  1052.8531  487.12683   718.26575  496.96765   77.275696  122.574170  \n",
              "4  1174.8042  437.00830   795.78314  523.72986   32.604126   24.079634  "
            ],
            "text/html": [
              "\n",
              "\n",
              "  <div id=\"df-76e28120-17eb-425f-96b1-c9a98e428820\">\n",
              "    <div class=\"colab-df-container\">\n",
              "      <div>\n",
              "<style scoped>\n",
              "    .dataframe tbody tr th:only-of-type {\n",
              "        vertical-align: middle;\n",
              "    }\n",
              "\n",
              "    .dataframe tbody tr th {\n",
              "        vertical-align: top;\n",
              "    }\n",
              "\n",
              "    .dataframe thead th {\n",
              "        text-align: right;\n",
              "    }\n",
              "</style>\n",
              "<table border=\"1\" class=\"dataframe\">\n",
              "  <thead>\n",
              "    <tr style=\"text-align: right;\">\n",
              "      <th></th>\n",
              "      <th>date</th>\n",
              "      <th>X1</th>\n",
              "      <th>Y1</th>\n",
              "      <th>X2</th>\n",
              "      <th>Y2</th>\n",
              "      <th>X3</th>\n",
              "      <th>Y3</th>\n",
              "      <th>X4</th>\n",
              "      <th>Y4</th>\n",
              "      <th>X5</th>\n",
              "      <th>Y5</th>\n",
              "      <th>X6</th>\n",
              "      <th>Y6</th>\n",
              "      <th>X7</th>\n",
              "      <th>Y7</th>\n",
              "      <th>X8</th>\n",
              "      <th>Y8</th>\n",
              "      <th>X9</th>\n",
              "      <th>Y9</th>\n",
              "      <th>X10</th>\n",
              "      <th>Y10</th>\n",
              "      <th>l_degr</th>\n",
              "      <th>r_degr</th>\n",
              "    </tr>\n",
              "  </thead>\n",
              "  <tbody>\n",
              "    <tr>\n",
              "      <th>0</th>\n",
              "      <td>2021-03-21 10:58:00</td>\n",
              "      <td>1227.23900</td>\n",
              "      <td>5.934891</td>\n",
              "      <td>1198.64930</td>\n",
              "      <td>-3.587006</td>\n",
              "      <td>1309.93950</td>\n",
              "      <td>9.096905</td>\n",
              "      <td>1335.40580</td>\n",
              "      <td>-24.164661</td>\n",
              "      <td>1357.72460</td>\n",
              "      <td>158.10956</td>\n",
              "      <td>1314.9734</td>\n",
              "      <td>42.891020</td>\n",
              "      <td>1558.1648</td>\n",
              "      <td>193.66930</td>\n",
              "      <td>1287.23160</td>\n",
              "      <td>-52.85788</td>\n",
              "      <td>1455.9727</td>\n",
              "      <td>258.99448</td>\n",
              "      <td>1287.21630</td>\n",
              "      <td>151.57051</td>\n",
              "      <td>42.648365</td>\n",
              "      <td>16.162420</td>\n",
              "    </tr>\n",
              "    <tr>\n",
              "      <th>1</th>\n",
              "      <td>2021-03-21 10:58:01</td>\n",
              "      <td>1070.72410</td>\n",
              "      <td>261.227260</td>\n",
              "      <td>1039.12880</td>\n",
              "      <td>244.924090</td>\n",
              "      <td>1010.34863</td>\n",
              "      <td>83.122490</td>\n",
              "      <td>1162.03050</td>\n",
              "      <td>377.867340</td>\n",
              "      <td>1181.51200</td>\n",
              "      <td>143.80563</td>\n",
              "      <td>1190.3545</td>\n",
              "      <td>545.892300</td>\n",
              "      <td>1237.3389</td>\n",
              "      <td>286.29672</td>\n",
              "      <td>1433.41090</td>\n",
              "      <td>659.95560</td>\n",
              "      <td>1162.9690</td>\n",
              "      <td>343.87967</td>\n",
              "      <td>1175.99100</td>\n",
              "      <td>352.37000</td>\n",
              "      <td>106.354965</td>\n",
              "      <td>24.933796</td>\n",
              "    </tr>\n",
              "    <tr>\n",
              "      <th>2</th>\n",
              "      <td>2021-03-21 10:58:02</td>\n",
              "      <td>930.54803</td>\n",
              "      <td>140.096680</td>\n",
              "      <td>950.29500</td>\n",
              "      <td>240.782440</td>\n",
              "      <td>743.66580</td>\n",
              "      <td>22.463081</td>\n",
              "      <td>885.64417</td>\n",
              "      <td>-14.069326</td>\n",
              "      <td>937.74054</td>\n",
              "      <td>98.92554</td>\n",
              "      <td>926.3235</td>\n",
              "      <td>27.643848</td>\n",
              "      <td>1274.9252</td>\n",
              "      <td>210.92265</td>\n",
              "      <td>1191.60640</td>\n",
              "      <td>229.28270</td>\n",
              "      <td>1263.1649</td>\n",
              "      <td>194.57608</td>\n",
              "      <td>1236.34640</td>\n",
              "      <td>127.02370</td>\n",
              "      <td>35.893456</td>\n",
              "      <td>76.392070</td>\n",
              "    </tr>\n",
              "    <tr>\n",
              "      <th>3</th>\n",
              "      <td>2021-03-21 10:58:03</td>\n",
              "      <td>885.55945</td>\n",
              "      <td>398.559570</td>\n",
              "      <td>865.87780</td>\n",
              "      <td>428.081900</td>\n",
              "      <td>915.08190</td>\n",
              "      <td>388.718750</td>\n",
              "      <td>856.03700</td>\n",
              "      <td>447.763550</td>\n",
              "      <td>983.96740</td>\n",
              "      <td>388.71875</td>\n",
              "      <td>875.7186</td>\n",
              "      <td>526.490000</td>\n",
              "      <td>1082.3755</td>\n",
              "      <td>398.55957</td>\n",
              "      <td>796.99220</td>\n",
              "      <td>556.01230</td>\n",
              "      <td>1052.8531</td>\n",
              "      <td>487.12683</td>\n",
              "      <td>718.26575</td>\n",
              "      <td>496.96765</td>\n",
              "      <td>77.275696</td>\n",
              "      <td>122.574170</td>\n",
              "    </tr>\n",
              "    <tr>\n",
              "      <th>4</th>\n",
              "      <td>2021-03-21 10:58:04</td>\n",
              "      <td>844.16120</td>\n",
              "      <td>427.588620</td>\n",
              "      <td>780.08215</td>\n",
              "      <td>461.412500</td>\n",
              "      <td>850.63960</td>\n",
              "      <td>341.680240</td>\n",
              "      <td>857.03687</td>\n",
              "      <td>519.706200</td>\n",
              "      <td>1066.60170</td>\n",
              "      <td>334.06348</td>\n",
              "      <td>937.2544</td>\n",
              "      <td>622.039730</td>\n",
              "      <td>1290.7678</td>\n",
              "      <td>406.68680</td>\n",
              "      <td>936.93036</td>\n",
              "      <td>840.82965</td>\n",
              "      <td>1174.8042</td>\n",
              "      <td>437.00830</td>\n",
              "      <td>795.78314</td>\n",
              "      <td>523.72986</td>\n",
              "      <td>32.604126</td>\n",
              "      <td>24.079634</td>\n",
              "    </tr>\n",
              "  </tbody>\n",
              "</table>\n",
              "</div>\n",
              "      <button class=\"colab-df-convert\" onclick=\"convertToInteractive('df-76e28120-17eb-425f-96b1-c9a98e428820')\"\n",
              "              title=\"Convert this dataframe to an interactive table.\"\n",
              "              style=\"display:none;\">\n",
              "\n",
              "  <svg xmlns=\"http://www.w3.org/2000/svg\" height=\"24px\"viewBox=\"0 0 24 24\"\n",
              "       width=\"24px\">\n",
              "    <path d=\"M0 0h24v24H0V0z\" fill=\"none\"/>\n",
              "    <path d=\"M18.56 5.44l.94 2.06.94-2.06 2.06-.94-2.06-.94-.94-2.06-.94 2.06-2.06.94zm-11 1L8.5 8.5l.94-2.06 2.06-.94-2.06-.94L8.5 2.5l-.94 2.06-2.06.94zm10 10l.94 2.06.94-2.06 2.06-.94-2.06-.94-.94-2.06-.94 2.06-2.06.94z\"/><path d=\"M17.41 7.96l-1.37-1.37c-.4-.4-.92-.59-1.43-.59-.52 0-1.04.2-1.43.59L10.3 9.45l-7.72 7.72c-.78.78-.78 2.05 0 2.83L4 21.41c.39.39.9.59 1.41.59.51 0 1.02-.2 1.41-.59l7.78-7.78 2.81-2.81c.8-.78.8-2.07 0-2.86zM5.41 20L4 18.59l7.72-7.72 1.47 1.35L5.41 20z\"/>\n",
              "  </svg>\n",
              "      </button>\n",
              "\n",
              "\n",
              "\n",
              "    <div id=\"df-c384e84f-0537-43f0-a233-c8129369a040\">\n",
              "      <button class=\"colab-df-quickchart\" onclick=\"quickchart('df-c384e84f-0537-43f0-a233-c8129369a040')\"\n",
              "              title=\"Suggest charts.\"\n",
              "              style=\"display:none;\">\n",
              "\n",
              "<svg xmlns=\"http://www.w3.org/2000/svg\" height=\"24px\"viewBox=\"0 0 24 24\"\n",
              "     width=\"24px\">\n",
              "    <g>\n",
              "        <path d=\"M19 3H5c-1.1 0-2 .9-2 2v14c0 1.1.9 2 2 2h14c1.1 0 2-.9 2-2V5c0-1.1-.9-2-2-2zM9 17H7v-7h2v7zm4 0h-2V7h2v10zm4 0h-2v-4h2v4z\"/>\n",
              "    </g>\n",
              "</svg>\n",
              "      </button>\n",
              "    </div>\n",
              "\n",
              "<style>\n",
              "  .colab-df-quickchart {\n",
              "    background-color: #E8F0FE;\n",
              "    border: none;\n",
              "    border-radius: 50%;\n",
              "    cursor: pointer;\n",
              "    display: none;\n",
              "    fill: #1967D2;\n",
              "    height: 32px;\n",
              "    padding: 0 0 0 0;\n",
              "    width: 32px;\n",
              "  }\n",
              "\n",
              "  .colab-df-quickchart:hover {\n",
              "    background-color: #E2EBFA;\n",
              "    box-shadow: 0px 1px 2px rgba(60, 64, 67, 0.3), 0px 1px 3px 1px rgba(60, 64, 67, 0.15);\n",
              "    fill: #174EA6;\n",
              "  }\n",
              "\n",
              "  [theme=dark] .colab-df-quickchart {\n",
              "    background-color: #3B4455;\n",
              "    fill: #D2E3FC;\n",
              "  }\n",
              "\n",
              "  [theme=dark] .colab-df-quickchart:hover {\n",
              "    background-color: #434B5C;\n",
              "    box-shadow: 0px 1px 3px 1px rgba(0, 0, 0, 0.15);\n",
              "    filter: drop-shadow(0px 1px 2px rgba(0, 0, 0, 0.3));\n",
              "    fill: #FFFFFF;\n",
              "  }\n",
              "</style>\n",
              "\n",
              "    <script>\n",
              "      async function quickchart(key) {\n",
              "        const containerElement = document.querySelector('#' + key);\n",
              "        const charts = await google.colab.kernel.invokeFunction(\n",
              "            'suggestCharts', [key], {});\n",
              "      }\n",
              "    </script>\n",
              "\n",
              "      <script>\n",
              "\n",
              "function displayQuickchartButton(domScope) {\n",
              "  let quickchartButtonEl =\n",
              "    domScope.querySelector('#df-c384e84f-0537-43f0-a233-c8129369a040 button.colab-df-quickchart');\n",
              "  quickchartButtonEl.style.display =\n",
              "    google.colab.kernel.accessAllowed ? 'block' : 'none';\n",
              "}\n",
              "\n",
              "        displayQuickchartButton(document);\n",
              "      </script>\n",
              "      <style>\n",
              "    .colab-df-container {\n",
              "      display:flex;\n",
              "      flex-wrap:wrap;\n",
              "      gap: 12px;\n",
              "    }\n",
              "\n",
              "    .colab-df-convert {\n",
              "      background-color: #E8F0FE;\n",
              "      border: none;\n",
              "      border-radius: 50%;\n",
              "      cursor: pointer;\n",
              "      display: none;\n",
              "      fill: #1967D2;\n",
              "      height: 32px;\n",
              "      padding: 0 0 0 0;\n",
              "      width: 32px;\n",
              "    }\n",
              "\n",
              "    .colab-df-convert:hover {\n",
              "      background-color: #E2EBFA;\n",
              "      box-shadow: 0px 1px 2px rgba(60, 64, 67, 0.3), 0px 1px 3px 1px rgba(60, 64, 67, 0.15);\n",
              "      fill: #174EA6;\n",
              "    }\n",
              "\n",
              "    [theme=dark] .colab-df-convert {\n",
              "      background-color: #3B4455;\n",
              "      fill: #D2E3FC;\n",
              "    }\n",
              "\n",
              "    [theme=dark] .colab-df-convert:hover {\n",
              "      background-color: #434B5C;\n",
              "      box-shadow: 0px 1px 3px 1px rgba(0, 0, 0, 0.15);\n",
              "      filter: drop-shadow(0px 1px 2px rgba(0, 0, 0, 0.3));\n",
              "      fill: #FFFFFF;\n",
              "    }\n",
              "  </style>\n",
              "\n",
              "      <script>\n",
              "        const buttonEl =\n",
              "          document.querySelector('#df-76e28120-17eb-425f-96b1-c9a98e428820 button.colab-df-convert');\n",
              "        buttonEl.style.display =\n",
              "          google.colab.kernel.accessAllowed ? 'block' : 'none';\n",
              "\n",
              "        async function convertToInteractive(key) {\n",
              "          const element = document.querySelector('#df-76e28120-17eb-425f-96b1-c9a98e428820');\n",
              "          const dataTable =\n",
              "            await google.colab.kernel.invokeFunction('convertToInteractive',\n",
              "                                                     [key], {});\n",
              "          if (!dataTable) return;\n",
              "\n",
              "          const docLinkHtml = 'Like what you see? Visit the ' +\n",
              "            '<a target=\"_blank\" href=https://colab.research.google.com/notebooks/data_table.ipynb>data table notebook</a>'\n",
              "            + ' to learn more about interactive tables.';\n",
              "          element.innerHTML = '';\n",
              "          dataTable['output_type'] = 'display_data';\n",
              "          await google.colab.output.renderOutput(dataTable, element);\n",
              "          const docLink = document.createElement('div');\n",
              "          docLink.innerHTML = docLinkHtml;\n",
              "          element.appendChild(docLink);\n",
              "        }\n",
              "      </script>\n",
              "    </div>\n",
              "  </div>\n"
            ]
          },
          "metadata": {},
          "execution_count": 76
        }
      ]
    },
    {
      "cell_type": "code",
      "source": [
        "Y = df_select[ ['date', 'NIHSS', 'L Motor Arm Score', 'R Motor Arm Score', 'L Motor Leg Score', 'R Motor Leg Score', 'left-2', 'right-2', 'left-opposite-2', 'right-opposite-2'] ] # - date"
      ],
      "metadata": {
        "id": "ArsqktXVLsqW"
      },
      "execution_count": null,
      "outputs": []
    },
    {
      "cell_type": "code",
      "source": [
        "Y.head()"
      ],
      "metadata": {
        "colab": {
          "base_uri": "https://localhost:8080/",
          "height": 206
        },
        "id": "zoAvIDQ1Q0ll",
        "outputId": "a03bfd4d-e5bd-4916-985c-8b73f11ad105"
      },
      "execution_count": null,
      "outputs": [
        {
          "output_type": "execute_result",
          "data": {
            "text/plain": [
              "                 date  NIHSS  L Motor Arm Score  R Motor Arm Score  \\\n",
              "0 2021-03-21 10:58:00    6.0                4.0                0.0   \n",
              "1 2021-03-21 10:58:01    6.0                4.0                0.0   \n",
              "2 2021-03-21 10:58:02    6.0                4.0                0.0   \n",
              "3 2021-03-21 10:58:03    6.0                4.0                0.0   \n",
              "4 2021-03-21 10:58:04    6.0                4.0                0.0   \n",
              "\n",
              "   L Motor Leg Score  R Motor Leg Score left-2 right-2  left-opposite-2  \\\n",
              "0                2.0                0.0      1       0                2   \n",
              "1                2.0                0.0      1       0                2   \n",
              "2                2.0                0.0      1       0                2   \n",
              "3                2.0                0.0      1       0                2   \n",
              "4                2.0                0.0      1       0                2   \n",
              "\n",
              "   right-opposite-2  \n",
              "0                 0  \n",
              "1                 0  \n",
              "2                 0  \n",
              "3                 0  \n",
              "4                 0  "
            ],
            "text/html": [
              "\n",
              "\n",
              "  <div id=\"df-55d19250-1c33-4e70-ad12-0976a21bca53\">\n",
              "    <div class=\"colab-df-container\">\n",
              "      <div>\n",
              "<style scoped>\n",
              "    .dataframe tbody tr th:only-of-type {\n",
              "        vertical-align: middle;\n",
              "    }\n",
              "\n",
              "    .dataframe tbody tr th {\n",
              "        vertical-align: top;\n",
              "    }\n",
              "\n",
              "    .dataframe thead th {\n",
              "        text-align: right;\n",
              "    }\n",
              "</style>\n",
              "<table border=\"1\" class=\"dataframe\">\n",
              "  <thead>\n",
              "    <tr style=\"text-align: right;\">\n",
              "      <th></th>\n",
              "      <th>date</th>\n",
              "      <th>NIHSS</th>\n",
              "      <th>L Motor Arm Score</th>\n",
              "      <th>R Motor Arm Score</th>\n",
              "      <th>L Motor Leg Score</th>\n",
              "      <th>R Motor Leg Score</th>\n",
              "      <th>left-2</th>\n",
              "      <th>right-2</th>\n",
              "      <th>left-opposite-2</th>\n",
              "      <th>right-opposite-2</th>\n",
              "    </tr>\n",
              "  </thead>\n",
              "  <tbody>\n",
              "    <tr>\n",
              "      <th>0</th>\n",
              "      <td>2021-03-21 10:58:00</td>\n",
              "      <td>6.0</td>\n",
              "      <td>4.0</td>\n",
              "      <td>0.0</td>\n",
              "      <td>2.0</td>\n",
              "      <td>0.0</td>\n",
              "      <td>1</td>\n",
              "      <td>0</td>\n",
              "      <td>2</td>\n",
              "      <td>0</td>\n",
              "    </tr>\n",
              "    <tr>\n",
              "      <th>1</th>\n",
              "      <td>2021-03-21 10:58:01</td>\n",
              "      <td>6.0</td>\n",
              "      <td>4.0</td>\n",
              "      <td>0.0</td>\n",
              "      <td>2.0</td>\n",
              "      <td>0.0</td>\n",
              "      <td>1</td>\n",
              "      <td>0</td>\n",
              "      <td>2</td>\n",
              "      <td>0</td>\n",
              "    </tr>\n",
              "    <tr>\n",
              "      <th>2</th>\n",
              "      <td>2021-03-21 10:58:02</td>\n",
              "      <td>6.0</td>\n",
              "      <td>4.0</td>\n",
              "      <td>0.0</td>\n",
              "      <td>2.0</td>\n",
              "      <td>0.0</td>\n",
              "      <td>1</td>\n",
              "      <td>0</td>\n",
              "      <td>2</td>\n",
              "      <td>0</td>\n",
              "    </tr>\n",
              "    <tr>\n",
              "      <th>3</th>\n",
              "      <td>2021-03-21 10:58:03</td>\n",
              "      <td>6.0</td>\n",
              "      <td>4.0</td>\n",
              "      <td>0.0</td>\n",
              "      <td>2.0</td>\n",
              "      <td>0.0</td>\n",
              "      <td>1</td>\n",
              "      <td>0</td>\n",
              "      <td>2</td>\n",
              "      <td>0</td>\n",
              "    </tr>\n",
              "    <tr>\n",
              "      <th>4</th>\n",
              "      <td>2021-03-21 10:58:04</td>\n",
              "      <td>6.0</td>\n",
              "      <td>4.0</td>\n",
              "      <td>0.0</td>\n",
              "      <td>2.0</td>\n",
              "      <td>0.0</td>\n",
              "      <td>1</td>\n",
              "      <td>0</td>\n",
              "      <td>2</td>\n",
              "      <td>0</td>\n",
              "    </tr>\n",
              "  </tbody>\n",
              "</table>\n",
              "</div>\n",
              "      <button class=\"colab-df-convert\" onclick=\"convertToInteractive('df-55d19250-1c33-4e70-ad12-0976a21bca53')\"\n",
              "              title=\"Convert this dataframe to an interactive table.\"\n",
              "              style=\"display:none;\">\n",
              "\n",
              "  <svg xmlns=\"http://www.w3.org/2000/svg\" height=\"24px\"viewBox=\"0 0 24 24\"\n",
              "       width=\"24px\">\n",
              "    <path d=\"M0 0h24v24H0V0z\" fill=\"none\"/>\n",
              "    <path d=\"M18.56 5.44l.94 2.06.94-2.06 2.06-.94-2.06-.94-.94-2.06-.94 2.06-2.06.94zm-11 1L8.5 8.5l.94-2.06 2.06-.94-2.06-.94L8.5 2.5l-.94 2.06-2.06.94zm10 10l.94 2.06.94-2.06 2.06-.94-2.06-.94-.94-2.06-.94 2.06-2.06.94z\"/><path d=\"M17.41 7.96l-1.37-1.37c-.4-.4-.92-.59-1.43-.59-.52 0-1.04.2-1.43.59L10.3 9.45l-7.72 7.72c-.78.78-.78 2.05 0 2.83L4 21.41c.39.39.9.59 1.41.59.51 0 1.02-.2 1.41-.59l7.78-7.78 2.81-2.81c.8-.78.8-2.07 0-2.86zM5.41 20L4 18.59l7.72-7.72 1.47 1.35L5.41 20z\"/>\n",
              "  </svg>\n",
              "      </button>\n",
              "\n",
              "\n",
              "\n",
              "    <div id=\"df-59d64d46-60fc-42d8-bc1c-c24e39757cf4\">\n",
              "      <button class=\"colab-df-quickchart\" onclick=\"quickchart('df-59d64d46-60fc-42d8-bc1c-c24e39757cf4')\"\n",
              "              title=\"Suggest charts.\"\n",
              "              style=\"display:none;\">\n",
              "\n",
              "<svg xmlns=\"http://www.w3.org/2000/svg\" height=\"24px\"viewBox=\"0 0 24 24\"\n",
              "     width=\"24px\">\n",
              "    <g>\n",
              "        <path d=\"M19 3H5c-1.1 0-2 .9-2 2v14c0 1.1.9 2 2 2h14c1.1 0 2-.9 2-2V5c0-1.1-.9-2-2-2zM9 17H7v-7h2v7zm4 0h-2V7h2v10zm4 0h-2v-4h2v4z\"/>\n",
              "    </g>\n",
              "</svg>\n",
              "      </button>\n",
              "    </div>\n",
              "\n",
              "<style>\n",
              "  .colab-df-quickchart {\n",
              "    background-color: #E8F0FE;\n",
              "    border: none;\n",
              "    border-radius: 50%;\n",
              "    cursor: pointer;\n",
              "    display: none;\n",
              "    fill: #1967D2;\n",
              "    height: 32px;\n",
              "    padding: 0 0 0 0;\n",
              "    width: 32px;\n",
              "  }\n",
              "\n",
              "  .colab-df-quickchart:hover {\n",
              "    background-color: #E2EBFA;\n",
              "    box-shadow: 0px 1px 2px rgba(60, 64, 67, 0.3), 0px 1px 3px 1px rgba(60, 64, 67, 0.15);\n",
              "    fill: #174EA6;\n",
              "  }\n",
              "\n",
              "  [theme=dark] .colab-df-quickchart {\n",
              "    background-color: #3B4455;\n",
              "    fill: #D2E3FC;\n",
              "  }\n",
              "\n",
              "  [theme=dark] .colab-df-quickchart:hover {\n",
              "    background-color: #434B5C;\n",
              "    box-shadow: 0px 1px 3px 1px rgba(0, 0, 0, 0.15);\n",
              "    filter: drop-shadow(0px 1px 2px rgba(0, 0, 0, 0.3));\n",
              "    fill: #FFFFFF;\n",
              "  }\n",
              "</style>\n",
              "\n",
              "    <script>\n",
              "      async function quickchart(key) {\n",
              "        const containerElement = document.querySelector('#' + key);\n",
              "        const charts = await google.colab.kernel.invokeFunction(\n",
              "            'suggestCharts', [key], {});\n",
              "      }\n",
              "    </script>\n",
              "\n",
              "      <script>\n",
              "\n",
              "function displayQuickchartButton(domScope) {\n",
              "  let quickchartButtonEl =\n",
              "    domScope.querySelector('#df-59d64d46-60fc-42d8-bc1c-c24e39757cf4 button.colab-df-quickchart');\n",
              "  quickchartButtonEl.style.display =\n",
              "    google.colab.kernel.accessAllowed ? 'block' : 'none';\n",
              "}\n",
              "\n",
              "        displayQuickchartButton(document);\n",
              "      </script>\n",
              "      <style>\n",
              "    .colab-df-container {\n",
              "      display:flex;\n",
              "      flex-wrap:wrap;\n",
              "      gap: 12px;\n",
              "    }\n",
              "\n",
              "    .colab-df-convert {\n",
              "      background-color: #E8F0FE;\n",
              "      border: none;\n",
              "      border-radius: 50%;\n",
              "      cursor: pointer;\n",
              "      display: none;\n",
              "      fill: #1967D2;\n",
              "      height: 32px;\n",
              "      padding: 0 0 0 0;\n",
              "      width: 32px;\n",
              "    }\n",
              "\n",
              "    .colab-df-convert:hover {\n",
              "      background-color: #E2EBFA;\n",
              "      box-shadow: 0px 1px 2px rgba(60, 64, 67, 0.3), 0px 1px 3px 1px rgba(60, 64, 67, 0.15);\n",
              "      fill: #174EA6;\n",
              "    }\n",
              "\n",
              "    [theme=dark] .colab-df-convert {\n",
              "      background-color: #3B4455;\n",
              "      fill: #D2E3FC;\n",
              "    }\n",
              "\n",
              "    [theme=dark] .colab-df-convert:hover {\n",
              "      background-color: #434B5C;\n",
              "      box-shadow: 0px 1px 3px 1px rgba(0, 0, 0, 0.15);\n",
              "      filter: drop-shadow(0px 1px 2px rgba(0, 0, 0, 0.3));\n",
              "      fill: #FFFFFF;\n",
              "    }\n",
              "  </style>\n",
              "\n",
              "      <script>\n",
              "        const buttonEl =\n",
              "          document.querySelector('#df-55d19250-1c33-4e70-ad12-0976a21bca53 button.colab-df-convert');\n",
              "        buttonEl.style.display =\n",
              "          google.colab.kernel.accessAllowed ? 'block' : 'none';\n",
              "\n",
              "        async function convertToInteractive(key) {\n",
              "          const element = document.querySelector('#df-55d19250-1c33-4e70-ad12-0976a21bca53');\n",
              "          const dataTable =\n",
              "            await google.colab.kernel.invokeFunction('convertToInteractive',\n",
              "                                                     [key], {});\n",
              "          if (!dataTable) return;\n",
              "\n",
              "          const docLinkHtml = 'Like what you see? Visit the ' +\n",
              "            '<a target=\"_blank\" href=https://colab.research.google.com/notebooks/data_table.ipynb>data table notebook</a>'\n",
              "            + ' to learn more about interactive tables.';\n",
              "          element.innerHTML = '';\n",
              "          dataTable['output_type'] = 'display_data';\n",
              "          await google.colab.output.renderOutput(dataTable, element);\n",
              "          const docLink = document.createElement('div');\n",
              "          docLink.innerHTML = docLinkHtml;\n",
              "          element.appendChild(docLink);\n",
              "        }\n",
              "      </script>\n",
              "    </div>\n",
              "  </div>\n"
            ]
          },
          "metadata": {},
          "execution_count": 78
        }
      ]
    },
    {
      "cell_type": "code",
      "source": [
        "def calculate_angle_single (a,c,b):\n",
        "\n",
        "    ac  = pow (pow(c[0]-a[0], 2) + pow(c[1]-a[1], 2),    (1/2) )    # a->c   ((a[x]-c[x] )^2  + (a[y]-c[y] )^2)^(1/2)\n",
        "    #x\n",
        "    print ('c[x] = {}, a[x] = {}'.format(c[0], a[0])  )\n",
        "    print ('c[x] - a[x] = {}'.format(c[0]-a[0])  )\n",
        "    print ('(c[x] - a[x])^2 = {}'.format(pow(c[0]-a[0],2))  )\n",
        "    #y\n",
        "    print ('c[y] = {}, a[y] = {}'.format(c[1], a[1])  )\n",
        "    print ('c[y] - a[y] = {}'.format(c[1]-a[1])  )\n",
        "    print ('(c[y] - a[y])^2 = {}'.format(pow(c[1]-a[1],2))  )\n",
        "    #pow 1/2\n",
        "    print ('( (c[x] - a[x])^2 + (c[y] - a[y])^2) )^ 1/2 = {}'.format (pow (pow(c[0]-a[0], 2) + pow(c[1]-a[1], 2),    (1/2) )) )\n",
        "    if ac==0: ac = 0.000000001\n",
        "    print ('============================')\n",
        "\n",
        "    bc  = pow (pow(c[0]-b[0], 2) + pow(c[1]-b[1], 2),    (1/2) )    # b->c   ((b[x]-c[x] )^2  + (b[y]-c[y] )^2)^(1/2)\n",
        "    #x\n",
        "    print ('c[x] = {}, b[x] = {}'.format(c[0], b[0])  )\n",
        "    print ('c[x] - b[x] = {}'.format(c[0]-b[0])  )\n",
        "    print ('(c[x] - b[x])^2 = {}'.format(pow(c[0]-b[0],2))  )\n",
        "    #y\n",
        "    print ('c[y] = {}, b[y] = {}'.format(c[1], b[1])  )\n",
        "    print ('c[y] - b[y] = {}'.format(c[1]-b[1])  )\n",
        "    print ('(c[y] - b[y])^2 = {}'.format(pow(c[1]-b[1],2))  )\n",
        "    #pow 1/2\n",
        "    print ('( (c[x] - b[x])^2 + (c[y] - b[y])^2) )^ 1/2 = {}'.format (pow (pow(c[0]-b[0], 2) + pow(c[1]-b[1], 2),    (1/2) )) )\n",
        "    if bc==0: bc = 0.000000001\n",
        "    print ('============================')\n",
        "\n",
        "\n",
        "\n",
        "    ab  = pow (pow(b[0]-a[0],2)  + pow(b[1]-a[1],2),    (1/2) )       # a->b   ((a[x]-b[x])^2  + (a[y]-b[y])^2)^(1/2)\n",
        "\n",
        "    #x\n",
        "    print ('b[x] = {}, a[x] = {}'.format(b[0], a[0])  )\n",
        "    print ('b[x] - a[x] = {}'.format(b[0]-a[0])  )\n",
        "    print ('(b[x] - a[x])^2 = {}'.format(pow(b[0]-a[0],2))  )\n",
        "    #y\n",
        "    print ('b[y] = {}, a[y] = {}'.format(b[1], a[1])  )\n",
        "    print ('b[y] - a[y] = {}'.format(b[1]-a[1])  )\n",
        "    print ('(b[y] - a[y])^2 = {}'.format(pow(b[1]-a[1],2))  )\n",
        "    if ab==0: ab = 0.000000001\n",
        "    print ('============================')\n",
        "\n",
        "    cos = (pow(bc,2) +pow(ac,2) -pow(ab,2)) / (bc*ac*2)\n",
        "\n",
        "\n",
        "    print ('bc = {}'.format(bc) )\n",
        "    print ('bc^2 = {}'.format(pow(bc,2)) )\n",
        "    print ('---')\n",
        "    print ('ac = {}'.format(ac) )\n",
        "    print ('ac^2 = {}'.format(pow(ac,2)) )\n",
        "    print ('---')\n",
        "    print ('ab = {}'.format(ab) )\n",
        "    print ('ab^2 = {}'.format(pow(ab,2)) )\n",
        "    print ('---')\n",
        "    print ('bc^2 +ac^2 -ab^2 = {}'.format( pow(bc,2) +pow(ac,2) -pow(ab,2) ) )\n",
        "    print ('2*bc*ac = {}'.format( bc*ac*2 ) )\n",
        "    print ('---')\n",
        "\n",
        "    print ('(bc^2 +ac^2 -ab^2) / (2*bc*ac ) = {}'.format( (pow(bc,2) +pow(ac,2) -pow(ab,2)) / (bc*ac*2) ) )\n",
        "\n",
        "\n",
        "    print ('cos alpha = ( (c[x] - b[x])^2 + (c[y] - b[y])^2) )^ 1/2 = {}'.format (pow (pow(c[0]-b[0], 2) + pow(c[1]-b[1], 2),    (1/2) )) )\n",
        "    print ('============================')\n",
        "\n",
        "    angle_radian =  np.arccos( cos )\n",
        "    angle_degrees = np.degrees( angle_radian )\n",
        "\n",
        "    print(\"radians = \", angle_radian)\n",
        "    print(\"angle alpha (degrees) = arc-cos ({}) = {}\".format(cos, angle_degrees) )\n",
        "\n",
        "a =  [615.78076, 713.48706]\n",
        "#[415.46228, 736.94960]\n",
        "#[421.62982, 731.97766]\n",
        "\n",
        "c =  [729.03546, 697.30774]\n",
        "#[353.11578, 866.09595]\n",
        "#[310.68646, 870.65686]\n",
        "\n",
        "b =  [729.03546, 697.30774]\n",
        "#[388.74237, 830.46936]\n",
        "#[389.27136, 792.07190]\n",
        "\n",
        "calculate_angle_single  ( a, c, b )"
      ],
      "metadata": {
        "colab": {
          "base_uri": "https://localhost:8080/"
        },
        "id": "drucFruTZuSJ",
        "outputId": "1b9a2b70-7c30-4673-ea9a-3e3b21059b4c"
      },
      "execution_count": null,
      "outputs": [
        {
          "output_type": "stream",
          "name": "stdout",
          "text": [
            "c[x] = 729.03546, a[x] = 615.78076\n",
            "c[x] - a[x] = 113.25469999999996\n",
            "(c[x] - a[x])^2 = 12826.62707208999\n",
            "c[y] = 697.30774, a[y] = 713.48706\n",
            "c[y] - a[y] = -16.179320000000075\n",
            "(c[y] - a[y])^2 = 261.77039566240245\n",
            "( (c[x] - a[x])^2 + (c[y] - a[y])^2) )^ 1/2 = 114.4045342971702\n",
            "============================\n",
            "c[x] = 729.03546, b[x] = 729.03546\n",
            "c[x] - b[x] = 0.0\n",
            "(c[x] - b[x])^2 = 0.0\n",
            "c[y] = 697.30774, b[y] = 697.30774\n",
            "c[y] - b[y] = 0.0\n",
            "(c[y] - b[y])^2 = 0.0\n",
            "( (c[x] - b[x])^2 + (c[y] - b[y])^2) )^ 1/2 = 0.0\n",
            "============================\n",
            "b[x] = 729.03546, a[x] = 615.78076\n",
            "b[x] - a[x] = 113.25469999999996\n",
            "(b[x] - a[x])^2 = 12826.62707208999\n",
            "b[y] = 697.30774, a[y] = 713.48706\n",
            "b[y] - a[y] = -16.179320000000075\n",
            "(b[y] - a[y])^2 = 261.77039566240245\n",
            "============================\n",
            "bc = 1e-09\n",
            "bc^2 = 1e-18\n",
            "---\n",
            "ac = 114.4045342971702\n",
            "ac^2 = 13088.397467752393\n",
            "---\n",
            "ab = 114.4045342971702\n",
            "ab^2 = 13088.397467752393\n",
            "---\n",
            "bc^2 +ac^2 -ab^2 = 0.0\n",
            "2*bc*ac = 2.2880906859434042e-07\n",
            "---\n",
            "(bc^2 +ac^2 -ab^2) / (2*bc*ac ) = 0.0\n",
            "cos alpha = ( (c[x] - b[x])^2 + (c[y] - b[y])^2) )^ 1/2 = 0.0\n",
            "============================\n",
            "radians =  1.5707963267948966\n",
            "angle alpha (degrees) = arc-cos (0.0) = 90.0\n"
          ]
        }
      ]
    },
    {
      "cell_type": "markdown",
      "source": [
        "![angle.png](data:image/png;base64,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)"
      ],
      "metadata": {
        "id": "JGrMg5WlZwnI"
      }
    },
    {
      "cell_type": "markdown",
      "source": [
        "![formula_angle.PNG](data:image/png;base64,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)"
      ],
      "metadata": {
        "id": "LytmEBrAZw8g"
      }
    },
    {
      "cell_type": "code",
      "source": [
        "def calculate_angle(p0,c,p1, output=False):\n",
        "    # Input: point_0, point_1 and central point are pandas Series\n",
        "    if (p0[0].shape == p1[0].shape) and (p0[0].shape == c[0].shape):\n",
        "\n",
        "        p0c  = (c[0].sub(p0[0] ).pow(2) + c[1].sub(p0[1] ).pow(2) ).pow(1/2)    # p0->c   ((p0[x]-c[x] )^2  + (p0[y]-c[y] )^2)^(1/2)\n",
        "        p1c  = (c[0].sub(p1[0] ).pow(2) + c[1].sub(p1[1] ).pow(2) ).pow(1/2)    # p1->c   ((p1[x]-c[x] )^2  + (p1[y]-c[y] )^2)^(1/2)\n",
        "        p0p1 = (p1[0].sub(p0[0]).pow(2) + p1[1].sub(p0[1]).pow(2) ).pow(1/2)    # p0->p1  ((p0[x]-p1[x])^2  + (p0[y]-p1[y])^2)^(1/2)\n",
        "\n",
        "        cos = (p1c.pow(2) + p0c.pow(2) - p0p1.pow(2)).div(p1c.mul(p0c).mul(2))\n",
        "\n",
        "        angle_radian =  np.arccos( cos )\n",
        "        angle_degrees = np.degrees( angle_radian )\n",
        "\n",
        "        if output:\n",
        "            print(\"Radians = \", angle_radian)\n",
        "            print(\"Degrees = \", angle_degrees)\n",
        "\n",
        "        # Output: radians, degress.\n",
        "        return angle_radian, angle_degrees\n",
        "    else:\n",
        "        raise ValueError (\"Input series' shapes mismatch\")"
      ],
      "metadata": {
        "id": "rq4g73e7ZeFn"
      },
      "execution_count": null,
      "outputs": []
    },
    {
      "cell_type": "markdown",
      "source": [
        "![keypoints_small.png](data:image/png;base64,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)"
      ],
      "metadata": {
        "id": "NJ2Aq-xwZevA"
      }
    },
    {
      "cell_type": "code",
      "source": [
        "# Form a triplet [p0(x,y), c(x,y), p1(x,y)]\n",
        "\n",
        "left_shoulder  = X [ ['X5','Y5'] ]\n",
        "right_shoulder = X [ ['X6','Y6'] ]\n",
        "left_elbow     = X [ ['X7','Y7'] ]\n",
        "right_elbow    = X [ ['X8','Y8'] ]\n",
        "\n",
        "'''\n",
        "left_shoulder  = df_select [ ['X5','Y5'] ]\n",
        "right_shoulder = df_select [ ['X6','Y6'] ]\n",
        "left_elbow     = df_select [ ['X7','Y7'] ]\n",
        "right_elbow    = df_select [ ['X8','Y8'] ]\n",
        "'''"
      ],
      "metadata": {
        "id": "IhCVa5pPEmP-",
        "colab": {
          "base_uri": "https://localhost:8080/",
          "height": 35
        },
        "outputId": "896987a2-0434-433c-ce5f-326535ff0231"
      },
      "execution_count": null,
      "outputs": [
        {
          "output_type": "execute_result",
          "data": {
            "text/plain": [
              "\"\\nleft_shoulder  = df_select [ ['X5','Y5'] ]\\nright_shoulder = df_select [ ['X6','Y6'] ]\\nleft_elbow     = df_select [ ['X7','Y7'] ]\\nright_elbow    = df_select [ ['X8','Y8'] ]\\n\""
            ],
            "application/vnd.google.colaboratory.intrinsic+json": {
              "type": "string"
            }
          },
          "metadata": {},
          "execution_count": 81
        }
      ]
    },
    {
      "cell_type": "code",
      "source": [
        "tls = right_shoulder,left_shoulder, left_elbow  #triplet_left_shoulder\n",
        "trs = left_shoulder,right_shoulder, right_elbow #triplet_right_shoulder\n",
        "\n",
        "p0 = [ tls[0].iloc[:,0],  tls[0].iloc[:,1] ]\n",
        "c  = [ tls[1].iloc[:,0],  tls[1].iloc[:,1] ]\n",
        "p1 = [ tls[2].iloc[:,0],  tls[2].iloc[:,1] ]\n",
        "tls_degrees = calculate_angle(p0,c,p1, output=False) [1]\n",
        "\n",
        "p0 = [ trs[0].iloc[:,0],  trs[0].iloc[:,1] ]\n",
        "c  = [ trs[1].iloc[:,0],  trs[1].iloc[:,1] ]\n",
        "p1 = [ trs[2].iloc[:,0],  trs[2].iloc[:,1] ]\n",
        "trs_degrees = calculate_angle(p0,c,p1, output=False) [1]\n",
        "\n",
        "del p0\n",
        "del c\n",
        "del p1\n",
        "\n",
        "del left_shoulder\n",
        "del right_shoulder\n",
        "del left_elbow\n",
        "del right_elbow\n"
      ],
      "metadata": {
        "colab": {
          "base_uri": "https://localhost:8080/"
        },
        "id": "aTnGOor_ZKKX",
        "outputId": "448bdb74-6637-43f5-c361-8292cbca3097"
      },
      "execution_count": null,
      "outputs": [
        {
          "output_type": "stream",
          "name": "stderr",
          "text": [
            "/usr/local/lib/python3.10/dist-packages/pandas/core/arraylike.py:402: RuntimeWarning: invalid value encountered in arccos\n",
            "  result = getattr(ufunc, method)(*inputs, **kwargs)\n"
          ]
        }
      ]
    },
    {
      "cell_type": "code",
      "source": [
        "tls_degrees.isna().sum()"
      ],
      "metadata": {
        "colab": {
          "base_uri": "https://localhost:8080/"
        },
        "id": "ltfN7c5TZTuk",
        "outputId": "bb2e94f9-892d-4ebe-ba7f-45b562691922"
      },
      "execution_count": null,
      "outputs": [
        {
          "output_type": "execute_result",
          "data": {
            "text/plain": [
              "1285"
            ]
          },
          "metadata": {},
          "execution_count": 83
        }
      ]
    },
    {
      "cell_type": "code",
      "source": [
        "trs_degrees.isna().sum()"
      ],
      "metadata": {
        "colab": {
          "base_uri": "https://localhost:8080/"
        },
        "id": "w_EXrXI2abH2",
        "outputId": "e8733556-c4a1-4d7f-d720-4f6a402ea8e8"
      },
      "execution_count": null,
      "outputs": [
        {
          "output_type": "execute_result",
          "data": {
            "text/plain": [
              "1325"
            ]
          },
          "metadata": {},
          "execution_count": 84
        }
      ]
    },
    {
      "cell_type": "code",
      "source": [
        "# Using DataFrame.insert() to add a column\n",
        "\n",
        "X.insert(loc=len(X.columns), column=\"l_shoulder\", value=tls_degrees, allow_duplicates=False)\n",
        "X.insert(loc=len(X.columns), column=\"r_shoulder\", value=trs_degrees, allow_duplicates=False)\n",
        "'''\n",
        "df_select.insert(loc=len(df_select.columns), column=\"l_shoulder\", value=tls_degrees, allow_duplicates=False)\n",
        "df_select.insert(loc=len(df_select.columns), column=\"r_shoulder\", value=trs_degrees, allow_duplicates=False)\n",
        "'''"
      ],
      "metadata": {
        "id": "4NE_VzHZZRJX",
        "colab": {
          "base_uri": "https://localhost:8080/",
          "height": 35
        },
        "outputId": "a27e25b6-72a1-443e-801e-b0cd65b64229"
      },
      "execution_count": null,
      "outputs": [
        {
          "output_type": "execute_result",
          "data": {
            "text/plain": [
              "'\\ndf_select.insert(loc=len(df_select.columns), column=\"l_shoulder\", value=tls_degrees, allow_duplicates=False)\\ndf_select.insert(loc=len(df_select.columns), column=\"r_shoulder\", value=trs_degrees, allow_duplicates=False)\\n'"
            ],
            "application/vnd.google.colaboratory.intrinsic+json": {
              "type": "string"
            }
          },
          "metadata": {},
          "execution_count": 85
        }
      ]
    },
    {
      "cell_type": "code",
      "source": [
        "# First, we need to create a new column to identify the chunks of 1000 rows\n",
        "X['chunk'] = X.index // 1000\n",
        "Y['chunk'] = Y.index // 1000\n",
        "\n",
        "X['chunk'].unique()"
      ],
      "metadata": {
        "id": "BOyCGl9mLLHu"
      },
      "execution_count": null,
      "outputs": []
    },
    {
      "cell_type": "code",
      "source": [
        "X['chunk'].value_counts(normalize=True)"
      ],
      "metadata": {
        "colab": {
          "base_uri": "https://localhost:8080/"
        },
        "id": "bzeF3v1eNBgo",
        "outputId": "e629a4ad-1160-4a52-84d4-88f2655a0597"
      },
      "execution_count": null,
      "outputs": [
        {
          "output_type": "execute_result",
          "data": {
            "text/plain": [
              "0       0.000805\n",
              "825     0.000805\n",
              "832     0.000805\n",
              "831     0.000805\n",
              "830     0.000805\n",
              "          ...   \n",
              "413     0.000805\n",
              "412     0.000805\n",
              "411     0.000805\n",
              "410     0.000805\n",
              "1241    0.000805\n",
              "Name: chunk, Length: 1242, dtype: float64"
            ]
          },
          "metadata": {},
          "execution_count": 87
        }
      ]
    },
    {
      "cell_type": "code",
      "source": [
        "# how much data will go to the TEST dataset\n",
        "cur_test_size = 0.3 #30%\n",
        "\n",
        "# Now, we can use the numpy.random.choice function to randomly select chunks for the test set\n",
        "test_chunks = np.random.choice(X['chunk'].unique(), size=int(len(X['chunk'].unique())*cur_test_size), replace=False)"
      ],
      "metadata": {
        "id": "Bz1i1SLValb8"
      },
      "execution_count": null,
      "outputs": []
    },
    {
      "cell_type": "code",
      "source": [
        "print(len(test_chunks))"
      ],
      "metadata": {
        "colab": {
          "base_uri": "https://localhost:8080/"
        },
        "id": "6gPC7fVjau-H",
        "outputId": "b96ffb77-cb3f-44e9-85cd-671573395a7c"
      },
      "execution_count": null,
      "outputs": [
        {
          "output_type": "stream",
          "name": "stdout",
          "text": [
            "372\n"
          ]
        }
      ]
    },
    {
      "cell_type": "code",
      "source": [
        "# Split the DataFrame into train and test subsets\n",
        "\n",
        "#ORIGINAL:\n",
        "#from sklearn.model_selection import train_test_split\n",
        "#X_train, X_test, Y_train, Y_test = train_test_split( X, Y, test_size=cur_test_size, shuffle=False, stratify=None, random_state=None)\n",
        "\n",
        "\n",
        "\n",
        "# We can then use the isin method to create a boolean mask to select the rows for the test set\n",
        "test_mask = X['chunk'].isin(test_chunks)\n",
        "\n",
        "# Finally, we can use the boolean mask to split the data into train and test sets\n",
        "X_train = X[~test_mask]\n",
        "X_test = X[test_mask]\n",
        "\n",
        "Y_train = Y[~test_mask]\n",
        "Y_test = Y[test_mask]"
      ],
      "metadata": {
        "id": "jwky7u8UbEQo"
      },
      "execution_count": null,
      "outputs": []
    },
    {
      "cell_type": "code",
      "source": [
        "print('X Train shape:', X_train.shape)\n",
        "print('X Test shape:', X_test.shape)\n",
        "\n",
        "print('Y Train shape:',  Y_train.shape)\n",
        "print('Y Test shape:',   Y_test.shape)"
      ],
      "metadata": {
        "colab": {
          "base_uri": "https://localhost:8080/"
        },
        "id": "Qtb90khATJO2",
        "outputId": "fc22fac5-d8ec-46ca-a653-3a2b6f9a2c2c"
      },
      "execution_count": null,
      "outputs": [
        {
          "output_type": "stream",
          "name": "stdout",
          "text": [
            "X Train shape: (870000, 26)\n",
            "X Test shape: (372000, 26)\n",
            "Y Train shape: (870000, 11)\n",
            "Y Test shape: (372000, 11)\n"
          ]
        }
      ]
    },
    {
      "cell_type": "code",
      "source": [
        "X_test['chunk'].value_counts(normalize=True)"
      ],
      "metadata": {
        "colab": {
          "base_uri": "https://localhost:8080/"
        },
        "id": "MLN49sBSb0wC",
        "outputId": "7aa35a31-153c-4264-e070-37270ebf65cd"
      },
      "execution_count": null,
      "outputs": [
        {
          "output_type": "execute_result",
          "data": {
            "text/plain": [
              "0       0.002688\n",
              "751     0.002688\n",
              "788     0.002688\n",
              "777     0.002688\n",
              "774     0.002688\n",
              "          ...   \n",
              "385     0.002688\n",
              "380     0.002688\n",
              "378     0.002688\n",
              "377     0.002688\n",
              "1240    0.002688\n",
              "Name: chunk, Length: 372, dtype: float64"
            ]
          },
          "metadata": {},
          "execution_count": 99
        }
      ]
    },
    {
      "cell_type": "code",
      "source": [
        "X_train['chunk'].value_counts(normalize=True)"
      ],
      "metadata": {
        "colab": {
          "base_uri": "https://localhost:8080/"
        },
        "id": "ZMaeZN7vb2L8",
        "outputId": "07e2baad-f60e-44b5-f269-ccf8e1c9e571"
      },
      "execution_count": null,
      "outputs": [
        {
          "output_type": "execute_result",
          "data": {
            "text/plain": [
              "2       0.001149\n",
              "851     0.001149\n",
              "836     0.001149\n",
              "837     0.001149\n",
              "839     0.001149\n",
              "          ...   \n",
              "431     0.001149\n",
              "432     0.001149\n",
              "433     0.001149\n",
              "434     0.001149\n",
              "1241    0.001149\n",
              "Name: chunk, Length: 870, dtype: float64"
            ]
          },
          "metadata": {},
          "execution_count": 100
        }
      ]
    },
    {
      "cell_type": "code",
      "source": [
        "# Sort the DataFrame by index\n",
        "X_test.sort_index(ascending=True, inplace=True)\n",
        "X_test[['date','chunk']].head(1005)\n",
        "\n",
        "# IT SHOULD BE CONTINUOUS for 1000 rows !"
      ],
      "metadata": {
        "colab": {
          "base_uri": "https://localhost:8080/",
          "height": 423
        },
        "id": "E60w9nQ-cK_u",
        "outputId": "e721d0e9-ea27-4730-a65d-9b583c544e73"
      },
      "execution_count": null,
      "outputs": [
        {
          "output_type": "execute_result",
          "data": {
            "text/plain": [
              "                    date  chunk\n",
              "0    2021-03-21 10:58:00      0\n",
              "1    2021-03-21 10:58:01      0\n",
              "2    2021-03-21 10:58:02      0\n",
              "3    2021-03-21 10:58:03      0\n",
              "4    2021-03-21 10:58:04      0\n",
              "...                  ...    ...\n",
              "1000 2021-03-21 11:14:50      1\n",
              "1001 2021-03-21 11:14:51      1\n",
              "1002 2021-03-21 11:14:52      1\n",
              "1003 2021-03-21 11:14:53      1\n",
              "1004 2021-03-21 11:14:54      1\n",
              "\n",
              "[1005 rows x 2 columns]"
            ],
            "text/html": [
              "\n",
              "\n",
              "  <div id=\"df-708460fb-786b-46a2-9325-d89df49ffa3d\">\n",
              "    <div class=\"colab-df-container\">\n",
              "      <div>\n",
              "<style scoped>\n",
              "    .dataframe tbody tr th:only-of-type {\n",
              "        vertical-align: middle;\n",
              "    }\n",
              "\n",
              "    .dataframe tbody tr th {\n",
              "        vertical-align: top;\n",
              "    }\n",
              "\n",
              "    .dataframe thead th {\n",
              "        text-align: right;\n",
              "    }\n",
              "</style>\n",
              "<table border=\"1\" class=\"dataframe\">\n",
              "  <thead>\n",
              "    <tr style=\"text-align: right;\">\n",
              "      <th></th>\n",
              "      <th>date</th>\n",
              "      <th>chunk</th>\n",
              "    </tr>\n",
              "  </thead>\n",
              "  <tbody>\n",
              "    <tr>\n",
              "      <th>0</th>\n",
              "      <td>2021-03-21 10:58:00</td>\n",
              "      <td>0</td>\n",
              "    </tr>\n",
              "    <tr>\n",
              "      <th>1</th>\n",
              "      <td>2021-03-21 10:58:01</td>\n",
              "      <td>0</td>\n",
              "    </tr>\n",
              "    <tr>\n",
              "      <th>2</th>\n",
              "      <td>2021-03-21 10:58:02</td>\n",
              "      <td>0</td>\n",
              "    </tr>\n",
              "    <tr>\n",
              "      <th>3</th>\n",
              "      <td>2021-03-21 10:58:03</td>\n",
              "      <td>0</td>\n",
              "    </tr>\n",
              "    <tr>\n",
              "      <th>4</th>\n",
              "      <td>2021-03-21 10:58:04</td>\n",
              "      <td>0</td>\n",
              "    </tr>\n",
              "    <tr>\n",
              "      <th>...</th>\n",
              "      <td>...</td>\n",
              "      <td>...</td>\n",
              "    </tr>\n",
              "    <tr>\n",
              "      <th>1000</th>\n",
              "      <td>2021-03-21 11:14:50</td>\n",
              "      <td>1</td>\n",
              "    </tr>\n",
              "    <tr>\n",
              "      <th>1001</th>\n",
              "      <td>2021-03-21 11:14:51</td>\n",
              "      <td>1</td>\n",
              "    </tr>\n",
              "    <tr>\n",
              "      <th>1002</th>\n",
              "      <td>2021-03-21 11:14:52</td>\n",
              "      <td>1</td>\n",
              "    </tr>\n",
              "    <tr>\n",
              "      <th>1003</th>\n",
              "      <td>2021-03-21 11:14:53</td>\n",
              "      <td>1</td>\n",
              "    </tr>\n",
              "    <tr>\n",
              "      <th>1004</th>\n",
              "      <td>2021-03-21 11:14:54</td>\n",
              "      <td>1</td>\n",
              "    </tr>\n",
              "  </tbody>\n",
              "</table>\n",
              "<p>1005 rows × 2 columns</p>\n",
              "</div>\n",
              "      <button class=\"colab-df-convert\" onclick=\"convertToInteractive('df-708460fb-786b-46a2-9325-d89df49ffa3d')\"\n",
              "              title=\"Convert this dataframe to an interactive table.\"\n",
              "              style=\"display:none;\">\n",
              "\n",
              "  <svg xmlns=\"http://www.w3.org/2000/svg\" height=\"24px\"viewBox=\"0 0 24 24\"\n",
              "       width=\"24px\">\n",
              "    <path d=\"M0 0h24v24H0V0z\" fill=\"none\"/>\n",
              "    <path d=\"M18.56 5.44l.94 2.06.94-2.06 2.06-.94-2.06-.94-.94-2.06-.94 2.06-2.06.94zm-11 1L8.5 8.5l.94-2.06 2.06-.94-2.06-.94L8.5 2.5l-.94 2.06-2.06.94zm10 10l.94 2.06.94-2.06 2.06-.94-2.06-.94-.94-2.06-.94 2.06-2.06.94z\"/><path d=\"M17.41 7.96l-1.37-1.37c-.4-.4-.92-.59-1.43-.59-.52 0-1.04.2-1.43.59L10.3 9.45l-7.72 7.72c-.78.78-.78 2.05 0 2.83L4 21.41c.39.39.9.59 1.41.59.51 0 1.02-.2 1.41-.59l7.78-7.78 2.81-2.81c.8-.78.8-2.07 0-2.86zM5.41 20L4 18.59l7.72-7.72 1.47 1.35L5.41 20z\"/>\n",
              "  </svg>\n",
              "      </button>\n",
              "\n",
              "\n",
              "\n",
              "    <div id=\"df-a36f7644-627f-4536-8082-2ff0791d9591\">\n",
              "      <button class=\"colab-df-quickchart\" onclick=\"quickchart('df-a36f7644-627f-4536-8082-2ff0791d9591')\"\n",
              "              title=\"Suggest charts.\"\n",
              "              style=\"display:none;\">\n",
              "\n",
              "<svg xmlns=\"http://www.w3.org/2000/svg\" height=\"24px\"viewBox=\"0 0 24 24\"\n",
              "     width=\"24px\">\n",
              "    <g>\n",
              "        <path d=\"M19 3H5c-1.1 0-2 .9-2 2v14c0 1.1.9 2 2 2h14c1.1 0 2-.9 2-2V5c0-1.1-.9-2-2-2zM9 17H7v-7h2v7zm4 0h-2V7h2v10zm4 0h-2v-4h2v4z\"/>\n",
              "    </g>\n",
              "</svg>\n",
              "      </button>\n",
              "    </div>\n",
              "\n",
              "<style>\n",
              "  .colab-df-quickchart {\n",
              "    background-color: #E8F0FE;\n",
              "    border: none;\n",
              "    border-radius: 50%;\n",
              "    cursor: pointer;\n",
              "    display: none;\n",
              "    fill: #1967D2;\n",
              "    height: 32px;\n",
              "    padding: 0 0 0 0;\n",
              "    width: 32px;\n",
              "  }\n",
              "\n",
              "  .colab-df-quickchart:hover {\n",
              "    background-color: #E2EBFA;\n",
              "    box-shadow: 0px 1px 2px rgba(60, 64, 67, 0.3), 0px 1px 3px 1px rgba(60, 64, 67, 0.15);\n",
              "    fill: #174EA6;\n",
              "  }\n",
              "\n",
              "  [theme=dark] .colab-df-quickchart {\n",
              "    background-color: #3B4455;\n",
              "    fill: #D2E3FC;\n",
              "  }\n",
              "\n",
              "  [theme=dark] .colab-df-quickchart:hover {\n",
              "    background-color: #434B5C;\n",
              "    box-shadow: 0px 1px 3px 1px rgba(0, 0, 0, 0.15);\n",
              "    filter: drop-shadow(0px 1px 2px rgba(0, 0, 0, 0.3));\n",
              "    fill: #FFFFFF;\n",
              "  }\n",
              "</style>\n",
              "\n",
              "    <script>\n",
              "      async function quickchart(key) {\n",
              "        const containerElement = document.querySelector('#' + key);\n",
              "        const charts = await google.colab.kernel.invokeFunction(\n",
              "            'suggestCharts', [key], {});\n",
              "      }\n",
              "    </script>\n",
              "\n",
              "      <script>\n",
              "\n",
              "function displayQuickchartButton(domScope) {\n",
              "  let quickchartButtonEl =\n",
              "    domScope.querySelector('#df-a36f7644-627f-4536-8082-2ff0791d9591 button.colab-df-quickchart');\n",
              "  quickchartButtonEl.style.display =\n",
              "    google.colab.kernel.accessAllowed ? 'block' : 'none';\n",
              "}\n",
              "\n",
              "        displayQuickchartButton(document);\n",
              "      </script>\n",
              "      <style>\n",
              "    .colab-df-container {\n",
              "      display:flex;\n",
              "      flex-wrap:wrap;\n",
              "      gap: 12px;\n",
              "    }\n",
              "\n",
              "    .colab-df-convert {\n",
              "      background-color: #E8F0FE;\n",
              "      border: none;\n",
              "      border-radius: 50%;\n",
              "      cursor: pointer;\n",
              "      display: none;\n",
              "      fill: #1967D2;\n",
              "      height: 32px;\n",
              "      padding: 0 0 0 0;\n",
              "      width: 32px;\n",
              "    }\n",
              "\n",
              "    .colab-df-convert:hover {\n",
              "      background-color: #E2EBFA;\n",
              "      box-shadow: 0px 1px 2px rgba(60, 64, 67, 0.3), 0px 1px 3px 1px rgba(60, 64, 67, 0.15);\n",
              "      fill: #174EA6;\n",
              "    }\n",
              "\n",
              "    [theme=dark] .colab-df-convert {\n",
              "      background-color: #3B4455;\n",
              "      fill: #D2E3FC;\n",
              "    }\n",
              "\n",
              "    [theme=dark] .colab-df-convert:hover {\n",
              "      background-color: #434B5C;\n",
              "      box-shadow: 0px 1px 3px 1px rgba(0, 0, 0, 0.15);\n",
              "      filter: drop-shadow(0px 1px 2px rgba(0, 0, 0, 0.3));\n",
              "      fill: #FFFFFF;\n",
              "    }\n",
              "  </style>\n",
              "\n",
              "      <script>\n",
              "        const buttonEl =\n",
              "          document.querySelector('#df-708460fb-786b-46a2-9325-d89df49ffa3d button.colab-df-convert');\n",
              "        buttonEl.style.display =\n",
              "          google.colab.kernel.accessAllowed ? 'block' : 'none';\n",
              "\n",
              "        async function convertToInteractive(key) {\n",
              "          const element = document.querySelector('#df-708460fb-786b-46a2-9325-d89df49ffa3d');\n",
              "          const dataTable =\n",
              "            await google.colab.kernel.invokeFunction('convertToInteractive',\n",
              "                                                     [key], {});\n",
              "          if (!dataTable) return;\n",
              "\n",
              "          const docLinkHtml = 'Like what you see? Visit the ' +\n",
              "            '<a target=\"_blank\" href=https://colab.research.google.com/notebooks/data_table.ipynb>data table notebook</a>'\n",
              "            + ' to learn more about interactive tables.';\n",
              "          element.innerHTML = '';\n",
              "          dataTable['output_type'] = 'display_data';\n",
              "          await google.colab.output.renderOutput(dataTable, element);\n",
              "          const docLink = document.createElement('div');\n",
              "          docLink.innerHTML = docLinkHtml;\n",
              "          element.appendChild(docLink);\n",
              "        }\n",
              "      </script>\n",
              "    </div>\n",
              "  </div>\n"
            ]
          },
          "metadata": {},
          "execution_count": 104
        }
      ]
    },
    {
      "cell_type": "code",
      "source": [
        "# Finally, we can drop the \"chunk\" column from the train and test sets\n",
        "'''\n",
        "X_train = X_train.drop('chunk', axis=1)\n",
        "X_test = X_test.drop('chunk', axis=1)\n",
        "\n",
        "Y_train = Y_train.drop('chunk', axis=1)\n",
        "Y_test = Y_test.drop('chunk', axis=1)\n",
        "'''"
      ],
      "metadata": {
        "colab": {
          "base_uri": "https://localhost:8080/",
          "height": 35
        },
        "id": "VhnMvQM3NSwj",
        "outputId": "78c54641-945b-4fcf-a7df-5df2a873d35f"
      },
      "execution_count": null,
      "outputs": [
        {
          "output_type": "execute_result",
          "data": {
            "text/plain": [
              "\"\\nX_train = X_train.drop('chunk', axis=1)\\nX_test = X_test.drop('chunk', axis=1)\\n\\nY_train = Y_train.drop('chunk', axis=1)\\nY_test = Y_test.drop('chunk', axis=1)\\n\""
            ],
            "application/vnd.google.colaboratory.intrinsic+json": {
              "type": "string"
            }
          },
          "metadata": {},
          "execution_count": 89
        }
      ]
    },
    {
      "cell_type": "code",
      "source": [
        "# Legacy:\n",
        "# it was removing fragments smaller than 300 after random mixing in text/train\n",
        "# it does not work no longer\n",
        "'''\n",
        "X_train = highlight_fragments( X_train, 300, if_message=True)\n",
        "X_test  = highlight_fragments( X_test , 300, if_message=True)\n",
        "#\n",
        "Y_train = highlight_fragments( Y_train, 300, if_message=True)\n",
        "Y_test  = highlight_fragments( Y_test , 300, if_message=True)\n",
        "\n",
        "# Group the dataframe by \"fragment\" and apply the custom function to each group\n",
        "X_train = X_train.groupby('fragment').apply(cut_to_multiple_of_1000).reset_index(drop=True)\n",
        "X_test  = X_test.groupby ('fragment').apply(cut_to_multiple_of_1000).reset_index(drop=True)\n",
        "#\n",
        "Y_train = Y_train.groupby('fragment').apply(cut_to_multiple_of_1000).reset_index(drop=True)\n",
        "Y_test  = Y_test.groupby ('fragment').apply(cut_to_multiple_of_1000).reset_index(drop=True)\n",
        "\n",
        "# Calculate the number of occurrences of each class in the \"fragment\" column\n",
        "fragment_counts_TRAIN = X_train['fragment'].value_counts()\n",
        "fragment_counts_TEST  = X_test ['fragment'].value_counts()\n",
        "\n",
        "X_train = X_train.drop('fragment', axis=1)\n",
        "X_test = X_test.drop('fragment', axis=1)\n",
        "\n",
        "Y_train = Y_train.drop('fragment', axis=1)\n",
        "Y_test = Y_test.drop('fragment', axis=1)\n",
        "'''\n",
        "\n",
        "\n",
        "'''\n",
        "# save the Series to a text file\n",
        "fragment_counts_TRAIN.to_csv('aaa_train.txt', index=False, header=False)\n",
        "fragment_counts_TEST .to_csv('aaa_test.txt', index=False, header=False)\n",
        "'''"
      ],
      "metadata": {
        "id": "AXMkF2Ajo8g1",
        "colab": {
          "base_uri": "https://localhost:8080/",
          "height": 35
        },
        "outputId": "4623c150-7004-4b2b-fda8-98c19b75c63d"
      },
      "execution_count": null,
      "outputs": [
        {
          "output_type": "execute_result",
          "data": {
            "text/plain": [
              "\"\\n# save the Series to a text file\\nfragment_counts_TRAIN.to_csv('aaa_train.txt', index=False, header=False)\\nfragment_counts_TEST .to_csv('aaa_test.txt', index=False, header=False)\\n\""
            ],
            "application/vnd.google.colaboratory.intrinsic+json": {
              "type": "string"
            }
          },
          "metadata": {},
          "execution_count": 90
        }
      ]
    },
    {
      "cell_type": "code",
      "source": [
        "X_train = X_train.drop('date', axis=1)\n",
        "X_test = X_test.drop('date', axis=1)"
      ],
      "metadata": {
        "id": "5RJcc8U-cSq6"
      },
      "execution_count": null,
      "outputs": []
    },
    {
      "cell_type": "code",
      "source": [
        "print(len(X_test))\n",
        "print(len(X_train))"
      ],
      "metadata": {
        "colab": {
          "base_uri": "https://localhost:8080/"
        },
        "id": "qMl1mkh3pAOd",
        "outputId": "c0f2391e-274d-4b45-b5cf-5afb7afa91b7"
      },
      "execution_count": null,
      "outputs": [
        {
          "output_type": "stream",
          "name": "stdout",
          "text": [
            "372000\n",
            "870000\n"
          ]
        }
      ]
    },
    {
      "cell_type": "code",
      "source": [
        "Y_train['NIHSS'].unique()"
      ],
      "metadata": {
        "colab": {
          "base_uri": "https://localhost:8080/"
        },
        "id": "z4VpDjUl8nwJ",
        "outputId": "6d3a530f-94d6-47c3-925d-5188581053c7"
      },
      "execution_count": null,
      "outputs": [
        {
          "output_type": "execute_result",
          "data": {
            "text/plain": [
              "array([6., 3., 8., 0., 1., 4., 2., 5.])"
            ]
          },
          "metadata": {},
          "execution_count": 109
        }
      ]
    },
    {
      "cell_type": "code",
      "source": [
        "print('X Train shape:', X_train.shape)\n",
        "print('X Test shape:', X_test.shape)\n",
        "\n",
        "print('Y Train shape:',  Y_train.shape)\n",
        "print('Y Test shape:',   Y_test.shape)"
      ],
      "metadata": {
        "colab": {
          "base_uri": "https://localhost:8080/"
        },
        "id": "gkGiKerscr0k",
        "outputId": "99c55edc-227f-4309-ebe8-b3aa67eb4a55"
      },
      "execution_count": null,
      "outputs": [
        {
          "output_type": "stream",
          "name": "stdout",
          "text": [
            "X Train shape: (870000, 25)\n",
            "X Test shape: (372000, 25)\n",
            "Y Train shape: (870000, 10)\n",
            "Y Test shape: (372000, 11)\n"
          ]
        }
      ]
    },
    {
      "cell_type": "code",
      "source": [
        "os.chdir(PATH_to_process)"
      ],
      "metadata": {
        "id": "U8bzxEiqzPcm"
      },
      "execution_count": null,
      "outputs": []
    },
    {
      "cell_type": "code",
      "source": [
        "\n",
        "# Save the array as a .csv file\n",
        "\n",
        "X_test.to_csv('X_test2.csv', index=False)\n",
        "X_train.to_csv('X_train2.csv', index=False)\n",
        "Y_test.to_csv('Y_test2.csv', index=False)\n",
        "Y_train.to_csv('Y_train2.csv', index=False)\n",
        "\n",
        "'''\n",
        "len(df_select)\n",
        "\n",
        "# save csv\n",
        "df_select.to_csv('full.csv', index=False)\n",
        "\n",
        "# Convert the DataFrame to a NumPy array\n",
        "npy_full = df_select.to_numpy()\n",
        "\n",
        "# Save the NumPy array to a .npy file\n",
        "np.save('full.npy', npy_full)\n",
        "'''"
      ],
      "metadata": {
        "id": "fiM4aN6AqQNc",
        "colab": {
          "base_uri": "https://localhost:8080/",
          "height": 35
        },
        "outputId": "dcfde532-32f8-4049-f507-41e4283ecd32"
      },
      "execution_count": null,
      "outputs": [
        {
          "output_type": "execute_result",
          "data": {
            "text/plain": [
              "\"\\nlen(df_select)\\n\\n# save csv\\ndf_select.to_csv('full.csv', index=False)\\n\\n# Convert the DataFrame to a NumPy array\\nnpy_full = df_select.to_numpy()\\n\\n# Save the NumPy array to a .npy file\\nnp.save('full.npy', npy_full)\\n\""
            ],
            "application/vnd.google.colaboratory.intrinsic+json": {
              "type": "string"
            }
          },
          "metadata": {},
          "execution_count": 112
        }
      ]
    },
    {
      "cell_type": "code",
      "source": [],
      "metadata": {
        "colab": {
          "base_uri": "https://localhost:8080/"
        },
        "id": "vwgzv2yuF2-7",
        "outputId": "c6290c60-df13-4445-d40d-da0b39f15b45"
      },
      "execution_count": null,
      "outputs": [
        {
          "output_type": "execute_result",
          "data": {
            "text/plain": [
              "1018000"
            ]
          },
          "metadata": {},
          "execution_count": 151
        }
      ]
    },
    {
      "cell_type": "code",
      "source": [],
      "metadata": {
        "id": "UCdg7fgms5sV"
      },
      "execution_count": null,
      "outputs": []
    },
    {
      "cell_type": "code",
      "source": [],
      "metadata": {
        "id": "H9cXXqa9s5Q3"
      },
      "execution_count": null,
      "outputs": []
    },
    {
      "cell_type": "code",
      "source": [],
      "metadata": {
        "id": "DgR2IlLks5Ac"
      },
      "execution_count": null,
      "outputs": []
    },
    {
      "cell_type": "code",
      "source": [],
      "metadata": {
        "id": "BA22jG1DHQ3n"
      },
      "execution_count": null,
      "outputs": []
    },
    {
      "cell_type": "code",
      "source": [],
      "metadata": {
        "id": "AhzYqjzQTJDe"
      },
      "execution_count": null,
      "outputs": []
    },
    {
      "cell_type": "code",
      "source": [
        "import numpy as np\n",
        "import seaborn as sns\n",
        "import matplotlib.pyplot as plt\n",
        "from sklearn.metrics import confusion_matrix\n",
        "\n",
        "# Sample predicted and true values\n",
        "#predicted = np.array([1, 0, 1, 1, 0, 1, 0, 1, 0, 1])\n",
        "#true = np.array([1, 0, 0, 1, 0, 1, 0, 0, 0, 1])\n",
        "\n",
        "# Calculate confusion matrix\n",
        "#cm = confusion_matrix(true, predicted)\n",
        "cm = [[453629,246371],[165458,284674]]\n",
        "\n",
        "# Create a heatmap of the confusion matrix\n",
        "plt.figure(figsize=(6, 5))\n",
        "#sns.heatmap(cm, annot=True,  cmap=\"Blues\", xticklabels=[\"minor\", \"moderate\"], yticklabels=[\"minor\", \"moderate\"]) #fmt=\"d\",\n",
        "\n",
        "sns.set(font_scale = 2)\n",
        "sns.heatmap(cm, annot=True, cmap=\"Blues\", xticklabels=[\"minor\", \"moderate\"], yticklabels=[\"minor\", \"moderate\"], cbar=False, annot_kws={\"size\": 18}) #fmt=\"d\",\n",
        "plt.xlabel('Predicted', fontsize=20)\n",
        "plt.ylabel('True', fontsize=20)\n",
        "plt.title('Confusion Matrix', fontsize=20)\n",
        "plt.show()"
      ],
      "metadata": {
        "id": "98tqx1PjNwRM",
        "colab": {
          "base_uri": "https://localhost:8080/",
          "height": 528
        },
        "outputId": "1b17f7a6-b6bc-4400-b436-377812f20087"
      },
      "execution_count": null,
      "outputs": [
        {
          "output_type": "display_data",
          "data": {
            "text/plain": [
              "<Figure size 600x500 with 1 Axes>"
            ],
            "image/png": "[encoded data removed]"
          },
          "metadata": {}
        }
      ]
    }
  ],
  "metadata": {
    "kernelspec": {
      "display_name": "Python 3",
      "name": "python3"
    },
    "language_info": {
      "codemirror_mode": {
        "name": "ipython",
        "version": 3
      },
      "file_extension": ".py",
      "mimetype": "text/x-python",
      "name": "python",
      "nbconvert_exporter": "python",
      "pygments_lexer": "ipython3",
      "version": "3.10.8"
    },
    "colab": {
      "provenance": []
    }
  },
  "nbformat": 4,
  "nbformat_minor": 0
}