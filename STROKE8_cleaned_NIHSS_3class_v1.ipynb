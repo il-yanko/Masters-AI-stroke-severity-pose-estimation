{
  "nbformat": 4,
  "nbformat_minor": 0,
  "metadata": {
    "colab": {
      "provenance": [],
      "gpuType": "T4"
    },
    "kernelspec": {
      "name": "python3",
      "display_name": "Python 3"
    },
    "language_info": {
      "name": "python"
    },
    "accelerator": "GPU"
  },
  "cells": [
    {
      "cell_type": "code",
      "execution_count": null,
      "metadata": {
        "colab": {
          "base_uri": "https://localhost:8080/"
        },
        "id": "G6ah_MftQly2",
        "outputId": "a753ea19-2254-4d0d-d5d9-e254bebda3ad"
      },
      "outputs": [
        {
          "output_type": "stream",
          "name": "stdout",
          "text": [
            "Drive already mounted at /content/drive; to attempt to forcibly remount, call drive.mount(\"/content/drive\", force_remount=True).\n",
            "Num GPUs Available:  1\n"
          ]
        }
      ],
      "source": [
        "from google.colab import drive\n",
        "drive.mount('/content/drive', force_remount=False)\n",
        "\n",
        "# the directory where your data is\n",
        "#PATH_to_data = '/content/drive/My Drive/STROKE_code/MMPOSE/data/patient_output/processed/NIHSS/'\n",
        "PATH_to_data = '/content/drive/My Drive/'\n",
        "import os\n",
        "os.chdir(PATH_to_data)\n",
        "import sys\n",
        "sys.path.append(PATH_to_data)\n",
        "\n",
        "import tensorflow as tf\n",
        "print(\"Num GPUs Available: \", len(tf.config.list_physical_devices('GPU')))\n",
        "\n",
        "config = tf.compat.v1.ConfigProto()\n",
        "config.gpu_options.allow_growth = True\n",
        "sess = tf.compat.v1.Session(config=config)\n",
        "tf.compat.v1.keras.backend.set_session(sess)\n",
        "\n",
        "import numpy as np\n",
        "import pandas as pd\n",
        "# Set the display option to show all columns\n",
        "pd.set_option('display.max_columns', None)\n",
        "\n",
        "#import tensorflow.keras as keras\n",
        "from tensorflow.keras import layers\n",
        "from tensorflow.keras import models\n",
        "from tensorflow.keras.optimizers import Adam\n",
        "from sklearn.model_selection import train_test_split\n",
        "from os import listdir\n",
        "from os.path import isfile, join, dirname, abspath\n",
        "\n",
        "# the length of records (if shorter, we need to add some zero rows)\n",
        "NUMBER_TIMESTEPS = 500\n",
        "# the number of features (from the data)\n",
        "NUMBER_FEATURES = 24 # 22 or 24 if you add shoulders"
      ]
    },
    {
      "cell_type": "code",
      "source": [
        "#import tensorflow.keras as keras\n",
        "from tensorflow.keras import layers\n",
        "from tensorflow.keras import models\n",
        "from tensorflow.keras.optimizers import Adam\n",
        "from sklearn.model_selection import train_test_split\n",
        "from os import listdir\n",
        "from os.path import isfile, join, dirname, abspath\n",
        "\n",
        "# the length of records (if shorter, we need to add some zero rows)\n",
        "NUMBER_TIMESTEPS = 500\n",
        "# the number of features (from the data)\n",
        "NUMBER_FEATURES = 24 # 22 or 24 if you add shoulders"
      ],
      "metadata": {
        "id": "GZyAgmWp1Pme"
      },
      "execution_count": null,
      "outputs": []
    },
    {
      "cell_type": "code",
      "source": [
        "# SPECIAL CLEANED DATASET\n",
        "#clean = pd.read_csv('cleaned_merged_stroke2.csv') #short\n",
        "clean = pd.read_csv('cleaned_slided_stroke2.csv') #long slided\n",
        "clean.head()"
      ],
      "metadata": {
        "colab": {
          "base_uri": "https://localhost:8080/",
          "height": 409
        },
        "id": "EY1n4O4AQzPK",
        "outputId": "0ef3f38e-bc50-4a8e-a8b9-84a8e2151f2f"
      },
      "execution_count": null,
      "outputs": [
        {
          "output_type": "execute_result",
          "data": {
            "text/plain": [
              "   Unnamed: 0                 date         X1          Y1         X2  \\\n",
              "0           0  2021-02-25 08:03:00  721.64610  187.571300  661.50610   \n",
              "1           1  2021-02-25 08:03:00  554.56260   96.056640  509.94162   \n",
              "2           2  2021-02-25 08:03:00  550.64575   93.133820  507.48508   \n",
              "3           3  2021-02-25 08:03:00  760.14530  167.648560  699.49820   \n",
              "4           4  2021-02-25 08:03:00  554.59580   94.403564  515.08960   \n",
              "\n",
              "          Y2         X3         Y3         X4         Y4          X5  \\\n",
              "0  180.48535  770.18270  115.90236  610.07263  184.08115  764.926157   \n",
              "1  115.88818  584.30994   86.14087  480.19430  140.67761  752.148884   \n",
              "2  114.71414  583.01636   87.73871  480.50960  136.29453  738.550565   \n",
              "3  170.96321  748.58630  204.45068  677.13904  212.35374  726.508893   \n",
              "4  114.15665  584.22546   89.46530  485.46000  138.84805  722.878121   \n",
              "\n",
              "           Y5          X6          Y6          X7          Y7          X8  \\\n",
              "0  151.742643  604.526414  223.929339  856.758329  180.821920  618.875212   \n",
              "1  155.759889  601.858466  226.622002  844.162889  188.988036  616.003451   \n",
              "2  162.262048  595.535127  233.227808  830.029887  204.804058  609.543101   \n",
              "3  164.685014  591.701948  234.889503  819.358572  209.783454  604.199422   \n",
              "4  159.803916  585.487526  231.860448  816.644089  208.374901  594.898580   \n",
              "\n",
              "           Y8          X9          Y9         X10         Y10     l_degr  \\\n",
              "0  365.228554  881.531196  218.900107  678.567997  386.479011  127.34059   \n",
              "1  367.843641  872.367358  224.993303  676.468194  377.727612  141.34018   \n",
              "2  374.601431  862.355175  243.420316  669.931443  377.372595  142.98010   \n",
              "3  375.832088  853.826304  246.299315  665.522481  370.489994  106.19508   \n",
              "4  372.783771  854.216839  249.863460  656.507793  367.448240  145.67882   \n",
              "\n",
              "       r_degr       day  hour  minute  if_nobody  if_multiple_people  \\\n",
              "0  115.394035  20210225     8       3      False                True   \n",
              "1  105.003600  20210225     8       3      False               False   \n",
              "2   98.286075  20210225     8       3      False               False   \n",
              "3   90.088510  20210225     8       3      False                True   \n",
              "4   88.870993  20210225     8       3      False               False   \n",
              "\n",
              "  patient_ID Date of visit  NIHSS  L Motor Arm Score  R Motor Arm Score  \\\n",
              "0      BC_09    2021-02-25      3                  3                  0   \n",
              "1      BC_09    2021-02-25      3                  3                  0   \n",
              "2      BC_09    2021-02-25      3                  3                  0   \n",
              "3      BC_09    2021-02-25      3                  3                  0   \n",
              "4      BC_09    2021-02-25      3                  3                  0   \n",
              "\n",
              "   L Motor Leg Score  R Motor Leg Score  left-opposite-2  right-opposite-2  \\\n",
              "0                  0                  0                2                 0   \n",
              "1                  0                  0                2                 0   \n",
              "2                  0                  0                2                 0   \n",
              "3                  0                  0                2                 0   \n",
              "4                  0                  0                2                 0   \n",
              "\n",
              "   left-2  right-2  fragment  l_shoulder  r_shoulder  new_fragment  \n",
              "0       1        0         5  159.322756  111.197974             0  \n",
              "1       1        0         5  122.757627   99.516033             0  \n",
              "2       1        0         5  122.347439  100.392060             0  \n",
              "3       1        0         5  128.200295   88.757398             0  \n",
              "4       1        0         5  122.869366  102.298238             0  "
            ],
            "text/html": [
              "\n",
              "\n",
              "  <div id=\"df-38b220d7-bdeb-439d-97cf-2c24a504b669\">\n",
              "    <div class=\"colab-df-container\">\n",
              "      <div>\n",
              "<style scoped>\n",
              "    .dataframe tbody tr th:only-of-type {\n",
              "        vertical-align: middle;\n",
              "    }\n",
              "\n",
              "    .dataframe tbody tr th {\n",
              "        vertical-align: top;\n",
              "    }\n",
              "\n",
              "    .dataframe thead th {\n",
              "        text-align: right;\n",
              "    }\n",
              "</style>\n",
              "<table border=\"1\" class=\"dataframe\">\n",
              "  <thead>\n",
              "    <tr style=\"text-align: right;\">\n",
              "      <th></th>\n",
              "      <th>Unnamed: 0</th>\n",
              "      <th>date</th>\n",
              "      <th>X1</th>\n",
              "      <th>Y1</th>\n",
              "      <th>X2</th>\n",
              "      <th>Y2</th>\n",
              "      <th>X3</th>\n",
              "      <th>Y3</th>\n",
              "      <th>X4</th>\n",
              "      <th>Y4</th>\n",
              "      <th>X5</th>\n",
              "      <th>Y5</th>\n",
              "      <th>X6</th>\n",
              "      <th>Y6</th>\n",
              "      <th>X7</th>\n",
              "      <th>Y7</th>\n",
              "      <th>X8</th>\n",
              "      <th>Y8</th>\n",
              "      <th>X9</th>\n",
              "      <th>Y9</th>\n",
              "      <th>X10</th>\n",
              "      <th>Y10</th>\n",
              "      <th>l_degr</th>\n",
              "      <th>r_degr</th>\n",
              "      <th>day</th>\n",
              "      <th>hour</th>\n",
              "      <th>minute</th>\n",
              "      <th>if_nobody</th>\n",
              "      <th>if_multiple_people</th>\n",
              "      <th>patient_ID</th>\n",
              "      <th>Date of visit</th>\n",
              "      <th>NIHSS</th>\n",
              "      <th>L Motor Arm Score</th>\n",
              "      <th>R Motor Arm Score</th>\n",
              "      <th>L Motor Leg Score</th>\n",
              "      <th>R Motor Leg Score</th>\n",
              "      <th>left-opposite-2</th>\n",
              "      <th>right-opposite-2</th>\n",
              "      <th>left-2</th>\n",
              "      <th>right-2</th>\n",
              "      <th>fragment</th>\n",
              "      <th>l_shoulder</th>\n",
              "      <th>r_shoulder</th>\n",
              "      <th>new_fragment</th>\n",
              "    </tr>\n",
              "  </thead>\n",
              "  <tbody>\n",
              "    <tr>\n",
              "      <th>0</th>\n",
              "      <td>0</td>\n",
              "      <td>2021-02-25 08:03:00</td>\n",
              "      <td>721.64610</td>\n",
              "      <td>187.571300</td>\n",
              "      <td>661.50610</td>\n",
              "      <td>180.48535</td>\n",
              "      <td>770.18270</td>\n",
              "      <td>115.90236</td>\n",
              "      <td>610.07263</td>\n",
              "      <td>184.08115</td>\n",
              "      <td>764.926157</td>\n",
              "      <td>151.742643</td>\n",
              "      <td>604.526414</td>\n",
              "      <td>223.929339</td>\n",
              "      <td>856.758329</td>\n",
              "      <td>180.821920</td>\n",
              "      <td>618.875212</td>\n",
              "      <td>365.228554</td>\n",
              "      <td>881.531196</td>\n",
              "      <td>218.900107</td>\n",
              "      <td>678.567997</td>\n",
              "      <td>386.479011</td>\n",
              "      <td>127.34059</td>\n",
              "      <td>115.394035</td>\n",
              "      <td>20210225</td>\n",
              "      <td>8</td>\n",
              "      <td>3</td>\n",
              "      <td>False</td>\n",
              "      <td>True</td>\n",
              "      <td>BC_09</td>\n",
              "      <td>2021-02-25</td>\n",
              "      <td>3</td>\n",
              "      <td>3</td>\n",
              "      <td>0</td>\n",
              "      <td>0</td>\n",
              "      <td>0</td>\n",
              "      <td>2</td>\n",
              "      <td>0</td>\n",
              "      <td>1</td>\n",
              "      <td>0</td>\n",
              "      <td>5</td>\n",
              "      <td>159.322756</td>\n",
              "      <td>111.197974</td>\n",
              "      <td>0</td>\n",
              "    </tr>\n",
              "    <tr>\n",
              "      <th>1</th>\n",
              "      <td>1</td>\n",
              "      <td>2021-02-25 08:03:00</td>\n",
              "      <td>554.56260</td>\n",
              "      <td>96.056640</td>\n",
              "      <td>509.94162</td>\n",
              "      <td>115.88818</td>\n",
              "      <td>584.30994</td>\n",
              "      <td>86.14087</td>\n",
              "      <td>480.19430</td>\n",
              "      <td>140.67761</td>\n",
              "      <td>752.148884</td>\n",
              "      <td>155.759889</td>\n",
              "      <td>601.858466</td>\n",
              "      <td>226.622002</td>\n",
              "      <td>844.162889</td>\n",
              "      <td>188.988036</td>\n",
              "      <td>616.003451</td>\n",
              "      <td>367.843641</td>\n",
              "      <td>872.367358</td>\n",
              "      <td>224.993303</td>\n",
              "      <td>676.468194</td>\n",
              "      <td>377.727612</td>\n",
              "      <td>141.34018</td>\n",
              "      <td>105.003600</td>\n",
              "      <td>20210225</td>\n",
              "      <td>8</td>\n",
              "      <td>3</td>\n",
              "      <td>False</td>\n",
              "      <td>False</td>\n",
              "      <td>BC_09</td>\n",
              "      <td>2021-02-25</td>\n",
              "      <td>3</td>\n",
              "      <td>3</td>\n",
              "      <td>0</td>\n",
              "      <td>0</td>\n",
              "      <td>0</td>\n",
              "      <td>2</td>\n",
              "      <td>0</td>\n",
              "      <td>1</td>\n",
              "      <td>0</td>\n",
              "      <td>5</td>\n",
              "      <td>122.757627</td>\n",
              "      <td>99.516033</td>\n",
              "      <td>0</td>\n",
              "    </tr>\n",
              "    <tr>\n",
              "      <th>2</th>\n",
              "      <td>2</td>\n",
              "      <td>2021-02-25 08:03:00</td>\n",
              "      <td>550.64575</td>\n",
              "      <td>93.133820</td>\n",
              "      <td>507.48508</td>\n",
              "      <td>114.71414</td>\n",
              "      <td>583.01636</td>\n",
              "      <td>87.73871</td>\n",
              "      <td>480.50960</td>\n",
              "      <td>136.29453</td>\n",
              "      <td>738.550565</td>\n",
              "      <td>162.262048</td>\n",
              "      <td>595.535127</td>\n",
              "      <td>233.227808</td>\n",
              "      <td>830.029887</td>\n",
              "      <td>204.804058</td>\n",
              "      <td>609.543101</td>\n",
              "      <td>374.601431</td>\n",
              "      <td>862.355175</td>\n",
              "      <td>243.420316</td>\n",
              "      <td>669.931443</td>\n",
              "      <td>377.372595</td>\n",
              "      <td>142.98010</td>\n",
              "      <td>98.286075</td>\n",
              "      <td>20210225</td>\n",
              "      <td>8</td>\n",
              "      <td>3</td>\n",
              "      <td>False</td>\n",
              "      <td>False</td>\n",
              "      <td>BC_09</td>\n",
              "      <td>2021-02-25</td>\n",
              "      <td>3</td>\n",
              "      <td>3</td>\n",
              "      <td>0</td>\n",
              "      <td>0</td>\n",
              "      <td>0</td>\n",
              "      <td>2</td>\n",
              "      <td>0</td>\n",
              "      <td>1</td>\n",
              "      <td>0</td>\n",
              "      <td>5</td>\n",
              "      <td>122.347439</td>\n",
              "      <td>100.392060</td>\n",
              "      <td>0</td>\n",
              "    </tr>\n",
              "    <tr>\n",
              "      <th>3</th>\n",
              "      <td>3</td>\n",
              "      <td>2021-02-25 08:03:00</td>\n",
              "      <td>760.14530</td>\n",
              "      <td>167.648560</td>\n",
              "      <td>699.49820</td>\n",
              "      <td>170.96321</td>\n",
              "      <td>748.58630</td>\n",
              "      <td>204.45068</td>\n",
              "      <td>677.13904</td>\n",
              "      <td>212.35374</td>\n",
              "      <td>726.508893</td>\n",
              "      <td>164.685014</td>\n",
              "      <td>591.701948</td>\n",
              "      <td>234.889503</td>\n",
              "      <td>819.358572</td>\n",
              "      <td>209.783454</td>\n",
              "      <td>604.199422</td>\n",
              "      <td>375.832088</td>\n",
              "      <td>853.826304</td>\n",
              "      <td>246.299315</td>\n",
              "      <td>665.522481</td>\n",
              "      <td>370.489994</td>\n",
              "      <td>106.19508</td>\n",
              "      <td>90.088510</td>\n",
              "      <td>20210225</td>\n",
              "      <td>8</td>\n",
              "      <td>3</td>\n",
              "      <td>False</td>\n",
              "      <td>True</td>\n",
              "      <td>BC_09</td>\n",
              "      <td>2021-02-25</td>\n",
              "      <td>3</td>\n",
              "      <td>3</td>\n",
              "      <td>0</td>\n",
              "      <td>0</td>\n",
              "      <td>0</td>\n",
              "      <td>2</td>\n",
              "      <td>0</td>\n",
              "      <td>1</td>\n",
              "      <td>0</td>\n",
              "      <td>5</td>\n",
              "      <td>128.200295</td>\n",
              "      <td>88.757398</td>\n",
              "      <td>0</td>\n",
              "    </tr>\n",
              "    <tr>\n",
              "      <th>4</th>\n",
              "      <td>4</td>\n",
              "      <td>2021-02-25 08:03:00</td>\n",
              "      <td>554.59580</td>\n",
              "      <td>94.403564</td>\n",
              "      <td>515.08960</td>\n",
              "      <td>114.15665</td>\n",
              "      <td>584.22546</td>\n",
              "      <td>89.46530</td>\n",
              "      <td>485.46000</td>\n",
              "      <td>138.84805</td>\n",
              "      <td>722.878121</td>\n",
              "      <td>159.803916</td>\n",
              "      <td>585.487526</td>\n",
              "      <td>231.860448</td>\n",
              "      <td>816.644089</td>\n",
              "      <td>208.374901</td>\n",
              "      <td>594.898580</td>\n",
              "      <td>372.783771</td>\n",
              "      <td>854.216839</td>\n",
              "      <td>249.863460</td>\n",
              "      <td>656.507793</td>\n",
              "      <td>367.448240</td>\n",
              "      <td>145.67882</td>\n",
              "      <td>88.870993</td>\n",
              "      <td>20210225</td>\n",
              "      <td>8</td>\n",
              "      <td>3</td>\n",
              "      <td>False</td>\n",
              "      <td>False</td>\n",
              "      <td>BC_09</td>\n",
              "      <td>2021-02-25</td>\n",
              "      <td>3</td>\n",
              "      <td>3</td>\n",
              "      <td>0</td>\n",
              "      <td>0</td>\n",
              "      <td>0</td>\n",
              "      <td>2</td>\n",
              "      <td>0</td>\n",
              "      <td>1</td>\n",
              "      <td>0</td>\n",
              "      <td>5</td>\n",
              "      <td>122.869366</td>\n",
              "      <td>102.298238</td>\n",
              "      <td>0</td>\n",
              "    </tr>\n",
              "  </tbody>\n",
              "</table>\n",
              "</div>\n",
              "      <button class=\"colab-df-convert\" onclick=\"convertToInteractive('df-38b220d7-bdeb-439d-97cf-2c24a504b669')\"\n",
              "              title=\"Convert this dataframe to an interactive table.\"\n",
              "              style=\"display:none;\">\n",
              "\n",
              "  <svg xmlns=\"http://www.w3.org/2000/svg\" height=\"24px\"viewBox=\"0 0 24 24\"\n",
              "       width=\"24px\">\n",
              "    <path d=\"M0 0h24v24H0V0z\" fill=\"none\"/>\n",
              "    <path d=\"M18.56 5.44l.94 2.06.94-2.06 2.06-.94-2.06-.94-.94-2.06-.94 2.06-2.06.94zm-11 1L8.5 8.5l.94-2.06 2.06-.94-2.06-.94L8.5 2.5l-.94 2.06-2.06.94zm10 10l.94 2.06.94-2.06 2.06-.94-2.06-.94-.94-2.06-.94 2.06-2.06.94z\"/><path d=\"M17.41 7.96l-1.37-1.37c-.4-.4-.92-.59-1.43-.59-.52 0-1.04.2-1.43.59L10.3 9.45l-7.72 7.72c-.78.78-.78 2.05 0 2.83L4 21.41c.39.39.9.59 1.41.59.51 0 1.02-.2 1.41-.59l7.78-7.78 2.81-2.81c.8-.78.8-2.07 0-2.86zM5.41 20L4 18.59l7.72-7.72 1.47 1.35L5.41 20z\"/>\n",
              "  </svg>\n",
              "      </button>\n",
              "\n",
              "\n",
              "\n",
              "    <div id=\"df-6f085aa8-43de-4a1e-8495-79eda9b4e5f7\">\n",
              "      <button class=\"colab-df-quickchart\" onclick=\"quickchart('df-6f085aa8-43de-4a1e-8495-79eda9b4e5f7')\"\n",
              "              title=\"Suggest charts.\"\n",
              "              style=\"display:none;\">\n",
              "\n",
              "<svg xmlns=\"http://www.w3.org/2000/svg\" height=\"24px\"viewBox=\"0 0 24 24\"\n",
              "     width=\"24px\">\n",
              "    <g>\n",
              "        <path d=\"M19 3H5c-1.1 0-2 .9-2 2v14c0 1.1.9 2 2 2h14c1.1 0 2-.9 2-2V5c0-1.1-.9-2-2-2zM9 17H7v-7h2v7zm4 0h-2V7h2v10zm4 0h-2v-4h2v4z\"/>\n",
              "    </g>\n",
              "</svg>\n",
              "      </button>\n",
              "    </div>\n",
              "\n",
              "<style>\n",
              "  .colab-df-quickchart {\n",
              "    background-color: #E8F0FE;\n",
              "    border: none;\n",
              "    border-radius: 50%;\n",
              "    cursor: pointer;\n",
              "    display: none;\n",
              "    fill: #1967D2;\n",
              "    height: 32px;\n",
              "    padding: 0 0 0 0;\n",
              "    width: 32px;\n",
              "  }\n",
              "\n",
              "  .colab-df-quickchart:hover {\n",
              "    background-color: #E2EBFA;\n",
              "    box-shadow: 0px 1px 2px rgba(60, 64, 67, 0.3), 0px 1px 3px 1px rgba(60, 64, 67, 0.15);\n",
              "    fill: #174EA6;\n",
              "  }\n",
              "\n",
              "  [theme=dark] .colab-df-quickchart {\n",
              "    background-color: #3B4455;\n",
              "    fill: #D2E3FC;\n",
              "  }\n",
              "\n",
              "  [theme=dark] .colab-df-quickchart:hover {\n",
              "    background-color: #434B5C;\n",
              "    box-shadow: 0px 1px 3px 1px rgba(0, 0, 0, 0.15);\n",
              "    filter: drop-shadow(0px 1px 2px rgba(0, 0, 0, 0.3));\n",
              "    fill: #FFFFFF;\n",
              "  }\n",
              "</style>\n",
              "\n",
              "    <script>\n",
              "      async function quickchart(key) {\n",
              "        const containerElement = document.querySelector('#' + key);\n",
              "        const charts = await google.colab.kernel.invokeFunction(\n",
              "            'suggestCharts', [key], {});\n",
              "      }\n",
              "    </script>\n",
              "\n",
              "      <script>\n",
              "\n",
              "function displayQuickchartButton(domScope) {\n",
              "  let quickchartButtonEl =\n",
              "    domScope.querySelector('#df-6f085aa8-43de-4a1e-8495-79eda9b4e5f7 button.colab-df-quickchart');\n",
              "  quickchartButtonEl.style.display =\n",
              "    google.colab.kernel.accessAllowed ? 'block' : 'none';\n",
              "}\n",
              "\n",
              "        displayQuickchartButton(document);\n",
              "      </script>\n",
              "      <style>\n",
              "    .colab-df-container {\n",
              "      display:flex;\n",
              "      flex-wrap:wrap;\n",
              "      gap: 12px;\n",
              "    }\n",
              "\n",
              "    .colab-df-convert {\n",
              "      background-color: #E8F0FE;\n",
              "      border: none;\n",
              "      border-radius: 50%;\n",
              "      cursor: pointer;\n",
              "      display: none;\n",
              "      fill: #1967D2;\n",
              "      height: 32px;\n",
              "      padding: 0 0 0 0;\n",
              "      width: 32px;\n",
              "    }\n",
              "\n",
              "    .colab-df-convert:hover {\n",
              "      background-color: #E2EBFA;\n",
              "      box-shadow: 0px 1px 2px rgba(60, 64, 67, 0.3), 0px 1px 3px 1px rgba(60, 64, 67, 0.15);\n",
              "      fill: #174EA6;\n",
              "    }\n",
              "\n",
              "    [theme=dark] .colab-df-convert {\n",
              "      background-color: #3B4455;\n",
              "      fill: #D2E3FC;\n",
              "    }\n",
              "\n",
              "    [theme=dark] .colab-df-convert:hover {\n",
              "      background-color: #434B5C;\n",
              "      box-shadow: 0px 1px 3px 1px rgba(0, 0, 0, 0.15);\n",
              "      filter: drop-shadow(0px 1px 2px rgba(0, 0, 0, 0.3));\n",
              "      fill: #FFFFFF;\n",
              "    }\n",
              "  </style>\n",
              "\n",
              "      <script>\n",
              "        const buttonEl =\n",
              "          document.querySelector('#df-38b220d7-bdeb-439d-97cf-2c24a504b669 button.colab-df-convert');\n",
              "        buttonEl.style.display =\n",
              "          google.colab.kernel.accessAllowed ? 'block' : 'none';\n",
              "\n",
              "        async function convertToInteractive(key) {\n",
              "          const element = document.querySelector('#df-38b220d7-bdeb-439d-97cf-2c24a504b669');\n",
              "          const dataTable =\n",
              "            await google.colab.kernel.invokeFunction('convertToInteractive',\n",
              "                                                     [key], {});\n",
              "          if (!dataTable) return;\n",
              "\n",
              "          const docLinkHtml = 'Like what you see? Visit the ' +\n",
              "            '<a target=\"_blank\" href=https://colab.research.google.com/notebooks/data_table.ipynb>data table notebook</a>'\n",
              "            + ' to learn more about interactive tables.';\n",
              "          element.innerHTML = '';\n",
              "          dataTable['output_type'] = 'display_data';\n",
              "          await google.colab.output.renderOutput(dataTable, element);\n",
              "          const docLink = document.createElement('div');\n",
              "          docLink.innerHTML = docLinkHtml;\n",
              "          element.appendChild(docLink);\n",
              "        }\n",
              "      </script>\n",
              "    </div>\n",
              "  </div>\n"
            ]
          },
          "metadata": {},
          "execution_count": 12
        }
      ]
    },
    {
      "cell_type": "code",
      "source": [
        "# recalculate new fragments\n",
        "'''\n",
        "def highlight_fragments(dataframe, allowed_missing_seconds, if_message):\n",
        "    # allowed_missing_seconds: if a difference between timedate in \"time_diff\" column for consequent frames is bigger, we consider the next frame to be the new fragment\n",
        "\n",
        "    dataframe['time_diff'] = abs(dataframe['date'].diff() )\n",
        "    dataframe['new_fragment']  = (dataframe['time_diff'] >= pd.Timedelta(seconds = allowed_missing_seconds) ).cumsum()\n",
        "    dataframe = dataframe.drop( columns=['time_diff'] )\n",
        "\n",
        "    if(if_message):\n",
        "        print('The number of separated fragments: ', len(dataframe['new_fragment'].unique()))\n",
        "\n",
        "    return dataframe\n",
        "\n",
        "# Convert 'date' with data type 'object' to 'datetime' format\n",
        "clean['date'] = pd.to_datetime(clean['date'])\n",
        "print(\"Data type of column 'date':\", clean['date'].dtype)\n",
        "#clean = clean.reset_index(drop=False)\n",
        "clean = highlight_fragments( clean, 500, if_message=True)\n",
        "\n",
        "clean[ ['patient_ID','new_fragment'] ].value_counts(normalize=True)\n",
        "'''"
      ],
      "metadata": {
        "colab": {
          "base_uri": "https://localhost:8080/",
          "height": 107
        },
        "id": "u-ODNdCIs-R1",
        "outputId": "88167088-3dac-457f-94d8-c1570f3cff7a"
      },
      "execution_count": null,
      "outputs": [
        {
          "output_type": "execute_result",
          "data": {
            "text/plain": [
              "'\\ndef highlight_fragments(dataframe, allowed_missing_seconds, if_message):\\n    # allowed_missing_seconds: if a difference between timedate in \"time_diff\" column for consequent frames is bigger, we consider the next frame to be the new fragment\\n\\n    dataframe[\\'time_diff\\'] = abs(dataframe[\\'date\\'].diff() )\\n    dataframe[\\'new_fragment\\']  = (dataframe[\\'time_diff\\'] >= pd.Timedelta(seconds = allowed_missing_seconds) ).cumsum()\\n    dataframe = dataframe.drop( columns=[\\'time_diff\\'] )\\n\\n    if(if_message):\\n        print(\\'The number of separated fragments: \\', len(dataframe[\\'new_fragment\\'].unique()))\\n\\n    return dataframe\\n\\n# Convert \\'date\\' with data type \\'object\\' to \\'datetime\\' format\\nclean[\\'date\\'] = pd.to_datetime(clean[\\'date\\'])\\nprint(\"Data type of column \\'date\\':\", clean[\\'date\\'].dtype)\\n#clean = clean.reset_index(drop=False)\\nclean = highlight_fragments( clean, 500, if_message=True)\\n\\nclean[ [\\'patient_ID\\',\\'new_fragment\\'] ].value_counts(normalize=True)\\n'"
            ],
            "application/vnd.google.colaboratory.intrinsic+json": {
              "type": "string"
            }
          },
          "metadata": {},
          "execution_count": 13
        }
      ]
    },
    {
      "cell_type": "code",
      "source": [
        "# Apply sliding window with a step to your data and save it\n",
        "'''\n",
        "# Define sliding window size\n",
        "window_size = NUMBER_TIMESTEPS # =500  # Adjust this as needed\n",
        "step_size = 100  # Adjust this to the desired step size\n",
        "\n",
        "# Function to create sliding window indices within a fragment with a step\n",
        "def sliding_window_indices(df_length):\n",
        "    return [(i, i + window_size) for i in range(0, df_length - window_size + 1, step_size)]\n",
        "\n",
        "# Apply sliding window within each fragment\n",
        "result_indices = []\n",
        "for _, fragment_df in clean.groupby('new_fragment'):\n",
        "    indices = sliding_window_indices(len(fragment_df))\n",
        "    result_indices.extend([(fragment_df.index[start:end]) for start, end in indices])\n",
        "\n",
        "# Combine the results into a new dataframe\n",
        "result = clean.loc[pd.Index(np.concatenate(result_indices))]\n",
        "len(result)\n",
        "\n",
        "# Save the result as a CSV file\n",
        "result.to_csv('cleaned_slided_stroke2.csv', index=True)\n",
        "\n",
        "# Save the result as a .npy file\n",
        "#np.save('cleaned_slided_stroke.npy', result.to_records(index=True))\n",
        "'''\n",
        "\n",
        "# Visualize the sliding window\n",
        "'''\n",
        "import matplotlib.pyplot as plt\n",
        "# Plot the data\n",
        "for fragment, fragment_df in result.groupby('fragment'):\n",
        "    plt.figure()\n",
        "    plt.plot(fragment_df['date'], fragment_df['l_degr'], marker='o')\n",
        "    plt.title(f'Fragment {fragment} Sliding Windows')\n",
        "    plt.xlabel('date')\n",
        "    plt.ylabel('l_degr')\n",
        "    plt.xticks(rotation=45)\n",
        "    plt.grid(True)\n",
        "    plt.tight_layout()\n",
        "plt.show()\n",
        "'''"
      ],
      "metadata": {
        "colab": {
          "base_uri": "https://localhost:8080/",
          "height": 53
        },
        "id": "roZCAdEemrzJ",
        "outputId": "8cd53cf2-80e8-400c-9dcb-ac704dac3f93"
      },
      "execution_count": null,
      "outputs": [
        {
          "output_type": "execute_result",
          "data": {
            "text/plain": [
              "\"\\nimport matplotlib.pyplot as plt\\n# Plot the data\\nfor fragment, fragment_df in result.groupby('fragment'):\\n    plt.figure()\\n    plt.plot(fragment_df['date'], fragment_df['l_degr'], marker='o')\\n    plt.title(f'Fragment {fragment} Sliding Windows')\\n    plt.xlabel('date')\\n    plt.ylabel('l_degr')\\n    plt.xticks(rotation=45)\\n    plt.grid(True)\\n    plt.tight_layout()\\nplt.show()\\n\""
            ],
            "application/vnd.google.colaboratory.intrinsic+json": {
              "type": "string"
            }
          },
          "metadata": {},
          "execution_count": 14
        }
      ]
    },
    {
      "cell_type": "code",
      "source": [
        "len(clean)"
      ],
      "metadata": {
        "colab": {
          "base_uri": "https://localhost:8080/"
        },
        "id": "2nNnnJcdTrj0",
        "outputId": "d57352a1-3b88-4a50-8893-a34d39aed467"
      },
      "execution_count": null,
      "outputs": [
        {
          "output_type": "execute_result",
          "data": {
            "text/plain": [
              "348000"
            ]
          },
          "metadata": {},
          "execution_count": 15
        }
      ]
    },
    {
      "cell_type": "code",
      "source": [
        "clean['L Motor Arm Score'].value_counts(normalize=True)"
      ],
      "metadata": {
        "colab": {
          "base_uri": "https://localhost:8080/"
        },
        "id": "ZNXBHHfUSPNH",
        "outputId": "003a57df-3f0f-436a-bee4-4b3609c01326"
      },
      "execution_count": null,
      "outputs": [
        {
          "output_type": "execute_result",
          "data": {
            "text/plain": [
              "4    0.451149\n",
              "3    0.215517\n",
              "0    0.193966\n",
              "2    0.127874\n",
              "1    0.011494\n",
              "Name: L Motor Arm Score, dtype: float64"
            ]
          },
          "metadata": {},
          "execution_count": 16
        }
      ]
    },
    {
      "cell_type": "code",
      "source": [
        "# Define a custom function to map 'nihss' values to 'left-3'\n",
        "def map_class(nihss_value):\n",
        "    if 0 <= nihss_value <= 1:\n",
        "        return 0\n",
        "    elif 2 <= nihss_value <= 3:\n",
        "        return 1\n",
        "    elif nihss_value == 4:\n",
        "        return 2\n",
        "    else:\n",
        "        return None  # You can handle other cases as needed\n",
        "\n",
        "# Create the 'left-3' column based on the 'nihss' values\n",
        "clean['left-3'] =  clean['L Motor Arm Score'].apply(map_class)"
      ],
      "metadata": {
        "id": "bRPB9U7KryMp"
      },
      "execution_count": null,
      "outputs": []
    },
    {
      "cell_type": "code",
      "source": [
        "clean['left-3'].value_counts(normalize=True)"
      ],
      "metadata": {
        "colab": {
          "base_uri": "https://localhost:8080/"
        },
        "id": "5j8qD21uSpjG",
        "outputId": "39d1a663-1ee8-40ff-fbbf-70f92dfcb20b"
      },
      "execution_count": null,
      "outputs": [
        {
          "output_type": "execute_result",
          "data": {
            "text/plain": [
              "2    0.451149\n",
              "1    0.343391\n",
              "0    0.205460\n",
              "Name: left-3, dtype: float64"
            ]
          },
          "metadata": {},
          "execution_count": 18
        }
      ]
    },
    {
      "cell_type": "code",
      "source": [
        "# Calculate the number of occurrences of each class in the \"new_fragment\" column and print them out\n",
        "fragment_counts = clean['new_fragment'].value_counts()\n",
        "print( fragment_counts.sort_values() )"
      ],
      "metadata": {
        "colab": {
          "base_uri": "https://localhost:8080/"
        },
        "id": "rvVcBisUrrBq",
        "outputId": "c756915a-2080-4cff-b5e4-8f4e268f11d1"
      },
      "execution_count": null,
      "outputs": [
        {
          "output_type": "stream",
          "name": "stdout",
          "text": [
            "38      500\n",
            "46      500\n",
            "49      500\n",
            "45      500\n",
            "55      500\n",
            "43      500\n",
            "53      500\n",
            "51      500\n",
            "41     1000\n",
            "37     1000\n",
            "42     1000\n",
            "12     1000\n",
            "47     1000\n",
            "31     1500\n",
            "44     1500\n",
            "50     1500\n",
            "6      1500\n",
            "7      2000\n",
            "0      2000\n",
            "56     2000\n",
            "28     2000\n",
            "48     2500\n",
            "34     2500\n",
            "39     2500\n",
            "27     3000\n",
            "36     3000\n",
            "30     3000\n",
            "33     3500\n",
            "52     3500\n",
            "2      4000\n",
            "19     4000\n",
            "29     4000\n",
            "35     4000\n",
            "15     4000\n",
            "57     5000\n",
            "54     5000\n",
            "13     5000\n",
            "32     5500\n",
            "22     6000\n",
            "8      6500\n",
            "25     6500\n",
            "26     7000\n",
            "17     7000\n",
            "20     7500\n",
            "40     8000\n",
            "3      8500\n",
            "10     9500\n",
            "21    10000\n",
            "4     10500\n",
            "1     11500\n",
            "24    12000\n",
            "9     13500\n",
            "18    14000\n",
            "16    15000\n",
            "5     15500\n",
            "14    25000\n",
            "23    33000\n",
            "11    34500\n",
            "Name: new_fragment, dtype: int64\n"
          ]
        }
      ]
    },
    {
      "cell_type": "code",
      "source": [
        "print ('number of fragments = {}'.format(len(clean['new_fragment'].unique())) )"
      ],
      "metadata": {
        "colab": {
          "base_uri": "https://localhost:8080/"
        },
        "id": "sFylvBkLx04N",
        "outputId": "ca27e466-1dea-4690-b0cb-ac8b7cdf3213"
      },
      "execution_count": null,
      "outputs": [
        {
          "output_type": "stream",
          "name": "stdout",
          "text": [
            "number of fragments = 58\n"
          ]
        }
      ]
    },
    {
      "cell_type": "code",
      "source": [
        "#clean[clean['fragment'] == 0]"
      ],
      "metadata": {
        "id": "_UudgdHk7Okg"
      },
      "execution_count": null,
      "outputs": []
    },
    {
      "cell_type": "code",
      "source": [
        "# Define a custom function to cut each class to be a multiple of 500\n",
        "def cut_to_multiple(df, length=500):\n",
        "    return df.iloc[:len(df) // length * length]\n",
        "\n",
        "# Group the dataframe by \"class\" and apply the custom function to each group\n",
        "clean = clean.groupby('new_fragment').apply(cut_to_multiple).reset_index(drop=True)"
      ],
      "metadata": {
        "id": "r2iIiiCmTFpm",
        "colab": {
          "base_uri": "https://localhost:8080/"
        },
        "outputId": "85864199-42de-4cb7-94e9-83b0feb226a2"
      },
      "execution_count": null,
      "outputs": [
        {
          "output_type": "stream",
          "name": "stderr",
          "text": [
            "<ipython-input-26-822562995597>:6: FutureWarning: Not prepending group keys to the result index of transform-like apply. In the future, the group keys will be included in the index, regardless of whether the applied function returns a like-indexed object.\n",
            "To preserve the previous behavior, use\n",
            "\n",
            "\t>>> .groupby(..., group_keys=False)\n",
            "\n",
            "To adopt the future behavior and silence this warning, use \n",
            "\n",
            "\t>>> .groupby(..., group_keys=True)\n",
            "  clean = clean.groupby('new_fragment').apply(cut_to_multiple).reset_index(drop=True)\n"
          ]
        }
      ]
    },
    {
      "cell_type": "code",
      "source": [
        "print('The new number of separated fragments: ', len(clean['new_fragment'].unique()))\n",
        "\n",
        "print('The new number of patients: ', len(clean['patient_ID'].unique()))"
      ],
      "metadata": {
        "colab": {
          "base_uri": "https://localhost:8080/"
        },
        "id": "aJNx9P4JsIci",
        "outputId": "bb475eb8-4d38-43f2-dbb7-91f208fd5559"
      },
      "execution_count": null,
      "outputs": [
        {
          "output_type": "stream",
          "name": "stdout",
          "text": [
            "The new number of separated fragments:  58\n",
            "The new number of patients:  14\n"
          ]
        }
      ]
    },
    {
      "cell_type": "code",
      "source": [
        "# Print all unique values in column 'patient_ID'\n",
        "print(clean['patient_ID'].unique())"
      ],
      "metadata": {
        "colab": {
          "base_uri": "https://localhost:8080/"
        },
        "id": "7hdcAZMF0ayR",
        "outputId": "ad542d11-e843-4765-df90-914e8f90dcad"
      },
      "execution_count": null,
      "outputs": [
        {
          "output_type": "stream",
          "name": "stdout",
          "text": [
            "['BC_09' 'MS_05' 'MC_22' 'BD_07' 'AC_20' 'DD_18' 'OM_17' 'LC_19' 'PC_06'\n",
            " 'LH_24' 'IM_38' 'VK_16' 'ND_11' 'RO_26']\n"
          ]
        }
      ]
    },
    {
      "cell_type": "code",
      "source": [
        "len(clean)"
      ],
      "metadata": {
        "colab": {
          "base_uri": "https://localhost:8080/"
        },
        "id": "6T-6oDrOTXFN",
        "outputId": "92553ea0-dccb-4928-a155-bbf42bef5310"
      },
      "execution_count": null,
      "outputs": [
        {
          "output_type": "execute_result",
          "data": {
            "text/plain": [
              "348000"
            ]
          },
          "metadata": {},
          "execution_count": 30
        }
      ]
    },
    {
      "cell_type": "code",
      "source": [
        " #LC_19 та DD-18\n",
        "\n",
        "# Remove rows where 'b' is equal to 'abc'\n",
        "#clean = clean[  (clean['patient_ID'] != 'DD_18')  ]# & (clean['patient_ID'] != 'LC_19')]\n",
        "\n",
        "# Print all unique values in column 'patient_ID'\n",
        "#print(clean['patient_ID'].unique())\n",
        "\n",
        "#len(clean)"
      ],
      "metadata": {
        "id": "UcVrHWt-z2OQ"
      },
      "execution_count": null,
      "outputs": []
    },
    {
      "cell_type": "code",
      "source": [
        "clean['left-3'].value_counts(normalize=True)"
      ],
      "metadata": {
        "colab": {
          "base_uri": "https://localhost:8080/"
        },
        "id": "ZcFc5Ci4iVyd",
        "outputId": "27fcd215-45da-40c7-e82c-dcfae7269094"
      },
      "execution_count": null,
      "outputs": [
        {
          "output_type": "execute_result",
          "data": {
            "text/plain": [
              "2    0.451149\n",
              "1    0.343391\n",
              "0    0.205460\n",
              "Name: left-3, dtype: float64"
            ]
          },
          "metadata": {},
          "execution_count": 32
        }
      ]
    },
    {
      "cell_type": "code",
      "source": [
        "# Filter rows where 'left-opposite-2' is 0 or 2\n",
        "#clean = clean[(clean['left-opposite-2'] == 0) | (clean['left-opposite-2'] == 2)]"
      ],
      "metadata": {
        "id": "OXD4hEHaioNd"
      },
      "execution_count": null,
      "outputs": []
    },
    {
      "cell_type": "code",
      "source": [
        "# SPECIAL CLEANED DATASET\n",
        "X = clean[ ['new_fragment', 'date', 'X1', 'Y1', 'X2', 'Y2', 'X3', 'Y3', 'X4', 'Y4', 'X5', 'Y5', 'X6', 'Y6', 'X7', 'Y7', 'X8', 'Y8', 'X9', 'Y9', 'X10', 'Y10', 'l_degr', 'r_degr', 'l_shoulder', 'r_shoulder'] ]\n",
        "Y = clean[ ['new_fragment', 'date', 'NIHSS', 'L Motor Arm Score', 'R Motor Arm Score', 'L Motor Leg Score', 'R Motor Leg Score', 'left-3', 'left-2', 'right-2', 'left-opposite-2', 'right-opposite-2'] ] # - date\n",
        "\n",
        "print('X=',X.columns.to_list())\n",
        "print('Y=',Y.columns.to_list())"
      ],
      "metadata": {
        "colab": {
          "base_uri": "https://localhost:8080/"
        },
        "id": "iO8nqP6uQ0Cx",
        "outputId": "62477a6b-e5f8-4db9-db54-17675736def6"
      },
      "execution_count": null,
      "outputs": [
        {
          "output_type": "stream",
          "name": "stdout",
          "text": [
            "X= ['new_fragment', 'date', 'X1', 'Y1', 'X2', 'Y2', 'X3', 'Y3', 'X4', 'Y4', 'X5', 'Y5', 'X6', 'Y6', 'X7', 'Y7', 'X8', 'Y8', 'X9', 'Y9', 'X10', 'Y10', 'l_degr', 'r_degr', 'l_shoulder', 'r_shoulder']\n",
            "Y= ['new_fragment', 'date', 'NIHSS', 'L Motor Arm Score', 'R Motor Arm Score', 'L Motor Leg Score', 'R Motor Leg Score', 'left-3', 'left-2', 'right-2', 'left-opposite-2', 'right-opposite-2']\n"
          ]
        }
      ]
    },
    {
      "cell_type": "code",
      "source": [
        "# First, we need to create a new column to identify the chunks of 500 rows\n",
        "X['chunk'] = X.index // 500\n",
        "Y['chunk'] = Y.index // 500\n",
        "\n",
        "X['chunk'].unique()"
      ],
      "metadata": {
        "colab": {
          "base_uri": "https://localhost:8080/"
        },
        "id": "0n45YhJdtLlI",
        "outputId": "78bfe77c-8b26-45a6-f231-eb4d4efd90d1"
      },
      "execution_count": null,
      "outputs": [
        {
          "output_type": "stream",
          "name": "stderr",
          "text": [
            "<ipython-input-39-341d0e818f8f>:2: SettingWithCopyWarning: \n",
            "A value is trying to be set on a copy of a slice from a DataFrame.\n",
            "Try using .loc[row_indexer,col_indexer] = value instead\n",
            "\n",
            "See the caveats in the documentation: https://pandas.pydata.org/pandas-docs/stable/user_guide/indexing.html#returning-a-view-versus-a-copy\n",
            "  X['chunk'] = X.index // 500\n",
            "<ipython-input-39-341d0e818f8f>:3: SettingWithCopyWarning: \n",
            "A value is trying to be set on a copy of a slice from a DataFrame.\n",
            "Try using .loc[row_indexer,col_indexer] = value instead\n",
            "\n",
            "See the caveats in the documentation: https://pandas.pydata.org/pandas-docs/stable/user_guide/indexing.html#returning-a-view-versus-a-copy\n",
            "  Y['chunk'] = Y.index // 500\n"
          ]
        },
        {
          "output_type": "execute_result",
          "data": {
            "text/plain": [
              "array([  0,   1,   2,   3,   4,   5,   6,   7,   8,   9,  10,  11,  12,\n",
              "        13,  14,  15,  16,  17,  18,  19,  20,  21,  22,  23,  24,  25,\n",
              "        26,  27,  28,  29,  30,  31,  32,  33,  34,  35,  36,  37,  38,\n",
              "        39,  40,  41,  42,  43,  44,  45,  46,  47,  48,  49,  50,  51,\n",
              "        52,  53,  54,  55,  56,  57,  58,  59,  60,  61,  62,  63,  64,\n",
              "        65,  66,  67,  68,  69,  70,  71,  72,  73,  74,  75,  76,  77,\n",
              "        78,  79,  80,  81,  82,  83,  84,  85,  86,  87,  88,  89,  90,\n",
              "        91,  92,  93,  94,  95,  96,  97,  98,  99, 100, 101, 102, 103,\n",
              "       104, 105, 106, 107, 108, 109, 110, 111, 112, 113, 114, 115, 116,\n",
              "       117, 118, 119, 120, 121, 122, 123, 124, 125, 126, 127, 128, 129,\n",
              "       130, 131, 132, 133, 134, 135, 136, 137, 138, 139, 140, 141, 142,\n",
              "       143, 144, 145, 146, 147, 148, 149, 150, 151, 152, 153, 154, 155,\n",
              "       156, 157, 158, 159, 160, 161, 162, 163, 164, 165, 166, 167, 168,\n",
              "       169, 170, 171, 172, 173, 174, 175, 176, 177, 178, 179, 180, 181,\n",
              "       182, 183, 184, 185, 186, 187, 188, 189, 190, 191, 192, 193, 194,\n",
              "       195, 196, 197, 198, 199, 200, 201, 202, 203, 204, 205, 206, 207,\n",
              "       208, 209, 210, 211, 212, 213, 214, 215, 216, 217, 218, 219, 220,\n",
              "       221, 222, 223, 224, 225, 226, 227, 228, 229, 230, 231, 232, 233,\n",
              "       234, 235, 236, 237, 238, 239, 240, 241, 242, 243, 244, 245, 246,\n",
              "       247, 248, 249, 250, 251, 252, 253, 254, 255, 256, 257, 258, 259,\n",
              "       260, 261, 262, 263, 264, 265, 266, 267, 268, 269, 270, 271, 272,\n",
              "       273, 274, 275, 276, 277, 278, 279, 280, 281, 282, 283, 284, 285,\n",
              "       286, 287, 288, 289, 290, 291, 292, 293, 294, 295, 296, 297, 298,\n",
              "       299, 300, 301, 302, 303, 304, 305, 306, 307, 308, 309, 310, 311,\n",
              "       312, 313, 314, 315, 316, 317, 318, 319, 320, 321, 322, 323, 324,\n",
              "       325, 326, 327, 328, 329, 330, 331, 332, 333, 334, 335, 336, 337,\n",
              "       338, 339, 340, 341, 342, 343, 344, 345, 346, 347, 348, 349, 350,\n",
              "       351, 352, 353, 354, 355, 356, 357, 358, 359, 360, 361, 362, 363,\n",
              "       364, 365, 366, 367, 368, 369, 370, 371, 372, 373, 374, 375, 376,\n",
              "       377, 378, 379, 380, 381, 382, 383, 384, 385, 386, 387, 388, 389,\n",
              "       390, 391, 392, 393, 394, 395, 396, 397, 398, 399, 400, 401, 402,\n",
              "       403, 404, 405, 406, 407, 408, 409, 410, 411, 412, 413, 414, 415,\n",
              "       416, 417, 418, 419, 420, 421, 422, 423, 424, 425, 426, 427, 428,\n",
              "       429, 430, 431, 432, 433, 434, 435, 436, 437, 438, 439, 440, 441,\n",
              "       442, 443, 444, 445, 446, 447, 448, 449, 450, 451, 452, 453, 454,\n",
              "       455, 456, 457, 458, 459, 460, 461, 462, 463, 464, 465, 466, 467,\n",
              "       468, 469, 470, 471, 472, 473, 474, 475, 476, 477, 478, 479, 480,\n",
              "       481, 482, 483, 484, 485, 486, 487, 488, 489, 490, 491, 492, 493,\n",
              "       494, 495, 496, 497, 498, 499, 500, 501, 502, 503, 504, 505, 506,\n",
              "       507, 508, 509, 510, 511, 512, 513, 514, 515, 516, 517, 518, 519,\n",
              "       520, 521, 522, 523, 524, 525, 526, 527, 528, 529, 530, 531, 532,\n",
              "       533, 534, 535, 536, 537, 538, 539, 540, 541, 542, 543, 544, 545,\n",
              "       546, 547, 548, 549, 550, 551, 552, 553, 554, 555, 556, 557, 558,\n",
              "       559, 560, 561, 562, 563, 564, 565, 566, 567, 568, 569, 570, 571,\n",
              "       572, 573, 574, 575, 576, 577, 578, 579, 580, 581, 582, 583, 584,\n",
              "       585, 586, 587, 588, 589, 590, 591, 592, 593, 594, 595, 596, 597,\n",
              "       598, 599, 600, 601, 602, 603, 604, 605, 606, 607, 608, 609, 610,\n",
              "       611, 612, 613, 614, 615, 616, 617, 618, 619, 620, 621, 622, 623,\n",
              "       624, 625, 626, 627, 628, 629, 630, 631, 632, 633, 634, 635, 636,\n",
              "       637, 638, 639, 640, 641, 642, 643, 644, 645, 646, 647, 648, 649,\n",
              "       650, 651, 652, 653, 654, 655, 656, 657, 658, 659, 660, 661, 662,\n",
              "       663, 664, 665, 666, 667, 668, 669, 670, 671, 672, 673, 674, 675,\n",
              "       676, 677, 678, 679, 680, 681, 682, 683, 684, 685, 686, 687, 688,\n",
              "       689, 690, 691, 692, 693, 694, 695])"
            ]
          },
          "metadata": {},
          "execution_count": 39
        }
      ]
    },
    {
      "cell_type": "code",
      "source": [
        "# how much data will go to the TEST dataset\n",
        "cur_test_size = 0.3 #30%\n",
        "\n",
        "''' '''\n",
        "# Now, we can use the numpy.random.choice function to randomly select chunks for the test set\n",
        "test_chunks = np.random.choice(X['new_fragment'].unique(), size=int( len(X['new_fragment'].unique())*cur_test_size), replace=False)\n",
        "\n",
        "# Split the DataFrame into train and test subsets\n",
        "# We can then use the isin method to create a boolean mask to select the rows for the test set\n",
        "test_mask = X['new_fragment'].isin(test_chunks)\n",
        "\n",
        "# Finally, we can use the boolean mask to split the data into train and test sets\n",
        "X_train = X[~test_mask]\n",
        "X_test = X[test_mask]\n",
        "\n",
        "Y_train = Y[~test_mask]\n",
        "Y_test = Y[test_mask]\n",
        "\n",
        "print('X Train shape:', X_train.shape)\n",
        "print('X Test shape:', X_test.shape)\n",
        "\n",
        "print('Y Train shape:',  Y_train.shape)\n",
        "print('Y Test shape:',   Y_test.shape)"
      ],
      "metadata": {
        "id": "j4j8_R_atlYi",
        "colab": {
          "base_uri": "https://localhost:8080/"
        },
        "outputId": "935f4d71-d441-4bc0-95c4-a9653c5d69e1"
      },
      "execution_count": null,
      "outputs": [
        {
          "output_type": "stream",
          "name": "stdout",
          "text": [
            "X Train shape: (264000, 27)\n",
            "X Test shape: (84000, 27)\n",
            "Y Train shape: (264000, 13)\n",
            "Y Test shape: (84000, 13)\n"
          ]
        }
      ]
    },
    {
      "cell_type": "code",
      "source": [
        "Y_train[ ['left-3', 'L Motor Arm Score'] ].value_counts(normalize=True)"
      ],
      "metadata": {
        "colab": {
          "base_uri": "https://localhost:8080/"
        },
        "id": "QsakW9a7BP-N",
        "outputId": "3504177c-6f22-41c5-d6a6-1f5f4915f4ca"
      },
      "execution_count": null,
      "outputs": [
        {
          "output_type": "execute_result",
          "data": {
            "text/plain": [
              "left-3  L Motor Arm Score\n",
              "2       4                    0.465909\n",
              "1       3                    0.248106\n",
              "0       0                    0.172348\n",
              "1       2                    0.098485\n",
              "0       1                    0.015152\n",
              "dtype: float64"
            ]
          },
          "metadata": {},
          "execution_count": 42
        }
      ]
    },
    {
      "cell_type": "code",
      "source": [
        "Y_train['left-3'].value_counts(normalize=True)"
      ],
      "metadata": {
        "colab": {
          "base_uri": "https://localhost:8080/"
        },
        "id": "PYg5qhb_GM5s",
        "outputId": "4cb77954-49d9-4a6f-ca36-8ff70b7d72e0"
      },
      "execution_count": null,
      "outputs": [
        {
          "output_type": "execute_result",
          "data": {
            "text/plain": [
              "2    0.465909\n",
              "1    0.346591\n",
              "0    0.187500\n",
              "Name: left-3, dtype: float64"
            ]
          },
          "metadata": {},
          "execution_count": 43
        }
      ]
    },
    {
      "cell_type": "code",
      "source": [
        "Y_test[ ['left-3','new_fragment'] ].value_counts(normalize=True)"
      ],
      "metadata": {
        "colab": {
          "base_uri": "https://localhost:8080/"
        },
        "id": "clMyN3N_GPVL",
        "outputId": "b83b4d02-ab15-4666-a54f-bf0717181840"
      },
      "execution_count": null,
      "outputs": [
        {
          "output_type": "execute_result",
          "data": {
            "text/plain": [
              "left-3  new_fragment\n",
              "2       18              0.166667\n",
              "        24              0.142857\n",
              "1       10              0.113095\n",
              "        3               0.101190\n",
              "        8               0.077381\n",
              "0       32              0.065476\n",
              "        57              0.059524\n",
              "        35              0.047619\n",
              "2       15              0.047619\n",
              "        19              0.047619\n",
              "0       34              0.029762\n",
              "1       7               0.023810\n",
              "0       44              0.017857\n",
              "1       6               0.017857\n",
              "0       31              0.017857\n",
              "        41              0.011905\n",
              "        42              0.011905\n",
              "dtype: float64"
            ]
          },
          "metadata": {},
          "execution_count": 45
        }
      ]
    },
    {
      "cell_type": "code",
      "source": [
        "Y_test['new_fragment'].value_counts(normalize=False)"
      ],
      "metadata": {
        "colab": {
          "base_uri": "https://localhost:8080/"
        },
        "id": "fKOO-dX6BXh0",
        "outputId": "b01d813b-2632-40b2-da45-59884ce8bef6"
      },
      "execution_count": null,
      "outputs": [
        {
          "output_type": "execute_result",
          "data": {
            "text/plain": [
              "18    14000\n",
              "24    12000\n",
              "10     9500\n",
              "3      8500\n",
              "8      6500\n",
              "32     5500\n",
              "57     5000\n",
              "15     4000\n",
              "19     4000\n",
              "35     4000\n",
              "34     2500\n",
              "7      2000\n",
              "6      1500\n",
              "31     1500\n",
              "44     1500\n",
              "41     1000\n",
              "42     1000\n",
              "Name: new_fragment, dtype: int64"
            ]
          },
          "metadata": {},
          "execution_count": 46
        }
      ]
    },
    {
      "cell_type": "code",
      "source": [
        "Y_test['left-3'].value_counts(normalize=True)"
      ],
      "metadata": {
        "colab": {
          "base_uri": "https://localhost:8080/"
        },
        "id": "9kAno8ixWUyE",
        "outputId": "09d324ad-ac76-4e9e-91cb-ccfa07cfa049"
      },
      "execution_count": null,
      "outputs": [
        {
          "output_type": "execute_result",
          "data": {
            "text/plain": [
              "2    0.404762\n",
              "1    0.333333\n",
              "0    0.261905\n",
              "Name: left-3, dtype: float64"
            ]
          },
          "metadata": {},
          "execution_count": 48
        }
      ]
    },
    {
      "cell_type": "code",
      "source": [
        "'''\n",
        "0, 7, 8, 9, 25\n",
        "'''"
      ],
      "metadata": {
        "colab": {
          "base_uri": "https://localhost:8080/",
          "height": 35
        },
        "id": "6lE4Ycdz_y1_",
        "outputId": "3568826d-3591-4253-8556-2f58ec8eaddf"
      },
      "execution_count": null,
      "outputs": [
        {
          "output_type": "execute_result",
          "data": {
            "text/plain": [
              "'\\n0, 7, 8, 9, 25\\n'"
            ],
            "application/vnd.google.colaboratory.intrinsic+json": {
              "type": "string"
            }
          },
          "metadata": {},
          "execution_count": 492
        }
      ]
    },
    {
      "cell_type": "code",
      "source": [
        "Y_test['left-3'].value_counts(normalize=True) #left-2"
      ],
      "metadata": {
        "colab": {
          "base_uri": "https://localhost:8080/"
        },
        "id": "qA6PUnkvTjyl",
        "outputId": "99aa5866-4d50-420e-ec28-73f1cd3845ce"
      },
      "execution_count": null,
      "outputs": [
        {
          "output_type": "execute_result",
          "data": {
            "text/plain": [
              "2    0.404762\n",
              "1    0.333333\n",
              "0    0.261905\n",
              "Name: left-3, dtype: float64"
            ]
          },
          "metadata": {},
          "execution_count": 49
        }
      ]
    },
    {
      "cell_type": "code",
      "source": [
        "Y_train['left-3'].value_counts(normalize=True)"
      ],
      "metadata": {
        "colab": {
          "base_uri": "https://localhost:8080/"
        },
        "id": "52l16XB4TodH",
        "outputId": "52a37bc4-d196-4037-c347-457ed8cde01e"
      },
      "execution_count": null,
      "outputs": [
        {
          "output_type": "execute_result",
          "data": {
            "text/plain": [
              "2    0.465909\n",
              "1    0.346591\n",
              "0    0.187500\n",
              "Name: left-3, dtype: float64"
            ]
          },
          "metadata": {},
          "execution_count": 50
        }
      ]
    },
    {
      "cell_type": "code",
      "source": [
        "# Sort the DataFrame by index\n",
        "X_test.sort_index(ascending=True, inplace=True)\n",
        "X_test[['date','chunk']].head(501)\n",
        "\n",
        "# IT SHOULD BE CONTINUOUS for 500 rows !"
      ],
      "metadata": {
        "colab": {
          "base_uri": "https://localhost:8080/",
          "height": 424
        },
        "id": "M1U3iDqhtKup",
        "outputId": "804086e6-d6df-472f-fee4-be106604d152"
      },
      "execution_count": null,
      "outputs": [
        {
          "output_type": "execute_result",
          "data": {
            "text/plain": [
              "                      date  chunk\n",
              "17500  2021-02-14 18:08:00     35\n",
              "17501  2021-02-14 18:08:00     35\n",
              "17502  2021-02-14 18:08:00     35\n",
              "17503  2021-02-14 18:08:00     35\n",
              "17504  2021-02-14 18:08:00     35\n",
              "...                    ...    ...\n",
              "17996  2021-02-14 18:16:00     35\n",
              "17997  2021-02-14 18:16:00     35\n",
              "17998  2021-02-14 18:16:00     35\n",
              "17999  2021-02-14 18:16:00     35\n",
              "18000  2021-02-14 18:09:00     36\n",
              "\n",
              "[501 rows x 2 columns]"
            ],
            "text/html": [
              "\n",
              "\n",
              "  <div id=\"df-ab0d6b7a-e409-44c3-be1c-9f637a902373\">\n",
              "    <div class=\"colab-df-container\">\n",
              "      <div>\n",
              "<style scoped>\n",
              "    .dataframe tbody tr th:only-of-type {\n",
              "        vertical-align: middle;\n",
              "    }\n",
              "\n",
              "    .dataframe tbody tr th {\n",
              "        vertical-align: top;\n",
              "    }\n",
              "\n",
              "    .dataframe thead th {\n",
              "        text-align: right;\n",
              "    }\n",
              "</style>\n",
              "<table border=\"1\" class=\"dataframe\">\n",
              "  <thead>\n",
              "    <tr style=\"text-align: right;\">\n",
              "      <th></th>\n",
              "      <th>date</th>\n",
              "      <th>chunk</th>\n",
              "    </tr>\n",
              "  </thead>\n",
              "  <tbody>\n",
              "    <tr>\n",
              "      <th>17500</th>\n",
              "      <td>2021-02-14 18:08:00</td>\n",
              "      <td>35</td>\n",
              "    </tr>\n",
              "    <tr>\n",
              "      <th>17501</th>\n",
              "      <td>2021-02-14 18:08:00</td>\n",
              "      <td>35</td>\n",
              "    </tr>\n",
              "    <tr>\n",
              "      <th>17502</th>\n",
              "      <td>2021-02-14 18:08:00</td>\n",
              "      <td>35</td>\n",
              "    </tr>\n",
              "    <tr>\n",
              "      <th>17503</th>\n",
              "      <td>2021-02-14 18:08:00</td>\n",
              "      <td>35</td>\n",
              "    </tr>\n",
              "    <tr>\n",
              "      <th>17504</th>\n",
              "      <td>2021-02-14 18:08:00</td>\n",
              "      <td>35</td>\n",
              "    </tr>\n",
              "    <tr>\n",
              "      <th>...</th>\n",
              "      <td>...</td>\n",
              "      <td>...</td>\n",
              "    </tr>\n",
              "    <tr>\n",
              "      <th>17996</th>\n",
              "      <td>2021-02-14 18:16:00</td>\n",
              "      <td>35</td>\n",
              "    </tr>\n",
              "    <tr>\n",
              "      <th>17997</th>\n",
              "      <td>2021-02-14 18:16:00</td>\n",
              "      <td>35</td>\n",
              "    </tr>\n",
              "    <tr>\n",
              "      <th>17998</th>\n",
              "      <td>2021-02-14 18:16:00</td>\n",
              "      <td>35</td>\n",
              "    </tr>\n",
              "    <tr>\n",
              "      <th>17999</th>\n",
              "      <td>2021-02-14 18:16:00</td>\n",
              "      <td>35</td>\n",
              "    </tr>\n",
              "    <tr>\n",
              "      <th>18000</th>\n",
              "      <td>2021-02-14 18:09:00</td>\n",
              "      <td>36</td>\n",
              "    </tr>\n",
              "  </tbody>\n",
              "</table>\n",
              "<p>501 rows × 2 columns</p>\n",
              "</div>\n",
              "      <button class=\"colab-df-convert\" onclick=\"convertToInteractive('df-ab0d6b7a-e409-44c3-be1c-9f637a902373')\"\n",
              "              title=\"Convert this dataframe to an interactive table.\"\n",
              "              style=\"display:none;\">\n",
              "\n",
              "  <svg xmlns=\"http://www.w3.org/2000/svg\" height=\"24px\"viewBox=\"0 0 24 24\"\n",
              "       width=\"24px\">\n",
              "    <path d=\"M0 0h24v24H0V0z\" fill=\"none\"/>\n",
              "    <path d=\"M18.56 5.44l.94 2.06.94-2.06 2.06-.94-2.06-.94-.94-2.06-.94 2.06-2.06.94zm-11 1L8.5 8.5l.94-2.06 2.06-.94-2.06-.94L8.5 2.5l-.94 2.06-2.06.94zm10 10l.94 2.06.94-2.06 2.06-.94-2.06-.94-.94-2.06-.94 2.06-2.06.94z\"/><path d=\"M17.41 7.96l-1.37-1.37c-.4-.4-.92-.59-1.43-.59-.52 0-1.04.2-1.43.59L10.3 9.45l-7.72 7.72c-.78.78-.78 2.05 0 2.83L4 21.41c.39.39.9.59 1.41.59.51 0 1.02-.2 1.41-.59l7.78-7.78 2.81-2.81c.8-.78.8-2.07 0-2.86zM5.41 20L4 18.59l7.72-7.72 1.47 1.35L5.41 20z\"/>\n",
              "  </svg>\n",
              "      </button>\n",
              "\n",
              "\n",
              "\n",
              "    <div id=\"df-1fa9a5b4-2870-44c4-91db-444d4d93cfa2\">\n",
              "      <button class=\"colab-df-quickchart\" onclick=\"quickchart('df-1fa9a5b4-2870-44c4-91db-444d4d93cfa2')\"\n",
              "              title=\"Suggest charts.\"\n",
              "              style=\"display:none;\">\n",
              "\n",
              "<svg xmlns=\"http://www.w3.org/2000/svg\" height=\"24px\"viewBox=\"0 0 24 24\"\n",
              "     width=\"24px\">\n",
              "    <g>\n",
              "        <path d=\"M19 3H5c-1.1 0-2 .9-2 2v14c0 1.1.9 2 2 2h14c1.1 0 2-.9 2-2V5c0-1.1-.9-2-2-2zM9 17H7v-7h2v7zm4 0h-2V7h2v10zm4 0h-2v-4h2v4z\"/>\n",
              "    </g>\n",
              "</svg>\n",
              "      </button>\n",
              "    </div>\n",
              "\n",
              "<style>\n",
              "  .colab-df-quickchart {\n",
              "    background-color: #E8F0FE;\n",
              "    border: none;\n",
              "    border-radius: 50%;\n",
              "    cursor: pointer;\n",
              "    display: none;\n",
              "    fill: #1967D2;\n",
              "    height: 32px;\n",
              "    padding: 0 0 0 0;\n",
              "    width: 32px;\n",
              "  }\n",
              "\n",
              "  .colab-df-quickchart:hover {\n",
              "    background-color: #E2EBFA;\n",
              "    box-shadow: 0px 1px 2px rgba(60, 64, 67, 0.3), 0px 1px 3px 1px rgba(60, 64, 67, 0.15);\n",
              "    fill: #174EA6;\n",
              "  }\n",
              "\n",
              "  [theme=dark] .colab-df-quickchart {\n",
              "    background-color: #3B4455;\n",
              "    fill: #D2E3FC;\n",
              "  }\n",
              "\n",
              "  [theme=dark] .colab-df-quickchart:hover {\n",
              "    background-color: #434B5C;\n",
              "    box-shadow: 0px 1px 3px 1px rgba(0, 0, 0, 0.15);\n",
              "    filter: drop-shadow(0px 1px 2px rgba(0, 0, 0, 0.3));\n",
              "    fill: #FFFFFF;\n",
              "  }\n",
              "</style>\n",
              "\n",
              "    <script>\n",
              "      async function quickchart(key) {\n",
              "        const containerElement = document.querySelector('#' + key);\n",
              "        const charts = await google.colab.kernel.invokeFunction(\n",
              "            'suggestCharts', [key], {});\n",
              "      }\n",
              "    </script>\n",
              "\n",
              "      <script>\n",
              "\n",
              "function displayQuickchartButton(domScope) {\n",
              "  let quickchartButtonEl =\n",
              "    domScope.querySelector('#df-1fa9a5b4-2870-44c4-91db-444d4d93cfa2 button.colab-df-quickchart');\n",
              "  quickchartButtonEl.style.display =\n",
              "    google.colab.kernel.accessAllowed ? 'block' : 'none';\n",
              "}\n",
              "\n",
              "        displayQuickchartButton(document);\n",
              "      </script>\n",
              "      <style>\n",
              "    .colab-df-container {\n",
              "      display:flex;\n",
              "      flex-wrap:wrap;\n",
              "      gap: 12px;\n",
              "    }\n",
              "\n",
              "    .colab-df-convert {\n",
              "      background-color: #E8F0FE;\n",
              "      border: none;\n",
              "      border-radius: 50%;\n",
              "      cursor: pointer;\n",
              "      display: none;\n",
              "      fill: #1967D2;\n",
              "      height: 32px;\n",
              "      padding: 0 0 0 0;\n",
              "      width: 32px;\n",
              "    }\n",
              "\n",
              "    .colab-df-convert:hover {\n",
              "      background-color: #E2EBFA;\n",
              "      box-shadow: 0px 1px 2px rgba(60, 64, 67, 0.3), 0px 1px 3px 1px rgba(60, 64, 67, 0.15);\n",
              "      fill: #174EA6;\n",
              "    }\n",
              "\n",
              "    [theme=dark] .colab-df-convert {\n",
              "      background-color: #3B4455;\n",
              "      fill: #D2E3FC;\n",
              "    }\n",
              "\n",
              "    [theme=dark] .colab-df-convert:hover {\n",
              "      background-color: #434B5C;\n",
              "      box-shadow: 0px 1px 3px 1px rgba(0, 0, 0, 0.15);\n",
              "      filter: drop-shadow(0px 1px 2px rgba(0, 0, 0, 0.3));\n",
              "      fill: #FFFFFF;\n",
              "    }\n",
              "  </style>\n",
              "\n",
              "      <script>\n",
              "        const buttonEl =\n",
              "          document.querySelector('#df-ab0d6b7a-e409-44c3-be1c-9f637a902373 button.colab-df-convert');\n",
              "        buttonEl.style.display =\n",
              "          google.colab.kernel.accessAllowed ? 'block' : 'none';\n",
              "\n",
              "        async function convertToInteractive(key) {\n",
              "          const element = document.querySelector('#df-ab0d6b7a-e409-44c3-be1c-9f637a902373');\n",
              "          const dataTable =\n",
              "            await google.colab.kernel.invokeFunction('convertToInteractive',\n",
              "                                                     [key], {});\n",
              "          if (!dataTable) return;\n",
              "\n",
              "          const docLinkHtml = 'Like what you see? Visit the ' +\n",
              "            '<a target=\"_blank\" href=https://colab.research.google.com/notebooks/data_table.ipynb>data table notebook</a>'\n",
              "            + ' to learn more about interactive tables.';\n",
              "          element.innerHTML = '';\n",
              "          dataTable['output_type'] = 'display_data';\n",
              "          await google.colab.output.renderOutput(dataTable, element);\n",
              "          const docLink = document.createElement('div');\n",
              "          docLink.innerHTML = docLinkHtml;\n",
              "          element.appendChild(docLink);\n",
              "        }\n",
              "      </script>\n",
              "    </div>\n",
              "  </div>\n"
            ]
          },
          "metadata": {},
          "execution_count": 51
        }
      ]
    },
    {
      "cell_type": "code",
      "source": [
        "import matplotlib.pyplot as plt\n",
        "\n",
        "# Slice the DataFrame to include the first 2000 rows\n",
        "X_subset = X_test.iloc[0:2000]\n",
        "\n",
        "# Create a plot\n",
        "plt.figure(figsize=(10, 6))  # Adjust the figure size as needed\n",
        "plt.plot(X_subset['date'], X_subset['X1'], marker='o')\n",
        "\n",
        "# Add labels and title\n",
        "plt.xlabel('Date')\n",
        "plt.ylabel('X1')\n",
        "plt.title('X1 over Time')\n",
        "\n",
        "# Show the plot\n",
        "plt.xticks(rotation=45)  # Rotate x-axis labels for better readability\n",
        "plt.tight_layout()       # Adjust layout to prevent clipping of labels\n",
        "plt.show()"
      ],
      "metadata": {
        "colab": {
          "base_uri": "https://localhost:8080/",
          "height": 607
        },
        "id": "28rhs6ZCwDm7",
        "outputId": "ed41ac12-4199-4bee-e014-f552d66331f6"
      },
      "execution_count": null,
      "outputs": [
        {
          "output_type": "display_data",
          "data": {
            "text/plain": [
              "<Figure size 1000x600 with 1 Axes>"
            ],
            "image/png": "[encoded data removed]"
          },
          "metadata": {}
        }
      ]
    },
    {
      "cell_type": "code",
      "source": [
        "X_train = X_train.drop(columns=['date','chunk','new_fragment'], axis=1)\n",
        "X_test  = X_test.drop(columns=['date','chunk','new_fragment'], axis=1)"
      ],
      "metadata": {
        "id": "QO_j6oAkuFGu"
      },
      "execution_count": null,
      "outputs": []
    },
    {
      "cell_type": "code",
      "source": [
        "print(len(X_test))\n",
        "print(len(X_train))"
      ],
      "metadata": {
        "colab": {
          "base_uri": "https://localhost:8080/"
        },
        "id": "8X1rEsyKuKhI",
        "outputId": "00928502-abed-4658-8631-293d25555b36"
      },
      "execution_count": null,
      "outputs": [
        {
          "output_type": "stream",
          "name": "stdout",
          "text": [
            "84000\n",
            "264000\n"
          ]
        }
      ]
    },
    {
      "cell_type": "code",
      "source": [
        "print ('Select every {}th row'.format(NUMBER_TIMESTEPS))\n",
        "\n",
        "Y_train_short = Y_train[::NUMBER_TIMESTEPS]\n",
        "Y_test_short  = Y_test[::NUMBER_TIMESTEPS]\n",
        "print ('Y bunches (train, test):')\n",
        "print(Y_train_short.shape)\n",
        "print(Y_test_short.shape)"
      ],
      "metadata": {
        "colab": {
          "base_uri": "https://localhost:8080/"
        },
        "id": "iUX5G3VR0rMH",
        "outputId": "b613fa15-b483-46ba-be2c-58ab825fab57"
      },
      "execution_count": null,
      "outputs": [
        {
          "output_type": "stream",
          "name": "stdout",
          "text": [
            "Select every 500th row\n",
            "Y bunches (train, test):\n",
            "(528, 13)\n",
            "(168, 13)\n"
          ]
        }
      ]
    },
    {
      "cell_type": "code",
      "source": [
        "Y_train_short = Y_train_short.drop(columns=['date'], axis=1)\n",
        "Y_test_short  = Y_test_short.drop(columns=['date'], axis=1)\n",
        "\n",
        "Y_train_short = Y_train_short['left-2'] #2\n",
        "Y_test_short  = Y_test_short['left-2']"
      ],
      "metadata": {
        "id": "W8yHE77BQqwc"
      },
      "execution_count": null,
      "outputs": []
    },
    {
      "cell_type": "code",
      "source": [
        "# count the number of NaN per column\n",
        "nan_counts = X_train.isna().sum()\n",
        "print(nan_counts['l_degr'])\n",
        "print(nan_counts['r_degr'])\n",
        "print(nan_counts['l_shoulder'])\n",
        "print(nan_counts['r_shoulder'])"
      ],
      "metadata": {
        "colab": {
          "base_uri": "https://localhost:8080/"
        },
        "id": "bfjzDf_xva2X",
        "outputId": "b589823d-2c46-45eb-e44a-a0b42186d8f6"
      },
      "execution_count": null,
      "outputs": [
        {
          "output_type": "stream",
          "name": "stdout",
          "text": [
            "340\n",
            "90\n",
            "41\n",
            "52\n"
          ]
        }
      ]
    },
    {
      "cell_type": "code",
      "source": [
        "# TRAIN\n",
        "X_train['l_degr'].fillna(90, inplace=True)\n",
        "X_train['r_degr'].fillna(90, inplace=True)\n",
        "X_train['l_shoulder'].fillna(90, inplace=True)\n",
        "X_train['r_shoulder'].fillna(90, inplace=True)\n",
        "\n",
        "# TEST\n",
        "X_test['l_degr'].fillna(90, inplace=True)\n",
        "X_test['r_degr'].fillna(90, inplace=True)\n",
        "X_test['l_shoulder'].fillna(90, inplace=True)\n",
        "X_test['r_shoulder'].fillna(90, inplace=True)"
      ],
      "metadata": {
        "id": "R6A90qYWvHYx"
      },
      "execution_count": null,
      "outputs": []
    },
    {
      "cell_type": "code",
      "source": [
        "# count the number of NaN per column\n",
        "nan_counts = X_train.isna().sum()\n",
        "print(nan_counts['l_degr'])\n",
        "print(nan_counts['r_degr'])\n",
        "print(nan_counts['l_shoulder'])\n",
        "print(nan_counts['r_shoulder'])"
      ],
      "metadata": {
        "colab": {
          "base_uri": "https://localhost:8080/"
        },
        "id": "gD9S3tXavtV3",
        "outputId": "f1c97e7e-0220-48ea-81bf-8d5f1e36ee4e"
      },
      "execution_count": null,
      "outputs": [
        {
          "output_type": "stream",
          "name": "stdout",
          "text": [
            "0\n",
            "0\n",
            "0\n",
            "0\n"
          ]
        }
      ]
    },
    {
      "cell_type": "code",
      "source": [
        "from sklearn.preprocessing import MinMaxScaler\n",
        "\n",
        "# Applying Min-Max Scaling to scale the features to the range [0, 1]\n",
        "scaler = MinMaxScaler()\n",
        "\n",
        "X_train = pd.DataFrame(scaler.fit_transform(X_train), columns=X_train.columns)\n",
        "X_test  = pd.DataFrame(scaler.fit_transform(X_test ), columns=X_test.columns )\n",
        "\n",
        "X_train.head()"
      ],
      "metadata": {
        "colab": {
          "base_uri": "https://localhost:8080/",
          "height": 270
        },
        "id": "ji4lzNWtuSGn",
        "outputId": "8046591a-c0fc-402c-f225-6bf4fdffa22d"
      },
      "execution_count": null,
      "outputs": [
        {
          "output_type": "execute_result",
          "data": {
            "text/plain": [
              "         X1        Y1        X2        Y2        X3        Y3        X4  \\\n",
              "0  0.414380  0.279363  0.386038  0.253614  0.424908  0.201763  0.356319   \n",
              "1  0.332941  0.240525  0.311684  0.225599  0.330994  0.188353  0.292157   \n",
              "2  0.331032  0.239285  0.310479  0.225090  0.330340  0.189073  0.292313   \n",
              "3  0.433145  0.270908  0.404676  0.249484  0.413996  0.241658  0.389452   \n",
              "4  0.332957  0.239824  0.314210  0.224848  0.330951  0.189851  0.294758   \n",
              "\n",
              "         Y4        X5        Y5        X6        Y6        X7        Y7  \\\n",
              "0  0.219283  0.469074  0.157503  0.364450  0.223200  0.494278  0.189618   \n",
              "1  0.199560  0.461166  0.159459  0.362924  0.224460  0.486999  0.193905   \n",
              "2  0.197568  0.452749  0.162625  0.359308  0.227549  0.478832  0.202208   \n",
              "3  0.232131  0.445296  0.163805  0.357116  0.228326  0.472666  0.204823   \n",
              "4  0.198728  0.443049  0.161428  0.353562  0.226910  0.471097  0.204083   \n",
              "\n",
              "         X8        Y8        X9        Y9       X10       Y10    l_degr  \\\n",
              "0  0.383231  0.321804  0.556851  0.210735  0.433669  0.317840  0.707448   \n",
              "1  0.381633  0.323120  0.551435  0.213847  0.432427  0.313533  0.785223   \n",
              "2  0.378038  0.326518  0.545517  0.223258  0.428557  0.313358  0.794334   \n",
              "3  0.375065  0.327137  0.540475  0.224728  0.425948  0.309970  0.589973   \n",
              "4  0.369889  0.325604  0.540706  0.226549  0.420612  0.308473  0.809327   \n",
              "\n",
              "     r_degr  l_shoulder  r_shoulder  \n",
              "0  0.641078    0.885126    0.617766  \n",
              "1  0.583353    0.681987    0.552866  \n",
              "2  0.546034    0.679708    0.557733  \n",
              "3  0.500492    0.712224    0.493095  \n",
              "4  0.493728    0.682608    0.568322  "
            ],
            "text/html": [
              "\n",
              "\n",
              "  <div id=\"df-f79cc9d9-6e76-4802-bec2-a05de943feb5\">\n",
              "    <div class=\"colab-df-container\">\n",
              "      <div>\n",
              "<style scoped>\n",
              "    .dataframe tbody tr th:only-of-type {\n",
              "        vertical-align: middle;\n",
              "    }\n",
              "\n",
              "    .dataframe tbody tr th {\n",
              "        vertical-align: top;\n",
              "    }\n",
              "\n",
              "    .dataframe thead th {\n",
              "        text-align: right;\n",
              "    }\n",
              "</style>\n",
              "<table border=\"1\" class=\"dataframe\">\n",
              "  <thead>\n",
              "    <tr style=\"text-align: right;\">\n",
              "      <th></th>\n",
              "      <th>X1</th>\n",
              "      <th>Y1</th>\n",
              "      <th>X2</th>\n",
              "      <th>Y2</th>\n",
              "      <th>X3</th>\n",
              "      <th>Y3</th>\n",
              "      <th>X4</th>\n",
              "      <th>Y4</th>\n",
              "      <th>X5</th>\n",
              "      <th>Y5</th>\n",
              "      <th>X6</th>\n",
              "      <th>Y6</th>\n",
              "      <th>X7</th>\n",
              "      <th>Y7</th>\n",
              "      <th>X8</th>\n",
              "      <th>Y8</th>\n",
              "      <th>X9</th>\n",
              "      <th>Y9</th>\n",
              "      <th>X10</th>\n",
              "      <th>Y10</th>\n",
              "      <th>l_degr</th>\n",
              "      <th>r_degr</th>\n",
              "      <th>l_shoulder</th>\n",
              "      <th>r_shoulder</th>\n",
              "    </tr>\n",
              "  </thead>\n",
              "  <tbody>\n",
              "    <tr>\n",
              "      <th>0</th>\n",
              "      <td>0.414380</td>\n",
              "      <td>0.279363</td>\n",
              "      <td>0.386038</td>\n",
              "      <td>0.253614</td>\n",
              "      <td>0.424908</td>\n",
              "      <td>0.201763</td>\n",
              "      <td>0.356319</td>\n",
              "      <td>0.219283</td>\n",
              "      <td>0.469074</td>\n",
              "      <td>0.157503</td>\n",
              "      <td>0.364450</td>\n",
              "      <td>0.223200</td>\n",
              "      <td>0.494278</td>\n",
              "      <td>0.189618</td>\n",
              "      <td>0.383231</td>\n",
              "      <td>0.321804</td>\n",
              "      <td>0.556851</td>\n",
              "      <td>0.210735</td>\n",
              "      <td>0.433669</td>\n",
              "      <td>0.317840</td>\n",
              "      <td>0.707448</td>\n",
              "      <td>0.641078</td>\n",
              "      <td>0.885126</td>\n",
              "      <td>0.617766</td>\n",
              "    </tr>\n",
              "    <tr>\n",
              "      <th>1</th>\n",
              "      <td>0.332941</td>\n",
              "      <td>0.240525</td>\n",
              "      <td>0.311684</td>\n",
              "      <td>0.225599</td>\n",
              "      <td>0.330994</td>\n",
              "      <td>0.188353</td>\n",
              "      <td>0.292157</td>\n",
              "      <td>0.199560</td>\n",
              "      <td>0.461166</td>\n",
              "      <td>0.159459</td>\n",
              "      <td>0.362924</td>\n",
              "      <td>0.224460</td>\n",
              "      <td>0.486999</td>\n",
              "      <td>0.193905</td>\n",
              "      <td>0.381633</td>\n",
              "      <td>0.323120</td>\n",
              "      <td>0.551435</td>\n",
              "      <td>0.213847</td>\n",
              "      <td>0.432427</td>\n",
              "      <td>0.313533</td>\n",
              "      <td>0.785223</td>\n",
              "      <td>0.583353</td>\n",
              "      <td>0.681987</td>\n",
              "      <td>0.552866</td>\n",
              "    </tr>\n",
              "    <tr>\n",
              "      <th>2</th>\n",
              "      <td>0.331032</td>\n",
              "      <td>0.239285</td>\n",
              "      <td>0.310479</td>\n",
              "      <td>0.225090</td>\n",
              "      <td>0.330340</td>\n",
              "      <td>0.189073</td>\n",
              "      <td>0.292313</td>\n",
              "      <td>0.197568</td>\n",
              "      <td>0.452749</td>\n",
              "      <td>0.162625</td>\n",
              "      <td>0.359308</td>\n",
              "      <td>0.227549</td>\n",
              "      <td>0.478832</td>\n",
              "      <td>0.202208</td>\n",
              "      <td>0.378038</td>\n",
              "      <td>0.326518</td>\n",
              "      <td>0.545517</td>\n",
              "      <td>0.223258</td>\n",
              "      <td>0.428557</td>\n",
              "      <td>0.313358</td>\n",
              "      <td>0.794334</td>\n",
              "      <td>0.546034</td>\n",
              "      <td>0.679708</td>\n",
              "      <td>0.557733</td>\n",
              "    </tr>\n",
              "    <tr>\n",
              "      <th>3</th>\n",
              "      <td>0.433145</td>\n",
              "      <td>0.270908</td>\n",
              "      <td>0.404676</td>\n",
              "      <td>0.249484</td>\n",
              "      <td>0.413996</td>\n",
              "      <td>0.241658</td>\n",
              "      <td>0.389452</td>\n",
              "      <td>0.232131</td>\n",
              "      <td>0.445296</td>\n",
              "      <td>0.163805</td>\n",
              "      <td>0.357116</td>\n",
              "      <td>0.228326</td>\n",
              "      <td>0.472666</td>\n",
              "      <td>0.204823</td>\n",
              "      <td>0.375065</td>\n",
              "      <td>0.327137</td>\n",
              "      <td>0.540475</td>\n",
              "      <td>0.224728</td>\n",
              "      <td>0.425948</td>\n",
              "      <td>0.309970</td>\n",
              "      <td>0.589973</td>\n",
              "      <td>0.500492</td>\n",
              "      <td>0.712224</td>\n",
              "      <td>0.493095</td>\n",
              "    </tr>\n",
              "    <tr>\n",
              "      <th>4</th>\n",
              "      <td>0.332957</td>\n",
              "      <td>0.239824</td>\n",
              "      <td>0.314210</td>\n",
              "      <td>0.224848</td>\n",
              "      <td>0.330951</td>\n",
              "      <td>0.189851</td>\n",
              "      <td>0.294758</td>\n",
              "      <td>0.198728</td>\n",
              "      <td>0.443049</td>\n",
              "      <td>0.161428</td>\n",
              "      <td>0.353562</td>\n",
              "      <td>0.226910</td>\n",
              "      <td>0.471097</td>\n",
              "      <td>0.204083</td>\n",
              "      <td>0.369889</td>\n",
              "      <td>0.325604</td>\n",
              "      <td>0.540706</td>\n",
              "      <td>0.226549</td>\n",
              "      <td>0.420612</td>\n",
              "      <td>0.308473</td>\n",
              "      <td>0.809327</td>\n",
              "      <td>0.493728</td>\n",
              "      <td>0.682608</td>\n",
              "      <td>0.568322</td>\n",
              "    </tr>\n",
              "  </tbody>\n",
              "</table>\n",
              "</div>\n",
              "      <button class=\"colab-df-convert\" onclick=\"convertToInteractive('df-f79cc9d9-6e76-4802-bec2-a05de943feb5')\"\n",
              "              title=\"Convert this dataframe to an interactive table.\"\n",
              "              style=\"display:none;\">\n",
              "\n",
              "  <svg xmlns=\"http://www.w3.org/2000/svg\" height=\"24px\"viewBox=\"0 0 24 24\"\n",
              "       width=\"24px\">\n",
              "    <path d=\"M0 0h24v24H0V0z\" fill=\"none\"/>\n",
              "    <path d=\"M18.56 5.44l.94 2.06.94-2.06 2.06-.94-2.06-.94-.94-2.06-.94 2.06-2.06.94zm-11 1L8.5 8.5l.94-2.06 2.06-.94-2.06-.94L8.5 2.5l-.94 2.06-2.06.94zm10 10l.94 2.06.94-2.06 2.06-.94-2.06-.94-.94-2.06-.94 2.06-2.06.94z\"/><path d=\"M17.41 7.96l-1.37-1.37c-.4-.4-.92-.59-1.43-.59-.52 0-1.04.2-1.43.59L10.3 9.45l-7.72 7.72c-.78.78-.78 2.05 0 2.83L4 21.41c.39.39.9.59 1.41.59.51 0 1.02-.2 1.41-.59l7.78-7.78 2.81-2.81c.8-.78.8-2.07 0-2.86zM5.41 20L4 18.59l7.72-7.72 1.47 1.35L5.41 20z\"/>\n",
              "  </svg>\n",
              "      </button>\n",
              "\n",
              "\n",
              "\n",
              "    <div id=\"df-f343d0c4-46d3-4c90-90a4-24feb39c5b48\">\n",
              "      <button class=\"colab-df-quickchart\" onclick=\"quickchart('df-f343d0c4-46d3-4c90-90a4-24feb39c5b48')\"\n",
              "              title=\"Suggest charts.\"\n",
              "              style=\"display:none;\">\n",
              "\n",
              "<svg xmlns=\"http://www.w3.org/2000/svg\" height=\"24px\"viewBox=\"0 0 24 24\"\n",
              "     width=\"24px\">\n",
              "    <g>\n",
              "        <path d=\"M19 3H5c-1.1 0-2 .9-2 2v14c0 1.1.9 2 2 2h14c1.1 0 2-.9 2-2V5c0-1.1-.9-2-2-2zM9 17H7v-7h2v7zm4 0h-2V7h2v10zm4 0h-2v-4h2v4z\"/>\n",
              "    </g>\n",
              "</svg>\n",
              "      </button>\n",
              "    </div>\n",
              "\n",
              "<style>\n",
              "  .colab-df-quickchart {\n",
              "    background-color: #E8F0FE;\n",
              "    border: none;\n",
              "    border-radius: 50%;\n",
              "    cursor: pointer;\n",
              "    display: none;\n",
              "    fill: #1967D2;\n",
              "    height: 32px;\n",
              "    padding: 0 0 0 0;\n",
              "    width: 32px;\n",
              "  }\n",
              "\n",
              "  .colab-df-quickchart:hover {\n",
              "    background-color: #E2EBFA;\n",
              "    box-shadow: 0px 1px 2px rgba(60, 64, 67, 0.3), 0px 1px 3px 1px rgba(60, 64, 67, 0.15);\n",
              "    fill: #174EA6;\n",
              "  }\n",
              "\n",
              "  [theme=dark] .colab-df-quickchart {\n",
              "    background-color: #3B4455;\n",
              "    fill: #D2E3FC;\n",
              "  }\n",
              "\n",
              "  [theme=dark] .colab-df-quickchart:hover {\n",
              "    background-color: #434B5C;\n",
              "    box-shadow: 0px 1px 3px 1px rgba(0, 0, 0, 0.15);\n",
              "    filter: drop-shadow(0px 1px 2px rgba(0, 0, 0, 0.3));\n",
              "    fill: #FFFFFF;\n",
              "  }\n",
              "</style>\n",
              "\n",
              "    <script>\n",
              "      async function quickchart(key) {\n",
              "        const containerElement = document.querySelector('#' + key);\n",
              "        const charts = await google.colab.kernel.invokeFunction(\n",
              "            'suggestCharts', [key], {});\n",
              "      }\n",
              "    </script>\n",
              "\n",
              "      <script>\n",
              "\n",
              "function displayQuickchartButton(domScope) {\n",
              "  let quickchartButtonEl =\n",
              "    domScope.querySelector('#df-f343d0c4-46d3-4c90-90a4-24feb39c5b48 button.colab-df-quickchart');\n",
              "  quickchartButtonEl.style.display =\n",
              "    google.colab.kernel.accessAllowed ? 'block' : 'none';\n",
              "}\n",
              "\n",
              "        displayQuickchartButton(document);\n",
              "      </script>\n",
              "      <style>\n",
              "    .colab-df-container {\n",
              "      display:flex;\n",
              "      flex-wrap:wrap;\n",
              "      gap: 12px;\n",
              "    }\n",
              "\n",
              "    .colab-df-convert {\n",
              "      background-color: #E8F0FE;\n",
              "      border: none;\n",
              "      border-radius: 50%;\n",
              "      cursor: pointer;\n",
              "      display: none;\n",
              "      fill: #1967D2;\n",
              "      height: 32px;\n",
              "      padding: 0 0 0 0;\n",
              "      width: 32px;\n",
              "    }\n",
              "\n",
              "    .colab-df-convert:hover {\n",
              "      background-color: #E2EBFA;\n",
              "      box-shadow: 0px 1px 2px rgba(60, 64, 67, 0.3), 0px 1px 3px 1px rgba(60, 64, 67, 0.15);\n",
              "      fill: #174EA6;\n",
              "    }\n",
              "\n",
              "    [theme=dark] .colab-df-convert {\n",
              "      background-color: #3B4455;\n",
              "      fill: #D2E3FC;\n",
              "    }\n",
              "\n",
              "    [theme=dark] .colab-df-convert:hover {\n",
              "      background-color: #434B5C;\n",
              "      box-shadow: 0px 1px 3px 1px rgba(0, 0, 0, 0.15);\n",
              "      filter: drop-shadow(0px 1px 2px rgba(0, 0, 0, 0.3));\n",
              "      fill: #FFFFFF;\n",
              "    }\n",
              "  </style>\n",
              "\n",
              "      <script>\n",
              "        const buttonEl =\n",
              "          document.querySelector('#df-f79cc9d9-6e76-4802-bec2-a05de943feb5 button.colab-df-convert');\n",
              "        buttonEl.style.display =\n",
              "          google.colab.kernel.accessAllowed ? 'block' : 'none';\n",
              "\n",
              "        async function convertToInteractive(key) {\n",
              "          const element = document.querySelector('#df-f79cc9d9-6e76-4802-bec2-a05de943feb5');\n",
              "          const dataTable =\n",
              "            await google.colab.kernel.invokeFunction('convertToInteractive',\n",
              "                                                     [key], {});\n",
              "          if (!dataTable) return;\n",
              "\n",
              "          const docLinkHtml = 'Like what you see? Visit the ' +\n",
              "            '<a target=\"_blank\" href=https://colab.research.google.com/notebooks/data_table.ipynb>data table notebook</a>'\n",
              "            + ' to learn more about interactive tables.';\n",
              "          element.innerHTML = '';\n",
              "          dataTable['output_type'] = 'display_data';\n",
              "          await google.colab.output.renderOutput(dataTable, element);\n",
              "          const docLink = document.createElement('div');\n",
              "          docLink.innerHTML = docLinkHtml;\n",
              "          element.appendChild(docLink);\n",
              "        }\n",
              "      </script>\n",
              "    </div>\n",
              "  </div>\n"
            ]
          },
          "metadata": {},
          "execution_count": 60
        }
      ]
    },
    {
      "cell_type": "code",
      "source": [
        "X_train = np.array(X_train)\n",
        "X_test = np.array(X_test)\n",
        "print ('X (train, test):')\n",
        "print(X_train.shape)\n",
        "print(X_test.shape)"
      ],
      "metadata": {
        "colab": {
          "base_uri": "https://localhost:8080/"
        },
        "id": "Gv2JdZQf2hmT",
        "outputId": "328ab031-f63e-42da-ce07-5f2a83f60fc2"
      },
      "execution_count": null,
      "outputs": [
        {
          "output_type": "stream",
          "name": "stdout",
          "text": [
            "X (train, test):\n",
            "(264000, 24)\n",
            "(84000, 24)\n"
          ]
        }
      ]
    },
    {
      "cell_type": "code",
      "source": [
        "print('2 classes:')\n",
        "NUMBER_BATCH_TRAIN = X_train.shape[0] // NUMBER_TIMESTEPS\n",
        "print('X_train = ', X_train.shape)\n",
        "print('NUMBER_BATCH_TRAIN = ',NUMBER_BATCH_TRAIN)\n",
        "X_train = np.reshape(X_train, (NUMBER_BATCH_TRAIN, NUMBER_TIMESTEPS, NUMBER_FEATURES))\n",
        "print('X_train = ', X_train.shape)\n",
        "\n",
        "NUMBER_BATCH_TEST = X_test.shape[0] // NUMBER_TIMESTEPS\n",
        "print('X_test = ', X_test.shape)\n",
        "print('NUMBER_BATCH_TEST = ',NUMBER_BATCH_TEST)\n",
        "X_test = np.reshape(X_test, (NUMBER_BATCH_TEST, NUMBER_TIMESTEPS, NUMBER_FEATURES))\n",
        "\n",
        "print('X_test = ', X_test.shape)"
      ],
      "metadata": {
        "colab": {
          "base_uri": "https://localhost:8080/"
        },
        "id": "xyR8zoFW0_7j",
        "outputId": "3fb72221-99de-488f-cb0b-51a3caf96ad5"
      },
      "execution_count": null,
      "outputs": [
        {
          "output_type": "stream",
          "name": "stdout",
          "text": [
            "2 classes:\n",
            "X_train =  (264000, 24)\n",
            "NUMBER_BATCH_TRAIN =  528\n",
            "X_train =  (528, 500, 24)\n",
            "X_test =  (84000, 24)\n",
            "NUMBER_BATCH_TEST =  168\n",
            "X_test =  (168, 500, 24)\n"
          ]
        }
      ]
    },
    {
      "cell_type": "code",
      "source": [
        "!pip install keras-tcn"
      ],
      "metadata": {
        "colab": {
          "base_uri": "https://localhost:8080/"
        },
        "id": "nzFq8LNK8m1f",
        "outputId": "a0379711-1474-4cf7-d73d-fb72b1c47807"
      },
      "execution_count": null,
      "outputs": [
        {
          "output_type": "stream",
          "name": "stdout",
          "text": [
            "Requirement already satisfied: keras-tcn in /usr/local/lib/python3.10/dist-packages (3.5.0)\n",
            "Requirement already satisfied: numpy in /usr/local/lib/python3.10/dist-packages (from keras-tcn) (1.23.5)\n",
            "Requirement already satisfied: tensorflow in /usr/local/lib/python3.10/dist-packages (from keras-tcn) (2.12.0)\n",
            "Requirement already satisfied: tensorflow-addons in /usr/local/lib/python3.10/dist-packages (from keras-tcn) (0.21.0)\n",
            "Requirement already satisfied: absl-py>=1.0.0 in /usr/local/lib/python3.10/dist-packages (from tensorflow->keras-tcn) (1.4.0)\n",
            "Requirement already satisfied: astunparse>=1.6.0 in /usr/local/lib/python3.10/dist-packages (from tensorflow->keras-tcn) (1.6.3)\n",
            "Requirement already satisfied: flatbuffers>=2.0 in /usr/local/lib/python3.10/dist-packages (from tensorflow->keras-tcn) (23.5.26)\n",
            "Requirement already satisfied: gast<=0.4.0,>=0.2.1 in /usr/local/lib/python3.10/dist-packages (from tensorflow->keras-tcn) (0.4.0)\n",
            "Requirement already satisfied: google-pasta>=0.1.1 in /usr/local/lib/python3.10/dist-packages (from tensorflow->keras-tcn) (0.2.0)\n",
            "Requirement already satisfied: grpcio<2.0,>=1.24.3 in /usr/local/lib/python3.10/dist-packages (from tensorflow->keras-tcn) (1.56.2)\n",
            "Requirement already satisfied: h5py>=2.9.0 in /usr/local/lib/python3.10/dist-packages (from tensorflow->keras-tcn) (3.8.0)\n",
            "Requirement already satisfied: jax>=0.3.15 in /usr/local/lib/python3.10/dist-packages (from tensorflow->keras-tcn) (0.4.14)\n",
            "Requirement already satisfied: keras<2.13,>=2.12.0 in /usr/local/lib/python3.10/dist-packages (from tensorflow->keras-tcn) (2.12.0)\n",
            "Requirement already satisfied: libclang>=13.0.0 in /usr/local/lib/python3.10/dist-packages (from tensorflow->keras-tcn) (16.0.6)\n",
            "Requirement already satisfied: opt-einsum>=2.3.2 in /usr/local/lib/python3.10/dist-packages (from tensorflow->keras-tcn) (3.3.0)\n",
            "Requirement already satisfied: packaging in /usr/local/lib/python3.10/dist-packages (from tensorflow->keras-tcn) (23.1)\n",
            "Requirement already satisfied: protobuf!=4.21.0,!=4.21.1,!=4.21.2,!=4.21.3,!=4.21.4,!=4.21.5,<5.0.0dev,>=3.20.3 in /usr/local/lib/python3.10/dist-packages (from tensorflow->keras-tcn) (3.20.3)\n",
            "Requirement already satisfied: setuptools in /usr/local/lib/python3.10/dist-packages (from tensorflow->keras-tcn) (67.7.2)\n",
            "Requirement already satisfied: six>=1.12.0 in /usr/local/lib/python3.10/dist-packages (from tensorflow->keras-tcn) (1.16.0)\n",
            "Requirement already satisfied: tensorboard<2.13,>=2.12 in /usr/local/lib/python3.10/dist-packages (from tensorflow->keras-tcn) (2.12.3)\n",
            "Requirement already satisfied: tensorflow-estimator<2.13,>=2.12.0 in /usr/local/lib/python3.10/dist-packages (from tensorflow->keras-tcn) (2.12.0)\n",
            "Requirement already satisfied: termcolor>=1.1.0 in /usr/local/lib/python3.10/dist-packages (from tensorflow->keras-tcn) (2.3.0)\n",
            "Requirement already satisfied: typing-extensions>=3.6.6 in /usr/local/lib/python3.10/dist-packages (from tensorflow->keras-tcn) (4.7.1)\n",
            "Requirement already satisfied: wrapt<1.15,>=1.11.0 in /usr/local/lib/python3.10/dist-packages (from tensorflow->keras-tcn) (1.14.1)\n",
            "Requirement already satisfied: tensorflow-io-gcs-filesystem>=0.23.1 in /usr/local/lib/python3.10/dist-packages (from tensorflow->keras-tcn) (0.33.0)\n",
            "Requirement already satisfied: typeguard<3.0.0,>=2.7 in /usr/local/lib/python3.10/dist-packages (from tensorflow-addons->keras-tcn) (2.13.3)\n",
            "Requirement already satisfied: wheel<1.0,>=0.23.0 in /usr/local/lib/python3.10/dist-packages (from astunparse>=1.6.0->tensorflow->keras-tcn) (0.41.0)\n",
            "Requirement already satisfied: ml-dtypes>=0.2.0 in /usr/local/lib/python3.10/dist-packages (from jax>=0.3.15->tensorflow->keras-tcn) (0.2.0)\n",
            "Requirement already satisfied: scipy>=1.7 in /usr/local/lib/python3.10/dist-packages (from jax>=0.3.15->tensorflow->keras-tcn) (1.10.1)\n",
            "Requirement already satisfied: google-auth<3,>=1.6.3 in /usr/local/lib/python3.10/dist-packages (from tensorboard<2.13,>=2.12->tensorflow->keras-tcn) (2.17.3)\n",
            "Requirement already satisfied: google-auth-oauthlib<1.1,>=0.5 in /usr/local/lib/python3.10/dist-packages (from tensorboard<2.13,>=2.12->tensorflow->keras-tcn) (1.0.0)\n",
            "Requirement already satisfied: markdown>=2.6.8 in /usr/local/lib/python3.10/dist-packages (from tensorboard<2.13,>=2.12->tensorflow->keras-tcn) (3.4.4)\n",
            "Requirement already satisfied: requests<3,>=2.21.0 in /usr/local/lib/python3.10/dist-packages (from tensorboard<2.13,>=2.12->tensorflow->keras-tcn) (2.31.0)\n",
            "Requirement already satisfied: tensorboard-data-server<0.8.0,>=0.7.0 in /usr/local/lib/python3.10/dist-packages (from tensorboard<2.13,>=2.12->tensorflow->keras-tcn) (0.7.1)\n",
            "Requirement already satisfied: werkzeug>=1.0.1 in /usr/local/lib/python3.10/dist-packages (from tensorboard<2.13,>=2.12->tensorflow->keras-tcn) (2.3.6)\n",
            "Requirement already satisfied: cachetools<6.0,>=2.0.0 in /usr/local/lib/python3.10/dist-packages (from google-auth<3,>=1.6.3->tensorboard<2.13,>=2.12->tensorflow->keras-tcn) (5.3.1)\n",
            "Requirement already satisfied: pyasn1-modules>=0.2.1 in /usr/local/lib/python3.10/dist-packages (from google-auth<3,>=1.6.3->tensorboard<2.13,>=2.12->tensorflow->keras-tcn) (0.3.0)\n",
            "Requirement already satisfied: rsa<5,>=3.1.4 in /usr/local/lib/python3.10/dist-packages (from google-auth<3,>=1.6.3->tensorboard<2.13,>=2.12->tensorflow->keras-tcn) (4.9)\n",
            "Requirement already satisfied: requests-oauthlib>=0.7.0 in /usr/local/lib/python3.10/dist-packages (from google-auth-oauthlib<1.1,>=0.5->tensorboard<2.13,>=2.12->tensorflow->keras-tcn) (1.3.1)\n",
            "Requirement already satisfied: charset-normalizer<4,>=2 in /usr/local/lib/python3.10/dist-packages (from requests<3,>=2.21.0->tensorboard<2.13,>=2.12->tensorflow->keras-tcn) (3.2.0)\n",
            "Requirement already satisfied: idna<4,>=2.5 in /usr/local/lib/python3.10/dist-packages (from requests<3,>=2.21.0->tensorboard<2.13,>=2.12->tensorflow->keras-tcn) (3.4)\n",
            "Requirement already satisfied: urllib3<3,>=1.21.1 in /usr/local/lib/python3.10/dist-packages (from requests<3,>=2.21.0->tensorboard<2.13,>=2.12->tensorflow->keras-tcn) (1.26.16)\n",
            "Requirement already satisfied: certifi>=2017.4.17 in /usr/local/lib/python3.10/dist-packages (from requests<3,>=2.21.0->tensorboard<2.13,>=2.12->tensorflow->keras-tcn) (2023.7.22)\n",
            "Requirement already satisfied: MarkupSafe>=2.1.1 in /usr/local/lib/python3.10/dist-packages (from werkzeug>=1.0.1->tensorboard<2.13,>=2.12->tensorflow->keras-tcn) (2.1.3)\n",
            "Requirement already satisfied: pyasn1<0.6.0,>=0.4.6 in /usr/local/lib/python3.10/dist-packages (from pyasn1-modules>=0.2.1->google-auth<3,>=1.6.3->tensorboard<2.13,>=2.12->tensorflow->keras-tcn) (0.5.0)\n",
            "Requirement already satisfied: oauthlib>=3.0.0 in /usr/local/lib/python3.10/dist-packages (from requests-oauthlib>=0.7.0->google-auth-oauthlib<1.1,>=0.5->tensorboard<2.13,>=2.12->tensorflow->keras-tcn) (3.2.2)\n"
          ]
        }
      ]
    },
    {
      "cell_type": "code",
      "source": [
        "X_train.shape[0]"
      ],
      "metadata": {
        "colab": {
          "base_uri": "https://localhost:8080/"
        },
        "id": "NuGNDH0Ra9c1",
        "outputId": "5dbb613a-d1e2-4286-e0bf-87178315c91b"
      },
      "execution_count": null,
      "outputs": [
        {
          "output_type": "execute_result",
          "data": {
            "text/plain": [
              "411"
            ]
          },
          "metadata": {},
          "execution_count": 509
        }
      ]
    },
    {
      "cell_type": "code",
      "source": [
        "from tcn import TCN\n",
        "from keras.regularizers import l1,l2\n",
        "from tensorflow import keras\n",
        "from tensorflow.keras.optimizers.schedules import ExponentialDecay\n",
        "\n",
        "epochs = 20\n",
        "\n",
        "lr=0.002 #initial\n",
        "final_lr = 0.000001\n",
        "decay_rate = 0.00000000005\n",
        "\n",
        "steps_per_epoch = NUMBER_BATCH_TRAIN #int(X_train.shape[0] // NUMBER_TIMESTEPS)\n",
        "learn_rate_decay_factor = (final_lr / lr)**(1/epochs)\n",
        "\n",
        "lr_schedule = ExponentialDecay(\n",
        "    initial_learning_rate = lr,\n",
        "    decay_steps           = steps_per_epoch, #100000\n",
        "    decay_rate            = learn_rate_decay_factor, #0.96\n",
        "    staircase=True)\n",
        "\n",
        "print ('Steps per epoch = {}'.format(steps_per_epoch) )\n",
        "print ('Learning rate decay factor = {}'.format(learn_rate_decay_factor) )\n",
        "\n",
        "def build_model(NUMBER_OUTPUTS, NUMBER_FEATURES):\n",
        "    model = models.Sequential()\n",
        "    # an input layer that expects:\n",
        "    # 1 or more samples, NUMBER_TIMESTEPS time steps and NUMBER_FEATURES features.\n",
        "\n",
        "    # 1st LSTM layer\n",
        "    #model.add(layers.LSTM(256, return_sequences=True, input_shape=(NUMBER_TIMESTEPS, NUMBER_FEATURES)) )\n",
        "    #model.add(layers.Dropout(0.2))\n",
        "\n",
        "    # 2nd LSTM layer\n",
        "    #model.add(layers.LSTM(512, input_shape=(NUMBER_TIMESTEPS, NUMBER_FEATURES)) )\n",
        "    #model.add(layers.Dropout(0.2))\n",
        "\n",
        "    model.add(TCN(512, input_shape=(NUMBER_TIMESTEPS, NUMBER_FEATURES), kernel_size=3, nb_stacks=1, dilations=[1, 2, 4, 8, 16, 32, 64, 128]  ) )\n",
        "\n",
        "    # Hidden fully connected layers of the neural network\n",
        "    # l1 or l2\n",
        "    model.add(layers.Dense(256,activation='relu', kernel_regularizer=l2(0.001)))\n",
        "    model.add(layers.Dropout(0.3))\n",
        "    model.add(layers.Dense(512,activation='relu', kernel_regularizer=l2(0.001)) )\n",
        "    model.add(layers.Dropout(0.3)) #0.2 or 0.5\n",
        "    model.add(layers.Dense(256,activation='relu', kernel_regularizer=l1(0.01)) )\n",
        "    model.add(layers.Dropout(0.3)) #0.2 or 0.5\n",
        "\n",
        "    # Classification layer of the neural network\n",
        "    model.add(layers.Dense(NUMBER_OUTPUTS, activation='sigmoid')) #softmax=multiple sigmoid=2\n",
        "\n",
        "    opt = Adam(amsgrad=True, learning_rate=lr_schedule) #learning_rate=learn_rate)#, beta_1=0.9, beta_2=0.999)\n",
        "    model.compile(loss='binary_crossentropy', optimizer=opt, metrics=['accuracy','Precision','Recall' ]) # categorical_crossentropy #,'accuracy', 'Precision','Recall'\n",
        "\n",
        "    # this shows the network structure\n",
        "    model.summary()\n",
        "\n",
        "    return model\n"
      ],
      "metadata": {
        "id": "rJ95Yt7X211j",
        "colab": {
          "base_uri": "https://localhost:8080/"
        },
        "outputId": "4f246a1c-96c5-42b7-ee8b-ce2f5fa440fd"
      },
      "execution_count": null,
      "outputs": [
        {
          "output_type": "stream",
          "name": "stdout",
          "text": [
            "Steps per epoch = 411\n",
            "Learning rate decay factor = 0.6838305520458344\n"
          ]
        }
      ]
    },
    {
      "cell_type": "code",
      "source": [
        "# creating the model\n",
        "model = build_model(NUMBER_OUTPUTS=1, NUMBER_FEATURES=NUMBER_FEATURES)"
      ],
      "metadata": {
        "colab": {
          "base_uri": "https://localhost:8080/"
        },
        "id": "UoYFvbcI2-GB",
        "outputId": "07b807ff-3dd2-4173-b5f5-58368a80ef06"
      },
      "execution_count": null,
      "outputs": [
        {
          "output_type": "stream",
          "name": "stdout",
          "text": [
            "Model: \"sequential_2\"\n",
            "_________________________________________________________________\n",
            " Layer (type)                Output Shape              Param #   \n",
            "=================================================================\n",
            " tcn_2 (TCN)                 (None, 512)               11854336  \n",
            "                                                                 \n",
            " dense_8 (Dense)             (None, 256)               131328    \n",
            "                                                                 \n",
            " dropout_6 (Dropout)         (None, 256)               0         \n",
            "                                                                 \n",
            " dense_9 (Dense)             (None, 512)               131584    \n",
            "                                                                 \n",
            " dropout_7 (Dropout)         (None, 512)               0         \n",
            "                                                                 \n",
            " dense_10 (Dense)            (None, 256)               131328    \n",
            "                                                                 \n",
            " dropout_8 (Dropout)         (None, 256)               0         \n",
            "                                                                 \n",
            " dense_11 (Dense)            (None, 1)                 257       \n",
            "                                                                 \n",
            "=================================================================\n",
            "Total params: 12,248,833\n",
            "Trainable params: 12,248,833\n",
            "Non-trainable params: 0\n",
            "_________________________________________________________________\n"
          ]
        }
      ]
    },
    {
      "cell_type": "code",
      "source": [
        "'''\n",
        "from tensorflow.keras.callbacks import LearningRateScheduler\n",
        "\n",
        "# Define the learning rate decay function\n",
        "def lr_decay(epoch, lr):\n",
        "  if epoch < 10:\n",
        "    return lr\n",
        "  else:\n",
        "    return lr * decay_rate ^ (epoch / decay_steps)\n",
        "\n",
        "# Create a LearningRateScheduler callback\n",
        "lr_scheduler = LearningRateScheduler(lr_decay)\n",
        "'''"
      ],
      "metadata": {
        "id": "0YSgIWCr2qTh",
        "colab": {
          "base_uri": "https://localhost:8080/",
          "height": 53
        },
        "outputId": "05875c95-d994-4993-e07d-97c792e514b9"
      },
      "execution_count": null,
      "outputs": [
        {
          "output_type": "execute_result",
          "data": {
            "text/plain": [
              "'\\nfrom tensorflow.keras.callbacks import LearningRateScheduler\\n\\n# Define the learning rate decay function\\ndef lr_decay(epoch, lr):\\n  if epoch < 10:\\n    return lr\\n  else:\\n    return lr * decay_rate ^ (epoch / decay_steps)\\n\\n# Create a LearningRateScheduler callback\\nlr_scheduler = LearningRateScheduler(lr_decay)\\n'"
            ],
            "application/vnd.google.colaboratory.intrinsic+json": {
              "type": "string"
            }
          },
          "metadata": {},
          "execution_count": 547
        }
      ]
    },
    {
      "cell_type": "code",
      "source": [
        "# training the model\n",
        "\n",
        "# fit model\n",
        "history = model.fit( X_train, Y_train_short, validation_data=(X_test, Y_test_short), epochs=epochs, batch_size = 64) #, callbacks=[lr_scheduler])"
      ],
      "metadata": {
        "colab": {
          "base_uri": "https://localhost:8080/"
        },
        "id": "jsiXDg7v2sgg",
        "outputId": "e89882a5-c183-4fda-b454-19aa7f2eb94f"
      },
      "execution_count": null,
      "outputs": [
        {
          "output_type": "stream",
          "name": "stdout",
          "text": [
            "Epoch 1/20\n",
            "7/7 [==============================] - 17s 1s/step - loss: 224.7755 - accuracy: 0.5231 - precision: 0.5559 - recall: 0.7532 - val_loss: 56.9010 - val_accuracy: 0.2674 - val_precision: 0.0000e+00 - val_recall: 0.0000e+00\n",
            "Epoch 2/20\n",
            "7/7 [==============================] - 6s 871ms/step - loss: 54.7414 - accuracy: 0.5450 - precision: 0.5769 - recall: 0.7143 - val_loss: 52.4142 - val_accuracy: 0.2674 - val_precision: 0.0000e+00 - val_recall: 0.0000e+00\n",
            "Epoch 3/20\n",
            "7/7 [==============================] - 7s 952ms/step - loss: 51.0465 - accuracy: 0.5353 - precision: 0.5654 - recall: 0.7489 - val_loss: 49.3675 - val_accuracy: 0.2674 - val_precision: 0.0000e+00 - val_recall: 0.0000e+00\n",
            "Epoch 4/20\n",
            "7/7 [==============================] - 6s 879ms/step - loss: 47.9737 - accuracy: 0.5085 - precision: 0.5573 - recall: 0.6104 - val_loss: 46.1337 - val_accuracy: 0.7326 - val_precision: 0.7326 - val_recall: 1.0000\n",
            "Epoch 5/20\n",
            "7/7 [==============================] - 6s 869ms/step - loss: 45.1164 - accuracy: 0.5645 - precision: 0.5751 - recall: 0.8615 - val_loss: 43.5463 - val_accuracy: 0.7326 - val_precision: 0.7326 - val_recall: 1.0000\n",
            "Epoch 6/20\n",
            "7/7 [==============================] - 6s 944ms/step - loss: 42.6780 - accuracy: 0.5645 - precision: 0.5774 - recall: 0.8398 - val_loss: 41.3648 - val_accuracy: 0.7326 - val_precision: 0.7326 - val_recall: 1.0000\n",
            "Epoch 7/20\n",
            "7/7 [==============================] - 6s 937ms/step - loss: 40.7345 - accuracy: 0.6253 - precision: 0.6032 - recall: 0.9740 - val_loss: 39.6175 - val_accuracy: 0.7326 - val_precision: 0.7326 - val_recall: 1.0000\n",
            "Epoch 8/20\n",
            "7/7 [==============================] - 6s 933ms/step - loss: 38.9787 - accuracy: 0.6667 - precision: 0.6284 - recall: 0.9957 - val_loss: 38.2450 - val_accuracy: 0.4709 - val_precision: 1.0000 - val_recall: 0.2778\n",
            "Epoch 9/20\n",
            "7/7 [==============================] - 6s 840ms/step - loss: 37.3321 - accuracy: 0.8808 - precision: 0.8447 - recall: 0.9654 - val_loss: 36.8316 - val_accuracy: 0.6453 - val_precision: 0.9851 - val_recall: 0.5238\n",
            "Epoch 10/20\n",
            "7/7 [==============================] - 6s 842ms/step - loss: 35.8326 - accuracy: 0.9781 - precision: 0.9826 - recall: 0.9784 - val_loss: 36.1160 - val_accuracy: 0.6395 - val_precision: 0.8636 - val_recall: 0.6032\n",
            "Epoch 11/20\n",
            "7/7 [==============================] - 6s 836ms/step - loss: 34.6333 - accuracy: 0.9781 - precision: 0.9664 - recall: 0.9957 - val_loss: 36.4684 - val_accuracy: 0.6512 - val_precision: 1.0000 - val_recall: 0.5238\n",
            "Epoch 12/20\n",
            "7/7 [==============================] - 6s 839ms/step - loss: 33.5581 - accuracy: 0.9878 - precision: 0.9956 - recall: 0.9827 - val_loss: 35.3536 - val_accuracy: 0.6453 - val_precision: 0.9851 - val_recall: 0.5238\n",
            "Epoch 13/20\n",
            "7/7 [==============================] - 6s 842ms/step - loss: 32.5792 - accuracy: 1.0000 - precision: 1.0000 - recall: 1.0000 - val_loss: 34.8998 - val_accuracy: 0.6512 - val_precision: 1.0000 - val_recall: 0.5238\n",
            "Epoch 14/20\n",
            "7/7 [==============================] - 6s 847ms/step - loss: 31.7057 - accuracy: 1.0000 - precision: 1.0000 - recall: 1.0000 - val_loss: 34.5613 - val_accuracy: 0.6512 - val_precision: 1.0000 - val_recall: 0.5238\n",
            "Epoch 15/20\n",
            "7/7 [==============================] - 6s 861ms/step - loss: 30.8871 - accuracy: 0.9976 - precision: 1.0000 - recall: 0.9957 - val_loss: 33.5153 - val_accuracy: 0.6512 - val_precision: 1.0000 - val_recall: 0.5238\n",
            "Epoch 16/20\n",
            "7/7 [==============================] - 6s 850ms/step - loss: 30.1262 - accuracy: 0.9976 - precision: 1.0000 - recall: 0.9957 - val_loss: 31.7256 - val_accuracy: 0.6512 - val_precision: 0.9125 - val_recall: 0.5794\n",
            "Epoch 17/20\n",
            "7/7 [==============================] - 6s 852ms/step - loss: 30.2154 - accuracy: 0.8200 - precision: 0.7985 - recall: 0.9091 - val_loss: 30.1946 - val_accuracy: 0.6279 - val_precision: 1.0000 - val_recall: 0.4921\n",
            "Epoch 18/20\n",
            "7/7 [==============================] - 6s 848ms/step - loss: 29.2094 - accuracy: 0.7786 - precision: 0.9861 - recall: 0.6147 - val_loss: 29.0336 - val_accuracy: 0.6163 - val_precision: 0.8488 - val_recall: 0.5794\n",
            "Epoch 19/20\n",
            "7/7 [==============================] - 6s 931ms/step - loss: 28.2736 - accuracy: 0.9684 - precision: 0.9542 - recall: 0.9913 - val_loss: 30.1310 - val_accuracy: 0.6453 - val_precision: 0.9851 - val_recall: 0.5238\n",
            "Epoch 20/20\n",
            "7/7 [==============================] - 6s 933ms/step - loss: 27.5650 - accuracy: 0.9951 - precision: 1.0000 - recall: 0.9913 - val_loss: 30.3808 - val_accuracy: 0.6453 - val_precision: 0.9851 - val_recall: 0.5238\n"
          ]
        }
      ]
    },
    {
      "cell_type": "code",
      "source": [
        "'''\n",
        "# Save the entire model (architecture, optimizer state, and weights)\n",
        "model.save('trained_model.h5')\n",
        "\n",
        "# Alternatively, you can save just the weights\n",
        "model.save_weights('model_weights.h5')\n",
        "\n",
        "from tensorflow.keras.saving import load_model\n",
        "# Load the entire model from the .h5 file\n",
        "loaded_model = load_model('trained_model.h5')\n",
        "'''\n",
        "\n",
        "\n",
        "'''\n",
        "# Calling `save('my_model.keras')` creates a zip archive `my_model.keras`.\n",
        "model.save(\"stroke_nihss_1.keras\")\n",
        "\n",
        "# It can be used to reconstruct the model identically.\n",
        "loaded_model = keras.models.load_model(\"stroke_nihss_1.keras\")\n",
        "\n",
        "# Summary of the loaded model\n",
        "loaded_model.summary()\n",
        "'''"
      ],
      "metadata": {
        "id": "oiQzLg2rhk9D",
        "colab": {
          "base_uri": "https://localhost:8080/",
          "height": 53
        },
        "outputId": "f56f1344-84fc-4d82-c32f-fe288e2f9b0c"
      },
      "execution_count": null,
      "outputs": [
        {
          "output_type": "execute_result",
          "data": {
            "text/plain": [
              "'\\n# Calling `save(\\'my_model.keras\\')` creates a zip archive `my_model.keras`.\\nmodel.save(\"stroke_nihss_1.keras\")\\n\\n# It can be used to reconstruct the model identically.\\nloaded_model = keras.models.load_model(\"stroke_nihss_1.keras\")\\n\\n# Summary of the loaded model\\nloaded_model.summary()\\n'"
            ],
            "application/vnd.google.colaboratory.intrinsic+json": {
              "type": "string"
            }
          },
          "metadata": {},
          "execution_count": 549
        }
      ]
    },
    {
      "cell_type": "code",
      "source": [
        "from matplotlib import pyplot as plt\n",
        "\n",
        "# Create a larger figure\n",
        "plt.figure(figsize=(10, 8))\n",
        "\n",
        "# plot loss during training\n",
        "plt.subplot(211)\n",
        "plt.title('Loss')\n",
        "plt.plot(history.history['loss'][2:], label='train')\n",
        "plt.plot(history.history['val_loss'][2:], label='test')\n",
        "plt.legend()\n",
        "plt.xticks(range(len(history.history['loss'][2:])))\n",
        "plt.xlabel('Epoch')\n",
        "plt.ylabel('Loss')\n",
        "\n",
        "# plot accuracy during training\n",
        "plt.subplot(212)\n",
        "plt.title('accuracy')\n",
        "#plt.plot(history.history['accuracy'], label='train')\n",
        "#plt.plot(history.history['val_accuracy'], label='test')\n",
        "plt.plot([acc * 100 for acc in history.history['accuracy']], label='train')\n",
        "plt.plot([acc * 100 for acc in history.history['val_accuracy']], label='test')\n",
        "plt.xticks(range(len(history.history['accuracy'])))\n",
        "plt.xlabel('Epoch')\n",
        "plt.ylabel('Accuracy, %')\n",
        "\n",
        "# Adjust spacing between subplots\n",
        "plt.tight_layout()\n",
        "plt.legend()\n",
        "\n",
        "# Save the figure as an image file\n",
        "plt.savefig('training_results.png')\n",
        "\n",
        "plt.show()"
      ],
      "metadata": {
        "id": "ws3y9O5rRl-i",
        "colab": {
          "base_uri": "https://localhost:8080/",
          "height": 765
        },
        "outputId": "aa2cb913-362c-4fdd-be6e-93f23c05776c"
      },
      "execution_count": null,
      "outputs": [
        {
          "output_type": "display_data",
          "data": {
            "text/plain": [
              "<Figure size 1000x800 with 2 Axes>"
            ],
            "image/png": "[encoded data removed]"
          },
          "metadata": {}
        }
      ]
    },
    {
      "cell_type": "code",
      "source": [
        "#NEW CODE# Step 1: Make Predictions# Step 2: Convert Probabilities to Classes using a threshold (e.g., 0.5)\n",
        "import numpy as np\n",
        "import seaborn as sns\n",
        "import matplotlib.pyplot as plt\n",
        "from sklearn.metrics import confusion_matrix\n",
        "\n",
        "y_pred_prob_test = model.predict(X_test)\n",
        "threshold = 0.5\n",
        "Y_test_model = (y_pred_prob_test > threshold).astype(int)\n",
        "\n",
        "y_pred_prob_train = model.predict(X_train)\n",
        "threshold = 0.5\n",
        "Y_train_model = (y_pred_prob_train > threshold).astype(int)\n",
        "\n",
        "# Step 3: Calculate Confusion Matrix\n",
        "conf_matrix = confusion_matrix(Y_test_short, Y_test_model)\n",
        "\n",
        "# Step 4: Visualize Confusion Matrix (Optional)\n",
        "plt.figure(figsize=(8, 6))\n",
        "sns.heatmap(conf_matrix, annot=True, fmt='d', cmap='Blues', xticklabels=True, yticklabels=True)\n",
        "plt.xlabel('Predicted Labels')\n",
        "plt.ylabel('True Labels')\n",
        "plt.title('Confusion Matrix')\n",
        "\n",
        "plt.show()"
      ],
      "metadata": {
        "id": "zItvAxuzaIL7",
        "colab": {
          "base_uri": "https://localhost:8080/",
          "height": 650
        },
        "outputId": "bedd0b2c-b162-4124-e768-7c94104b7540"
      },
      "execution_count": null,
      "outputs": [
        {
          "output_type": "stream",
          "name": "stdout",
          "text": [
            "6/6 [==============================] - 1s 145ms/step\n",
            "13/13 [==============================] - 2s 138ms/step\n"
          ]
        },
        {
          "output_type": "display_data",
          "data": {
            "text/plain": [
              "<Figure size 800x600 with 2 Axes>"
            ],
            "image/png": "[encoded data removed]"
          },
          "metadata": {}
        }
      ]
    },
    {
      "cell_type": "code",
      "source": [
        "# Predict outputs and save them in a variable\n",
        "'''Y_train_model = model.predict(X_train)\n",
        "Y_test_model = model.predict(X_test)'''\n"
      ],
      "metadata": {
        "id": "z4BhvIdWw34I",
        "colab": {
          "base_uri": "https://localhost:8080/",
          "height": 35
        },
        "outputId": "b0acfa27-9414-4e76-dc78-ad807d3dd885"
      },
      "execution_count": null,
      "outputs": [
        {
          "output_type": "execute_result",
          "data": {
            "text/plain": [
              "'Y_train_model = model.predict(X_train)\\nY_test_model = model.predict(X_test)'"
            ],
            "application/vnd.google.colaboratory.intrinsic+json": {
              "type": "string"
            }
          },
          "metadata": {},
          "execution_count": 552
        }
      ]
    },
    {
      "cell_type": "code",
      "source": [
        "#Y_train_model"
      ],
      "metadata": {
        "id": "9TIniaw7bRoU"
      },
      "execution_count": null,
      "outputs": []
    },
    {
      "cell_type": "code",
      "source": [
        "\n",
        "# Cast the float array to an integer array\n",
        "# Create a pandas Series from the array\n",
        "'''y_pred = (Y_train_model > threshold).astype(int)\n",
        "y_pred = (Y_test_model > threshold).astype(int)\n",
        "Y_train_model = pd.Series(Y_train_model.astype(int).flatten())\n",
        "Y_test_model  = pd.Series(Y_test_model.astype(int).flatten())'''"
      ],
      "metadata": {
        "id": "OpJIzvK3bRLN",
        "colab": {
          "base_uri": "https://localhost:8080/",
          "height": 53
        },
        "outputId": "914f7993-f2c4-42fe-f023-0d0403729b78"
      },
      "execution_count": null,
      "outputs": [
        {
          "output_type": "execute_result",
          "data": {
            "text/plain": [
              "'y_pred = (Y_train_model > threshold).astype(int)\\ny_pred = (Y_test_model > threshold).astype(int)\\nY_train_model = pd.Series(Y_train_model.astype(int).flatten())\\nY_test_model  = pd.Series(Y_test_model.astype(int).flatten())'"
            ],
            "application/vnd.google.colaboratory.intrinsic+json": {
              "type": "string"
            }
          },
          "metadata": {},
          "execution_count": 554
        }
      ]
    },
    {
      "cell_type": "code",
      "source": [
        "Y_train_model"
      ],
      "metadata": {
        "id": "e6lItgeGbzTr",
        "colab": {
          "base_uri": "https://localhost:8080/"
        },
        "outputId": "fb69482a-fdc8-4114-9fdd-f3782f0cda10"
      },
      "execution_count": null,
      "outputs": [
        {
          "output_type": "execute_result",
          "data": {
            "text/plain": [
              "array([[1],\n",
              "       [1],\n",
              "       [1],\n",
              "       [1],\n",
              "       [1],\n",
              "       [1],\n",
              "       [1],\n",
              "       [1],\n",
              "       [1],\n",
              "       [1],\n",
              "       [1],\n",
              "       [1],\n",
              "       [1],\n",
              "       [1],\n",
              "       [1],\n",
              "       [1],\n",
              "       [1],\n",
              "       [1],\n",
              "       [1],\n",
              "       [1],\n",
              "       [1],\n",
              "       [1],\n",
              "       [1],\n",
              "       [1],\n",
              "       [1],\n",
              "       [1],\n",
              "       [1],\n",
              "       [1],\n",
              "       [1],\n",
              "       [1],\n",
              "       [1],\n",
              "       [1],\n",
              "       [1],\n",
              "       [1],\n",
              "       [1],\n",
              "       [1],\n",
              "       [1],\n",
              "       [1],\n",
              "       [1],\n",
              "       [1],\n",
              "       [1],\n",
              "       [1],\n",
              "       [1],\n",
              "       [1],\n",
              "       [1],\n",
              "       [1],\n",
              "       [1],\n",
              "       [1],\n",
              "       [1],\n",
              "       [1],\n",
              "       [1],\n",
              "       [1],\n",
              "       [1],\n",
              "       [1],\n",
              "       [1],\n",
              "       [1],\n",
              "       [1],\n",
              "       [1],\n",
              "       [1],\n",
              "       [1],\n",
              "       [1],\n",
              "       [1],\n",
              "       [1],\n",
              "       [1],\n",
              "       [1],\n",
              "       [1],\n",
              "       [1],\n",
              "       [1],\n",
              "       [1],\n",
              "       [1],\n",
              "       [1],\n",
              "       [1],\n",
              "       [1],\n",
              "       [1],\n",
              "       [1],\n",
              "       [1],\n",
              "       [1],\n",
              "       [1],\n",
              "       [1],\n",
              "       [1],\n",
              "       [1],\n",
              "       [1],\n",
              "       [1],\n",
              "       [1],\n",
              "       [1],\n",
              "       [1],\n",
              "       [1],\n",
              "       [1],\n",
              "       [1],\n",
              "       [1],\n",
              "       [1],\n",
              "       [1],\n",
              "       [1],\n",
              "       [1],\n",
              "       [1],\n",
              "       [1],\n",
              "       [1],\n",
              "       [1],\n",
              "       [1],\n",
              "       [1],\n",
              "       [1],\n",
              "       [1],\n",
              "       [1],\n",
              "       [1],\n",
              "       [1],\n",
              "       [1],\n",
              "       [1],\n",
              "       [1],\n",
              "       [1],\n",
              "       [1],\n",
              "       [1],\n",
              "       [1],\n",
              "       [1],\n",
              "       [1],\n",
              "       [1],\n",
              "       [1],\n",
              "       [1],\n",
              "       [1],\n",
              "       [1],\n",
              "       [1],\n",
              "       [1],\n",
              "       [1],\n",
              "       [1],\n",
              "       [1],\n",
              "       [1],\n",
              "       [1],\n",
              "       [1],\n",
              "       [1],\n",
              "       [1],\n",
              "       [1],\n",
              "       [1],\n",
              "       [1],\n",
              "       [1],\n",
              "       [1],\n",
              "       [1],\n",
              "       [1],\n",
              "       [1],\n",
              "       [1],\n",
              "       [1],\n",
              "       [1],\n",
              "       [1],\n",
              "       [1],\n",
              "       [1],\n",
              "       [1],\n",
              "       [1],\n",
              "       [1],\n",
              "       [1],\n",
              "       [1],\n",
              "       [1],\n",
              "       [1],\n",
              "       [1],\n",
              "       [1],\n",
              "       [1],\n",
              "       [1],\n",
              "       [1],\n",
              "       [1],\n",
              "       [1],\n",
              "       [1],\n",
              "       [1],\n",
              "       [1],\n",
              "       [1],\n",
              "       [1],\n",
              "       [1],\n",
              "       [1],\n",
              "       [1],\n",
              "       [1],\n",
              "       [1],\n",
              "       [1],\n",
              "       [1],\n",
              "       [1],\n",
              "       [1],\n",
              "       [1],\n",
              "       [1],\n",
              "       [1],\n",
              "       [1],\n",
              "       [1],\n",
              "       [1],\n",
              "       [1],\n",
              "       [1],\n",
              "       [1],\n",
              "       [1],\n",
              "       [1],\n",
              "       [1],\n",
              "       [1],\n",
              "       [1],\n",
              "       [1],\n",
              "       [1],\n",
              "       [1],\n",
              "       [1],\n",
              "       [1],\n",
              "       [1],\n",
              "       [1],\n",
              "       [1],\n",
              "       [1],\n",
              "       [1],\n",
              "       [1],\n",
              "       [1],\n",
              "       [1],\n",
              "       [1],\n",
              "       [1],\n",
              "       [1],\n",
              "       [1],\n",
              "       [1],\n",
              "       [1],\n",
              "       [1],\n",
              "       [1],\n",
              "       [1],\n",
              "       [1],\n",
              "       [1],\n",
              "       [1],\n",
              "       [1],\n",
              "       [1],\n",
              "       [1],\n",
              "       [1],\n",
              "       [1],\n",
              "       [1],\n",
              "       [1],\n",
              "       [1],\n",
              "       [1],\n",
              "       [1],\n",
              "       [1],\n",
              "       [1],\n",
              "       [1],\n",
              "       [1],\n",
              "       [1],\n",
              "       [1],\n",
              "       [1],\n",
              "       [1],\n",
              "       [1],\n",
              "       [1],\n",
              "       [1],\n",
              "       [0],\n",
              "       [0],\n",
              "       [0],\n",
              "       [0],\n",
              "       [0],\n",
              "       [0],\n",
              "       [0],\n",
              "       [0],\n",
              "       [0],\n",
              "       [0],\n",
              "       [0],\n",
              "       [0],\n",
              "       [0],\n",
              "       [0],\n",
              "       [0],\n",
              "       [0],\n",
              "       [0],\n",
              "       [0],\n",
              "       [0],\n",
              "       [0],\n",
              "       [0],\n",
              "       [0],\n",
              "       [0],\n",
              "       [0],\n",
              "       [0],\n",
              "       [0],\n",
              "       [0],\n",
              "       [0],\n",
              "       [0],\n",
              "       [0],\n",
              "       [0],\n",
              "       [0],\n",
              "       [0],\n",
              "       [0],\n",
              "       [0],\n",
              "       [0],\n",
              "       [0],\n",
              "       [0],\n",
              "       [0],\n",
              "       [0],\n",
              "       [0],\n",
              "       [0],\n",
              "       [0],\n",
              "       [0],\n",
              "       [0],\n",
              "       [0],\n",
              "       [0],\n",
              "       [0],\n",
              "       [0],\n",
              "       [0],\n",
              "       [0],\n",
              "       [0],\n",
              "       [0],\n",
              "       [0],\n",
              "       [0],\n",
              "       [0],\n",
              "       [0],\n",
              "       [0],\n",
              "       [0],\n",
              "       [0],\n",
              "       [0],\n",
              "       [0],\n",
              "       [0],\n",
              "       [0],\n",
              "       [0],\n",
              "       [0],\n",
              "       [0],\n",
              "       [0],\n",
              "       [0],\n",
              "       [0],\n",
              "       [0],\n",
              "       [0],\n",
              "       [0],\n",
              "       [0],\n",
              "       [0],\n",
              "       [0],\n",
              "       [0],\n",
              "       [0],\n",
              "       [0],\n",
              "       [0],\n",
              "       [0],\n",
              "       [0],\n",
              "       [0],\n",
              "       [0],\n",
              "       [0],\n",
              "       [0],\n",
              "       [0],\n",
              "       [0],\n",
              "       [0],\n",
              "       [0],\n",
              "       [0],\n",
              "       [0],\n",
              "       [0],\n",
              "       [0],\n",
              "       [0],\n",
              "       [0],\n",
              "       [0],\n",
              "       [0],\n",
              "       [0],\n",
              "       [0],\n",
              "       [0],\n",
              "       [0],\n",
              "       [0],\n",
              "       [0],\n",
              "       [0],\n",
              "       [0],\n",
              "       [0],\n",
              "       [0],\n",
              "       [0],\n",
              "       [0],\n",
              "       [0],\n",
              "       [0],\n",
              "       [0],\n",
              "       [0],\n",
              "       [0],\n",
              "       [0],\n",
              "       [0],\n",
              "       [0],\n",
              "       [0],\n",
              "       [0],\n",
              "       [0],\n",
              "       [0],\n",
              "       [0],\n",
              "       [0],\n",
              "       [0],\n",
              "       [0],\n",
              "       [0],\n",
              "       [0],\n",
              "       [0],\n",
              "       [0],\n",
              "       [0],\n",
              "       [0],\n",
              "       [0],\n",
              "       [0],\n",
              "       [0],\n",
              "       [0],\n",
              "       [0],\n",
              "       [0],\n",
              "       [0],\n",
              "       [0],\n",
              "       [0],\n",
              "       [0],\n",
              "       [0],\n",
              "       [0],\n",
              "       [0],\n",
              "       [0],\n",
              "       [0],\n",
              "       [0],\n",
              "       [0],\n",
              "       [0],\n",
              "       [0],\n",
              "       [0],\n",
              "       [0],\n",
              "       [0],\n",
              "       [0],\n",
              "       [0],\n",
              "       [0],\n",
              "       [0],\n",
              "       [0],\n",
              "       [0],\n",
              "       [0],\n",
              "       [0],\n",
              "       [0],\n",
              "       [0],\n",
              "       [0],\n",
              "       [0],\n",
              "       [0],\n",
              "       [0],\n",
              "       [0],\n",
              "       [0],\n",
              "       [0],\n",
              "       [0],\n",
              "       [0],\n",
              "       [0],\n",
              "       [0],\n",
              "       [0],\n",
              "       [0],\n",
              "       [0],\n",
              "       [0],\n",
              "       [0]])"
            ]
          },
          "metadata": {},
          "execution_count": 555
        }
      ]
    },
    {
      "cell_type": "code",
      "source": [
        "import numpy as np\n",
        "import seaborn as sns\n",
        "import matplotlib.pyplot as plt\n",
        "from sklearn.metrics import confusion_matrix\n",
        "\n",
        "# Sample predicted and true values\n",
        "#predicted = np.array([1, 0, 1, 1, 0, 1, 0, 1, 0, 1])\n",
        "#true = np.array([1, 0, 0, 1, 0, 1, 0, 0, 0, 1])\n",
        "\n",
        "predicted = Y_test_model\n",
        "true      = Y_test_short\n",
        "\n",
        "# Calculate confusion matrix\n",
        "cm = confusion_matrix(true, predicted)\n",
        "#cm = [[453629,246371],[165458,284674]]\n",
        "\n",
        "# Create a heatmap of the confusion matrix\n",
        "plt.figure(figsize=(6, 5))\n",
        "#sns.heatmap(cm, annot=True,  cmap=\"Blues\", xticklabels=[\"minor\", \"moderate\"], yticklabels=[\"minor\", \"moderate\"]) #fmt=\"d\",\n",
        "\n",
        "sns.set(font_scale = 2)\n",
        "sns.heatmap(cm, annot=True, cmap=\"Blues\", xticklabels=[\"no weakness\", \"weakness\"], yticklabels=[\"no weakness\", \"weakness\"], cbar=False, annot_kws={\"size\": 18}) #fmt=\"d\",\n",
        "plt.xlabel('Predicted', fontsize=20)\n",
        "plt.ylabel('True', fontsize=20)\n",
        "plt.title('Confusion Matrix', fontsize=20)\n",
        "\n",
        "\n",
        "# Save the figure as an image file\n",
        "plt.savefig('confusion_matrix.png')\n",
        "\n",
        "plt.show()"
      ],
      "metadata": {
        "id": "cn3HsH9kfmtd",
        "colab": {
          "base_uri": "https://localhost:8080/",
          "height": 528
        },
        "outputId": "1f92e57d-a23a-44c5-9355-e3130ec098e5"
      },
      "execution_count": null,
      "outputs": [
        {
          "output_type": "display_data",
          "data": {
            "text/plain": [
              "<Figure size 600x500 with 1 Axes>"
            ],
            "image/png": "[encoded data removed]"
          },
          "metadata": {}
        }
      ]
    },
    {
      "cell_type": "code",
      "source": [
        "Y_train_model = pd.Series(Y_train_model.astype(int).flatten())\n",
        "Y_test_model  = pd.Series(Y_test_model.astype(int).flatten())"
      ],
      "metadata": {
        "id": "T27cEijag421"
      },
      "execution_count": null,
      "outputs": []
    },
    {
      "cell_type": "code",
      "source": [
        "Y_train_model.value_counts(normalize=False)"
      ],
      "metadata": {
        "colab": {
          "base_uri": "https://localhost:8080/"
        },
        "id": "3nNBA5PdxW_1",
        "outputId": "146814f5-1f97-49ce-bc1e-bd14214b75b7"
      },
      "execution_count": null,
      "outputs": [
        {
          "output_type": "execute_result",
          "data": {
            "text/plain": [
              "1    231\n",
              "0    180\n",
              "dtype: int64"
            ]
          },
          "metadata": {},
          "execution_count": 558
        }
      ]
    },
    {
      "cell_type": "code",
      "source": [
        "Y_test_model.value_counts(normalize=False)"
      ],
      "metadata": {
        "colab": {
          "base_uri": "https://localhost:8080/"
        },
        "id": "1lIzH1sazEo5",
        "outputId": "1da6fcff-c7fd-4017-fa52-f87792fc307f"
      },
      "execution_count": null,
      "outputs": [
        {
          "output_type": "execute_result",
          "data": {
            "text/plain": [
              "0    105\n",
              "1     67\n",
              "dtype: int64"
            ]
          },
          "metadata": {},
          "execution_count": 559
        }
      ]
    },
    {
      "cell_type": "code",
      "source": [
        "Y_train_short.value_counts(normalize=False)"
      ],
      "metadata": {
        "colab": {
          "base_uri": "https://localhost:8080/"
        },
        "id": "KkA-FczpxBnX",
        "outputId": "dd27f15e-15d6-4a71-831b-c0e50544945b"
      },
      "execution_count": null,
      "outputs": [
        {
          "output_type": "execute_result",
          "data": {
            "text/plain": [
              "1    231\n",
              "0    180\n",
              "Name: left-2, dtype: int64"
            ]
          },
          "metadata": {},
          "execution_count": 560
        }
      ]
    },
    {
      "cell_type": "code",
      "source": [
        "Y_test_short.value_counts(normalize=False)"
      ],
      "metadata": {
        "colab": {
          "base_uri": "https://localhost:8080/"
        },
        "id": "F_RPLdqczSiS",
        "outputId": "de4133b0-1bea-4c06-b214-7a40a67d7a97"
      },
      "execution_count": null,
      "outputs": [
        {
          "output_type": "execute_result",
          "data": {
            "text/plain": [
              "1    126\n",
              "0     46\n",
              "Name: left-2, dtype: int64"
            ]
          },
          "metadata": {},
          "execution_count": 561
        }
      ]
    },
    {
      "cell_type": "code",
      "source": [
        "print(history.history)"
      ],
      "metadata": {
        "colab": {
          "base_uri": "https://localhost:8080/"
        },
        "id": "h6vbvJlbReHZ",
        "outputId": "30ddfb01-2a56-42f7-fa40-3b6c0a96b45b"
      },
      "execution_count": null,
      "outputs": [
        {
          "output_type": "stream",
          "name": "stdout",
          "text": [
            "{'loss': [224.77549743652344, 54.74135208129883, 51.046485900878906, 47.97366714477539, 45.116363525390625, 42.678001403808594, 40.73454284667969, 38.978668212890625, 37.332149505615234, 35.83259963989258, 34.633277893066406, 33.55807113647461, 32.57917404174805, 31.705747604370117, 30.887136459350586, 30.126245498657227, 30.21541404724121, 29.209442138671875, 28.273630142211914, 27.56501007080078], 'accuracy': [0.5231143832206726, 0.5450121760368347, 0.5352798104286194, 0.5085158348083496, 0.5644769072532654, 0.5644769072532654, 0.6253041625022888, 0.6666666865348816, 0.8807786107063293, 0.9781022071838379, 0.9781022071838379, 0.9878345727920532, 1.0, 1.0, 0.9975669384002686, 0.9975669384002686, 0.8199513554573059, 0.7785888314247131, 0.9683698415756226, 0.9951338171958923], 'precision': [0.5559105277061462, 0.5769230723381042, 0.5653594732284546, 0.5573122501373291, 0.5751445293426514, 0.5773809552192688, 0.6032171845436096, 0.6284152865409851, 0.8446969985961914, 0.9826086759567261, 0.9663865566253662, 0.9956140518188477, 1.0, 1.0, 1.0, 1.0, 0.7984790802001953, 0.9861111044883728, 0.9541666507720947, 1.0], 'recall': [0.7532467246055603, 0.7142857313156128, 0.7489177584648132, 0.6103895902633667, 0.8614718317985535, 0.8398268222808838, 0.9740259647369385, 0.9956709742546082, 0.9653679728507996, 0.9783549904823303, 0.9956709742546082, 0.9826839566230774, 1.0, 1.0, 0.9956709742546082, 0.9956709742546082, 0.9090909361839294, 0.6147186160087585, 0.9913420081138611, 0.9913420081138611], 'val_loss': [56.90097427368164, 52.41424560546875, 49.367488861083984, 46.133705139160156, 43.54631805419922, 41.36484146118164, 39.617515563964844, 38.24496841430664, 36.831581115722656, 36.11595153808594, 36.4683952331543, 35.353580474853516, 34.89975357055664, 34.561317443847656, 33.515342712402344, 31.725631713867188, 30.194643020629883, 29.033550262451172, 30.131017684936523, 30.380762100219727], 'val_accuracy': [0.26744186878204346, 0.26744186878204346, 0.26744186878204346, 0.7325581312179565, 0.7325581312179565, 0.7325581312179565, 0.7325581312179565, 0.47093021869659424, 0.645348846912384, 0.6395348906517029, 0.6511628031730652, 0.645348846912384, 0.6511628031730652, 0.6511628031730652, 0.6511628031730652, 0.6511628031730652, 0.6279069781303406, 0.6162790656089783, 0.645348846912384, 0.645348846912384], 'val_precision': [0.0, 0.0, 0.0, 0.7325581312179565, 0.7325581312179565, 0.7325581312179565, 0.7325581312179565, 1.0, 0.9850746393203735, 0.8636363744735718, 1.0, 0.9850746393203735, 1.0, 1.0, 1.0, 0.9125000238418579, 1.0, 0.8488371968269348, 0.9850746393203735, 0.9850746393203735], 'val_recall': [0.0, 0.0, 0.0, 1.0, 1.0, 1.0, 1.0, 0.2777777910232544, 0.523809552192688, 0.60317462682724, 0.523809552192688, 0.523809552192688, 0.523809552192688, 0.523809552192688, 0.523809552192688, 0.579365074634552, 0.4920634925365448, 0.579365074634552, 0.523809552192688, 0.523809552192688]}\n"
          ]
        }
      ]
    },
    {
      "cell_type": "code",
      "source": [],
      "metadata": {
        "id": "duIoGdtnlEvN"
      },
      "execution_count": null,
      "outputs": []
    },
    {
      "cell_type": "code",
      "source": [
        "import numpy as np\n",
        "from sklearn.metrics import roc_curve, auc\n",
        "import matplotlib.pyplot as plt\n",
        "\n",
        "# Step 1: Make Predictions\n",
        "y_pred_prob = model.predict(X_test)\n",
        "\n",
        "# Calculate ROC curve\n",
        "fpr, tpr, thresholds = roc_curve(Y_test_short, y_pred_prob)\n",
        "\n",
        "# Calculate Area Under the Curve (AUC)\n",
        "roc_auc = auc(fpr, tpr)\n",
        "\n",
        "# Plot ROC curve\n",
        "plt.figure(figsize=(8, 6))\n",
        "plt.plot(fpr, tpr, color='darkorange', lw=2, label='ROC curve (AUC = %0.2f)' % roc_auc)\n",
        "plt.plot([0, 1], [0, 1], color='navy', lw=2, linestyle='--')\n",
        "plt.xlim([0.0, 1.0])\n",
        "plt.ylim([0.0, 1.05])\n",
        "plt.xlabel('False Positive Rate')\n",
        "plt.ylabel('True Positive Rate')\n",
        "plt.title('Receiver Operating Characteristic')\n",
        "plt.legend(loc='lower right')\n",
        "plt.show()"
      ],
      "metadata": {
        "id": "Oc4viU2dlpHL",
        "colab": {
          "base_uri": "https://localhost:8080/",
          "height": 632
        },
        "outputId": "f6090374-0309-48d3-f13c-42d3476da76f"
      },
      "execution_count": null,
      "outputs": [
        {
          "output_type": "stream",
          "name": "stdout",
          "text": [
            "6/6 [==============================] - 1s 136ms/step\n"
          ]
        },
        {
          "output_type": "display_data",
          "data": {
            "text/plain": [
              "<Figure size 800x600 with 1 Axes>"
            ],
            "image/png": "[encoded data removed]"
          },
          "metadata": {}
        }
      ]
    },
    {
      "cell_type": "code",
      "source": [],
      "metadata": {
        "id": "YLDXo9FdlzgL"
      },
      "execution_count": null,
      "outputs": []
    }
  ]
}