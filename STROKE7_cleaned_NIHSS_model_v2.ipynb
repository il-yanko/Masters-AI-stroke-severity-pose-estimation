{
  "nbformat": 4,
  "nbformat_minor": 0,
  "metadata": {
    "colab": {
      "provenance": []
    },
    "kernelspec": {
      "name": "python3",
      "display_name": "Python 3"
    },
    "language_info": {
      "name": "python"
    }
  },
  "cells": [
    {
      "cell_type": "code",
      "execution_count": null,
      "metadata": {
        "id": "G6ah_MftQly2"
      },
      "outputs": [],
      "source": [
        "from google.colab import drive\n",
        "drive.mount('/content/drive', force_remount=False)\n",
        "\n",
        "# the directory where your data is\n",
        "#PATH_to_data = '/content/drive/My Drive/STROKE_code/MMPOSE/data/patient_output/processed/NIHSS/'\n",
        "PATH_to_data = '/content/drive/My Drive/'\n",
        "import os\n",
        "os.chdir(PATH_to_data)\n",
        "import sys\n",
        "sys.path.append(PATH_to_data)\n",
        "\n",
        "import tensorflow as tf\n",
        "print(\"Num GPUs Available: \", len(tf.config.list_physical_devices('GPU')))\n",
        "\n",
        "config = tf.compat.v1.ConfigProto()\n",
        "config.gpu_options.allow_growth = True\n",
        "sess = tf.compat.v1.Session(config=config)\n",
        "tf.compat.v1.keras.backend.set_session(sess)\n",
        "\n",
        "import numpy as np\n",
        "import pandas as pd\n",
        "# Set the display option to show all columns\n",
        "pd.set_option('display.max_columns', None)\n",
        "\n",
        "#import tensorflow.keras as keras\n",
        "from tensorflow.keras import layers\n",
        "from tensorflow.keras import models\n",
        "from tensorflow.keras.optimizers import Adam\n",
        "from sklearn.model_selection import train_test_split\n",
        "from os import listdir\n",
        "from os.path import isfile, join, dirname, abspath\n",
        "\n",
        "# the length of records (if shorter, we need to add some zero rows)\n",
        "NUMBER_TIMESTEPS = 500\n",
        "# the number of features (from the data)\n",
        "NUMBER_FEATURES = 24 # 22 or 24 if you add shoulders"
      ]
    },
    {
      "cell_type": "code",
      "source": [
        "#import tensorflow.keras as keras\n",
        "from tensorflow.keras import layers\n",
        "from tensorflow.keras import models\n",
        "from tensorflow.keras.optimizers import Adam\n",
        "from sklearn.model_selection import train_test_split\n",
        "from os import listdir\n",
        "from os.path import isfile, join, dirname, abspath\n",
        "\n",
        "# the length of records (if shorter, we need to add some zero rows)\n",
        "NUMBER_TIMESTEPS = 500\n",
        "# the number of features (from the data)\n",
        "NUMBER_FEATURES = 24 # 22 or 24 if you add shoulders"
      ],
      "metadata": {
        "id": "GZyAgmWp1Pme"
      },
      "execution_count": null,
      "outputs": []
    },
    {
      "cell_type": "code",
      "source": [
        "# SPECIAL CLEANED DATASET\n",
        "#clean = pd.read_csv('cleaned_merged_stroke.csv') #short\n",
        "clean = pd.read_csv('cleaned_slided_stroke.csv') #long slided\n",
        "clean.head()"
      ],
      "metadata": {
        "id": "EY1n4O4AQzPK"
      },
      "execution_count": null,
      "outputs": []
    },
    {
      "cell_type": "code",
      "source": [
        "# Apply sliding window with a step to your data and save it\n",
        "'''\n",
        "# Define sliding window size\n",
        "window_size = NUMBER_TIMESTEPS # =500  # Adjust this as needed\n",
        "step_size = 100  # Adjust this to the desired step size\n",
        "\n",
        "# Function to create sliding window indices within a fragment with a step\n",
        "def sliding_window_indices(df_length):\n",
        "    return [(i, i + window_size) for i in range(0, df_length - window_size + 1, step_size)]\n",
        "\n",
        "# Apply sliding window within each fragment\n",
        "result_indices = []\n",
        "for _, fragment_df in clean.groupby('fragment'):\n",
        "    indices = sliding_window_indices(len(fragment_df))\n",
        "    result_indices.extend([(fragment_df.index[start:end]) for start, end in indices])\n",
        "\n",
        "# Combine the results into a new dataframe\n",
        "result = clean.loc[pd.Index(np.concatenate(result_indices))]\n",
        "len(result)\n",
        "\n",
        "# Save the result as a CSV file\n",
        "result.to_csv('cleaned_slided_stroke.csv', index=True)\n",
        "\n",
        "# Save the result as a .npy file\n",
        "#np.save('cleaned_slided_stroke.npy', result.to_records(index=True))\n",
        "'''\n",
        "\n",
        "# Visualize the sliding window\n",
        "'''\n",
        "import matplotlib.pyplot as plt\n",
        "# Plot the data\n",
        "for fragment, fragment_df in result.groupby('fragment'):\n",
        "    plt.figure()\n",
        "    plt.plot(fragment_df['date'], fragment_df['l_degr'], marker='o')\n",
        "    plt.title(f'Fragment {fragment} Sliding Windows')\n",
        "    plt.xlabel('date')\n",
        "    plt.ylabel('l_degr')\n",
        "    plt.xticks(rotation=45)\n",
        "    plt.grid(True)\n",
        "    plt.tight_layout()\n",
        "plt.show()\n",
        "'''"
      ],
      "metadata": {
        "id": "roZCAdEemrzJ"
      },
      "execution_count": null,
      "outputs": []
    },
    {
      "cell_type": "code",
      "source": [
        "len(clean)"
      ],
      "metadata": {
        "id": "2nNnnJcdTrj0"
      },
      "execution_count": null,
      "outputs": []
    },
    {
      "cell_type": "code",
      "source": [
        "clean['left-2'].value_counts(normalize=True)"
      ],
      "metadata": {
        "id": "ZNXBHHfUSPNH"
      },
      "execution_count": null,
      "outputs": []
    },
    {
      "cell_type": "code",
      "source": [
        "clean['left-2'].value_counts(normalize=False)"
      ],
      "metadata": {
        "id": "5j8qD21uSpjG"
      },
      "execution_count": null,
      "outputs": []
    },
    {
      "cell_type": "code",
      "source": [
        "# Calculate the number of occurrences of each class in the \"fragment\" column and print them out\n",
        "fragment_counts = clean['fragment'].value_counts()\n",
        "print( fragment_counts.sort_values() )"
      ],
      "metadata": {
        "id": "rvVcBisUrrBq"
      },
      "execution_count": null,
      "outputs": []
    },
    {
      "cell_type": "code",
      "source": [
        "#clean[clean['fragment'] == 0]"
      ],
      "metadata": {
        "id": "_UudgdHk7Okg"
      },
      "execution_count": null,
      "outputs": []
    },
    {
      "cell_type": "code",
      "source": [
        "# Define a custom function to cut each class to be a multiple of 500\n",
        "def cut_to_multiple(df, length=500):\n",
        "    return df.iloc[:len(df) // length * length]\n",
        "\n",
        "# Group the dataframe by \"class\" and apply the custom function to each group\n",
        "clean = clean.groupby('fragment').apply(cut_to_multiple).reset_index(drop=True)"
      ],
      "metadata": {
        "id": "r2iIiiCmTFpm",
        "colab": {
          "base_uri": "https://localhost:8080/"
        },
        "outputId": "03104dcd-92d0-4a24-ecb3-95d853389703"
      },
      "execution_count": null,
      "outputs": [
        {
          "output_type": "stream",
          "name": "stderr",
          "text": [
            "<ipython-input-38-cb2eb518e71f>:6: FutureWarning: Not prepending group keys to the result index of transform-like apply. In the future, the group keys will be included in the index, regardless of whether the applied function returns a like-indexed object.\n",
            "To preserve the previous behavior, use\n",
            "\n",
            "\t>>> .groupby(..., group_keys=False)\n",
            "\n",
            "To adopt the future behavior and silence this warning, use \n",
            "\n",
            "\t>>> .groupby(..., group_keys=True)\n",
            "  clean = clean.groupby('fragment').apply(cut_to_multiple).reset_index(drop=True)\n"
          ]
        }
      ]
    },
    {
      "cell_type": "code",
      "source": [
        "print('The new number of separated fragments: ', len(clean['fragment'].unique()))\n",
        "\n",
        "print('The new number of patients: ', len(clean['patient_ID'].unique()))"
      ],
      "metadata": {
        "colab": {
          "base_uri": "https://localhost:8080/"
        },
        "id": "aJNx9P4JsIci",
        "outputId": "736b12fb-e4b5-447b-dead-ec600ffcf8f1"
      },
      "execution_count": null,
      "outputs": [
        {
          "output_type": "stream",
          "name": "stdout",
          "text": [
            "The new number of separated fragments:  17\n",
            "The new number of patients:  9\n"
          ]
        }
      ]
    },
    {
      "cell_type": "code",
      "source": [
        "# Calculate the number of occurrences of each class in the \"fragment\" column and print them out\n",
        "fragment_counts = clean['fragment'].value_counts()\n",
        "print( fragment_counts.sort_values() )"
      ],
      "metadata": {
        "colab": {
          "base_uri": "https://localhost:8080/"
        },
        "id": "Q_eeO7A1rzE6",
        "outputId": "560aad15-14d5-4730-ba6b-dccffa750c4e"
      },
      "execution_count": null,
      "outputs": [
        {
          "output_type": "stream",
          "name": "stdout",
          "text": [
            "71      500\n",
            "23      500\n",
            "20      500\n",
            "0      1000\n",
            "63     1500\n",
            "19     3000\n",
            "22     3500\n",
            "69     5500\n",
            "11     7500\n",
            "61    18500\n",
            "16    19500\n",
            "18    21000\n",
            "25    30000\n",
            "15    31500\n",
            "9     33000\n",
            "7     56000\n",
            "8     59500\n",
            "Name: fragment, dtype: int64\n"
          ]
        }
      ]
    },
    {
      "cell_type": "code",
      "source": [
        "# Print all unique values in column 'patient_ID'\n",
        "print(clean['patient_ID'].unique())"
      ],
      "metadata": {
        "colab": {
          "base_uri": "https://localhost:8080/"
        },
        "id": "7hdcAZMF0ayR",
        "outputId": "2e648167-566b-4684-fbeb-40b56cb53e8f"
      },
      "execution_count": null,
      "outputs": [
        {
          "output_type": "stream",
          "name": "stdout",
          "text": [
            "['DD_18' 'OM_17' 'PC_06' 'LH_24' 'ND_11' 'LC_19' 'RO_26' 'VK_16' 'IM_38']\n"
          ]
        }
      ]
    },
    {
      "cell_type": "code",
      "source": [
        "len(clean)"
      ],
      "metadata": {
        "colab": {
          "base_uri": "https://localhost:8080/"
        },
        "id": "6T-6oDrOTXFN",
        "outputId": "157f662c-aa69-4964-8bb2-81088e9e855e"
      },
      "execution_count": null,
      "outputs": [
        {
          "output_type": "execute_result",
          "data": {
            "text/plain": [
              "292500"
            ]
          },
          "metadata": {},
          "execution_count": 42
        }
      ]
    },
    {
      "cell_type": "code",
      "source": [
        " #LC_19 та DD-18\n",
        "\n",
        "# Remove rows where 'b' is equal to 'abc'\n",
        "#clean = clean[  (clean['patient_ID'] != 'DD_18')  ]# & (clean['patient_ID'] != 'LC_19')]"
      ],
      "metadata": {
        "id": "UcVrHWt-z2OQ"
      },
      "execution_count": null,
      "outputs": []
    },
    {
      "cell_type": "code",
      "source": [
        "# Print all unique values in column 'patient_ID'\n",
        "print(clean['patient_ID'].unique())"
      ],
      "metadata": {
        "colab": {
          "base_uri": "https://localhost:8080/"
        },
        "id": "yAHf33I81XwW",
        "outputId": "a0aa6967-9ccf-4585-c6a1-aab9f1aaeea8"
      },
      "execution_count": null,
      "outputs": [
        {
          "output_type": "stream",
          "name": "stdout",
          "text": [
            "['DD_18' 'OM_17' 'PC_06' 'LH_24' 'ND_11' 'LC_19' 'RO_26' 'VK_16' 'IM_38']\n"
          ]
        }
      ]
    },
    {
      "cell_type": "code",
      "source": [
        "len(clean)"
      ],
      "metadata": {
        "colab": {
          "base_uri": "https://localhost:8080/"
        },
        "id": "t1gbTNXCcwBP",
        "outputId": "3cf75bff-fb1f-4c43-c703-f7544cdd6e3c"
      },
      "execution_count": null,
      "outputs": [
        {
          "output_type": "execute_result",
          "data": {
            "text/plain": [
              "292500"
            ]
          },
          "metadata": {},
          "execution_count": 45
        }
      ]
    },
    {
      "cell_type": "code",
      "source": [
        "clean['L Motor Arm Score'].value_counts(normalize=True)"
      ],
      "metadata": {
        "colab": {
          "base_uri": "https://localhost:8080/"
        },
        "id": "ZcFc5Ci4iVyd",
        "outputId": "066bf5dc-dcff-4632-f28a-ef68740c39c3"
      },
      "execution_count": null,
      "outputs": [
        {
          "output_type": "execute_result",
          "data": {
            "text/plain": [
              "4    0.613675\n",
              "0    0.365812\n",
              "1    0.020513\n",
              "Name: L Motor Arm Score, dtype: float64"
            ]
          },
          "metadata": {},
          "execution_count": 46
        }
      ]
    },
    {
      "cell_type": "code",
      "source": [
        "# Group by columns 'a' and 'b', then count the frequency\n",
        "combination_frequency = clean.groupby(['patient_ID', 'fragment']).size()"
      ],
      "metadata": {
        "id": "dvbG6wO54Vg9"
      },
      "execution_count": null,
      "outputs": []
    },
    {
      "cell_type": "code",
      "source": [
        "combination_frequency"
      ],
      "metadata": {
        "colab": {
          "base_uri": "https://localhost:8080/"
        },
        "id": "b1yEVSOr5J97",
        "outputId": "390e1418-3e25-4258-86b8-961e8ebf534c"
      },
      "execution_count": null,
      "outputs": [
        {
          "output_type": "execute_result",
          "data": {
            "text/plain": [
              "patient_ID  fragment\n",
              "DD_18       0            1000\n",
              "IM_38       69           5500\n",
              "            71            500\n",
              "LC_19       25          30000\n",
              "LH_24       15          31500\n",
              "            16          19500\n",
              "            18          21000\n",
              "            19           3000\n",
              "ND_11       20            500\n",
              "            22           3500\n",
              "            23            500\n",
              "OM_17       7           56000\n",
              "            8           59500\n",
              "            9           33000\n",
              "PC_06       11           7500\n",
              "RO_26       61          18500\n",
              "VK_16       63           1500\n",
              "dtype: int64"
            ]
          },
          "metadata": {},
          "execution_count": 64
        }
      ]
    },
    {
      "cell_type": "code",
      "source": [
        "# Define a custom function to map 'nihss' values to 'opposite-2'\n",
        "'''\n",
        "def map_class(nihss_value):\n",
        "    if nihss_value == 88:\n",
        "        return 999\n",
        "    elif 0 <= nihss_value <= 3:\n",
        "        return 0\n",
        "    elif nihss_value == 4:\n",
        "        return 1\n",
        "    else:\n",
        "        return None  # You can handle other cases as needed\n",
        "\n",
        "# Create the 'class-2' column based on the 'nihss' values\n",
        "clean['left-123'] =  clean['L Motor Arm Score'].apply(map_class)\n",
        "\n",
        "clean['left-123'].value_counts(normalize=True)\n",
        "'''"
      ],
      "metadata": {
        "colab": {
          "base_uri": "https://localhost:8080/",
          "height": 53
        },
        "id": "faFKSU-ej6Xj",
        "outputId": "17129d1f-322e-4cf7-b5b3-f81c16878d52"
      },
      "execution_count": null,
      "outputs": [
        {
          "output_type": "execute_result",
          "data": {
            "text/plain": [
              "\"\\ndef map_class(nihss_value):\\n    if nihss_value == 88:\\n        return 999\\n    elif 0 <= nihss_value <= 3:\\n        return 0\\n    elif nihss_value == 4:\\n        return 1\\n    else:\\n        return None  # You can handle other cases as needed\\n\\n# Create the 'class-2' column based on the 'nihss' values\\nclean['left-123'] =  clean['L Motor Arm Score'].apply(map_class)\\n\\nclean['left-123'].value_counts(normalize=True)\\n\""
            ],
            "application/vnd.google.colaboratory.intrinsic+json": {
              "type": "string"
            }
          },
          "metadata": {},
          "execution_count": 47
        }
      ]
    },
    {
      "cell_type": "code",
      "source": [
        "# Filter rows where 'left-opposite-2' is 0 or 2\n",
        "#clean = clean[(clean['left-opposite-2'] == 0) | (clean['left-opposite-2'] == 2)]"
      ],
      "metadata": {
        "id": "OXD4hEHaioNd"
      },
      "execution_count": null,
      "outputs": []
    },
    {
      "cell_type": "code",
      "source": [
        "# SPECIAL CLEANED DATASET\n",
        "X = clean[ ['fragment', 'date', 'X1', 'Y1', 'X2', 'Y2', 'X3', 'Y3', 'X4', 'Y4', 'X5', 'Y5', 'X6', 'Y6', 'X7', 'Y7', 'X8', 'Y8', 'X9', 'Y9', 'X10', 'Y10', 'l_degr', 'r_degr', 'l_shoulder', 'r_shoulder'] ]\n",
        "Y = clean[ ['fragment', 'date', 'NIHSS', 'L Motor Arm Score', 'R Motor Arm Score', 'L Motor Leg Score', 'R Motor Leg Score', 'left-2', 'right-2', 'left-opposite-2', 'right-opposite-2'] ] # - date\n",
        "\n",
        "print('X=',X.columns.to_list())\n",
        "print('Y=',Y.columns.to_list())"
      ],
      "metadata": {
        "colab": {
          "base_uri": "https://localhost:8080/"
        },
        "id": "iO8nqP6uQ0Cx",
        "outputId": "ea8693fd-9a76-4f9c-eb9d-35e656549bcd"
      },
      "execution_count": null,
      "outputs": [
        {
          "output_type": "stream",
          "name": "stdout",
          "text": [
            "X= ['fragment', 'date', 'X1', 'Y1', 'X2', 'Y2', 'X3', 'Y3', 'X4', 'Y4', 'X5', 'Y5', 'X6', 'Y6', 'X7', 'Y7', 'X8', 'Y8', 'X9', 'Y9', 'X10', 'Y10', 'l_degr', 'r_degr', 'l_shoulder', 'r_shoulder']\n",
            "Y= ['fragment', 'date', 'NIHSS', 'L Motor Arm Score', 'R Motor Arm Score', 'L Motor Leg Score', 'R Motor Leg Score', 'left-2', 'right-2', 'left-opposite-2', 'right-opposite-2']\n"
          ]
        }
      ]
    },
    {
      "cell_type": "code",
      "source": [
        "# First, we need to create a new column to identify the chunks of 500 rows\n",
        "X['chunk'] = X.index // 500\n",
        "Y['chunk'] = Y.index // 500\n",
        "\n",
        "X['chunk'].unique()"
      ],
      "metadata": {
        "colab": {
          "base_uri": "https://localhost:8080/"
        },
        "id": "0n45YhJdtLlI",
        "outputId": "98044cd0-38c0-4d62-b6c9-0cfae83f9f63"
      },
      "execution_count": null,
      "outputs": [
        {
          "output_type": "stream",
          "name": "stderr",
          "text": [
            "<ipython-input-50-341d0e818f8f>:2: SettingWithCopyWarning: \n",
            "A value is trying to be set on a copy of a slice from a DataFrame.\n",
            "Try using .loc[row_indexer,col_indexer] = value instead\n",
            "\n",
            "See the caveats in the documentation: https://pandas.pydata.org/pandas-docs/stable/user_guide/indexing.html#returning-a-view-versus-a-copy\n",
            "  X['chunk'] = X.index // 500\n",
            "<ipython-input-50-341d0e818f8f>:3: SettingWithCopyWarning: \n",
            "A value is trying to be set on a copy of a slice from a DataFrame.\n",
            "Try using .loc[row_indexer,col_indexer] = value instead\n",
            "\n",
            "See the caveats in the documentation: https://pandas.pydata.org/pandas-docs/stable/user_guide/indexing.html#returning-a-view-versus-a-copy\n",
            "  Y['chunk'] = Y.index // 500\n"
          ]
        },
        {
          "output_type": "execute_result",
          "data": {
            "text/plain": [
              "array([  0,   1,   2,   3,   4,   5,   6,   7,   8,   9,  10,  11,  12,\n",
              "        13,  14,  15,  16,  17,  18,  19,  20,  21,  22,  23,  24,  25,\n",
              "        26,  27,  28,  29,  30,  31,  32,  33,  34,  35,  36,  37,  38,\n",
              "        39,  40,  41,  42,  43,  44,  45,  46,  47,  48,  49,  50,  51,\n",
              "        52,  53,  54,  55,  56,  57,  58,  59,  60,  61,  62,  63,  64,\n",
              "        65,  66,  67,  68,  69,  70,  71,  72,  73,  74,  75,  76,  77,\n",
              "        78,  79,  80,  81,  82,  83,  84,  85,  86,  87,  88,  89,  90,\n",
              "        91,  92,  93,  94,  95,  96,  97,  98,  99, 100, 101, 102, 103,\n",
              "       104, 105, 106, 107, 108, 109, 110, 111, 112, 113, 114, 115, 116,\n",
              "       117, 118, 119, 120, 121, 122, 123, 124, 125, 126, 127, 128, 129,\n",
              "       130, 131, 132, 133, 134, 135, 136, 137, 138, 139, 140, 141, 142,\n",
              "       143, 144, 145, 146, 147, 148, 149, 150, 151, 152, 153, 154, 155,\n",
              "       156, 157, 158, 159, 160, 161, 162, 163, 164, 165, 166, 167, 168,\n",
              "       169, 170, 171, 172, 173, 174, 175, 176, 177, 178, 179, 180, 181,\n",
              "       182, 183, 184, 185, 186, 187, 188, 189, 190, 191, 192, 193, 194,\n",
              "       195, 196, 197, 198, 199, 200, 201, 202, 203, 204, 205, 206, 207,\n",
              "       208, 209, 210, 211, 212, 213, 214, 215, 216, 217, 218, 219, 220,\n",
              "       221, 222, 223, 224, 225, 226, 227, 228, 229, 230, 231, 232, 233,\n",
              "       234, 235, 236, 237, 238, 239, 240, 241, 242, 243, 244, 245, 246,\n",
              "       247, 248, 249, 250, 251, 252, 253, 254, 255, 256, 257, 258, 259,\n",
              "       260, 261, 262, 263, 264, 265, 266, 267, 268, 269, 270, 271, 272,\n",
              "       273, 274, 275, 276, 277, 278, 279, 280, 281, 282, 283, 284, 285,\n",
              "       286, 287, 288, 289, 290, 291, 292, 293, 294, 295, 296, 297, 298,\n",
              "       299, 300, 301, 302, 303, 304, 305, 306, 307, 308, 309, 310, 311,\n",
              "       312, 313, 314, 315, 316, 317, 318, 319, 320, 321, 322, 323, 324,\n",
              "       325, 326, 327, 328, 329, 330, 331, 332, 333, 334, 335, 336, 337,\n",
              "       338, 339, 340, 341, 342, 343, 344, 345, 346, 347, 348, 349, 350,\n",
              "       351, 352, 353, 354, 355, 356, 357, 358, 359, 360, 361, 362, 363,\n",
              "       364, 365, 366, 367, 368, 369, 370, 371, 372, 373, 374, 375, 376,\n",
              "       377, 378, 379, 380, 381, 382, 383, 384, 385, 386, 387, 388, 389,\n",
              "       390, 391, 392, 393, 394, 395, 396, 397, 398, 399, 400, 401, 402,\n",
              "       403, 404, 405, 406, 407, 408, 409, 410, 411, 412, 413, 414, 415,\n",
              "       416, 417, 418, 419, 420, 421, 422, 423, 424, 425, 426, 427, 428,\n",
              "       429, 430, 431, 432, 433, 434, 435, 436, 437, 438, 439, 440, 441,\n",
              "       442, 443, 444, 445, 446, 447, 448, 449, 450, 451, 452, 453, 454,\n",
              "       455, 456, 457, 458, 459, 460, 461, 462, 463, 464, 465, 466, 467,\n",
              "       468, 469, 470, 471, 472, 473, 474, 475, 476, 477, 478, 479, 480,\n",
              "       481, 482, 483, 484, 485, 486, 487, 488, 489, 490, 491, 492, 493,\n",
              "       494, 495, 496, 497, 498, 499, 500, 501, 502, 503, 504, 505, 506,\n",
              "       507, 508, 509, 510, 511, 512, 513, 514, 515, 516, 517, 518, 519,\n",
              "       520, 521, 522, 523, 524, 525, 526, 527, 528, 529, 530, 531, 532,\n",
              "       533, 534, 535, 536, 537, 538, 539, 540, 541, 542, 543, 544, 545,\n",
              "       546, 547, 548, 549, 550, 551, 552, 553, 554, 555, 556, 557, 558,\n",
              "       559, 560, 561, 562, 563, 564, 565, 566, 567, 568, 569, 570, 571,\n",
              "       572, 573, 574, 575, 576, 577, 578, 579, 580, 581, 582, 583, 584])"
            ]
          },
          "metadata": {},
          "execution_count": 50
        }
      ]
    },
    {
      "cell_type": "code",
      "source": [
        "# how much data will go to the TEST dataset\n",
        "cur_test_size = 0.3 #30%\n",
        "\n",
        "''' '''\n",
        "# Now, we can use the numpy.random.choice function to randomly select chunks for the test set\n",
        "test_chunks = np.random.choice(X['fragment'].unique(), size=int( len(X['fragment'].unique())*cur_test_size), replace=False)\n",
        "\n",
        "# Split the DataFrame into train and test subsets\n",
        "# We can then use the isin method to create a boolean mask to select the rows for the test set\n",
        "test_mask = X['fragment'].isin(test_chunks)\n",
        "\n",
        "# Finally, we can use the boolean mask to split the data into train and test sets\n",
        "X_train = X[~test_mask]\n",
        "X_test = X[test_mask]\n",
        "\n",
        "Y_train = Y[~test_mask]\n",
        "Y_test = Y[test_mask]\n",
        "\n",
        "print('X Train shape:', X_train.shape)\n",
        "print('X Test shape:', X_test.shape)\n",
        "\n",
        "print('Y Train shape:',  Y_train.shape)\n",
        "print('Y Test shape:',   Y_test.shape)"
      ],
      "metadata": {
        "id": "j4j8_R_atlYi",
        "colab": {
          "base_uri": "https://localhost:8080/"
        },
        "outputId": "53488879-86cb-468a-9aff-09925ebba13e"
      },
      "execution_count": null,
      "outputs": [
        {
          "output_type": "stream",
          "name": "stdout",
          "text": [
            "X Train shape: (208500, 27)\n",
            "X Test shape: (84000, 27)\n",
            "Y Train shape: (208500, 12)\n",
            "Y Test shape: (84000, 12)\n"
          ]
        }
      ]
    },
    {
      "cell_type": "code",
      "source": [
        "Y_train['left-2'].value_counts(normalize=True)"
      ],
      "metadata": {
        "colab": {
          "base_uri": "https://localhost:8080/"
        },
        "id": "PYg5qhb_GM5s",
        "outputId": "5569198f-8fb5-43ec-d07e-0766f1e11ad5"
      },
      "execution_count": null,
      "outputs": [
        {
          "output_type": "execute_result",
          "data": {
            "text/plain": [
              "1    0.57554\n",
              "0    0.42446\n",
              "Name: left-2, dtype: float64"
            ]
          },
          "metadata": {},
          "execution_count": 53
        }
      ]
    },
    {
      "cell_type": "code",
      "source": [
        "Y_train[ ['left-2','fragment'] ].value_counts(normalize=True)"
      ],
      "metadata": {
        "colab": {
          "base_uri": "https://localhost:8080/"
        },
        "id": "QsakW9a7BP-N",
        "outputId": "93282c34-4206-4884-d4f7-bfb3dcb69458"
      },
      "execution_count": null,
      "outputs": [
        {
          "output_type": "execute_result",
          "data": {
            "text/plain": [
              "left-2  fragment\n",
              "1       7           0.268585\n",
              "        9           0.158273\n",
              "0       15          0.151079\n",
              "1       25          0.143885\n",
              "0       18          0.100719\n",
              "        61          0.088729\n",
              "        11          0.035971\n",
              "        69          0.026379\n",
              "        22          0.016787\n",
              "1       0           0.004796\n",
              "0       20          0.002398\n",
              "        23          0.002398\n",
              "dtype: float64"
            ]
          },
          "metadata": {},
          "execution_count": 52
        }
      ]
    },
    {
      "cell_type": "code",
      "source": [
        "Y_test['left-2'].value_counts(normalize=True)"
      ],
      "metadata": {
        "colab": {
          "base_uri": "https://localhost:8080/"
        },
        "id": "52l16XB4TodH",
        "outputId": "3b6e0f1b-71e8-4a75-cdf0-333eaae75548"
      },
      "execution_count": null,
      "outputs": [
        {
          "output_type": "execute_result",
          "data": {
            "text/plain": [
              "1    0.708333\n",
              "0    0.291667\n",
              "Name: left-2, dtype: float64"
            ]
          },
          "metadata": {},
          "execution_count": 61
        }
      ]
    },
    {
      "cell_type": "code",
      "source": [
        "Y_test[ ['left-2','fragment'] ].value_counts(normalize=True)"
      ],
      "metadata": {
        "colab": {
          "base_uri": "https://localhost:8080/"
        },
        "id": "clMyN3N_GPVL",
        "outputId": "f215dd9c-2f3c-4513-a47c-df4364571e79"
      },
      "execution_count": null,
      "outputs": [
        {
          "output_type": "execute_result",
          "data": {
            "text/plain": [
              "left-2  fragment\n",
              "1       8           0.708333\n",
              "0       16          0.232143\n",
              "        19          0.035714\n",
              "        63          0.017857\n",
              "        71          0.005952\n",
              "dtype: float64"
            ]
          },
          "metadata": {},
          "execution_count": 54
        }
      ]
    },
    {
      "cell_type": "code",
      "source": [
        "'''\n",
        "0, 7, 8, 9, 25\n",
        "'''"
      ],
      "metadata": {
        "colab": {
          "base_uri": "https://localhost:8080/",
          "height": 35
        },
        "id": "6lE4Ycdz_y1_",
        "outputId": "6a5697bf-6333-49cf-dbc9-e93bf960a72d"
      },
      "execution_count": null,
      "outputs": [
        {
          "output_type": "execute_result",
          "data": {
            "text/plain": [
              "'\\n0, 7, 8, 9, 25\\n'"
            ],
            "application/vnd.google.colaboratory.intrinsic+json": {
              "type": "string"
            }
          },
          "metadata": {},
          "execution_count": 57
        }
      ]
    },
    {
      "cell_type": "code",
      "source": [
        "Y_test['left-2']"
      ],
      "metadata": {
        "colab": {
          "base_uri": "https://localhost:8080/"
        },
        "id": "3hhojvD68Py3",
        "outputId": "b8979ea1-596e-4b0e-8022-2f86a5018c12"
      },
      "execution_count": null,
      "outputs": [
        {
          "output_type": "execute_result",
          "data": {
            "text/plain": [
              "57000     1\n",
              "57001     1\n",
              "57002     1\n",
              "57003     1\n",
              "57004     1\n",
              "         ..\n",
              "292495    0\n",
              "292496    0\n",
              "292497    0\n",
              "292498    0\n",
              "292499    0\n",
              "Name: left-2, Length: 84000, dtype: int64"
            ]
          },
          "metadata": {},
          "execution_count": 58
        }
      ]
    },
    {
      "cell_type": "code",
      "source": [
        "Y_test['left-2'].value_counts(normalize=True) #left-2"
      ],
      "metadata": {
        "colab": {
          "base_uri": "https://localhost:8080/"
        },
        "id": "qA6PUnkvTjyl",
        "outputId": "8b9a60d3-d363-499b-ffe9-a980c609ad7c"
      },
      "execution_count": null,
      "outputs": [
        {
          "output_type": "execute_result",
          "data": {
            "text/plain": [
              "1    0.708333\n",
              "0    0.291667\n",
              "Name: left-2, dtype: float64"
            ]
          },
          "metadata": {},
          "execution_count": 59
        }
      ]
    },
    {
      "cell_type": "code",
      "source": [
        "# Sort the DataFrame by index\n",
        "X_test.sort_index(ascending=True, inplace=True)\n",
        "X_test[['date','chunk']].head(501)\n",
        "\n",
        "# IT SHOULD BE CONTINUOUS for 500 rows !"
      ],
      "metadata": {
        "colab": {
          "base_uri": "https://localhost:8080/",
          "height": 424
        },
        "id": "M1U3iDqhtKup",
        "outputId": "174713fe-a634-4535-9932-40ed7ba1594b"
      },
      "execution_count": null,
      "outputs": [
        {
          "output_type": "execute_result",
          "data": {
            "text/plain": [
              "                   date  chunk\n",
              "116500  2021-03-21 9:02    233\n",
              "116501  2021-03-21 9:02    233\n",
              "116502  2021-03-21 9:02    233\n",
              "116503  2021-03-21 9:02    233\n",
              "116504  2021-03-21 9:02    233\n",
              "...                 ...    ...\n",
              "116996  2021-03-21 9:10    233\n",
              "116997  2021-03-21 9:10    233\n",
              "116998  2021-03-21 9:10    233\n",
              "116999  2021-03-21 9:10    233\n",
              "117000  2021-03-21 9:03    234\n",
              "\n",
              "[501 rows x 2 columns]"
            ],
            "text/html": [
              "\n",
              "\n",
              "  <div id=\"df-b93c6586-d7af-4aaf-a781-9e1261d19609\">\n",
              "    <div class=\"colab-df-container\">\n",
              "      <div>\n",
              "<style scoped>\n",
              "    .dataframe tbody tr th:only-of-type {\n",
              "        vertical-align: middle;\n",
              "    }\n",
              "\n",
              "    .dataframe tbody tr th {\n",
              "        vertical-align: top;\n",
              "    }\n",
              "\n",
              "    .dataframe thead th {\n",
              "        text-align: right;\n",
              "    }\n",
              "</style>\n",
              "<table border=\"1\" class=\"dataframe\">\n",
              "  <thead>\n",
              "    <tr style=\"text-align: right;\">\n",
              "      <th></th>\n",
              "      <th>date</th>\n",
              "      <th>chunk</th>\n",
              "    </tr>\n",
              "  </thead>\n",
              "  <tbody>\n",
              "    <tr>\n",
              "      <th>116500</th>\n",
              "      <td>2021-03-21 9:02</td>\n",
              "      <td>233</td>\n",
              "    </tr>\n",
              "    <tr>\n",
              "      <th>116501</th>\n",
              "      <td>2021-03-21 9:02</td>\n",
              "      <td>233</td>\n",
              "    </tr>\n",
              "    <tr>\n",
              "      <th>116502</th>\n",
              "      <td>2021-03-21 9:02</td>\n",
              "      <td>233</td>\n",
              "    </tr>\n",
              "    <tr>\n",
              "      <th>116503</th>\n",
              "      <td>2021-03-21 9:02</td>\n",
              "      <td>233</td>\n",
              "    </tr>\n",
              "    <tr>\n",
              "      <th>116504</th>\n",
              "      <td>2021-03-21 9:02</td>\n",
              "      <td>233</td>\n",
              "    </tr>\n",
              "    <tr>\n",
              "      <th>...</th>\n",
              "      <td>...</td>\n",
              "      <td>...</td>\n",
              "    </tr>\n",
              "    <tr>\n",
              "      <th>116996</th>\n",
              "      <td>2021-03-21 9:10</td>\n",
              "      <td>233</td>\n",
              "    </tr>\n",
              "    <tr>\n",
              "      <th>116997</th>\n",
              "      <td>2021-03-21 9:10</td>\n",
              "      <td>233</td>\n",
              "    </tr>\n",
              "    <tr>\n",
              "      <th>116998</th>\n",
              "      <td>2021-03-21 9:10</td>\n",
              "      <td>233</td>\n",
              "    </tr>\n",
              "    <tr>\n",
              "      <th>116999</th>\n",
              "      <td>2021-03-21 9:10</td>\n",
              "      <td>233</td>\n",
              "    </tr>\n",
              "    <tr>\n",
              "      <th>117000</th>\n",
              "      <td>2021-03-21 9:03</td>\n",
              "      <td>234</td>\n",
              "    </tr>\n",
              "  </tbody>\n",
              "</table>\n",
              "<p>501 rows × 2 columns</p>\n",
              "</div>\n",
              "      <button class=\"colab-df-convert\" onclick=\"convertToInteractive('df-b93c6586-d7af-4aaf-a781-9e1261d19609')\"\n",
              "              title=\"Convert this dataframe to an interactive table.\"\n",
              "              style=\"display:none;\">\n",
              "\n",
              "  <svg xmlns=\"http://www.w3.org/2000/svg\" height=\"24px\"viewBox=\"0 0 24 24\"\n",
              "       width=\"24px\">\n",
              "    <path d=\"M0 0h24v24H0V0z\" fill=\"none\"/>\n",
              "    <path d=\"M18.56 5.44l.94 2.06.94-2.06 2.06-.94-2.06-.94-.94-2.06-.94 2.06-2.06.94zm-11 1L8.5 8.5l.94-2.06 2.06-.94-2.06-.94L8.5 2.5l-.94 2.06-2.06.94zm10 10l.94 2.06.94-2.06 2.06-.94-2.06-.94-.94-2.06-.94 2.06-2.06.94z\"/><path d=\"M17.41 7.96l-1.37-1.37c-.4-.4-.92-.59-1.43-.59-.52 0-1.04.2-1.43.59L10.3 9.45l-7.72 7.72c-.78.78-.78 2.05 0 2.83L4 21.41c.39.39.9.59 1.41.59.51 0 1.02-.2 1.41-.59l7.78-7.78 2.81-2.81c.8-.78.8-2.07 0-2.86zM5.41 20L4 18.59l7.72-7.72 1.47 1.35L5.41 20z\"/>\n",
              "  </svg>\n",
              "      </button>\n",
              "\n",
              "\n",
              "\n",
              "    <div id=\"df-4fee0b9e-2fbc-4523-8026-587b0ea35275\">\n",
              "      <button class=\"colab-df-quickchart\" onclick=\"quickchart('df-4fee0b9e-2fbc-4523-8026-587b0ea35275')\"\n",
              "              title=\"Suggest charts.\"\n",
              "              style=\"display:none;\">\n",
              "\n",
              "<svg xmlns=\"http://www.w3.org/2000/svg\" height=\"24px\"viewBox=\"0 0 24 24\"\n",
              "     width=\"24px\">\n",
              "    <g>\n",
              "        <path d=\"M19 3H5c-1.1 0-2 .9-2 2v14c0 1.1.9 2 2 2h14c1.1 0 2-.9 2-2V5c0-1.1-.9-2-2-2zM9 17H7v-7h2v7zm4 0h-2V7h2v10zm4 0h-2v-4h2v4z\"/>\n",
              "    </g>\n",
              "</svg>\n",
              "      </button>\n",
              "    </div>\n",
              "\n",
              "<style>\n",
              "  .colab-df-quickchart {\n",
              "    background-color: #E8F0FE;\n",
              "    border: none;\n",
              "    border-radius: 50%;\n",
              "    cursor: pointer;\n",
              "    display: none;\n",
              "    fill: #1967D2;\n",
              "    height: 32px;\n",
              "    padding: 0 0 0 0;\n",
              "    width: 32px;\n",
              "  }\n",
              "\n",
              "  .colab-df-quickchart:hover {\n",
              "    background-color: #E2EBFA;\n",
              "    box-shadow: 0px 1px 2px rgba(60, 64, 67, 0.3), 0px 1px 3px 1px rgba(60, 64, 67, 0.15);\n",
              "    fill: #174EA6;\n",
              "  }\n",
              "\n",
              "  [theme=dark] .colab-df-quickchart {\n",
              "    background-color: #3B4455;\n",
              "    fill: #D2E3FC;\n",
              "  }\n",
              "\n",
              "  [theme=dark] .colab-df-quickchart:hover {\n",
              "    background-color: #434B5C;\n",
              "    box-shadow: 0px 1px 3px 1px rgba(0, 0, 0, 0.15);\n",
              "    filter: drop-shadow(0px 1px 2px rgba(0, 0, 0, 0.3));\n",
              "    fill: #FFFFFF;\n",
              "  }\n",
              "</style>\n",
              "\n",
              "    <script>\n",
              "      async function quickchart(key) {\n",
              "        const containerElement = document.querySelector('#' + key);\n",
              "        const charts = await google.colab.kernel.invokeFunction(\n",
              "            'suggestCharts', [key], {});\n",
              "      }\n",
              "    </script>\n",
              "\n",
              "      <script>\n",
              "\n",
              "function displayQuickchartButton(domScope) {\n",
              "  let quickchartButtonEl =\n",
              "    domScope.querySelector('#df-4fee0b9e-2fbc-4523-8026-587b0ea35275 button.colab-df-quickchart');\n",
              "  quickchartButtonEl.style.display =\n",
              "    google.colab.kernel.accessAllowed ? 'block' : 'none';\n",
              "}\n",
              "\n",
              "        displayQuickchartButton(document);\n",
              "      </script>\n",
              "      <style>\n",
              "    .colab-df-container {\n",
              "      display:flex;\n",
              "      flex-wrap:wrap;\n",
              "      gap: 12px;\n",
              "    }\n",
              "\n",
              "    .colab-df-convert {\n",
              "      background-color: #E8F0FE;\n",
              "      border: none;\n",
              "      border-radius: 50%;\n",
              "      cursor: pointer;\n",
              "      display: none;\n",
              "      fill: #1967D2;\n",
              "      height: 32px;\n",
              "      padding: 0 0 0 0;\n",
              "      width: 32px;\n",
              "    }\n",
              "\n",
              "    .colab-df-convert:hover {\n",
              "      background-color: #E2EBFA;\n",
              "      box-shadow: 0px 1px 2px rgba(60, 64, 67, 0.3), 0px 1px 3px 1px rgba(60, 64, 67, 0.15);\n",
              "      fill: #174EA6;\n",
              "    }\n",
              "\n",
              "    [theme=dark] .colab-df-convert {\n",
              "      background-color: #3B4455;\n",
              "      fill: #D2E3FC;\n",
              "    }\n",
              "\n",
              "    [theme=dark] .colab-df-convert:hover {\n",
              "      background-color: #434B5C;\n",
              "      box-shadow: 0px 1px 3px 1px rgba(0, 0, 0, 0.15);\n",
              "      filter: drop-shadow(0px 1px 2px rgba(0, 0, 0, 0.3));\n",
              "      fill: #FFFFFF;\n",
              "    }\n",
              "  </style>\n",
              "\n",
              "      <script>\n",
              "        const buttonEl =\n",
              "          document.querySelector('#df-b93c6586-d7af-4aaf-a781-9e1261d19609 button.colab-df-convert');\n",
              "        buttonEl.style.display =\n",
              "          google.colab.kernel.accessAllowed ? 'block' : 'none';\n",
              "\n",
              "        async function convertToInteractive(key) {\n",
              "          const element = document.querySelector('#df-b93c6586-d7af-4aaf-a781-9e1261d19609');\n",
              "          const dataTable =\n",
              "            await google.colab.kernel.invokeFunction('convertToInteractive',\n",
              "                                                     [key], {});\n",
              "          if (!dataTable) return;\n",
              "\n",
              "          const docLinkHtml = 'Like what you see? Visit the ' +\n",
              "            '<a target=\"_blank\" href=https://colab.research.google.com/notebooks/data_table.ipynb>data table notebook</a>'\n",
              "            + ' to learn more about interactive tables.';\n",
              "          element.innerHTML = '';\n",
              "          dataTable['output_type'] = 'display_data';\n",
              "          await google.colab.output.renderOutput(dataTable, element);\n",
              "          const docLink = document.createElement('div');\n",
              "          docLink.innerHTML = docLinkHtml;\n",
              "          element.appendChild(docLink);\n",
              "        }\n",
              "      </script>\n",
              "    </div>\n",
              "  </div>\n"
            ]
          },
          "metadata": {},
          "execution_count": 286
        }
      ]
    },
    {
      "cell_type": "code",
      "source": [
        "import matplotlib.pyplot as plt\n",
        "\n",
        "# Slice the DataFrame to include the first 2000 rows\n",
        "X_subset = X_test.iloc[0:2000]\n",
        "\n",
        "# Create a plot\n",
        "plt.figure(figsize=(10, 6))  # Adjust the figure size as needed\n",
        "plt.plot(X_subset['date'], X_subset['X1'], marker='o')\n",
        "\n",
        "# Add labels and title\n",
        "plt.xlabel('Date')\n",
        "plt.ylabel('X1')\n",
        "plt.title('X1 over Time')\n",
        "\n",
        "# Show the plot\n",
        "plt.xticks(rotation=45)  # Rotate x-axis labels for better readability\n",
        "plt.tight_layout()       # Adjust layout to prevent clipping of labels\n",
        "plt.show()"
      ],
      "metadata": {
        "colab": {
          "base_uri": "https://localhost:8080/",
          "height": 565
        },
        "id": "28rhs6ZCwDm7",
        "outputId": "00fd31e1-2670-40e1-d21c-8ab8f39d639e"
      },
      "execution_count": null,
      "outputs": [
        {
          "output_type": "display_data",
          "data": {
            "text/plain": [
              "<Figure size 1000x600 with 1 Axes>"
            ],
            "image/png": "[encoded data removed]"
          },
          "metadata": {}
        }
      ]
    },
    {
      "cell_type": "code",
      "source": [
        "X_train = X_train.drop(columns=['date','chunk','fragment'], axis=1)\n",
        "X_test  = X_test.drop(columns=['date','chunk','fragment'], axis=1)"
      ],
      "metadata": {
        "id": "QO_j6oAkuFGu"
      },
      "execution_count": null,
      "outputs": []
    },
    {
      "cell_type": "code",
      "source": [
        "print(len(X_test))\n",
        "print(len(X_train))"
      ],
      "metadata": {
        "colab": {
          "base_uri": "https://localhost:8080/"
        },
        "id": "8X1rEsyKuKhI",
        "outputId": "5d218267-f8cd-4295-986d-c73065038d1e"
      },
      "execution_count": null,
      "outputs": [
        {
          "output_type": "stream",
          "name": "stdout",
          "text": [
            "81000\n",
            "210500\n"
          ]
        }
      ]
    },
    {
      "cell_type": "code",
      "source": [
        "print ('Select every {}th row'.format(NUMBER_TIMESTEPS))\n",
        "\n",
        "Y_train_short = Y_train[::NUMBER_TIMESTEPS]\n",
        "Y_test_short  = Y_test[::NUMBER_TIMESTEPS]\n",
        "print ('Y bunches (train, test):')\n",
        "print(Y_train_short.shape)\n",
        "print(Y_test_short.shape)"
      ],
      "metadata": {
        "colab": {
          "base_uri": "https://localhost:8080/"
        },
        "id": "iUX5G3VR0rMH",
        "outputId": "3ea1fba9-d6b7-4053-82ac-b4063106770a"
      },
      "execution_count": null,
      "outputs": [
        {
          "output_type": "stream",
          "name": "stdout",
          "text": [
            "Select every 500th row\n",
            "Y bunches (train, test):\n",
            "(421, 12)\n",
            "(162, 12)\n"
          ]
        }
      ]
    },
    {
      "cell_type": "code",
      "source": [
        "Y_train_short = Y_train_short.drop(columns=['date'], axis=1)\n",
        "Y_test_short  = Y_test_short.drop(columns=['date'], axis=1)\n",
        "\n",
        "Y_train_short = Y_train_short['left-2'] #2\n",
        "Y_test_short  = Y_test_short['left-2']"
      ],
      "metadata": {
        "id": "W8yHE77BQqwc"
      },
      "execution_count": null,
      "outputs": []
    },
    {
      "cell_type": "code",
      "source": [
        "# count the number of NaN per column\n",
        "nan_counts = X_train.isna().sum()\n",
        "print(nan_counts['l_degr'])\n",
        "print(nan_counts['r_degr'])\n",
        "print(nan_counts['l_shoulder'])\n",
        "print(nan_counts['r_shoulder'])"
      ],
      "metadata": {
        "colab": {
          "base_uri": "https://localhost:8080/"
        },
        "id": "bfjzDf_xva2X",
        "outputId": "553fb36e-a55f-4c88-cd1a-58b90730a20d"
      },
      "execution_count": null,
      "outputs": [
        {
          "output_type": "stream",
          "name": "stdout",
          "text": [
            "156\n",
            "103\n",
            "24\n",
            "59\n"
          ]
        }
      ]
    },
    {
      "cell_type": "code",
      "source": [
        "# TRAIN\n",
        "X_train['l_degr'].fillna(90, inplace=True)\n",
        "X_train['r_degr'].fillna(90, inplace=True)\n",
        "X_train['l_shoulder'].fillna(90, inplace=True)\n",
        "X_train['r_shoulder'].fillna(90, inplace=True)\n",
        "\n",
        "# TEST\n",
        "X_test['l_degr'].fillna(90, inplace=True)\n",
        "X_test['r_degr'].fillna(90, inplace=True)\n",
        "X_test['l_shoulder'].fillna(90, inplace=True)\n",
        "X_test['r_shoulder'].fillna(90, inplace=True)"
      ],
      "metadata": {
        "id": "R6A90qYWvHYx"
      },
      "execution_count": null,
      "outputs": []
    },
    {
      "cell_type": "code",
      "source": [
        "# count the number of NaN per column\n",
        "nan_counts = X_train.isna().sum()\n",
        "print(nan_counts['l_degr'])\n",
        "print(nan_counts['r_degr'])\n",
        "print(nan_counts['l_shoulder'])\n",
        "print(nan_counts['r_shoulder'])"
      ],
      "metadata": {
        "colab": {
          "base_uri": "https://localhost:8080/"
        },
        "id": "gD9S3tXavtV3",
        "outputId": "b62467f9-c8ad-4864-948a-385e488f115e"
      },
      "execution_count": null,
      "outputs": [
        {
          "output_type": "stream",
          "name": "stdout",
          "text": [
            "0\n",
            "0\n",
            "0\n",
            "0\n"
          ]
        }
      ]
    },
    {
      "cell_type": "code",
      "source": [
        "from sklearn.preprocessing import MinMaxScaler\n",
        "\n",
        "# Applying Min-Max Scaling to scale the features to the range [0, 1]\n",
        "scaler = MinMaxScaler()\n",
        "\n",
        "X_train = pd.DataFrame(scaler.fit_transform(X_train), columns=X_train.columns)\n",
        "X_test  = pd.DataFrame(scaler.fit_transform(X_test ), columns=X_test.columns )\n",
        "\n",
        "X_train.head()"
      ],
      "metadata": {
        "colab": {
          "base_uri": "https://localhost:8080/",
          "height": 270
        },
        "id": "ji4lzNWtuSGn",
        "outputId": "4637156e-7202-45af-a8d2-6287cb39dafd"
      },
      "execution_count": null,
      "outputs": [
        {
          "output_type": "execute_result",
          "data": {
            "text/plain": [
              "         X1        Y1        X2        Y2        X3        Y3        X4  \\\n",
              "0  0.613907  0.616236  0.574186  0.587458  0.589691  0.615083  0.585169   \n",
              "1  0.653562  0.564630  0.623600  0.537622  0.619326  0.545555  0.626050   \n",
              "2  0.489741  0.536754  0.443793  0.499483  0.420854  0.506467  0.425898   \n",
              "3  0.544338  0.551836  0.501185  0.531527  0.522056  0.536733  0.516856   \n",
              "4  0.701772  0.636435  0.667932  0.606140  0.680494  0.618148  0.661067   \n",
              "\n",
              "         Y4        X5        Y5        X6        Y6        X7        Y7  \\\n",
              "0  0.595101  0.540056  0.650659  0.533348  0.564733  0.496365  0.795657   \n",
              "1  0.536373  0.566495  0.543766  0.564347  0.468345  0.533308  0.688171   \n",
              "2  0.491145  0.376429  0.478917  0.349969  0.416672  0.421567  0.575186   \n",
              "3  0.534463  0.531464  0.549520  0.400385  0.496088  0.621738  0.649958   \n",
              "4  0.578078  0.647249  0.623945  0.551265  0.512742  0.601373  0.757090   \n",
              "\n",
              "         X8        Y8        X9        Y9       X10       Y10    l_degr  \\\n",
              "0  0.519033  0.633564  0.442947  0.776760  0.563433  0.616553  0.591842   \n",
              "1  0.586730  0.532505  0.538938  0.692883  0.564341  0.588129  0.894257   \n",
              "2  0.344533  0.496669  0.487439  0.674951  0.396364  0.518637  0.972160   \n",
              "3  0.357755  0.593867  0.625813  0.663377  0.455687  0.604903  0.648154   \n",
              "4  0.452045  0.631891  0.548555  0.792790  0.430122  0.706192  0.852417   \n",
              "\n",
              "     r_degr  l_shoulder  r_shoulder  \n",
              "0  0.161793    0.765630    0.550020  \n",
              "1  0.583599    0.769619    0.157257  \n",
              "2  0.200955    0.766049    0.531873  \n",
              "3  0.153182    0.782764    0.738864  \n",
              "4  0.717085    0.606183    0.590836  "
            ],
            "text/html": [
              "\n",
              "\n",
              "  <div id=\"df-f66e0d5f-8d77-433f-bd0d-e3afbdab2149\">\n",
              "    <div class=\"colab-df-container\">\n",
              "      <div>\n",
              "<style scoped>\n",
              "    .dataframe tbody tr th:only-of-type {\n",
              "        vertical-align: middle;\n",
              "    }\n",
              "\n",
              "    .dataframe tbody tr th {\n",
              "        vertical-align: top;\n",
              "    }\n",
              "\n",
              "    .dataframe thead th {\n",
              "        text-align: right;\n",
              "    }\n",
              "</style>\n",
              "<table border=\"1\" class=\"dataframe\">\n",
              "  <thead>\n",
              "    <tr style=\"text-align: right;\">\n",
              "      <th></th>\n",
              "      <th>X1</th>\n",
              "      <th>Y1</th>\n",
              "      <th>X2</th>\n",
              "      <th>Y2</th>\n",
              "      <th>X3</th>\n",
              "      <th>Y3</th>\n",
              "      <th>X4</th>\n",
              "      <th>Y4</th>\n",
              "      <th>X5</th>\n",
              "      <th>Y5</th>\n",
              "      <th>X6</th>\n",
              "      <th>Y6</th>\n",
              "      <th>X7</th>\n",
              "      <th>Y7</th>\n",
              "      <th>X8</th>\n",
              "      <th>Y8</th>\n",
              "      <th>X9</th>\n",
              "      <th>Y9</th>\n",
              "      <th>X10</th>\n",
              "      <th>Y10</th>\n",
              "      <th>l_degr</th>\n",
              "      <th>r_degr</th>\n",
              "      <th>l_shoulder</th>\n",
              "      <th>r_shoulder</th>\n",
              "    </tr>\n",
              "  </thead>\n",
              "  <tbody>\n",
              "    <tr>\n",
              "      <th>0</th>\n",
              "      <td>0.613907</td>\n",
              "      <td>0.616236</td>\n",
              "      <td>0.574186</td>\n",
              "      <td>0.587458</td>\n",
              "      <td>0.589691</td>\n",
              "      <td>0.615083</td>\n",
              "      <td>0.585169</td>\n",
              "      <td>0.595101</td>\n",
              "      <td>0.540056</td>\n",
              "      <td>0.650659</td>\n",
              "      <td>0.533348</td>\n",
              "      <td>0.564733</td>\n",
              "      <td>0.496365</td>\n",
              "      <td>0.795657</td>\n",
              "      <td>0.519033</td>\n",
              "      <td>0.633564</td>\n",
              "      <td>0.442947</td>\n",
              "      <td>0.776760</td>\n",
              "      <td>0.563433</td>\n",
              "      <td>0.616553</td>\n",
              "      <td>0.591842</td>\n",
              "      <td>0.161793</td>\n",
              "      <td>0.765630</td>\n",
              "      <td>0.550020</td>\n",
              "    </tr>\n",
              "    <tr>\n",
              "      <th>1</th>\n",
              "      <td>0.653562</td>\n",
              "      <td>0.564630</td>\n",
              "      <td>0.623600</td>\n",
              "      <td>0.537622</td>\n",
              "      <td>0.619326</td>\n",
              "      <td>0.545555</td>\n",
              "      <td>0.626050</td>\n",
              "      <td>0.536373</td>\n",
              "      <td>0.566495</td>\n",
              "      <td>0.543766</td>\n",
              "      <td>0.564347</td>\n",
              "      <td>0.468345</td>\n",
              "      <td>0.533308</td>\n",
              "      <td>0.688171</td>\n",
              "      <td>0.586730</td>\n",
              "      <td>0.532505</td>\n",
              "      <td>0.538938</td>\n",
              "      <td>0.692883</td>\n",
              "      <td>0.564341</td>\n",
              "      <td>0.588129</td>\n",
              "      <td>0.894257</td>\n",
              "      <td>0.583599</td>\n",
              "      <td>0.769619</td>\n",
              "      <td>0.157257</td>\n",
              "    </tr>\n",
              "    <tr>\n",
              "      <th>2</th>\n",
              "      <td>0.489741</td>\n",
              "      <td>0.536754</td>\n",
              "      <td>0.443793</td>\n",
              "      <td>0.499483</td>\n",
              "      <td>0.420854</td>\n",
              "      <td>0.506467</td>\n",
              "      <td>0.425898</td>\n",
              "      <td>0.491145</td>\n",
              "      <td>0.376429</td>\n",
              "      <td>0.478917</td>\n",
              "      <td>0.349969</td>\n",
              "      <td>0.416672</td>\n",
              "      <td>0.421567</td>\n",
              "      <td>0.575186</td>\n",
              "      <td>0.344533</td>\n",
              "      <td>0.496669</td>\n",
              "      <td>0.487439</td>\n",
              "      <td>0.674951</td>\n",
              "      <td>0.396364</td>\n",
              "      <td>0.518637</td>\n",
              "      <td>0.972160</td>\n",
              "      <td>0.200955</td>\n",
              "      <td>0.766049</td>\n",
              "      <td>0.531873</td>\n",
              "    </tr>\n",
              "    <tr>\n",
              "      <th>3</th>\n",
              "      <td>0.544338</td>\n",
              "      <td>0.551836</td>\n",
              "      <td>0.501185</td>\n",
              "      <td>0.531527</td>\n",
              "      <td>0.522056</td>\n",
              "      <td>0.536733</td>\n",
              "      <td>0.516856</td>\n",
              "      <td>0.534463</td>\n",
              "      <td>0.531464</td>\n",
              "      <td>0.549520</td>\n",
              "      <td>0.400385</td>\n",
              "      <td>0.496088</td>\n",
              "      <td>0.621738</td>\n",
              "      <td>0.649958</td>\n",
              "      <td>0.357755</td>\n",
              "      <td>0.593867</td>\n",
              "      <td>0.625813</td>\n",
              "      <td>0.663377</td>\n",
              "      <td>0.455687</td>\n",
              "      <td>0.604903</td>\n",
              "      <td>0.648154</td>\n",
              "      <td>0.153182</td>\n",
              "      <td>0.782764</td>\n",
              "      <td>0.738864</td>\n",
              "    </tr>\n",
              "    <tr>\n",
              "      <th>4</th>\n",
              "      <td>0.701772</td>\n",
              "      <td>0.636435</td>\n",
              "      <td>0.667932</td>\n",
              "      <td>0.606140</td>\n",
              "      <td>0.680494</td>\n",
              "      <td>0.618148</td>\n",
              "      <td>0.661067</td>\n",
              "      <td>0.578078</td>\n",
              "      <td>0.647249</td>\n",
              "      <td>0.623945</td>\n",
              "      <td>0.551265</td>\n",
              "      <td>0.512742</td>\n",
              "      <td>0.601373</td>\n",
              "      <td>0.757090</td>\n",
              "      <td>0.452045</td>\n",
              "      <td>0.631891</td>\n",
              "      <td>0.548555</td>\n",
              "      <td>0.792790</td>\n",
              "      <td>0.430122</td>\n",
              "      <td>0.706192</td>\n",
              "      <td>0.852417</td>\n",
              "      <td>0.717085</td>\n",
              "      <td>0.606183</td>\n",
              "      <td>0.590836</td>\n",
              "    </tr>\n",
              "  </tbody>\n",
              "</table>\n",
              "</div>\n",
              "      <button class=\"colab-df-convert\" onclick=\"convertToInteractive('df-f66e0d5f-8d77-433f-bd0d-e3afbdab2149')\"\n",
              "              title=\"Convert this dataframe to an interactive table.\"\n",
              "              style=\"display:none;\">\n",
              "\n",
              "  <svg xmlns=\"http://www.w3.org/2000/svg\" height=\"24px\"viewBox=\"0 0 24 24\"\n",
              "       width=\"24px\">\n",
              "    <path d=\"M0 0h24v24H0V0z\" fill=\"none\"/>\n",
              "    <path d=\"M18.56 5.44l.94 2.06.94-2.06 2.06-.94-2.06-.94-.94-2.06-.94 2.06-2.06.94zm-11 1L8.5 8.5l.94-2.06 2.06-.94-2.06-.94L8.5 2.5l-.94 2.06-2.06.94zm10 10l.94 2.06.94-2.06 2.06-.94-2.06-.94-.94-2.06-.94 2.06-2.06.94z\"/><path d=\"M17.41 7.96l-1.37-1.37c-.4-.4-.92-.59-1.43-.59-.52 0-1.04.2-1.43.59L10.3 9.45l-7.72 7.72c-.78.78-.78 2.05 0 2.83L4 21.41c.39.39.9.59 1.41.59.51 0 1.02-.2 1.41-.59l7.78-7.78 2.81-2.81c.8-.78.8-2.07 0-2.86zM5.41 20L4 18.59l7.72-7.72 1.47 1.35L5.41 20z\"/>\n",
              "  </svg>\n",
              "      </button>\n",
              "\n",
              "\n",
              "\n",
              "    <div id=\"df-21388ae9-ce80-4065-84b5-8d4b505d34e2\">\n",
              "      <button class=\"colab-df-quickchart\" onclick=\"quickchart('df-21388ae9-ce80-4065-84b5-8d4b505d34e2')\"\n",
              "              title=\"Suggest charts.\"\n",
              "              style=\"display:none;\">\n",
              "\n",
              "<svg xmlns=\"http://www.w3.org/2000/svg\" height=\"24px\"viewBox=\"0 0 24 24\"\n",
              "     width=\"24px\">\n",
              "    <g>\n",
              "        <path d=\"M19 3H5c-1.1 0-2 .9-2 2v14c0 1.1.9 2 2 2h14c1.1 0 2-.9 2-2V5c0-1.1-.9-2-2-2zM9 17H7v-7h2v7zm4 0h-2V7h2v10zm4 0h-2v-4h2v4z\"/>\n",
              "    </g>\n",
              "</svg>\n",
              "      </button>\n",
              "    </div>\n",
              "\n",
              "<style>\n",
              "  .colab-df-quickchart {\n",
              "    background-color: #E8F0FE;\n",
              "    border: none;\n",
              "    border-radius: 50%;\n",
              "    cursor: pointer;\n",
              "    display: none;\n",
              "    fill: #1967D2;\n",
              "    height: 32px;\n",
              "    padding: 0 0 0 0;\n",
              "    width: 32px;\n",
              "  }\n",
              "\n",
              "  .colab-df-quickchart:hover {\n",
              "    background-color: #E2EBFA;\n",
              "    box-shadow: 0px 1px 2px rgba(60, 64, 67, 0.3), 0px 1px 3px 1px rgba(60, 64, 67, 0.15);\n",
              "    fill: #174EA6;\n",
              "  }\n",
              "\n",
              "  [theme=dark] .colab-df-quickchart {\n",
              "    background-color: #3B4455;\n",
              "    fill: #D2E3FC;\n",
              "  }\n",
              "\n",
              "  [theme=dark] .colab-df-quickchart:hover {\n",
              "    background-color: #434B5C;\n",
              "    box-shadow: 0px 1px 3px 1px rgba(0, 0, 0, 0.15);\n",
              "    filter: drop-shadow(0px 1px 2px rgba(0, 0, 0, 0.3));\n",
              "    fill: #FFFFFF;\n",
              "  }\n",
              "</style>\n",
              "\n",
              "    <script>\n",
              "      async function quickchart(key) {\n",
              "        const containerElement = document.querySelector('#' + key);\n",
              "        const charts = await google.colab.kernel.invokeFunction(\n",
              "            'suggestCharts', [key], {});\n",
              "      }\n",
              "    </script>\n",
              "\n",
              "      <script>\n",
              "\n",
              "function displayQuickchartButton(domScope) {\n",
              "  let quickchartButtonEl =\n",
              "    domScope.querySelector('#df-21388ae9-ce80-4065-84b5-8d4b505d34e2 button.colab-df-quickchart');\n",
              "  quickchartButtonEl.style.display =\n",
              "    google.colab.kernel.accessAllowed ? 'block' : 'none';\n",
              "}\n",
              "\n",
              "        displayQuickchartButton(document);\n",
              "      </script>\n",
              "      <style>\n",
              "    .colab-df-container {\n",
              "      display:flex;\n",
              "      flex-wrap:wrap;\n",
              "      gap: 12px;\n",
              "    }\n",
              "\n",
              "    .colab-df-convert {\n",
              "      background-color: #E8F0FE;\n",
              "      border: none;\n",
              "      border-radius: 50%;\n",
              "      cursor: pointer;\n",
              "      display: none;\n",
              "      fill: #1967D2;\n",
              "      height: 32px;\n",
              "      padding: 0 0 0 0;\n",
              "      width: 32px;\n",
              "    }\n",
              "\n",
              "    .colab-df-convert:hover {\n",
              "      background-color: #E2EBFA;\n",
              "      box-shadow: 0px 1px 2px rgba(60, 64, 67, 0.3), 0px 1px 3px 1px rgba(60, 64, 67, 0.15);\n",
              "      fill: #174EA6;\n",
              "    }\n",
              "\n",
              "    [theme=dark] .colab-df-convert {\n",
              "      background-color: #3B4455;\n",
              "      fill: #D2E3FC;\n",
              "    }\n",
              "\n",
              "    [theme=dark] .colab-df-convert:hover {\n",
              "      background-color: #434B5C;\n",
              "      box-shadow: 0px 1px 3px 1px rgba(0, 0, 0, 0.15);\n",
              "      filter: drop-shadow(0px 1px 2px rgba(0, 0, 0, 0.3));\n",
              "      fill: #FFFFFF;\n",
              "    }\n",
              "  </style>\n",
              "\n",
              "      <script>\n",
              "        const buttonEl =\n",
              "          document.querySelector('#df-f66e0d5f-8d77-433f-bd0d-e3afbdab2149 button.colab-df-convert');\n",
              "        buttonEl.style.display =\n",
              "          google.colab.kernel.accessAllowed ? 'block' : 'none';\n",
              "\n",
              "        async function convertToInteractive(key) {\n",
              "          const element = document.querySelector('#df-f66e0d5f-8d77-433f-bd0d-e3afbdab2149');\n",
              "          const dataTable =\n",
              "            await google.colab.kernel.invokeFunction('convertToInteractive',\n",
              "                                                     [key], {});\n",
              "          if (!dataTable) return;\n",
              "\n",
              "          const docLinkHtml = 'Like what you see? Visit the ' +\n",
              "            '<a target=\"_blank\" href=https://colab.research.google.com/notebooks/data_table.ipynb>data table notebook</a>'\n",
              "            + ' to learn more about interactive tables.';\n",
              "          element.innerHTML = '';\n",
              "          dataTable['output_type'] = 'display_data';\n",
              "          await google.colab.output.renderOutput(dataTable, element);\n",
              "          const docLink = document.createElement('div');\n",
              "          docLink.innerHTML = docLinkHtml;\n",
              "          element.appendChild(docLink);\n",
              "        }\n",
              "      </script>\n",
              "    </div>\n",
              "  </div>\n"
            ]
          },
          "metadata": {},
          "execution_count": 295
        }
      ]
    },
    {
      "cell_type": "code",
      "source": [
        "X_train = np.array(X_train)\n",
        "X_test = np.array(X_test)\n",
        "print ('X (train, test):')\n",
        "print(X_train.shape)\n",
        "print(X_test.shape)"
      ],
      "metadata": {
        "colab": {
          "base_uri": "https://localhost:8080/"
        },
        "id": "Gv2JdZQf2hmT",
        "outputId": "0a2dd5fb-004e-46bf-ee34-89697a8fdd79"
      },
      "execution_count": null,
      "outputs": [
        {
          "output_type": "stream",
          "name": "stdout",
          "text": [
            "X (train, test):\n",
            "(210500, 24)\n",
            "(81000, 24)\n"
          ]
        }
      ]
    },
    {
      "cell_type": "code",
      "source": [
        "print('2 classes:')\n",
        "NUMBER_BATCH_TRAIN = X_train.shape[0] // NUMBER_TIMESTEPS\n",
        "print('X_train = ', X_train.shape)\n",
        "print('NUMBER_BATCH_TRAIN = ',NUMBER_BATCH_TRAIN)\n",
        "X_train = np.reshape(X_train, (NUMBER_BATCH_TRAIN, NUMBER_TIMESTEPS, NUMBER_FEATURES))\n",
        "print('X_train = ', X_train.shape)\n",
        "\n",
        "NUMBER_BATCH_TEST = X_test.shape[0] // NUMBER_TIMESTEPS\n",
        "print('X_test = ', X_test.shape)\n",
        "print('NUMBER_BATCH_TEST = ',NUMBER_BATCH_TEST)\n",
        "X_test = np.reshape(X_test, (NUMBER_BATCH_TEST, NUMBER_TIMESTEPS, NUMBER_FEATURES))\n",
        "\n",
        "print('X_test = ', X_test.shape)"
      ],
      "metadata": {
        "colab": {
          "base_uri": "https://localhost:8080/"
        },
        "id": "xyR8zoFW0_7j",
        "outputId": "96662f3f-1dfd-4c81-c316-6de311f091b7"
      },
      "execution_count": null,
      "outputs": [
        {
          "output_type": "stream",
          "name": "stdout",
          "text": [
            "2 classes:\n",
            "X_train =  (210500, 24)\n",
            "NUMBER_BATCH_TRAIN =  421\n",
            "X_train =  (421, 500, 24)\n",
            "X_test =  (81000, 24)\n",
            "NUMBER_BATCH_TEST =  162\n",
            "X_test =  (162, 500, 24)\n"
          ]
        }
      ]
    },
    {
      "cell_type": "code",
      "source": [
        "!pip install keras-tcn"
      ],
      "metadata": {
        "colab": {
          "base_uri": "https://localhost:8080/"
        },
        "id": "nzFq8LNK8m1f",
        "outputId": "7dc0dba8-b177-43c2-b3d2-d85313a0b85f"
      },
      "execution_count": null,
      "outputs": [
        {
          "output_type": "stream",
          "name": "stdout",
          "text": [
            "Requirement already satisfied: keras-tcn in /usr/local/lib/python3.10/dist-packages (3.5.0)\n",
            "Requirement already satisfied: numpy in /usr/local/lib/python3.10/dist-packages (from keras-tcn) (1.23.5)\n",
            "Requirement already satisfied: tensorflow in /usr/local/lib/python3.10/dist-packages (from keras-tcn) (2.12.0)\n",
            "Requirement already satisfied: tensorflow-addons in /usr/local/lib/python3.10/dist-packages (from keras-tcn) (0.21.0)\n",
            "Requirement already satisfied: absl-py>=1.0.0 in /usr/local/lib/python3.10/dist-packages (from tensorflow->keras-tcn) (1.4.0)\n",
            "Requirement already satisfied: astunparse>=1.6.0 in /usr/local/lib/python3.10/dist-packages (from tensorflow->keras-tcn) (1.6.3)\n",
            "Requirement already satisfied: flatbuffers>=2.0 in /usr/local/lib/python3.10/dist-packages (from tensorflow->keras-tcn) (23.5.26)\n",
            "Requirement already satisfied: gast<=0.4.0,>=0.2.1 in /usr/local/lib/python3.10/dist-packages (from tensorflow->keras-tcn) (0.4.0)\n",
            "Requirement already satisfied: google-pasta>=0.1.1 in /usr/local/lib/python3.10/dist-packages (from tensorflow->keras-tcn) (0.2.0)\n",
            "Requirement already satisfied: grpcio<2.0,>=1.24.3 in /usr/local/lib/python3.10/dist-packages (from tensorflow->keras-tcn) (1.56.2)\n",
            "Requirement already satisfied: h5py>=2.9.0 in /usr/local/lib/python3.10/dist-packages (from tensorflow->keras-tcn) (3.8.0)\n",
            "Requirement already satisfied: jax>=0.3.15 in /usr/local/lib/python3.10/dist-packages (from tensorflow->keras-tcn) (0.4.14)\n",
            "Requirement already satisfied: keras<2.13,>=2.12.0 in /usr/local/lib/python3.10/dist-packages (from tensorflow->keras-tcn) (2.12.0)\n",
            "Requirement already satisfied: libclang>=13.0.0 in /usr/local/lib/python3.10/dist-packages (from tensorflow->keras-tcn) (16.0.6)\n",
            "Requirement already satisfied: opt-einsum>=2.3.2 in /usr/local/lib/python3.10/dist-packages (from tensorflow->keras-tcn) (3.3.0)\n",
            "Requirement already satisfied: packaging in /usr/local/lib/python3.10/dist-packages (from tensorflow->keras-tcn) (23.1)\n",
            "Requirement already satisfied: protobuf!=4.21.0,!=4.21.1,!=4.21.2,!=4.21.3,!=4.21.4,!=4.21.5,<5.0.0dev,>=3.20.3 in /usr/local/lib/python3.10/dist-packages (from tensorflow->keras-tcn) (3.20.3)\n",
            "Requirement already satisfied: setuptools in /usr/local/lib/python3.10/dist-packages (from tensorflow->keras-tcn) (67.7.2)\n",
            "Requirement already satisfied: six>=1.12.0 in /usr/local/lib/python3.10/dist-packages (from tensorflow->keras-tcn) (1.16.0)\n",
            "Requirement already satisfied: tensorboard<2.13,>=2.12 in /usr/local/lib/python3.10/dist-packages (from tensorflow->keras-tcn) (2.12.3)\n",
            "Requirement already satisfied: tensorflow-estimator<2.13,>=2.12.0 in /usr/local/lib/python3.10/dist-packages (from tensorflow->keras-tcn) (2.12.0)\n",
            "Requirement already satisfied: termcolor>=1.1.0 in /usr/local/lib/python3.10/dist-packages (from tensorflow->keras-tcn) (2.3.0)\n",
            "Requirement already satisfied: typing-extensions>=3.6.6 in /usr/local/lib/python3.10/dist-packages (from tensorflow->keras-tcn) (4.7.1)\n",
            "Requirement already satisfied: wrapt<1.15,>=1.11.0 in /usr/local/lib/python3.10/dist-packages (from tensorflow->keras-tcn) (1.14.1)\n",
            "Requirement already satisfied: tensorflow-io-gcs-filesystem>=0.23.1 in /usr/local/lib/python3.10/dist-packages (from tensorflow->keras-tcn) (0.33.0)\n",
            "Requirement already satisfied: typeguard<3.0.0,>=2.7 in /usr/local/lib/python3.10/dist-packages (from tensorflow-addons->keras-tcn) (2.13.3)\n",
            "Requirement already satisfied: wheel<1.0,>=0.23.0 in /usr/local/lib/python3.10/dist-packages (from astunparse>=1.6.0->tensorflow->keras-tcn) (0.41.0)\n",
            "Requirement already satisfied: ml-dtypes>=0.2.0 in /usr/local/lib/python3.10/dist-packages (from jax>=0.3.15->tensorflow->keras-tcn) (0.2.0)\n",
            "Requirement already satisfied: scipy>=1.7 in /usr/local/lib/python3.10/dist-packages (from jax>=0.3.15->tensorflow->keras-tcn) (1.10.1)\n",
            "Requirement already satisfied: google-auth<3,>=1.6.3 in /usr/local/lib/python3.10/dist-packages (from tensorboard<2.13,>=2.12->tensorflow->keras-tcn) (2.17.3)\n",
            "Requirement already satisfied: google-auth-oauthlib<1.1,>=0.5 in /usr/local/lib/python3.10/dist-packages (from tensorboard<2.13,>=2.12->tensorflow->keras-tcn) (1.0.0)\n",
            "Requirement already satisfied: markdown>=2.6.8 in /usr/local/lib/python3.10/dist-packages (from tensorboard<2.13,>=2.12->tensorflow->keras-tcn) (3.4.4)\n",
            "Requirement already satisfied: requests<3,>=2.21.0 in /usr/local/lib/python3.10/dist-packages (from tensorboard<2.13,>=2.12->tensorflow->keras-tcn) (2.31.0)\n",
            "Requirement already satisfied: tensorboard-data-server<0.8.0,>=0.7.0 in /usr/local/lib/python3.10/dist-packages (from tensorboard<2.13,>=2.12->tensorflow->keras-tcn) (0.7.1)\n",
            "Requirement already satisfied: werkzeug>=1.0.1 in /usr/local/lib/python3.10/dist-packages (from tensorboard<2.13,>=2.12->tensorflow->keras-tcn) (2.3.6)\n",
            "Requirement already satisfied: cachetools<6.0,>=2.0.0 in /usr/local/lib/python3.10/dist-packages (from google-auth<3,>=1.6.3->tensorboard<2.13,>=2.12->tensorflow->keras-tcn) (5.3.1)\n",
            "Requirement already satisfied: pyasn1-modules>=0.2.1 in /usr/local/lib/python3.10/dist-packages (from google-auth<3,>=1.6.3->tensorboard<2.13,>=2.12->tensorflow->keras-tcn) (0.3.0)\n",
            "Requirement already satisfied: rsa<5,>=3.1.4 in /usr/local/lib/python3.10/dist-packages (from google-auth<3,>=1.6.3->tensorboard<2.13,>=2.12->tensorflow->keras-tcn) (4.9)\n",
            "Requirement already satisfied: requests-oauthlib>=0.7.0 in /usr/local/lib/python3.10/dist-packages (from google-auth-oauthlib<1.1,>=0.5->tensorboard<2.13,>=2.12->tensorflow->keras-tcn) (1.3.1)\n",
            "Requirement already satisfied: charset-normalizer<4,>=2 in /usr/local/lib/python3.10/dist-packages (from requests<3,>=2.21.0->tensorboard<2.13,>=2.12->tensorflow->keras-tcn) (3.2.0)\n",
            "Requirement already satisfied: idna<4,>=2.5 in /usr/local/lib/python3.10/dist-packages (from requests<3,>=2.21.0->tensorboard<2.13,>=2.12->tensorflow->keras-tcn) (3.4)\n",
            "Requirement already satisfied: urllib3<3,>=1.21.1 in /usr/local/lib/python3.10/dist-packages (from requests<3,>=2.21.0->tensorboard<2.13,>=2.12->tensorflow->keras-tcn) (1.26.16)\n",
            "Requirement already satisfied: certifi>=2017.4.17 in /usr/local/lib/python3.10/dist-packages (from requests<3,>=2.21.0->tensorboard<2.13,>=2.12->tensorflow->keras-tcn) (2023.7.22)\n",
            "Requirement already satisfied: MarkupSafe>=2.1.1 in /usr/local/lib/python3.10/dist-packages (from werkzeug>=1.0.1->tensorboard<2.13,>=2.12->tensorflow->keras-tcn) (2.1.3)\n",
            "Requirement already satisfied: pyasn1<0.6.0,>=0.4.6 in /usr/local/lib/python3.10/dist-packages (from pyasn1-modules>=0.2.1->google-auth<3,>=1.6.3->tensorboard<2.13,>=2.12->tensorflow->keras-tcn) (0.5.0)\n",
            "Requirement already satisfied: oauthlib>=3.0.0 in /usr/local/lib/python3.10/dist-packages (from requests-oauthlib>=0.7.0->google-auth-oauthlib<1.1,>=0.5->tensorboard<2.13,>=2.12->tensorflow->keras-tcn) (3.2.2)\n"
          ]
        }
      ]
    },
    {
      "cell_type": "code",
      "source": [
        "X_train.shape[0]"
      ],
      "metadata": {
        "colab": {
          "base_uri": "https://localhost:8080/"
        },
        "id": "NuGNDH0Ra9c1",
        "outputId": "d8d4e375-794f-4e1c-b883-a48e8bd0fac3"
      },
      "execution_count": null,
      "outputs": [
        {
          "output_type": "execute_result",
          "data": {
            "text/plain": [
              "421"
            ]
          },
          "metadata": {},
          "execution_count": 299
        }
      ]
    },
    {
      "cell_type": "code",
      "source": [
        "from tcn import TCN\n",
        "from keras.regularizers import l1,l2\n",
        "from tensorflow import keras\n",
        "from tensorflow.keras.optimizers.schedules import ExponentialDecay\n",
        "\n",
        "epochs = 20\n",
        "\n",
        "lr=0.002 #initial\n",
        "final_lr = 0.000001\n",
        "decay_rate = 0.00000000005\n",
        "\n",
        "steps_per_epoch = NUMBER_BATCH_TRAIN #int(X_train.shape[0] // NUMBER_TIMESTEPS)\n",
        "learn_rate_decay_factor = (final_lr / lr)**(1/epochs)\n",
        "\n",
        "lr_schedule = ExponentialDecay(\n",
        "    initial_learning_rate = lr,\n",
        "    decay_steps           = steps_per_epoch, #100000\n",
        "    decay_rate            = learn_rate_decay_factor, #0.96\n",
        "    staircase=True)\n",
        "\n",
        "print ('Steps per epoch = {}'.format(steps_per_epoch) )\n",
        "print ('Learning rate decay factor = {}'.format(learn_rate_decay_factor) )\n",
        "\n",
        "def build_model(NUMBER_OUTPUTS, NUMBER_FEATURES):\n",
        "    model = models.Sequential()\n",
        "    # an input layer that expects:\n",
        "    # 1 or more samples, NUMBER_TIMESTEPS time steps and NUMBER_FEATURES features.\n",
        "\n",
        "    # 1st LSTM layer\n",
        "    #model.add(layers.LSTM(256, return_sequences=True, input_shape=(NUMBER_TIMESTEPS, NUMBER_FEATURES)) )\n",
        "    #model.add(layers.Dropout(0.2))\n",
        "\n",
        "    # 2nd LSTM layer\n",
        "    #model.add(layers.LSTM(512, input_shape=(NUMBER_TIMESTEPS, NUMBER_FEATURES)) )\n",
        "    #model.add(layers.Dropout(0.2))\n",
        "\n",
        "    model.add(TCN(512, input_shape=(NUMBER_TIMESTEPS, NUMBER_FEATURES), kernel_size=3, nb_stacks=1, dilations=[1, 2, 4, 8, 16, 32, 64, 128]  ) )\n",
        "\n",
        "    # Hidden fully connected layers of the neural network\n",
        "    # l1 or l2\n",
        "    model.add(layers.Dense(256,activation='relu', kernel_regularizer=l2(0.001)))\n",
        "    model.add(layers.Dropout(0.3))\n",
        "    model.add(layers.Dense(512,activation='relu', kernel_regularizer=l2(0.001)) )\n",
        "    model.add(layers.Dropout(0.3)) #0.2 or 0.5\n",
        "    model.add(layers.Dense(256,activation='relu', kernel_regularizer=l1(0.01)) )\n",
        "    model.add(layers.Dropout(0.3)) #0.2 or 0.5\n",
        "\n",
        "    # Classification layer of the neural network\n",
        "    model.add(layers.Dense(NUMBER_OUTPUTS, activation='sigmoid')) #softmax=multiple sigmoid=2\n",
        "\n",
        "    opt = Adam(amsgrad=True, learning_rate=lr_schedule) #learning_rate=learn_rate)#, beta_1=0.9, beta_2=0.999)\n",
        "    model.compile(loss='binary_crossentropy', optimizer=opt, metrics=['accuracy','Precision','Recall' ]) # categorical_crossentropy #,'accuracy', 'Precision','Recall'\n",
        "\n",
        "    # this shows the network structure\n",
        "    model.summary()\n",
        "\n",
        "    return model\n"
      ],
      "metadata": {
        "id": "rJ95Yt7X211j",
        "colab": {
          "base_uri": "https://localhost:8080/"
        },
        "outputId": "2a2b0ace-0f6e-4ac2-ed8c-f7236bb8137c"
      },
      "execution_count": null,
      "outputs": [
        {
          "output_type": "stream",
          "name": "stdout",
          "text": [
            "Steps per epoch = 421\n",
            "Learning rate decay factor = 0.6838305520458344\n"
          ]
        }
      ]
    },
    {
      "cell_type": "code",
      "source": [
        "# creating the model\n",
        "model = build_model(NUMBER_OUTPUTS=1, NUMBER_FEATURES=NUMBER_FEATURES)"
      ],
      "metadata": {
        "colab": {
          "base_uri": "https://localhost:8080/"
        },
        "id": "UoYFvbcI2-GB",
        "outputId": "f7ace5ac-4e6d-41b8-c617-6aa520fc4699"
      },
      "execution_count": null,
      "outputs": [
        {
          "output_type": "stream",
          "name": "stdout",
          "text": [
            "Model: \"sequential_2\"\n",
            "_________________________________________________________________\n",
            " Layer (type)                Output Shape              Param #   \n",
            "=================================================================\n",
            " tcn_2 (TCN)                 (None, 512)               11854336  \n",
            "                                                                 \n",
            " dense_8 (Dense)             (None, 256)               131328    \n",
            "                                                                 \n",
            " dropout_6 (Dropout)         (None, 256)               0         \n",
            "                                                                 \n",
            " dense_9 (Dense)             (None, 512)               131584    \n",
            "                                                                 \n",
            " dropout_7 (Dropout)         (None, 512)               0         \n",
            "                                                                 \n",
            " dense_10 (Dense)            (None, 256)               131328    \n",
            "                                                                 \n",
            " dropout_8 (Dropout)         (None, 256)               0         \n",
            "                                                                 \n",
            " dense_11 (Dense)            (None, 1)                 257       \n",
            "                                                                 \n",
            "=================================================================\n",
            "Total params: 12,248,833\n",
            "Trainable params: 12,248,833\n",
            "Non-trainable params: 0\n",
            "_________________________________________________________________\n"
          ]
        }
      ]
    },
    {
      "cell_type": "code",
      "source": [
        "'''\n",
        "from tensorflow.keras.callbacks import LearningRateScheduler\n",
        "\n",
        "# Define the learning rate decay function\n",
        "def lr_decay(epoch, lr):\n",
        "  if epoch < 10:\n",
        "    return lr\n",
        "  else:\n",
        "    return lr * decay_rate ^ (epoch / decay_steps)\n",
        "\n",
        "# Create a LearningRateScheduler callback\n",
        "lr_scheduler = LearningRateScheduler(lr_decay)\n",
        "'''"
      ],
      "metadata": {
        "id": "0YSgIWCr2qTh",
        "colab": {
          "base_uri": "https://localhost:8080/",
          "height": 53
        },
        "outputId": "e607d74a-349a-4da6-8e98-86502f4de75a"
      },
      "execution_count": null,
      "outputs": [
        {
          "output_type": "execute_result",
          "data": {
            "text/plain": [
              "'\\nfrom tensorflow.keras.callbacks import LearningRateScheduler\\n\\n# Define the learning rate decay function\\ndef lr_decay(epoch, lr):\\n  if epoch < 10:\\n    return lr\\n  else:\\n    return lr * decay_rate ^ (epoch / decay_steps)\\n\\n# Create a LearningRateScheduler callback\\nlr_scheduler = LearningRateScheduler(lr_decay)\\n'"
            ],
            "application/vnd.google.colaboratory.intrinsic+json": {
              "type": "string"
            }
          },
          "metadata": {},
          "execution_count": 302
        }
      ]
    },
    {
      "cell_type": "code",
      "source": [
        "# training the model\n",
        "\n",
        "# fit model\n",
        "history = model.fit( X_train, Y_train_short, validation_data=(X_test, Y_test_short), epochs=epochs, batch_size = 64) #, callbacks=[lr_scheduler])"
      ],
      "metadata": {
        "colab": {
          "base_uri": "https://localhost:8080/"
        },
        "id": "jsiXDg7v2sgg",
        "outputId": "474e2a6d-889a-4cc3-b318-95f5d59d851c"
      },
      "execution_count": null,
      "outputs": [
        {
          "output_type": "stream",
          "name": "stdout",
          "text": [
            "Epoch 1/20\n",
            "7/7 [==============================] - 40s 3s/step - loss: 255.0453 - accuracy: 0.5344 - precision: 0.6877 - recall: 0.5979 - val_loss: 54.9711 - val_accuracy: 0.4074 - val_precision: 0.4074 - val_recall: 1.0000\n",
            "Epoch 2/20\n",
            "7/7 [==============================] - 7s 985ms/step - loss: 53.6670 - accuracy: 0.5558 - precision: 0.6818 - recall: 0.6701 - val_loss: 51.1235 - val_accuracy: 0.4074 - val_precision: 0.4074 - val_recall: 1.0000\n",
            "Epoch 3/20\n",
            "7/7 [==============================] - 6s 867ms/step - loss: 49.3965 - accuracy: 0.6508 - precision: 0.6935 - recall: 0.8866 - val_loss: 47.2267 - val_accuracy: 0.4074 - val_precision: 0.4074 - val_recall: 1.0000\n",
            "Epoch 4/20\n",
            "7/7 [==============================] - 6s 951ms/step - loss: 45.6164 - accuracy: 0.6295 - precision: 0.6810 - recall: 0.8729 - val_loss: 43.6916 - val_accuracy: 0.4074 - val_precision: 0.4074 - val_recall: 1.0000\n",
            "Epoch 5/20\n",
            "7/7 [==============================] - 6s 847ms/step - loss: 42.2432 - accuracy: 0.6770 - precision: 0.6877 - recall: 0.9759 - val_loss: 40.6603 - val_accuracy: 0.4074 - val_precision: 0.4074 - val_recall: 1.0000\n",
            "Epoch 6/20\n",
            "7/7 [==============================] - 6s 935ms/step - loss: 39.4353 - accuracy: 0.6793 - precision: 0.6912 - recall: 0.9691 - val_loss: 38.2065 - val_accuracy: 0.4074 - val_precision: 0.4074 - val_recall: 1.0000\n",
            "Epoch 7/20\n",
            "7/7 [==============================] - 6s 836ms/step - loss: 37.2120 - accuracy: 0.6888 - precision: 0.6923 - recall: 0.9897 - val_loss: 36.2633 - val_accuracy: 0.4074 - val_precision: 0.4074 - val_recall: 1.0000\n",
            "Epoch 8/20\n",
            "7/7 [==============================] - 6s 831ms/step - loss: 35.3649 - accuracy: 0.6888 - precision: 0.6905 - recall: 0.9966 - val_loss: 34.5379 - val_accuracy: 0.4074 - val_precision: 0.4074 - val_recall: 1.0000\n",
            "Epoch 9/20\n",
            "7/7 [==============================] - 6s 932ms/step - loss: 33.7418 - accuracy: 0.6888 - precision: 0.6905 - recall: 0.9966 - val_loss: 33.0276 - val_accuracy: 0.4074 - val_precision: 0.4074 - val_recall: 1.0000\n",
            "Epoch 10/20\n",
            "7/7 [==============================] - 6s 928ms/step - loss: 32.3008 - accuracy: 0.6936 - precision: 0.6929 - recall: 1.0000 - val_loss: 31.6057 - val_accuracy: 0.4074 - val_precision: 0.4074 - val_recall: 1.0000\n",
            "Epoch 11/20\n",
            "7/7 [==============================] - 6s 937ms/step - loss: 30.9587 - accuracy: 0.7862 - precision: 0.7896 - recall: 0.9416 - val_loss: 30.4301 - val_accuracy: 0.5556 - val_precision: 0.4783 - val_recall: 1.0000\n",
            "Epoch 12/20\n",
            "7/7 [==============================] - 6s 840ms/step - loss: 29.7806 - accuracy: 0.8219 - precision: 0.8553 - recall: 0.8935 - val_loss: 29.4847 - val_accuracy: 0.5247 - val_precision: 0.4615 - val_recall: 1.0000\n",
            "Epoch 13/20\n",
            "7/7 [==============================] - 6s 940ms/step - loss: 28.7360 - accuracy: 0.8527 - precision: 0.8804 - recall: 0.9107 - val_loss: 27.9785 - val_accuracy: 1.0000 - val_precision: 1.0000 - val_recall: 1.0000\n",
            "Epoch 14/20\n",
            "7/7 [==============================] - 6s 847ms/step - loss: 27.7532 - accuracy: 0.8884 - precision: 0.9122 - recall: 0.9278 - val_loss: 27.1636 - val_accuracy: 0.9691 - val_precision: 0.9296 - val_recall: 1.0000\n",
            "Epoch 15/20\n",
            "7/7 [==============================] - 6s 847ms/step - loss: 26.9217 - accuracy: 0.9002 - precision: 0.9278 - recall: 0.9278 - val_loss: 26.8658 - val_accuracy: 0.5556 - val_precision: 0.4783 - val_recall: 1.0000\n",
            "Epoch 16/20\n",
            "7/7 [==============================] - 6s 885ms/step - loss: 26.0953 - accuracy: 0.9050 - precision: 0.9226 - recall: 0.9416 - val_loss: 26.4707 - val_accuracy: 0.5000 - val_precision: 0.4490 - val_recall: 1.0000\n",
            "Epoch 17/20\n",
            "7/7 [==============================] - 6s 942ms/step - loss: 25.3992 - accuracy: 0.8931 - precision: 0.9100 - recall: 0.9381 - val_loss: 25.8552 - val_accuracy: 0.5000 - val_precision: 0.4490 - val_recall: 1.0000\n",
            "Epoch 18/20\n",
            "7/7 [==============================] - 6s 853ms/step - loss: 24.6693 - accuracy: 0.8717 - precision: 0.8835 - recall: 0.9381 - val_loss: 24.3622 - val_accuracy: 0.8457 - val_precision: 0.7253 - val_recall: 1.0000\n",
            "Epoch 19/20\n",
            "7/7 [==============================] - 6s 942ms/step - loss: 23.9137 - accuracy: 0.9549 - precision: 0.9416 - recall: 0.9966 - val_loss: 23.4781 - val_accuracy: 0.9815 - val_precision: 0.9565 - val_recall: 1.0000\n",
            "Epoch 20/20\n",
            "7/7 [==============================] - 6s 946ms/step - loss: 23.2953 - accuracy: 0.9620 - precision: 0.9568 - recall: 0.9897 - val_loss: 22.8599 - val_accuracy: 0.9815 - val_precision: 0.9565 - val_recall: 1.0000\n"
          ]
        }
      ]
    },
    {
      "cell_type": "code",
      "source": [
        "'''\n",
        "# Save the entire model (architecture, optimizer state, and weights)\n",
        "model.save('trained_model.h5')\n",
        "\n",
        "# Alternatively, you can save just the weights\n",
        "model.save_weights('model_weights.h5')\n",
        "\n",
        "from tensorflow.keras.saving import load_model\n",
        "# Load the entire model from the .h5 file\n",
        "loaded_model = load_model('trained_model.h5')\n",
        "'''\n",
        "\n",
        "\n",
        "'''\n",
        "# Calling `save('my_model.keras')` creates a zip archive `my_model.keras`.\n",
        "model.save(\"stroke_nihss_1.keras\")\n",
        "\n",
        "# It can be used to reconstruct the model identically.\n",
        "loaded_model = keras.models.load_model(\"stroke_nihss_1.keras\")\n",
        "\n",
        "# Summary of the loaded model\n",
        "loaded_model.summary()\n",
        "'''"
      ],
      "metadata": {
        "id": "oiQzLg2rhk9D",
        "colab": {
          "base_uri": "https://localhost:8080/",
          "height": 53
        },
        "outputId": "c7ae7792-c7da-40e8-8ee2-6c801b6e9505"
      },
      "execution_count": null,
      "outputs": [
        {
          "output_type": "execute_result",
          "data": {
            "text/plain": [
              "'\\n# Calling `save(\\'my_model.keras\\')` creates a zip archive `my_model.keras`.\\nmodel.save(\"stroke_nihss_1.keras\")\\n\\n# It can be used to reconstruct the model identically.\\nloaded_model = keras.models.load_model(\"stroke_nihss_1.keras\")\\n\\n# Summary of the loaded model\\nloaded_model.summary()\\n'"
            ],
            "application/vnd.google.colaboratory.intrinsic+json": {
              "type": "string"
            }
          },
          "metadata": {},
          "execution_count": 304
        }
      ]
    },
    {
      "cell_type": "code",
      "source": [
        "from matplotlib import pyplot as plt\n",
        "\n",
        "# Create a larger figure\n",
        "plt.figure(figsize=(10, 8))\n",
        "\n",
        "# plot loss during training\n",
        "plt.subplot(211)\n",
        "plt.title('Loss')\n",
        "plt.plot(history.history['loss'][2:], label='train')\n",
        "plt.plot(history.history['val_loss'][2:], label='test')\n",
        "plt.legend()\n",
        "plt.xticks(range(len(history.history['loss'][2:])))\n",
        "plt.xlabel('Epoch')\n",
        "plt.ylabel('Loss')\n",
        "\n",
        "# plot accuracy during training\n",
        "plt.subplot(212)\n",
        "plt.title('accuracy')\n",
        "#plt.plot(history.history['accuracy'], label='train')\n",
        "#plt.plot(history.history['val_accuracy'], label='test')\n",
        "plt.plot([acc * 100 for acc in history.history['accuracy']], label='train')\n",
        "plt.plot([acc * 100 for acc in history.history['val_accuracy']], label='test')\n",
        "plt.xticks(range(len(history.history['accuracy'])))\n",
        "plt.xlabel('Epoch')\n",
        "plt.ylabel('Accuracy, %')\n",
        "\n",
        "# Adjust spacing between subplots\n",
        "plt.tight_layout()\n",
        "plt.legend()\n",
        "\n",
        "# Save the figure as an image file\n",
        "plt.savefig('training_results.png')\n",
        "\n",
        "plt.show()"
      ],
      "metadata": {
        "id": "ws3y9O5rRl-i",
        "colab": {
          "base_uri": "https://localhost:8080/",
          "height": 765
        },
        "outputId": "2223937c-b499-4894-fd42-84fd4473695b"
      },
      "execution_count": null,
      "outputs": [
        {
          "output_type": "display_data",
          "data": {
            "text/plain": [
              "<Figure size 1000x800 with 2 Axes>"
            ],
            "image/png": "[encoded data removed]"
          },
          "metadata": {}
        }
      ]
    },
    {
      "cell_type": "code",
      "source": [
        "#NEW CODE# Step 1: Make Predictions# Step 2: Convert Probabilities to Classes using a threshold (e.g., 0.5)\n",
        "import numpy as np\n",
        "import seaborn as sns\n",
        "import matplotlib.pyplot as plt\n",
        "from sklearn.metrics import confusion_matrix\n",
        "\n",
        "y_pred_prob_test = model.predict(X_test)\n",
        "threshold = 0.5\n",
        "Y_test_model = (y_pred_prob_test > threshold).astype(int)\n",
        "\n",
        "y_pred_prob_train = model.predict(X_train)\n",
        "threshold = 0.5\n",
        "Y_train_model = (y_pred_prob_train > threshold).astype(int)\n",
        "\n",
        "# Step 3: Calculate Confusion Matrix\n",
        "conf_matrix = confusion_matrix(Y_test_short, Y_test_model)\n",
        "\n",
        "# Step 4: Visualize Confusion Matrix (Optional)\n",
        "plt.figure(figsize=(8, 6))\n",
        "sns.heatmap(conf_matrix, annot=True, fmt='d', cmap='Blues', xticklabels=True, yticklabels=True)\n",
        "plt.xlabel('Predicted Labels')\n",
        "plt.ylabel('True Labels')\n",
        "plt.title('Confusion Matrix')\n",
        "\n",
        "plt.show()"
      ],
      "metadata": {
        "id": "zItvAxuzaIL7",
        "colab": {
          "base_uri": "https://localhost:8080/",
          "height": 650
        },
        "outputId": "c437328d-bc50-4146-ba2f-d65002e2fce0"
      },
      "execution_count": null,
      "outputs": [
        {
          "output_type": "stream",
          "name": "stdout",
          "text": [
            "6/6 [==============================] - 2s 218ms/step\n",
            "14/14 [==============================] - 3s 191ms/step\n"
          ]
        },
        {
          "output_type": "display_data",
          "data": {
            "text/plain": [
              "<Figure size 800x600 with 2 Axes>"
            ],
            "image/png": "[encoded data removed]"
          },
          "metadata": {}
        }
      ]
    },
    {
      "cell_type": "code",
      "source": [
        "# Predict outputs and save them in a variable\n",
        "'''Y_train_model = model.predict(X_train)\n",
        "Y_test_model = model.predict(X_test)'''\n"
      ],
      "metadata": {
        "id": "z4BhvIdWw34I",
        "colab": {
          "base_uri": "https://localhost:8080/",
          "height": 35
        },
        "outputId": "60e70a08-0aaa-4616-c330-35a04cacaf61"
      },
      "execution_count": null,
      "outputs": [
        {
          "output_type": "execute_result",
          "data": {
            "text/plain": [
              "'Y_train_model = model.predict(X_train)\\nY_test_model = model.predict(X_test)'"
            ],
            "application/vnd.google.colaboratory.intrinsic+json": {
              "type": "string"
            }
          },
          "metadata": {},
          "execution_count": 307
        }
      ]
    },
    {
      "cell_type": "code",
      "source": [
        "#Y_train_model"
      ],
      "metadata": {
        "id": "9TIniaw7bRoU"
      },
      "execution_count": null,
      "outputs": []
    },
    {
      "cell_type": "code",
      "source": [
        "\n",
        "# Cast the float array to an integer array\n",
        "# Create a pandas Series from the array\n",
        "'''y_pred = (Y_train_model > threshold).astype(int)\n",
        "y_pred = (Y_test_model > threshold).astype(int)\n",
        "Y_train_model = pd.Series(Y_train_model.astype(int).flatten())\n",
        "Y_test_model  = pd.Series(Y_test_model.astype(int).flatten())'''"
      ],
      "metadata": {
        "id": "OpJIzvK3bRLN",
        "colab": {
          "base_uri": "https://localhost:8080/",
          "height": 53
        },
        "outputId": "29a998ba-7174-43af-c4f9-53d3ca3d05c4"
      },
      "execution_count": null,
      "outputs": [
        {
          "output_type": "execute_result",
          "data": {
            "text/plain": [
              "'y_pred = (Y_train_model > threshold).astype(int)\\ny_pred = (Y_test_model > threshold).astype(int)\\nY_train_model = pd.Series(Y_train_model.astype(int).flatten())\\nY_test_model  = pd.Series(Y_test_model.astype(int).flatten())'"
            ],
            "application/vnd.google.colaboratory.intrinsic+json": {
              "type": "string"
            }
          },
          "metadata": {},
          "execution_count": 309
        }
      ]
    },
    {
      "cell_type": "code",
      "source": [
        "Y_train_model"
      ],
      "metadata": {
        "id": "e6lItgeGbzTr",
        "colab": {
          "base_uri": "https://localhost:8080/"
        },
        "outputId": "cf6a5601-9e8e-4064-8255-5d3046013c77"
      },
      "execution_count": null,
      "outputs": [
        {
          "output_type": "execute_result",
          "data": {
            "text/plain": [
              "array([[1],\n",
              "       [1],\n",
              "       [1],\n",
              "       [1],\n",
              "       [1],\n",
              "       [1],\n",
              "       [1],\n",
              "       [1],\n",
              "       [1],\n",
              "       [1],\n",
              "       [1],\n",
              "       [1],\n",
              "       [1],\n",
              "       [1],\n",
              "       [1],\n",
              "       [1],\n",
              "       [1],\n",
              "       [1],\n",
              "       [1],\n",
              "       [1],\n",
              "       [1],\n",
              "       [1],\n",
              "       [1],\n",
              "       [1],\n",
              "       [1],\n",
              "       [1],\n",
              "       [1],\n",
              "       [1],\n",
              "       [1],\n",
              "       [1],\n",
              "       [1],\n",
              "       [1],\n",
              "       [1],\n",
              "       [1],\n",
              "       [1],\n",
              "       [1],\n",
              "       [1],\n",
              "       [1],\n",
              "       [1],\n",
              "       [1],\n",
              "       [1],\n",
              "       [1],\n",
              "       [1],\n",
              "       [1],\n",
              "       [1],\n",
              "       [1],\n",
              "       [1],\n",
              "       [1],\n",
              "       [1],\n",
              "       [1],\n",
              "       [1],\n",
              "       [1],\n",
              "       [1],\n",
              "       [1],\n",
              "       [1],\n",
              "       [1],\n",
              "       [1],\n",
              "       [1],\n",
              "       [1],\n",
              "       [1],\n",
              "       [1],\n",
              "       [1],\n",
              "       [1],\n",
              "       [1],\n",
              "       [1],\n",
              "       [1],\n",
              "       [1],\n",
              "       [1],\n",
              "       [1],\n",
              "       [1],\n",
              "       [1],\n",
              "       [1],\n",
              "       [1],\n",
              "       [1],\n",
              "       [1],\n",
              "       [1],\n",
              "       [1],\n",
              "       [1],\n",
              "       [1],\n",
              "       [1],\n",
              "       [1],\n",
              "       [1],\n",
              "       [1],\n",
              "       [1],\n",
              "       [1],\n",
              "       [1],\n",
              "       [1],\n",
              "       [1],\n",
              "       [1],\n",
              "       [1],\n",
              "       [1],\n",
              "       [1],\n",
              "       [1],\n",
              "       [1],\n",
              "       [1],\n",
              "       [1],\n",
              "       [1],\n",
              "       [1],\n",
              "       [1],\n",
              "       [1],\n",
              "       [1],\n",
              "       [1],\n",
              "       [1],\n",
              "       [1],\n",
              "       [1],\n",
              "       [1],\n",
              "       [1],\n",
              "       [1],\n",
              "       [1],\n",
              "       [1],\n",
              "       [1],\n",
              "       [1],\n",
              "       [1],\n",
              "       [1],\n",
              "       [1],\n",
              "       [1],\n",
              "       [1],\n",
              "       [1],\n",
              "       [1],\n",
              "       [1],\n",
              "       [1],\n",
              "       [1],\n",
              "       [1],\n",
              "       [1],\n",
              "       [1],\n",
              "       [1],\n",
              "       [1],\n",
              "       [1],\n",
              "       [1],\n",
              "       [1],\n",
              "       [1],\n",
              "       [1],\n",
              "       [1],\n",
              "       [1],\n",
              "       [1],\n",
              "       [1],\n",
              "       [1],\n",
              "       [1],\n",
              "       [1],\n",
              "       [1],\n",
              "       [1],\n",
              "       [1],\n",
              "       [1],\n",
              "       [1],\n",
              "       [1],\n",
              "       [1],\n",
              "       [1],\n",
              "       [1],\n",
              "       [1],\n",
              "       [1],\n",
              "       [1],\n",
              "       [1],\n",
              "       [1],\n",
              "       [1],\n",
              "       [1],\n",
              "       [1],\n",
              "       [1],\n",
              "       [1],\n",
              "       [1],\n",
              "       [1],\n",
              "       [1],\n",
              "       [1],\n",
              "       [1],\n",
              "       [1],\n",
              "       [1],\n",
              "       [1],\n",
              "       [1],\n",
              "       [1],\n",
              "       [1],\n",
              "       [1],\n",
              "       [1],\n",
              "       [1],\n",
              "       [1],\n",
              "       [1],\n",
              "       [1],\n",
              "       [1],\n",
              "       [1],\n",
              "       [1],\n",
              "       [1],\n",
              "       [1],\n",
              "       [1],\n",
              "       [1],\n",
              "       [1],\n",
              "       [1],\n",
              "       [1],\n",
              "       [1],\n",
              "       [1],\n",
              "       [1],\n",
              "       [1],\n",
              "       [1],\n",
              "       [1],\n",
              "       [1],\n",
              "       [1],\n",
              "       [1],\n",
              "       [1],\n",
              "       [1],\n",
              "       [1],\n",
              "       [1],\n",
              "       [1],\n",
              "       [1],\n",
              "       [1],\n",
              "       [1],\n",
              "       [1],\n",
              "       [1],\n",
              "       [1],\n",
              "       [1],\n",
              "       [1],\n",
              "       [1],\n",
              "       [1],\n",
              "       [1],\n",
              "       [1],\n",
              "       [1],\n",
              "       [1],\n",
              "       [1],\n",
              "       [1],\n",
              "       [1],\n",
              "       [1],\n",
              "       [1],\n",
              "       [1],\n",
              "       [1],\n",
              "       [1],\n",
              "       [1],\n",
              "       [1],\n",
              "       [1],\n",
              "       [1],\n",
              "       [1],\n",
              "       [1],\n",
              "       [1],\n",
              "       [1],\n",
              "       [1],\n",
              "       [1],\n",
              "       [0],\n",
              "       [0],\n",
              "       [0],\n",
              "       [0],\n",
              "       [0],\n",
              "       [0],\n",
              "       [0],\n",
              "       [0],\n",
              "       [0],\n",
              "       [0],\n",
              "       [0],\n",
              "       [0],\n",
              "       [0],\n",
              "       [0],\n",
              "       [0],\n",
              "       [0],\n",
              "       [0],\n",
              "       [0],\n",
              "       [0],\n",
              "       [0],\n",
              "       [0],\n",
              "       [0],\n",
              "       [0],\n",
              "       [0],\n",
              "       [0],\n",
              "       [0],\n",
              "       [0],\n",
              "       [0],\n",
              "       [0],\n",
              "       [0],\n",
              "       [0],\n",
              "       [0],\n",
              "       [0],\n",
              "       [0],\n",
              "       [0],\n",
              "       [0],\n",
              "       [0],\n",
              "       [0],\n",
              "       [0],\n",
              "       [0],\n",
              "       [0],\n",
              "       [0],\n",
              "       [0],\n",
              "       [0],\n",
              "       [0],\n",
              "       [0],\n",
              "       [0],\n",
              "       [0],\n",
              "       [0],\n",
              "       [0],\n",
              "       [0],\n",
              "       [0],\n",
              "       [0],\n",
              "       [0],\n",
              "       [0],\n",
              "       [0],\n",
              "       [0],\n",
              "       [0],\n",
              "       [0],\n",
              "       [0],\n",
              "       [0],\n",
              "       [0],\n",
              "       [0],\n",
              "       [0],\n",
              "       [0],\n",
              "       [0],\n",
              "       [0],\n",
              "       [0],\n",
              "       [0],\n",
              "       [0],\n",
              "       [1],\n",
              "       [1],\n",
              "       [1],\n",
              "       [1],\n",
              "       [0],\n",
              "       [1],\n",
              "       [1],\n",
              "       [1],\n",
              "       [1],\n",
              "       [1],\n",
              "       [1],\n",
              "       [1],\n",
              "       [1],\n",
              "       [1],\n",
              "       [1],\n",
              "       [1],\n",
              "       [1],\n",
              "       [1],\n",
              "       [1],\n",
              "       [1],\n",
              "       [1],\n",
              "       [1],\n",
              "       [1],\n",
              "       [1],\n",
              "       [1],\n",
              "       [1],\n",
              "       [1],\n",
              "       [1],\n",
              "       [1],\n",
              "       [1],\n",
              "       [1],\n",
              "       [1],\n",
              "       [1],\n",
              "       [1],\n",
              "       [1],\n",
              "       [1],\n",
              "       [1],\n",
              "       [1],\n",
              "       [1],\n",
              "       [1],\n",
              "       [1],\n",
              "       [1],\n",
              "       [1],\n",
              "       [1],\n",
              "       [1],\n",
              "       [1],\n",
              "       [1],\n",
              "       [1],\n",
              "       [1],\n",
              "       [1],\n",
              "       [1],\n",
              "       [1],\n",
              "       [1],\n",
              "       [1],\n",
              "       [1],\n",
              "       [1],\n",
              "       [1],\n",
              "       [1],\n",
              "       [1],\n",
              "       [1],\n",
              "       [1],\n",
              "       [1],\n",
              "       [1],\n",
              "       [1],\n",
              "       [1],\n",
              "       [1],\n",
              "       [1],\n",
              "       [1],\n",
              "       [0],\n",
              "       [0],\n",
              "       [0],\n",
              "       [0],\n",
              "       [0],\n",
              "       [0],\n",
              "       [0],\n",
              "       [0],\n",
              "       [0],\n",
              "       [0],\n",
              "       [0],\n",
              "       [0],\n",
              "       [0],\n",
              "       [0],\n",
              "       [0],\n",
              "       [0],\n",
              "       [0],\n",
              "       [0],\n",
              "       [0],\n",
              "       [0],\n",
              "       [0],\n",
              "       [0],\n",
              "       [0],\n",
              "       [0],\n",
              "       [0],\n",
              "       [0],\n",
              "       [0],\n",
              "       [0],\n",
              "       [0],\n",
              "       [0],\n",
              "       [0],\n",
              "       [0],\n",
              "       [0],\n",
              "       [0],\n",
              "       [0],\n",
              "       [0],\n",
              "       [0],\n",
              "       [0],\n",
              "       [0],\n",
              "       [0],\n",
              "       [1],\n",
              "       [0],\n",
              "       [1],\n",
              "       [1],\n",
              "       [1],\n",
              "       [1],\n",
              "       [0],\n",
              "       [0],\n",
              "       [0],\n",
              "       [0],\n",
              "       [1],\n",
              "       [1]])"
            ]
          },
          "metadata": {},
          "execution_count": 310
        }
      ]
    },
    {
      "cell_type": "code",
      "source": [
        "import numpy as np\n",
        "import seaborn as sns\n",
        "import matplotlib.pyplot as plt\n",
        "from sklearn.metrics import confusion_matrix\n",
        "\n",
        "# Sample predicted and true values\n",
        "#predicted = np.array([1, 0, 1, 1, 0, 1, 0, 1, 0, 1])\n",
        "#true = np.array([1, 0, 0, 1, 0, 1, 0, 0, 0, 1])\n",
        "\n",
        "predicted = Y_test_model\n",
        "true      = Y_test_short\n",
        "\n",
        "# Calculate confusion matrix\n",
        "cm = confusion_matrix(true, predicted)\n",
        "#cm = [[453629,246371],[165458,284674]]\n",
        "\n",
        "# Create a heatmap of the confusion matrix\n",
        "plt.figure(figsize=(6, 5))\n",
        "#sns.heatmap(cm, annot=True,  cmap=\"Blues\", xticklabels=[\"minor\", \"moderate\"], yticklabels=[\"minor\", \"moderate\"]) #fmt=\"d\",\n",
        "\n",
        "sns.set(font_scale = 2)\n",
        "sns.heatmap(cm, annot=True, cmap=\"Blues\", xticklabels=[\"no weakness\", \"weakness\"], yticklabels=[\"no weakness\", \"weakness\"], cbar=False, annot_kws={\"size\": 18}) #fmt=\"d\",\n",
        "plt.xlabel('Predicted', fontsize=20)\n",
        "plt.ylabel('True', fontsize=20)\n",
        "plt.title('Confusion Matrix', fontsize=20)\n",
        "\n",
        "\n",
        "# Save the figure as an image file\n",
        "plt.savefig('confusion_matrix.png')\n",
        "\n",
        "plt.show()"
      ],
      "metadata": {
        "id": "cn3HsH9kfmtd",
        "colab": {
          "base_uri": "https://localhost:8080/",
          "height": 528
        },
        "outputId": "ff59ab5a-abfe-43eb-a0fa-c5f5c0f7131a"
      },
      "execution_count": null,
      "outputs": [
        {
          "output_type": "display_data",
          "data": {
            "text/plain": [
              "<Figure size 600x500 with 1 Axes>"
            ],
            "image/png": "[encoded data removed]"
          },
          "metadata": {}
        }
      ]
    },
    {
      "cell_type": "code",
      "source": [
        "Y_train_model = pd.Series(Y_train_model.astype(int).flatten())\n",
        "Y_test_model  = pd.Series(Y_test_model.astype(int).flatten())"
      ],
      "metadata": {
        "id": "T27cEijag421"
      },
      "execution_count": null,
      "outputs": []
    },
    {
      "cell_type": "code",
      "source": [
        "Y_train_model.value_counts(normalize=False)"
      ],
      "metadata": {
        "colab": {
          "base_uri": "https://localhost:8080/"
        },
        "id": "3nNBA5PdxW_1",
        "outputId": "d1a268b0-b87e-4f62-c3f2-952d43980017"
      },
      "execution_count": null,
      "outputs": [
        {
          "output_type": "execute_result",
          "data": {
            "text/plain": [
              "1    305\n",
              "0    116\n",
              "dtype: int64"
            ]
          },
          "metadata": {},
          "execution_count": 313
        }
      ]
    },
    {
      "cell_type": "code",
      "source": [
        "Y_test_model.value_counts(normalize=False)"
      ],
      "metadata": {
        "colab": {
          "base_uri": "https://localhost:8080/"
        },
        "id": "1lIzH1sazEo5",
        "outputId": "0caa43c8-05f6-41cd-dfb0-74e3bccc4037"
      },
      "execution_count": null,
      "outputs": [
        {
          "output_type": "execute_result",
          "data": {
            "text/plain": [
              "0    93\n",
              "1    69\n",
              "dtype: int64"
            ]
          },
          "metadata": {},
          "execution_count": 314
        }
      ]
    },
    {
      "cell_type": "code",
      "source": [
        "Y_train_short.value_counts(normalize=False)"
      ],
      "metadata": {
        "colab": {
          "base_uri": "https://localhost:8080/"
        },
        "id": "KkA-FczpxBnX",
        "outputId": "cc251de9-e0d9-4a7f-ed13-5d7f7debb27c"
      },
      "execution_count": null,
      "outputs": [
        {
          "output_type": "execute_result",
          "data": {
            "text/plain": [
              "1    291\n",
              "0    130\n",
              "Name: left-2, dtype: int64"
            ]
          },
          "metadata": {},
          "execution_count": 315
        }
      ]
    },
    {
      "cell_type": "code",
      "source": [
        "Y_test_short.value_counts(normalize=False)"
      ],
      "metadata": {
        "colab": {
          "base_uri": "https://localhost:8080/"
        },
        "id": "F_RPLdqczSiS",
        "outputId": "34df7447-01f2-4c8d-b911-744e4284b0b2"
      },
      "execution_count": null,
      "outputs": [
        {
          "output_type": "execute_result",
          "data": {
            "text/plain": [
              "0    96\n",
              "1    66\n",
              "Name: left-2, dtype: int64"
            ]
          },
          "metadata": {},
          "execution_count": 316
        }
      ]
    },
    {
      "cell_type": "code",
      "source": [
        "print(history.history)"
      ],
      "metadata": {
        "colab": {
          "base_uri": "https://localhost:8080/"
        },
        "id": "h6vbvJlbReHZ",
        "outputId": "8021a393-1130-4c04-917b-fd2f64619238"
      },
      "execution_count": null,
      "outputs": [
        {
          "output_type": "stream",
          "name": "stdout",
          "text": [
            "{'loss': [255.0453338623047, 53.666954040527344, 49.39645004272461, 45.616363525390625, 42.24324035644531, 39.435272216796875, 37.21198272705078, 35.3648567199707, 33.741783142089844, 32.300804138183594, 30.958662033081055, 29.780588150024414, 28.73600196838379, 27.753238677978516, 26.921693801879883, 26.095306396484375, 25.399213790893555, 24.669321060180664, 23.913673400878906, 23.29532241821289], 'accuracy': [0.5344418287277222, 0.5558194518089294, 0.6508313417434692, 0.6294536590576172, 0.6769596338272095, 0.6793349385261536, 0.6888360977172852, 0.6888360977172852, 0.6888360977172852, 0.6935867071151733, 0.786223292350769, 0.8218527436256409, 0.8527315855026245, 0.8883610367774963, 0.900237500667572, 0.9049881100654602, 0.8931116461753845, 0.8717339634895325, 0.9548693299293518, 0.9619952440261841], 'precision': [0.687747061252594, 0.6818181872367859, 0.6935483813285828, 0.6809651255607605, 0.6876513361930847, 0.6911764740943909, 0.692307710647583, 0.6904761791229248, 0.6904761791229248, 0.6928571462631226, 0.789625346660614, 0.8552631735801697, 0.880398690700531, 0.912162184715271, 0.9278350472450256, 0.9225589036941528, 0.9100000262260437, 0.8834951519966125, 0.9415584206581116, 0.9568106532096863], 'recall': [0.5979381203651428, 0.6701030731201172, 0.8865979313850403, 0.8728522062301636, 0.975944995880127, 0.969072163105011, 0.9896907210350037, 0.9965635538101196, 0.9965635538101196, 1.0, 0.9415807723999023, 0.8934707641601562, 0.9106529355049133, 0.9278350472450256, 0.9278350472450256, 0.9415807723999023, 0.938144326210022, 0.938144326210022, 0.9965635538101196, 0.9896907210350037], 'val_loss': [54.97111892700195, 51.123504638671875, 47.22673797607422, 43.69155502319336, 40.660308837890625, 38.20649337768555, 36.263301849365234, 34.53788757324219, 33.02760314941406, 31.605676651000977, 30.43006706237793, 29.48468017578125, 27.9785213470459, 27.163585662841797, 26.865800857543945, 26.470670700073242, 25.855241775512695, 24.362220764160156, 23.478124618530273, 22.859874725341797], 'val_accuracy': [0.40740740299224854, 0.40740740299224854, 0.40740740299224854, 0.40740740299224854, 0.40740740299224854, 0.40740740299224854, 0.40740740299224854, 0.40740740299224854, 0.40740740299224854, 0.40740740299224854, 0.5555555820465088, 0.5246913433074951, 1.0, 0.9691358208656311, 0.5555555820465088, 0.5, 0.5, 0.845678985118866, 0.9814814925193787, 0.9814814925193787], 'val_precision': [0.40740740299224854, 0.40740740299224854, 0.40740740299224854, 0.40740740299224854, 0.40740740299224854, 0.40740740299224854, 0.40740740299224854, 0.40740740299224854, 0.40740740299224854, 0.40740740299224854, 0.47826087474823, 0.4615384638309479, 1.0, 0.9295774698257446, 0.47826087474823, 0.44897958636283875, 0.44897958636283875, 0.7252747416496277, 0.95652174949646, 0.95652174949646], 'val_recall': [1.0, 1.0, 1.0, 1.0, 1.0, 1.0, 1.0, 1.0, 1.0, 1.0, 1.0, 1.0, 1.0, 1.0, 1.0, 1.0, 1.0, 1.0, 1.0, 1.0]}\n"
          ]
        }
      ]
    },
    {
      "cell_type": "code",
      "source": [],
      "metadata": {
        "id": "duIoGdtnlEvN"
      },
      "execution_count": null,
      "outputs": []
    },
    {
      "cell_type": "code",
      "source": [
        "import numpy as np\n",
        "from sklearn.metrics import roc_curve, auc\n",
        "import matplotlib.pyplot as plt\n",
        "\n",
        "# Step 1: Make Predictions\n",
        "y_pred_prob = model.predict(X_test)\n",
        "\n",
        "# Calculate ROC curve\n",
        "fpr, tpr, thresholds = roc_curve(Y_test_short, y_pred_prob)\n",
        "\n",
        "# Calculate Area Under the Curve (AUC)\n",
        "roc_auc = auc(fpr, tpr)\n",
        "\n",
        "# Plot ROC curve\n",
        "plt.figure(figsize=(8, 6))\n",
        "plt.plot(fpr, tpr, color='darkorange', lw=2, label='ROC curve (AUC = %0.2f)' % roc_auc)\n",
        "plt.plot([0, 1], [0, 1], color='navy', lw=2, linestyle='--')\n",
        "plt.xlim([0.0, 1.0])\n",
        "plt.ylim([0.0, 1.05])\n",
        "plt.xlabel('False Positive Rate')\n",
        "plt.ylabel('True Positive Rate')\n",
        "plt.title('Receiver Operating Characteristic')\n",
        "plt.legend(loc='lower right')\n",
        "plt.show()"
      ],
      "metadata": {
        "id": "Oc4viU2dlpHL",
        "colab": {
          "base_uri": "https://localhost:8080/",
          "height": 632
        },
        "outputId": "55af150f-2674-4506-987a-6e58e9540624"
      },
      "execution_count": null,
      "outputs": [
        {
          "output_type": "stream",
          "name": "stdout",
          "text": [
            "6/6 [==============================] - 1s 150ms/step\n"
          ]
        },
        {
          "output_type": "display_data",
          "data": {
            "text/plain": [
              "<Figure size 800x600 with 1 Axes>"
            ],
            "image/png": "[encoded data removed]"
          },
          "metadata": {}
        }
      ]
    },
    {
      "cell_type": "code",
      "source": [],
      "metadata": {
        "id": "YLDXo9FdlzgL"
      },
      "execution_count": null,
      "outputs": []
    }
  ]
}